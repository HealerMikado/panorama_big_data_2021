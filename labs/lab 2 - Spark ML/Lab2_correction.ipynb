{
 "cells": [
  {
   "cell_type": "markdown",
   "id": "741a5875-99f3-4393-a8c1-389016d52fca",
   "metadata": {},
   "source": [
    "# Tutorial 2 - Spark ML\n",
    "\n",
    "In this tutorial, we are going to perform exploratory and explanatory analyses of a massive dataset consisting in hundreds of thousands of AirBnB listings, as made available by the Inside AirBnB project [here](http://insideairbnb.com/get-the-data.html). Rémi Pépin has loaded a lot these listings on AWS at this address: `s3://spark‑lab‑input‑data‑ensai20212022/airbnbb/`\n",
    "\n",
    "## A. Tutorial setup (1/2)\n",
    "\n",
    "Section B is purposefully independent from section A. So while you wait for your cluster to launch, you can start the tutorial!\n",
    "\n",
    "### ACTIONS\n",
    "\n",
    "⚙️ **A1.** On AWS, use the EMR service to launch a notebook backed by a Spark cluster.\n",
    "\n",
    "## B.  How to distribute elementary statistical tasks?\n",
    "\n",
    "**The map and reduce principle**\n",
    "\n",
    "When your data is distributed, i.e is spread out across multiple hard disks / memories on different logical or physical machines, it is clearly not possible to load everything in memory to perform some computation. (No computer from the cluster would have enough storage space / memory space to load the full data set, and the exchange of information _between_ the nodes of the cluster would take considerable amounts of time.) What can you do then?\n",
    "\n",
    "A surprisingly satisfying situation is when your algorithm can be expressed in a **map-and-reduce model**[^mapreduce]. A **map** step, in computer science, is the equivalent a function in mathematics: from a given entry, return an output. Examples include counting the number of occurrences of a word in a text, squaring some number, subtracting some number, etc.  A **reduce** step takes two inputs and produces one input, and can be called recursively onto its own outputs, progressively yielding the final result through a pyramid of **accumulators** (see diagram here under). Popular reduce functions include (pairwise) concatenation of character strings, (pairwise) product, (pairwise) minimum and (pairwise) maximum. But **pairwise addition** is probably the most used reduce function, with the aim goal of performing a complete addition:\n",
    "\n",
    "[^mapreduce]: Hadoop's MapReduce is the name of what was to become today Apache Spark. The persons behind this framework were among the first to advocate for the map-and-reduce mode in order to achieve efficient parallelisation. Unfortunately, the similarity of the names causes a lot of confusion between the map-and-reduce theoretical model and the concrete Hadoop implementation. I will use \"map-and-reduce\" to help distinguish the algorithmic concept from the MapReduce program, but this is _not_ standard in the literature.\n",
    "\n",
    "![](https://raw.githubusercontent.com/HealerMikado/panorama_big_data_2021/main/labs/lab%202%20-%20Spark%20ML/img/reduce.png)\n",
    "\n",
    "**Why is the map-and-reduce scheme so interesting?**  Well, say you have $n$ entries and $k$ worker nodes at your disposal. The map operation can always be performed locally on each node, since the transformation does not depend on the rest of the data set. This is an **embarrassingly parallel problem** and we roughly divide the execution time by $k$. Then, most of the reduce steps can also happen on the worker nodes, until the local data has been completely summarized. This also an $k$_fold acceleration! Then, there remains only $k$ reduce steps, and since $k \\ll n$, this is usually quite negligible, even though the (potentially high) networking costs happen at this step. There is still some cost of task coordination and data exchange, but this usually small compared to the costs of parallelisation.\n",
    "\n",
    "![](https://raw.githubusercontent.com/HealerMikado/panorama_big_data_2021/main/labs/lab%202%20-%20Spark%20ML/img/map-end-reduce.png)\n",
    "\n",
    "**The reduce step**\n",
    "\n",
    "**A reduce function is an associative function** $f: E \\times E \\mapsto E$, where associativity means $\\forall (a,b,c) \\in E^3, f(a,f(b,c))=f(f(a,b),c)$. This is required because the distribution of data blocks across the nodes is random, and that we want to minimize data transmission between the nodes.\n",
    "\n",
    "Moreover, **$f$ may or may not be commutative**, in the sense that $f(a,b)=f(b,a)$. If it is the case, such as with addition and multiplication, then the computing may happen in no particular order. This means that the central node need not wait for some partial results to be returned by a belated node. On the contrary, if $f$ is not commutative, (a) the worker nodes must apply the function in a defined order, (b) the central node needs to reduce the intermediate outputs in a defined order, (c) it may have to delay the final reduce steps because of a lingering node.\n",
    "\n",
    "The reduce function must not be defined on $E=\\mathbb{R}$. For instance, in the context where data is a collection of text documents, a word-count function may return accumulator objects looking like: `((word1,count1), (word2,count2))`. Also, the accumulators — that is, the outputs of the each intermediate reduce step — are not necessarily exactly the cumulative version of the final statistic our algorithm outputs! Rather, **accumulators are information-dense, fast-to-compute summary statistics** from which the required final statistics can be obtained.\n",
    "\n",
    "Imagine you want to count the frequency of the vocal E in English, given a collection of texts. It is faster to count the number of Es as well as the total number of characters than to accumulate directly the frequencies, as shown in this diagram:\n",
    "\n",
    "![](https://raw.githubusercontent.com/HealerMikado/panorama_big_data_2021/main/labs/lab%202%20-%20Spark%20ML/img/reduce-frequency.png)\n",
    "\n",
    "**Online algorithms**\n",
    "\n",
    "An **online algorithm** is an algorithm with an inner state that can be actualized at low cost for any new arrival of data. A good metaphor is track-keeping of the number of people on a bus: every time a person enters or leaves, you apply ±1 to the count, without the need to systematically recount everyone. Said otherwise, an online algorithm is any algorithm whose last result can be actualized from new data, at a smaller cost than an alternative algorithm that uses both old and new data from scratch.\n",
    "\n",
    "It turns out that **respecting the map-and-reduce model gives us online algorithms for free**, where the **inner state** of the algorithm is the output from the last reduce call. Indeed, writing $s_\\text{old}$ and $s_\\text{new}$ the old and new states (the old and new summary statistics), and $x_new$ the latest data point, we have:\n",
    "\n",
    "$$s_\\text{new}=\\text{reduce}(s_\\text{old}, \\text{map}(x_\\text{new}))$$\n",
    "\n",
    "Thus, writing an algorithm following the map-and-reduce model gives you both a parallelized batch algorithm and a stream algorithm at once.\n",
    "\n",
    "**Number of passes**\n",
    "\n",
    "So far we have discussed algorithms that require only one map and one reduce functions. But for some statistics, it is not sufficient. For instance, if we want to count the number of texts where the letter E is more common than average, we first have to compute the average frequency in a first pass, then to count the texts where the frequency exceed this number with a second one. We can NOT do this in only one run, since the global average frequency is not known !\n",
    "\n",
    "Each run is called a **pass** and some algorithms require several passes.\n",
    "\n",
    "**Limits**\n",
    "\n",
    "- Not all statistical algorithms can be expressed according to the map-and-reduce algorithm, and when they can, it may require a significant re-writing compared to the standard algorithms.\n",
    "- There may be a trade-off between the number of passes, the speed of each map / reduce steps and the volume of data transferred between each reduce step."
   ]
  },
  {
   "cell_type": "markdown",
   "id": "943bfac2-a848-410b-88aa-81c9b3264dcf",
   "metadata": {},
   "source": [
    "### QUESTIONS\n",
    "\n",
    "💡 **Q1.** You are given `errors`, a distributed vector of prediction errors. Write a map-and-reduce algorithm for computing the **total sum of squares**. _(You may want to create a Python version of this algorithm, using the `map(function, vector)` and `reduce(function, vector)` functions. `reduce` lives in the `functools` module. You may use lambda-functions.)_"
   ]
  },
  {
   "cell_type": "code",
   "execution_count": 21,
   "id": "8b8e1840-bc16-4f05-985f-2ce885a8a8cb",
   "metadata": {
    "execution": {
     "iopub.execute_input": "2022-04-28T13:51:10.592550Z",
     "iopub.status.busy": "2022-04-28T13:51:10.592318Z",
     "iopub.status.idle": "2022-04-28T13:51:10.646200Z",
     "shell.execute_reply": "2022-04-28T13:51:10.645651Z",
     "shell.execute_reply.started": "2022-04-28T13:51:10.592526Z"
    },
    "tags": []
   },
   "outputs": [
    {
     "data": {
      "application/vnd.jupyter.widget-view+json": {
       "model_id": "8b112dfa0c7b4fd9a626476fce339681",
       "version_major": 2,
       "version_minor": 0
      },
      "text/plain": [
       "VBox()"
      ]
     },
     "metadata": {},
     "output_type": "display_data"
    },
    {
     "data": {
      "application/vnd.jupyter.widget-view+json": {
       "model_id": "",
       "version_major": 2,
       "version_minor": 0
      },
      "text/plain": [
       "FloatProgress(value=0.0, bar_style='info', description='Progress:', layout=Layout(height='25px', width='50%'),…"
      ]
     },
     "metadata": {},
     "output_type": "display_data"
    },
    {
     "name": "stdout",
     "output_type": "stream",
     "text": [
      "336"
     ]
    }
   ],
   "source": [
    "from functools import reduce\n",
    "errors = [1,2,5,10,3,4,6,8,9]\n",
    "reduce(lambda s1, s2: s1+s2, map(lambda e: e**2, errors))"
   ]
  },
  {
   "cell_type": "markdown",
   "id": "a9caddbd-4343-455a-a1fa-c5aa27b304a6",
   "metadata": {},
   "source": [
    "💡 **Q2.** Write **two** different map-and-reduce algorithm for computing the **_mean_ sum of squares**. _(One may include a final $O(1)$ step.)_"
   ]
  },
  {
   "cell_type": "raw",
   "id": "dc4c61c8-e176-4956-a663-6a3e8e0cc9e9",
   "metadata": {},
   "source": [
    "map :               e -> {m=e^2, w=1}\n",
    "reduce : (obj1, obj2) -> {\n",
    "    m = (obj1.m * obj1.w + obj2.m * obj2.w) / (obj1.w + obj2.w),\n",
    "    w = obj1.w + obj2.w\n",
    ")"
   ]
  },
  {
   "cell_type": "code",
   "execution_count": 22,
   "id": "2725b67a-3d11-4fd2-bd10-08bcae639258",
   "metadata": {
    "execution": {
     "iopub.execute_input": "2022-04-28T13:51:18.935512Z",
     "iopub.status.busy": "2022-04-28T13:51:18.935287Z",
     "iopub.status.idle": "2022-04-28T13:51:18.992149Z",
     "shell.execute_reply": "2022-04-28T13:51:18.991416Z",
     "shell.execute_reply.started": "2022-04-28T13:51:18.935488Z"
    },
    "tags": []
   },
   "outputs": [
    {
     "data": {
      "application/vnd.jupyter.widget-view+json": {
       "model_id": "148e4f10148d4c0b9f2b15cd4d8c25fb",
       "version_major": 2,
       "version_minor": 0
      },
      "text/plain": [
       "VBox()"
      ]
     },
     "metadata": {},
     "output_type": "display_data"
    },
    {
     "data": {
      "application/vnd.jupyter.widget-view+json": {
       "model_id": "",
       "version_major": 2,
       "version_minor": 0
      },
      "text/plain": [
       "FloatProgress(value=0.0, bar_style='info', description='Progress:', layout=Layout(height='25px', width='50%'),…"
      ]
     },
     "metadata": {},
     "output_type": "display_data"
    },
    {
     "name": "stdout",
     "output_type": "stream",
     "text": [
      "{'m': 37.333333333333336, 'w': 9}"
     ]
    }
   ],
   "source": [
    "def weighted_mean(obj1, obj2):\n",
    "  w = obj1[\"w\"] + obj2[\"w\"]\n",
    "  return ({\n",
    "      \"m\" : (obj1[\"m\"] * obj1[\"w\"] + obj2[\"m\"] * obj2[\"w\"]) / w,\n",
    "      \"w\" : w\n",
    "  })\n",
    "errors = [1,2,5,10,3,4,6,8,9]\n",
    "squared_errors = map(lambda e: {\"m\" : e**2, \"w\" : 1}, errors)\n",
    "reduce( weighted_mean, squared_errors )"
   ]
  },
  {
   "cell_type": "raw",
   "id": "99b3c17e-4688-45af-83d1-7d294150f53d",
   "metadata": {},
   "source": [
    "map :               e -> {s=e^2, n=1}\n",
    "reduce : (obj1, obj2) -> {\n",
    "    s = obj1.s + obj2.s,\n",
    "    n = obj1.n + obj2.n\n",
    "final_step : s/n"
   ]
  },
  {
   "cell_type": "code",
   "execution_count": 23,
   "id": "45416825-c255-45ae-921a-866bd44c60e2",
   "metadata": {
    "execution": {
     "iopub.execute_input": "2022-04-28T13:51:23.295705Z",
     "iopub.status.busy": "2022-04-28T13:51:23.295371Z",
     "iopub.status.idle": "2022-04-28T13:51:23.359212Z",
     "shell.execute_reply": "2022-04-28T13:51:23.358634Z",
     "shell.execute_reply.started": "2022-04-28T13:51:23.295662Z"
    },
    "tags": []
   },
   "outputs": [
    {
     "data": {
      "application/vnd.jupyter.widget-view+json": {
       "model_id": "767cffb437e44bd996ac9df7fcf530a4",
       "version_major": 2,
       "version_minor": 0
      },
      "text/plain": [
       "VBox()"
      ]
     },
     "metadata": {},
     "output_type": "display_data"
    },
    {
     "data": {
      "application/vnd.jupyter.widget-view+json": {
       "model_id": "",
       "version_major": 2,
       "version_minor": 0
      },
      "text/plain": [
       "FloatProgress(value=0.0, bar_style='info', description='Progress:', layout=Layout(height='25px', width='50%'),…"
      ]
     },
     "metadata": {},
     "output_type": "display_data"
    },
    {
     "name": "stdout",
     "output_type": "stream",
     "text": [
      "37.333333333333336"
     ]
    }
   ],
   "source": [
    "from functools import reduce\n",
    "errors = [1,2,5,10,3,4,6,8,9]\n",
    "def sum_and_n(obj1, obj2) :\n",
    "  return {\n",
    "    \"sum\" : obj1[\"sum\"] + obj2[\"sum\"],\n",
    "    \"n\"   : obj1[\"n\"] + obj2[\"n\"]\n",
    "  }\n",
    "\n",
    "squared_errors = map(lambda e: {\"sum\" : e**2, \"n\" : 1}, errors)\n",
    "total_sum_and_n = reduce( sum_and_n, squared_errors )\n",
    "total_sum_and_n[\"sum\"]/total_sum_and_n[\"n\"]"
   ]
  },
  {
   "cell_type": "markdown",
   "id": "40353ea1-53ec-478c-80e4-aba5b04cb29e",
   "metadata": {},
   "source": [
    "💡 **Q3.** Imagine you have a cluster consisting into one central node and two executor nodes, with local data already available. Let us assume that each executor node holds blocks representing approximately half of the `errors` vector. The executors perform as many of the map and reduce steps they can from the mean-computing algorithm from (**Q2.**). Then the central node elects one of the two executors to perform the remaining reduce steps. How much data has been transferred **between** the nodes? Is this susceptible to slow down the algorithm?"
   ]
  },
  {
   "cell_type": "markdown",
   "id": "59d246d9-317e-4f4f-b9e0-a7d5ace9494d",
   "metadata": {},
   "source": [
    "Almost nothing:\n",
    "\n",
    "- assume executor 1 was elected for the final reduce step\n",
    "- executor 2 reduces all its data to a single {sum,n} object and sends the object to executor 1\n",
    "- executor 1 performs the final reduce step then sends it to central node\n",
    "\n",
    "The data transfer is not susceptible to slow down the algorithm. But there is an overhead from organizing the tasks across the cluster!"
   ]
  },
  {
   "cell_type": "markdown",
   "id": "37880806-22e9-4490-911a-ede0dcaa16e6",
   "metadata": {},
   "source": [
    "💡 **Q4** Is the median easy to write as a map-and-reduce algorithm? Why?"
   ]
  },
  {
   "cell_type": "markdown",
   "id": "95aa0334-f065-4066-9f31-01299202beda",
   "metadata": {},
   "source": [
    "Exact median computation is not readily decomposable into a map-and-reduce algorithm, because the full set of numbers is needed in order. Parallel algorithm exist for the median, using the pivot technique. This is beyond the scope of this tutorial."
   ]
  },
  {
   "cell_type": "markdown",
   "id": "e140f962-6f05-4167-a17b-ad1af84b46e2",
   "metadata": {},
   "source": [
    "💡 **Q5** Given a (distributed) series of numbers, the variance can be straightforwardly expressed as a two-pass algorithm: (a) in a first pass, compute the mean, then (b) in a second pass, compute the mean of the errors to the mean. Can it be expressed as a one-pass only algorithm? Is it more expensive to compute variance *and* mean instead of the variance alone?"
   ]
  },
  {
   "cell_type": "markdown",
   "id": "89439185-6a3a-41af-8000-9fbb924309ad",
   "metadata": {},
   "source": [
    "Yes, using the fact that $V(X)=E((X-E(X))^2)=E(X^2)-E(X)^2$. $E(X)$ and $E(X^2)$ can be computed during the same reduce map:"
   ]
  },
  {
   "cell_type": "raw",
   "id": "5d5e0a45-cc95-45d0-b874-4e19dd0a5cd3",
   "metadata": {},
   "source": [
    "map :               x -> {s1=x, s2=x^2, n=1}\n",
    "reduce : (obj1, obj2) -> {\n",
    "    s1 = obj1.s1 + obj2.s1,\n",
    "    s2 = obj1.s2 + obj2.s2,\n",
    "    n = obj1.n + obj2.n\n",
    "final_step : s2/n-s1^2/n"
   ]
  },
  {
   "cell_type": "markdown",
   "id": "13dc61fa-d423-4f00-9357-036b9fe362b2",
   "metadata": {
    "execution": {
     "iopub.execute_input": "2022-04-28T12:59:23.773438Z",
     "iopub.status.busy": "2022-04-28T12:59:23.773215Z",
     "iopub.status.idle": "2022-04-28T12:59:23.843237Z",
     "shell.execute_reply": "2022-04-28T12:59:23.842723Z",
     "shell.execute_reply.started": "2022-04-28T12:59:23.773414Z"
    },
    "tags": []
   },
   "source": [
    "When you compute the variance, the means is computed \"for free\"."
   ]
  },
  {
   "cell_type": "markdown",
   "id": "6b3bf1b9-3dbf-4e56-a6f8-4477a7c7d751",
   "metadata": {},
   "source": [
    "### ACTIONS\n",
    "\n",
    "⚙️ **A2.** Use the script here under to import the whole directory."
   ]
  },
  {
   "cell_type": "code",
   "execution_count": 4,
   "id": "3459f5c4-7112-4104-84bf-b99a2ed4ea67",
   "metadata": {
    "execution": {
     "iopub.execute_input": "2022-04-28T13:46:10.128819Z",
     "iopub.status.busy": "2022-04-28T13:46:10.128564Z",
     "iopub.status.idle": "2022-04-28T13:46:17.622163Z",
     "shell.execute_reply": "2022-04-28T13:46:17.621567Z",
     "shell.execute_reply.started": "2022-04-28T13:46:10.128782Z"
    },
    "tags": []
   },
   "outputs": [
    {
     "data": {
      "application/vnd.jupyter.widget-view+json": {
       "model_id": "a65dbaca6e954b7c8ce89a05702fffdb",
       "version_major": 2,
       "version_minor": 0
      },
      "text/plain": [
       "VBox()"
      ]
     },
     "metadata": {},
     "output_type": "display_data"
    },
    {
     "data": {
      "application/vnd.jupyter.widget-view+json": {
       "model_id": "",
       "version_major": 2,
       "version_minor": 0
      },
      "text/plain": [
       "FloatProgress(value=0.0, bar_style='info', description='Progress:', layout=Layout(height='25px', width='50%'),…"
      ]
     },
     "metadata": {},
     "output_type": "display_data"
    }
   ],
   "source": [
    "spark\n",
    "# configuration: accept to pay for the data transfer\n",
    "spark._jsc.hadoopConfiguration().set(\"fs.s3.useRequesterPaysHeader\",\"true\")\n",
    "\n",
    "from pyspark.sql.types import FloatType, IntegerType, DateType\n",
    "from pyspark.sql.functions import regexp_replace, col\n",
    "\n",
    "listings_raw = spark.read.csv(\"s3://spark-lab-input-data-ensai20212022/airbnb/\", header=True, multiLine=True, escape='\"')\n",
    "\n",
    "listings = (listings_raw\n",
    "  .withColumn(\"beds\",     listings_raw[\"beds\"    ].cast(IntegerType()))\n",
    "  .withColumn(\"bedrooms\", listings_raw[\"bedrooms\"].cast(IntegerType()))\n",
    "  .withColumn(\"time\", listings_raw[\"last_scraped\"].cast(DateType()))\n",
    "  .withColumn(\"price\", regexp_replace('price', '[$\\\\,]', '').cast(FloatType()))\n",
    "  .select(\"id\", \"beds\", \"bedrooms\", \"price\", \"city\", \"time\")\n",
    "  .dropna() # remove lines with missing values\n",
    ")"
   ]
  },
  {
   "cell_type": "markdown",
   "id": "6498038d-c1ca-4df1-b226-09aa5e7139d5",
   "metadata": {
    "tags": []
   },
   "source": [
    "### QUESTIONS\n",
    "\n",
    "💡 **Q6.** How many lines do the raw and the formatted datasets have?"
   ]
  },
  {
   "cell_type": "code",
   "execution_count": 5,
   "id": "2784b760-e104-451e-8a9b-25a80d011e45",
   "metadata": {
    "execution": {
     "iopub.execute_input": "2022-04-28T13:46:17.623275Z",
     "iopub.status.busy": "2022-04-28T13:46:17.623100Z",
     "iopub.status.idle": "2022-04-28T13:46:28.943778Z",
     "shell.execute_reply": "2022-04-28T13:46:28.942988Z",
     "shell.execute_reply.started": "2022-04-28T13:46:17.623254Z"
    },
    "tags": []
   },
   "outputs": [
    {
     "data": {
      "application/vnd.jupyter.widget-view+json": {
       "model_id": "5ed131741ca4468a922f34bf2aba6ef6",
       "version_major": 2,
       "version_minor": 0
      },
      "text/plain": [
       "VBox()"
      ]
     },
     "metadata": {},
     "output_type": "display_data"
    },
    {
     "data": {
      "application/vnd.jupyter.widget-view+json": {
       "model_id": "",
       "version_major": 2,
       "version_minor": 0
      },
      "text/plain": [
       "FloatProgress(value=0.0, bar_style='info', description='Progress:', layout=Layout(height='25px', width='50%'),…"
      ]
     },
     "metadata": {},
     "output_type": "display_data"
    },
    {
     "name": "stdout",
     "output_type": "stream",
     "text": [
      "Observations before cleaning: 249908 rows\n",
      "Observations  after cleaning: 220466 (change:-29442 rows)"
     ]
    }
   ],
   "source": [
    "n0 = listings_raw.count()\n",
    "n  = listings.count()\n",
    "print(f\"Observations before cleaning: {n0} rows\") #\n",
    "print(f\"Observations  after cleaning: {n} (change:{n-n0} rows)\")     # "
   ]
  },
  {
   "cell_type": "markdown",
   "id": "87f9b95c-8930-44b1-bd6c-b5cd22dc1ea9",
   "metadata": {},
   "source": [
    "💡 **Q7.** How many columns are there? Can you list all the available columns?"
   ]
  },
  {
   "cell_type": "code",
   "execution_count": 6,
   "id": "d543ef2b-71ce-4584-b6d2-0fed5ea35d66",
   "metadata": {
    "execution": {
     "iopub.execute_input": "2022-04-28T13:46:28.945123Z",
     "iopub.status.busy": "2022-04-28T13:46:28.944860Z",
     "iopub.status.idle": "2022-04-28T13:46:29.014656Z",
     "shell.execute_reply": "2022-04-28T13:46:29.013937Z",
     "shell.execute_reply.started": "2022-04-28T13:46:28.945086Z"
    },
    "tags": []
   },
   "outputs": [
    {
     "data": {
      "application/vnd.jupyter.widget-view+json": {
       "model_id": "0aeb066cb1cb4213a5598bd1417e5aa3",
       "version_major": 2,
       "version_minor": 0
      },
      "text/plain": [
       "VBox()"
      ]
     },
     "metadata": {},
     "output_type": "display_data"
    },
    {
     "data": {
      "application/vnd.jupyter.widget-view+json": {
       "model_id": "",
       "version_major": 2,
       "version_minor": 0
      },
      "text/plain": [
       "FloatProgress(value=0.0, bar_style='info', description='Progress:', layout=Layout(height='25px', width='50%'),…"
      ]
     },
     "metadata": {},
     "output_type": "display_data"
    },
    {
     "name": "stdout",
     "output_type": "stream",
     "text": [
      "There are 75 columns:\n",
      "- id\n",
      "- listing_url\n",
      "- scrape_id\n",
      "- last_scraped\n",
      "- name\n",
      "- description\n",
      "- neighborhood_overview\n",
      "- picture_url\n",
      "- host_id\n",
      "- host_url\n",
      "- host_name\n",
      "- host_since\n",
      "- host_location\n",
      "- host_about\n",
      "- host_response_time\n",
      "- host_response_rate\n",
      "- host_acceptance_rate\n",
      "- host_is_superhost\n",
      "- host_thumbnail_url\n",
      "- host_picture_url\n",
      "- host_neighbourhood\n",
      "- host_listings_count\n",
      "- host_total_listings_count\n",
      "- host_verifications\n",
      "- host_has_profile_pic\n",
      "- host_identity_verified\n",
      "- neighbourhood\n",
      "- neighbourhood_cleansed\n",
      "- neighbourhood_group_cleansed\n",
      "- latitude\n",
      "- longitude\n",
      "- property_type\n",
      "- room_type\n",
      "- accommodates\n",
      "- bathrooms\n",
      "- bathrooms_text\n",
      "- bedrooms\n",
      "- beds\n",
      "- amenities\n",
      "- price\n",
      "- minimum_nights\n",
      "- maximum_nights\n",
      "- minimum_minimum_nights\n",
      "- maximum_minimum_nights\n",
      "- minimum_maximum_nights\n",
      "- maximum_maximum_nights\n",
      "- minimum_nights_avg_ntm\n",
      "- maximum_nights_avg_ntm\n",
      "- calendar_updated\n",
      "- has_availability\n",
      "- availability_30\n",
      "- availability_60\n",
      "- availability_90\n",
      "- availability_365\n",
      "- calendar_last_scraped\n",
      "- number_of_reviews\n",
      "- number_of_reviews_ltm\n",
      "- number_of_reviews_l30d\n",
      "- first_review\n",
      "- last_review\n",
      "- review_scores_rating\n",
      "- review_scores_accuracy\n",
      "- review_scores_cleanliness\n",
      "- review_scores_checkin\n",
      "- review_scores_communication\n",
      "- review_scores_location\n",
      "- review_scores_value\n",
      "- license\n",
      "- instant_bookable\n",
      "- calculated_host_listings_count\n",
      "- calculated_host_listings_count_entire_homes\n",
      "- calculated_host_listings_count_private_rooms\n",
      "- calculated_host_listings_count_shared_rooms\n",
      "- reviews_per_month\n",
      "- city"
     ]
    }
   ],
   "source": [
    "print(\"There are\", len(listings_raw.columns), \"columns:\")\n",
    "print('\\n'.join( [\"- \"+column for column in listings_raw.columns] ))"
   ]
  },
  {
   "cell_type": "markdown",
   "id": "fcb23851-d9c6-406e-8ded-0e33061a4733",
   "metadata": {},
   "source": [
    "💡 **Q8.** What are the columns types?"
   ]
  },
  {
   "cell_type": "code",
   "execution_count": 7,
   "id": "a1d93d0b-35cb-48db-905e-cd26b07c4b44",
   "metadata": {
    "execution": {
     "iopub.execute_input": "2022-04-28T13:46:29.016275Z",
     "iopub.status.busy": "2022-04-28T13:46:29.015852Z",
     "iopub.status.idle": "2022-04-28T13:46:29.099270Z",
     "shell.execute_reply": "2022-04-28T13:46:29.098608Z",
     "shell.execute_reply.started": "2022-04-28T13:46:29.016238Z"
    },
    "tags": []
   },
   "outputs": [
    {
     "data": {
      "application/vnd.jupyter.widget-view+json": {
       "model_id": "16be8afd306a485ab7b608f14c0bad79",
       "version_major": 2,
       "version_minor": 0
      },
      "text/plain": [
       "VBox()"
      ]
     },
     "metadata": {},
     "output_type": "display_data"
    },
    {
     "data": {
      "application/vnd.jupyter.widget-view+json": {
       "model_id": "",
       "version_major": 2,
       "version_minor": 0
      },
      "text/plain": [
       "FloatProgress(value=0.0, bar_style='info', description='Progress:', layout=Layout(height='25px', width='50%'),…"
      ]
     },
     "metadata": {},
     "output_type": "display_data"
    },
    {
     "name": "stdout",
     "output_type": "stream",
     "text": [
      "root\n",
      " |-- id: string (nullable = true)\n",
      " |-- listing_url: string (nullable = true)\n",
      " |-- scrape_id: string (nullable = true)\n",
      " |-- last_scraped: string (nullable = true)\n",
      " |-- name: string (nullable = true)\n",
      " |-- description: string (nullable = true)\n",
      " |-- neighborhood_overview: string (nullable = true)\n",
      " |-- picture_url: string (nullable = true)\n",
      " |-- host_id: string (nullable = true)\n",
      " |-- host_url: string (nullable = true)\n",
      " |-- host_name: string (nullable = true)\n",
      " |-- host_since: string (nullable = true)\n",
      " |-- host_location: string (nullable = true)\n",
      " |-- host_about: string (nullable = true)\n",
      " |-- host_response_time: string (nullable = true)\n",
      " |-- host_response_rate: string (nullable = true)\n",
      " |-- host_acceptance_rate: string (nullable = true)\n",
      " |-- host_is_superhost: string (nullable = true)\n",
      " |-- host_thumbnail_url: string (nullable = true)\n",
      " |-- host_picture_url: string (nullable = true)\n",
      " |-- host_neighbourhood: string (nullable = true)\n",
      " |-- host_listings_count: string (nullable = true)\n",
      " |-- host_total_listings_count: string (nullable = true)\n",
      " |-- host_verifications: string (nullable = true)\n",
      " |-- host_has_profile_pic: string (nullable = true)\n",
      " |-- host_identity_verified: string (nullable = true)\n",
      " |-- neighbourhood: string (nullable = true)\n",
      " |-- neighbourhood_cleansed: string (nullable = true)\n",
      " |-- neighbourhood_group_cleansed: string (nullable = true)\n",
      " |-- latitude: string (nullable = true)\n",
      " |-- longitude: string (nullable = true)\n",
      " |-- property_type: string (nullable = true)\n",
      " |-- room_type: string (nullable = true)\n",
      " |-- accommodates: string (nullable = true)\n",
      " |-- bathrooms: string (nullable = true)\n",
      " |-- bathrooms_text: string (nullable = true)\n",
      " |-- bedrooms: string (nullable = true)\n",
      " |-- beds: string (nullable = true)\n",
      " |-- amenities: string (nullable = true)\n",
      " |-- price: string (nullable = true)\n",
      " |-- minimum_nights: string (nullable = true)\n",
      " |-- maximum_nights: string (nullable = true)\n",
      " |-- minimum_minimum_nights: string (nullable = true)\n",
      " |-- maximum_minimum_nights: string (nullable = true)\n",
      " |-- minimum_maximum_nights: string (nullable = true)\n",
      " |-- maximum_maximum_nights: string (nullable = true)\n",
      " |-- minimum_nights_avg_ntm: string (nullable = true)\n",
      " |-- maximum_nights_avg_ntm: string (nullable = true)\n",
      " |-- calendar_updated: string (nullable = true)\n",
      " |-- has_availability: string (nullable = true)\n",
      " |-- availability_30: string (nullable = true)\n",
      " |-- availability_60: string (nullable = true)\n",
      " |-- availability_90: string (nullable = true)\n",
      " |-- availability_365: string (nullable = true)\n",
      " |-- calendar_last_scraped: string (nullable = true)\n",
      " |-- number_of_reviews: string (nullable = true)\n",
      " |-- number_of_reviews_ltm: string (nullable = true)\n",
      " |-- number_of_reviews_l30d: string (nullable = true)\n",
      " |-- first_review: string (nullable = true)\n",
      " |-- last_review: string (nullable = true)\n",
      " |-- review_scores_rating: string (nullable = true)\n",
      " |-- review_scores_accuracy: string (nullable = true)\n",
      " |-- review_scores_cleanliness: string (nullable = true)\n",
      " |-- review_scores_checkin: string (nullable = true)\n",
      " |-- review_scores_communication: string (nullable = true)\n",
      " |-- review_scores_location: string (nullable = true)\n",
      " |-- review_scores_value: string (nullable = true)\n",
      " |-- license: string (nullable = true)\n",
      " |-- instant_bookable: string (nullable = true)\n",
      " |-- calculated_host_listings_count: string (nullable = true)\n",
      " |-- calculated_host_listings_count_entire_homes: string (nullable = true)\n",
      " |-- calculated_host_listings_count_private_rooms: string (nullable = true)\n",
      " |-- calculated_host_listings_count_shared_rooms: string (nullable = true)\n",
      " |-- reviews_per_month: string (nullable = true)\n",
      " |-- city: string (nullable = true)\n",
      "\n",
      "[('id', 'string'), ('listing_url', 'string'), ('scrape_id', 'string'), ('last_scraped', 'string'), ('name', 'string'), ('description', 'string'), ('neighborhood_overview', 'string'), ('picture_url', 'string'), ('host_id', 'string'), ('host_url', 'string'), ('host_name', 'string'), ('host_since', 'string'), ('host_location', 'string'), ('host_about', 'string'), ('host_response_time', 'string'), ('host_response_rate', 'string'), ('host_acceptance_rate', 'string'), ('host_is_superhost', 'string'), ('host_thumbnail_url', 'string'), ('host_picture_url', 'string'), ('host_neighbourhood', 'string'), ('host_listings_count', 'string'), ('host_total_listings_count', 'string'), ('host_verifications', 'string'), ('host_has_profile_pic', 'string'), ('host_identity_verified', 'string'), ('neighbourhood', 'string'), ('neighbourhood_cleansed', 'string'), ('neighbourhood_group_cleansed', 'string'), ('latitude', 'string'), ('longitude', 'string'), ('property_type', 'string'), ('room_type', 'string'), ('accommodates', 'string'), ('bathrooms', 'string'), ('bathrooms_text', 'string'), ('bedrooms', 'string'), ('beds', 'string'), ('amenities', 'string'), ('price', 'string'), ('minimum_nights', 'string'), ('maximum_nights', 'string'), ('minimum_minimum_nights', 'string'), ('maximum_minimum_nights', 'string'), ('minimum_maximum_nights', 'string'), ('maximum_maximum_nights', 'string'), ('minimum_nights_avg_ntm', 'string'), ('maximum_nights_avg_ntm', 'string'), ('calendar_updated', 'string'), ('has_availability', 'string'), ('availability_30', 'string'), ('availability_60', 'string'), ('availability_90', 'string'), ('availability_365', 'string'), ('calendar_last_scraped', 'string'), ('number_of_reviews', 'string'), ('number_of_reviews_ltm', 'string'), ('number_of_reviews_l30d', 'string'), ('first_review', 'string'), ('last_review', 'string'), ('review_scores_rating', 'string'), ('review_scores_accuracy', 'string'), ('review_scores_cleanliness', 'string'), ('review_scores_checkin', 'string'), ('review_scores_communication', 'string'), ('review_scores_location', 'string'), ('review_scores_value', 'string'), ('license', 'string'), ('instant_bookable', 'string'), ('calculated_host_listings_count', 'string'), ('calculated_host_listings_count_entire_homes', 'string'), ('calculated_host_listings_count_private_rooms', 'string'), ('calculated_host_listings_count_shared_rooms', 'string'), ('reviews_per_month', 'string'), ('city', 'string')]"
     ]
    }
   ],
   "source": [
    "listings_raw.printSchema()\n",
    "listings_raw.dtypes"
   ]
  },
  {
   "cell_type": "markdown",
   "id": "92f7091e-055b-4315-8d5a-6ba4e09944f1",
   "metadata": {},
   "source": [
    "**Spark SQL's `summary()` method**\n",
    "\n",
    "In Spark SQL, **elementary univariate summary statistics can also be obtained through the `summary()` method**. The `summary()` method takes either the names of the statistics to compute, or nothing, in which case it computes every possible statistics:\n",
    "\n",
    "```python\n",
    "listings.summary(\"count\", \"min\", \"max\").show() # computes the selection of statistics\n",
    "```\n",
    "\n",
    "```python\n",
    "listings.summary().show() # computes every possible statistics\n",
    "```\n",
    "\n",
    "This is a way to incite you to compute all the statistics you want at the same moment : it avoids an extra pass on the data set because all accumulators can be computed simultaneously. You can fin a list of all supported statistics [here](https://spark.apache.org/docs/latest/api/python/reference/api/pyspark.sql.DataFrame.summary.html) in PySpark documentation: count, mean, standard-deviation, minimum, maximum, approximate median, approximate first and last quartiles. Null (missing) values will be ignored in numerical columns before calculation.\n",
    "\n",
    "**Spark ML**\n",
    "\n",
    "Spark ML is a Spark module that allow us to execute parallelised versions of most popular machine-learning algorithms, such as linear or logistic regression. However, we can also use Spark ML to compute elementaty univariate summary statistics. However the philosophy is quite different, and is worth explaining[^philosophy].\n",
    "\n",
    "[^philosophy]: The syntax of Spark ML may feel artificially convoluted ; this not only an impression, it *is* convoluted. However, there are grounds for this situation :\n",
    "\n",
    "1. Spark ML has been built on top of Spark years into the project, and the core of Spark is not well adapted to machine-learning ;\n",
    "2. Spark ML is intended for much more advanced treatments than unviariate statistics, and we will see linear regression as an exemple at the end of this tutorial\n",
    "\n",
    "**Step 1: vectorisation.** A little counter-intuitively, spark ML operates on a single column of your data frame, typically called `features`. (Features is the word used in the machine-learning community for \"variables\", see \"Vocabulary\" section hereunder.) This `features` column has the `Vector` type: each element contains an array of floating-point numbers, representing a subst of the variables from your dataset. The key is that this `features` column is usually redundant with the rest of the data frame: it just ensures the proper conversion from any type we wish (string, integer...) to a standardized numeric format. Indeed, it is often derived from the other columns, as this image illustrates:\n",
    "\n",
    "![](https://raw.githubusercontent.com/HealerMikado/panorama_big_data_2021/main/labs/lab%202%20-%20Spark%20ML/img/vector-format.png)\n",
    "\n",
    "Unfortunately for us, the construction the `features` column is not performed automatically under the hood by Spark, like when doing statistics in R. On the contrary, we have to construct the column explicitly. The `VectorAssembler()` constructor is here for that:\n",
    "\n",
    "```python\n",
    "from pyspark.ml.feature import VectorAssembler\n",
    "\n",
    "vectorizer = VectorAssembler(\n",
    "    inputCols     = [\"price\", \"beds\", \"bedrooms\"], # the columns we want to put in the features column\n",
    "    outputCol     = \"features\",                    # the name of the column (\"features\")\n",
    "    handleInvalid = 'skip'                         # skip rows with missing / invalid values\n",
    ")\n",
    "\n",
    "listings_vec = vectorizer.transform(listings)\n",
    "\n",
    "# Reminders:\n",
    "# Spark data sets are immutable: a copy is returned, and the original is unchanged.\n",
    "# Spark operations are lazy: listings_vec just contains the recipe for building vector column\n",
    "# but no item of the column is computed unless explicitly asked to.\n",
    "\n",
    "listings_vec.show(5) # The first 5 values of the features column are computed.\n",
    "```\n",
    "\n",
    "**Step 2: summarization.** Now that we have a vector column, we can use a `Summarizer` object to declare all the statistics we want to compute, in a similar fashion than with the Spark SQL `summary()` method. The following statistics are known: mean\\*, sum\\*, variance\\*, standard-deviation\\*, count\\*, number of non-zero entries, maximum\\*, minimum\\*, L2-norm, L1-norm, as can be read in [the documentation](https://spark.apache.org/docs/3.1.1/api/python/reference/api/pyspark.ml.stat.Summarizer.html). _(Stars (\\*) denote statistics that could also be computed with the `summary()` method. Approximate quartiles are not computed.)_ Summarizers are created with the `Summarizer.metrics()` constructor. Here again, you are incited to declare all the summaries at once, so that they can all be computed in one pass:\n",
    "\n",
    "```python\n",
    "from pyspark.ml.stat    import Summarizer\n",
    "\n",
    "summarizer = Summarizer.metrics(\"count\", \"min\", \"max\")\n",
    "\n",
    "listings_vec.select( summarizer.summary(listings_vec.features), ).show(truncate=False)\n",
    "# By default, the output of columns is capped to a maximum width.\n",
    "# truncate=False prevents this behaviour.\n",
    "```\n",
    "\n",
    "This produces the output:\n",
    "\n",
    "![](https://raw.githubusercontent.com/HealerMikado/panorama_big_data_2021/main/labs/lab%202%20-%20Spark%20ML/img/summary.png)"
   ]
  },
  {
   "cell_type": "markdown",
   "id": "a59296b7-1903-4c7c-8614-ea8f7882b26e",
   "metadata": {},
   "source": [
    "### Questions\n",
    "\n",
    "💡 **Q9.** Is `listings.summary()` slower to run than `listings.summary(\"count\", \"min\", \"max\")` ? Why? _You can measure time in Python with this simple template:_\n",
    "\n",
    "\n",
    "```python\n",
    "from timeit import default_timer as t\n",
    "start = t()\n",
    "# the thing you want to measure\n",
    "print(\"Time:\", t()-start)\n",
    "```\n"
   ]
  },
  {
   "cell_type": "code",
   "execution_count": 8,
   "id": "efb443e4-da87-4d9d-9753-918f8cd2440a",
   "metadata": {
    "execution": {
     "iopub.execute_input": "2022-04-28T13:46:29.101843Z",
     "iopub.status.busy": "2022-04-28T13:46:29.101470Z",
     "iopub.status.idle": "2022-04-28T13:46:42.461743Z",
     "shell.execute_reply": "2022-04-28T13:46:42.461058Z",
     "shell.execute_reply.started": "2022-04-28T13:46:29.101806Z"
    },
    "tags": []
   },
   "outputs": [
    {
     "data": {
      "application/vnd.jupyter.widget-view+json": {
       "model_id": "2905450be8b140bfac47146ffbb3a88c",
       "version_major": 2,
       "version_minor": 0
      },
      "text/plain": [
       "VBox()"
      ]
     },
     "metadata": {},
     "output_type": "display_data"
    },
    {
     "data": {
      "application/vnd.jupyter.widget-view+json": {
       "model_id": "",
       "version_major": 2,
       "version_minor": 0
      },
      "text/plain": [
       "FloatProgress(value=0.0, bar_style='info', description='Progress:', layout=Layout(height='25px', width='50%'),…"
      ]
     },
     "metadata": {},
     "output_type": "display_data"
    },
    {
     "name": "stdout",
     "output_type": "stream",
     "text": [
      "+-------+--------+------+--------+--------+-------------+\n",
      "|summary|      id|  beds|bedrooms|   price|         city|\n",
      "+-------+--------+------+--------+--------+-------------+\n",
      "|  count|  220466|220466|  220466|  220466|       220466|\n",
      "|    min|10000070|     1|       1|     0.0|    barcelona|\n",
      "|    max|  999984|   195|      50|350000.0|washington-dc|\n",
      "+-------+--------+------+--------+--------+-------------+\n",
      "\n",
      "Execution time for sumary(\"count\"...): 5.698173928999495 s\n",
      "+-------+--------------------+-----------------+------------------+-----------------+-------------+\n",
      "|summary|                  id|             beds|          bedrooms|            price|         city|\n",
      "+-------+--------------------+-----------------+------------------+-----------------+-------------+\n",
      "|  count|              220466|           220466|            220466|           220466|       220466|\n",
      "|   mean|3.0057326677074924E7|2.245185198624731| 1.576292943129553|360.0270653978391|         null|\n",
      "| stddev|1.6513335636452848E7|1.961745497092157|1.1663242716756541|1693.086346339654|         null|\n",
      "|    min|            10000070|                1|                 1|              0.0|    barcelona|\n",
      "|    25%|         1.6031568E7|                1|                 1|             65.0|         null|\n",
      "|    50%|         3.1913999E7|                2|                 1|            106.0|         null|\n",
      "|    75%|         4.5135796E7|                3|                 2|            250.0|         null|\n",
      "|    max|              999984|              195|                50|         350000.0|washington-dc|\n",
      "+-------+--------------------+-----------------+------------------+-----------------+-------------+\n",
      "\n",
      "Execution time for sumary(): 6.655913126000087 s"
     ]
    }
   ],
   "source": [
    "from timeit import default_timer as t\n",
    "\n",
    "## version 1 ------------------\n",
    "\n",
    "start = t()\n",
    "\n",
    "listings.summary(\"count\", \"min\", \"max\").show()\n",
    "\n",
    "print (\"Execution time for sumary(\\\"count\\\"...):\", t()-start, \"s\")\n",
    "\n",
    "## version 2 ------------------\n",
    "\n",
    "start = t()\n",
    "\n",
    "listings.summary().show()\n",
    "\n",
    "print (\"Execution time for sumary():\", t()-start, \"s\")\n",
    "\n",
    "# 15s and 9s respectively on a 3m5.xlarge cluster.\n",
    "# The restriction to only \"count\", \"min\", \"max\" is only marginally faster\n",
    "# This is because in both cases only one pass is performed, and the other\n",
    "# statistics come almost for free."
   ]
  },
  {
   "cell_type": "markdown",
   "id": "44ddab14-e385-4bac-b61b-85e45b7fd260",
   "metadata": {},
   "source": [
    "**Q10.** Compute the average number of beds per property in Barcelona in four different ways:\n",
    "\n",
    "1. directly with the Spark SQL mean function,\n",
    "\n",
    "2. using `summary()`,\n",
    "\n",
    "3. using a `Sumarizer` object and\n",
    "\n",
    "4. locally after you collected the bed columns.\n",
    "\n",
    "   _Despite the operation being very common, Spark does **not** provide a simple syntax to collect a column as a local array. A work-around is to use the Pandas package and the `asPanda()` method ([documentation](https://spark.apache.org/docs/latest/api/python/reference/api/pyspark.sql.DataFrame.toPandas.html)). First install Pandas with `sc.install_pypi_package(\"pandas==0.25.1\")`. Then you can collect a local copy of a dataframe called `df` with: `df_local = df.toPandas()`. A Pandas data frame possesses a `mean()` method, that compute the mean of each column of the data frame: more details are in Pandas' [documentation]( https://pandas.pydata.org/pandas-docs/stable/reference/api/pandas.DataFrame.mean.html)._\n",
    "\n",
    "   Which method is the fastest?"
   ]
  },
  {
   "cell_type": "code",
   "execution_count": 9,
   "id": "b05e4f48-c8d1-4065-9deb-7903e2e60a56",
   "metadata": {
    "execution": {
     "iopub.execute_input": "2022-04-28T13:46:42.462967Z",
     "iopub.status.busy": "2022-04-28T13:46:42.462796Z",
     "iopub.status.idle": "2022-04-28T13:46:47.756582Z",
     "shell.execute_reply": "2022-04-28T13:46:47.755989Z",
     "shell.execute_reply.started": "2022-04-28T13:46:42.462946Z"
    },
    "tags": []
   },
   "outputs": [
    {
     "data": {
      "application/vnd.jupyter.widget-view+json": {
       "model_id": "6323b4f0efed4fdc94732d8fd58117e4",
       "version_major": 2,
       "version_minor": 0
      },
      "text/plain": [
       "VBox()"
      ]
     },
     "metadata": {},
     "output_type": "display_data"
    },
    {
     "data": {
      "application/vnd.jupyter.widget-view+json": {
       "model_id": "",
       "version_major": 2,
       "version_minor": 0
      },
      "text/plain": [
       "FloatProgress(value=0.0, bar_style='info', description='Progress:', layout=Layout(height='25px', width='50%'),…"
      ]
     },
     "metadata": {},
     "output_type": "display_data"
    },
    {
     "name": "stdout",
     "output_type": "stream",
     "text": [
      "+------------------+\n",
      "|         avg(beds)|\n",
      "+------------------+\n",
      "|2.4359878335407164|\n",
      "+------------------+\n",
      "\n",
      "Execution time: 4.271508917000574 s"
     ]
    }
   ],
   "source": [
    "## version 1 ------------------\n",
    "from pyspark.sql.functions import mean\n",
    "\n",
    "start = t()\n",
    "\n",
    "listings.filter(col(\"city\")==\"barcelona\").select(mean('beds')).show()\n",
    "\n",
    "print (\"Execution time:\", t()-start, \"s\")"
   ]
  },
  {
   "cell_type": "code",
   "execution_count": 10,
   "id": "c3638f1a-e9db-4fcb-b639-ac10fbc14db7",
   "metadata": {
    "execution": {
     "iopub.execute_input": "2022-04-28T13:46:47.757587Z",
     "iopub.status.busy": "2022-04-28T13:46:47.757409Z",
     "iopub.status.idle": "2022-04-28T13:46:53.050847Z",
     "shell.execute_reply": "2022-04-28T13:46:53.050141Z",
     "shell.execute_reply.started": "2022-04-28T13:46:47.757565Z"
    }
   },
   "outputs": [
    {
     "data": {
      "application/vnd.jupyter.widget-view+json": {
       "model_id": "7279d41a5fcd42adbec4022f93b5c5f6",
       "version_major": 2,
       "version_minor": 0
      },
      "text/plain": [
       "VBox()"
      ]
     },
     "metadata": {},
     "output_type": "display_data"
    },
    {
     "data": {
      "application/vnd.jupyter.widget-view+json": {
       "model_id": "",
       "version_major": 2,
       "version_minor": 0
      },
      "text/plain": [
       "FloatProgress(value=0.0, bar_style='info', description='Progress:', layout=Layout(height='25px', width='50%'),…"
      ]
     },
     "metadata": {},
     "output_type": "display_data"
    },
    {
     "name": "stdout",
     "output_type": "stream",
     "text": [
      "+-------+------------------+\n",
      "|summary|              beds|\n",
      "+-------+------------------+\n",
      "|   mean|2.4359878335407164|\n",
      "+-------+------------------+\n",
      "\n",
      "Execution time: 3.6195485239995833 s"
     ]
    }
   ],
   "source": [
    "## version 2 ------------------\n",
    "start = t()\n",
    "\n",
    "listings.filter(col(\"city\")==\"barcelona\").select(\"beds\").summary(\"mean\").show()\n",
    "\n",
    "print (\"Execution time:\", t()-start, \"s\")"
   ]
  },
  {
   "cell_type": "code",
   "execution_count": 11,
   "id": "1a5286b0-01d8-498c-8671-5737e732af7c",
   "metadata": {
    "execution": {
     "iopub.execute_input": "2022-04-28T13:46:53.051913Z",
     "iopub.status.busy": "2022-04-28T13:46:53.051726Z",
     "iopub.status.idle": "2022-04-28T13:47:02.361218Z",
     "shell.execute_reply": "2022-04-28T13:47:02.360556Z",
     "shell.execute_reply.started": "2022-04-28T13:46:53.051889Z"
    }
   },
   "outputs": [
    {
     "data": {
      "application/vnd.jupyter.widget-view+json": {
       "model_id": "47b3ea9b790a48b995caf2e4f520a6a7",
       "version_major": 2,
       "version_minor": 0
      },
      "text/plain": [
       "VBox()"
      ]
     },
     "metadata": {},
     "output_type": "display_data"
    },
    {
     "data": {
      "application/vnd.jupyter.widget-view+json": {
       "model_id": "",
       "version_major": 2,
       "version_minor": 0
      },
      "text/plain": [
       "FloatProgress(value=0.0, bar_style='info', description='Progress:', layout=Layout(height='25px', width='50%'),…"
      ]
     },
     "metadata": {},
     "output_type": "display_data"
    },
    {
     "name": "stdout",
     "output_type": "stream",
     "text": [
      "+--------------------------------+\n",
      "|aggregate_metrics(features, 1.0)|\n",
      "+--------------------------------+\n",
      "|[[2.435987833540721]]           |\n",
      "+--------------------------------+\n",
      "\n",
      "Execution time: 7.710721727999953 s"
     ]
    }
   ],
   "source": [
    "## version 3 ------------------\n",
    "\n",
    "from pyspark.ml.feature import VectorAssembler\n",
    "from pyspark.ml.stat    import Summarizer\n",
    "\n",
    "start = t()\n",
    "\n",
    "vectorizer = VectorAssembler(\n",
    "    inputCols     = [\"beds\"],\n",
    "    outputCol     = \"features\"\n",
    ")\n",
    "summarizer = Summarizer.metrics(\"mean\")\n",
    "listings_vec = vectorizer.transform(listings.filter(col(\"city\")==\"barcelona\"))\n",
    "listings_vec.select( summarizer.summary( listings_vec.features) ).show(truncate=False)\n",
    "\n",
    "\n",
    "print (\"Execution time:\", t()-start, \"s\")"
   ]
  },
  {
   "cell_type": "code",
   "execution_count": 12,
   "id": "123fd69f-68f9-47ab-9b35-65a7ba82c671",
   "metadata": {
    "execution": {
     "iopub.execute_input": "2022-04-28T13:47:02.362592Z",
     "iopub.status.busy": "2022-04-28T13:47:02.362339Z",
     "iopub.status.idle": "2022-04-28T13:47:19.691535Z",
     "shell.execute_reply": "2022-04-28T13:47:19.690947Z",
     "shell.execute_reply.started": "2022-04-28T13:47:02.362557Z"
    }
   },
   "outputs": [
    {
     "data": {
      "application/vnd.jupyter.widget-view+json": {
       "model_id": "023d8db3d4d744b98b46604fedca3b60",
       "version_major": 2,
       "version_minor": 0
      },
      "text/plain": [
       "VBox()"
      ]
     },
     "metadata": {},
     "output_type": "display_data"
    },
    {
     "data": {
      "application/vnd.jupyter.widget-view+json": {
       "model_id": "",
       "version_major": 2,
       "version_minor": 0
      },
      "text/plain": [
       "FloatProgress(value=0.0, bar_style='info', description='Progress:', layout=Layout(height='25px', width='50%'),…"
      ]
     },
     "metadata": {},
     "output_type": "display_data"
    },
    {
     "name": "stdout",
     "output_type": "stream",
     "text": [
      "Collecting pandas==0.25.1\n",
      "  Using cached https://files.pythonhosted.org/packages/7e/ab/ea76361f9d3e732e114adcd801d2820d5319c23d0ac5482fa3b412db217e/pandas-0.25.1-cp37-cp37m-manylinux1_x86_64.whl\n",
      "Requirement already satisfied: pytz>=2017.2 in /usr/local/lib/python3.7/site-packages (from pandas==0.25.1)\n",
      "Requirement already satisfied: numpy>=1.13.3 in /usr/local/lib64/python3.7/site-packages (from pandas==0.25.1)\n",
      "Collecting python-dateutil>=2.6.1 (from pandas==0.25.1)\n",
      "  Using cached https://files.pythonhosted.org/packages/36/7a/87837f39d0296e723bb9b62bbb257d0355c7f6128853c78955f57342a56d/python_dateutil-2.8.2-py2.py3-none-any.whl\n",
      "Requirement already satisfied: six>=1.5 in /usr/local/lib/python3.7/site-packages (from python-dateutil>=2.6.1->pandas==0.25.1)\n",
      "Installing collected packages: python-dateutil, pandas\n",
      "Successfully installed pandas-0.25.1 python-dateutil-2.8.2\n",
      "\n",
      "Execution time: 4.521731025000008 s\n",
      "You are using pip version 9.0.1, however version 22.0.4 is available.\n",
      "You should consider upgrading via the 'pip install --upgrade pip' command."
     ]
    }
   ],
   "source": [
    "## version 4 ---------------\n",
    "sc.install_pypi_package(\"pandas==0.25.1\")\n",
    "\n",
    "start = t()\n",
    "listings.filter(col(\"city\")==\"barcelona\").select('beds').toPandas().mean()\n",
    "\n",
    "print (\"Execution time:\", t()-start, \"s\")"
   ]
  },
  {
   "cell_type": "markdown",
   "id": "db8db03e-4296-451f-a4a6-29345aebaf96",
   "metadata": {},
   "source": [
    "**Q11.** The most simple model is often surprisingly difficult to beat! Compute the mean price on the data set as a predictor for an AirBnB listing's price and the total sum of squares. (We will elaborate in the next section.)"
   ]
  },
  {
   "cell_type": "code",
   "execution_count": 13,
   "id": "f720a56b-12d8-4bb8-80c8-ab3c8b6b0625",
   "metadata": {
    "execution": {
     "iopub.execute_input": "2022-04-28T13:47:19.692573Z",
     "iopub.status.busy": "2022-04-28T13:47:19.692397Z",
     "iopub.status.idle": "2022-04-28T13:47:24.988196Z",
     "shell.execute_reply": "2022-04-28T13:47:24.987567Z",
     "shell.execute_reply.started": "2022-04-28T13:47:19.692550Z"
    },
    "tags": []
   },
   "outputs": [
    {
     "data": {
      "application/vnd.jupyter.widget-view+json": {
       "model_id": "0657ab56e6c54abfab11db14d2185ec9",
       "version_major": 2,
       "version_minor": 0
      },
      "text/plain": [
       "VBox()"
      ]
     },
     "metadata": {},
     "output_type": "display_data"
    },
    {
     "data": {
      "application/vnd.jupyter.widget-view+json": {
       "model_id": "",
       "version_major": 2,
       "version_minor": 0
      },
      "text/plain": [
       "FloatProgress(value=0.0, bar_style='info', description='Progress:', layout=Layout(height='25px', width='50%'),…"
      ]
     },
     "metadata": {},
     "output_type": "display_data"
    }
   ],
   "source": [
    "from pyspark.sql.functions import mean\n",
    "price_mean = listings.select(mean(\"price\"))        # this is a (remote) data frame\n",
    "price_mean = price_mean.first()                    # this is a (local) row\n",
    "price_mean = price_mean[0]                         # this is a (local) number"
   ]
  },
  {
   "cell_type": "markdown",
   "id": "0f247219-739f-4a74-beee-6c8d0665f6f7",
   "metadata": {},
   "source": [
    "## D. Regression with Spark ML\n",
    "\n",
    "A better way to predict prices is to build a regression mode, which in Spark falls under the broad category of machine-learning problems. Regressions thus belong the the `ml` module, often called Spark ML, like the summarizer that we saw just before[^mllib].\n",
    "\n",
    "[^mllib]: There is an old module called `mllib` that is also called \"Spark ML\". That can cause confusion.\n",
    "\n",
    "The `ml` module is built in a distinctive fashion than the rest of Spark. **Firstly** we have seen with `Summarizer` that we can not readily use the columns and that instead **columns have to be first converted to a `Vector` format** with the `VectorAssembler` function.\n",
    "\n",
    "**Secondly**, we need to distinguish between two different types of object classes: transformers and estimators classes. **Transformers** are a class of objects representing any process that modifies the dataset, and returns the modified version. It has a **transform()** method. **Estimators** on the other hand are classes of objects representing any process that produces a transformer based on some computed parameters from the data set. It has a **`fit()`** method. It is easier with an example. In the following example, `regressor` is an estimator, and we compute the regression coefficients with the `fit()` method. This produces `model`, the regression model itself, which is of class transformer. Indeed, we can use its `transform()` method to add predictions to the initial dataset.\n",
    "\n",
    "```python\n",
    "from pyspark.ml.feature import VectorAssembler\n",
    "from pyspark.ml.regression import LinearRegression\n",
    "\n",
    "vectorizer = VectorAssembler( # copy-pasted from previous section...\n",
    "    inputCols     = [\"beds\", \"bedrooms\"], # ... but without price\n",
    "    outputCol     = \"features\",\n",
    "    handleInvalid = 'skip'\n",
    ")\n",
    "\n",
    "listings_vec = vectorizer.transform(listings)\n",
    "\n",
    "regressor = LinearRegression(featuresCol=\"features\", labelCol=\"price\")\n",
    "model     = regressor.fit(listings_vec)\n",
    "\n",
    "model.coefficients\n",
    "model.intercept\n",
    "\n",
    "listings_pred = model.transform(listings_vec)\n",
    "listings_pred.show() # model and predictions from the regression\n",
    "```\n",
    "\n",
    "**Vocabulary**\n",
    "\n",
    "The machine-learning community leaves at the border between computer science and mathematics. They borrow vocabulary from both sides, and it can sometimes be confusing when reading software documentation. Spark's `lib` module uses conventions from this community :\n",
    "\n",
    "- **label**, rather than \"independent variable\". This comes from the fact that historically, machine-learning has originated from problems such as image labeling (for instance digit recognition). Even for continuous variables, machine-learners may use \"label\"\n",
    "- **features**, rather than \"dependent variables\" ; the number of features is often dubbed $d$ like dimension (instead of $p$ in statistics)\n",
    "- machine-learners don't use the word \"observation\" or \"unit\" and prefer **row**\n",
    "\n",
    "**Pipelines**\n",
    "\n",
    "If you come to repeat several times the same series of transformations, you may take advantage of the pipeline objects. A **pipeline** is just a collections of steps applied to the same dataset. This helpful when you:\n",
    "\n",
    "- repeat the same analysis for different regions / periods\n",
    "- want to control predictions on a new, unseen test set, and ant to apply exactly the same process\n",
    "\n",
    "```python\n",
    "from pyspark.ml.feature import VectorAssembler\n",
    "from pyspark.ml.regression import LinearRegression\n",
    "from pyspark.ml import Pipeline\n",
    "\n",
    "vectorizer = VectorAssembler( # same vectorizer as before\n",
    "    inputCols     = [\"beds\", \"bedrooms\"],\n",
    "    outputCol     = \"features\",\n",
    "    handleInvalid = 'skip'\n",
    ")\n",
    "regressor = LinearRegression(featuresCol=\"features\", labelCol=\"price\") # same regressor\n",
    "pipeline  = Pipeline(stages = [vectorizer, regressor]) # ... but now we pack them into a pipeline\n",
    "\n",
    "listings_beij = listings.filter(listings.city==\"beijing\")\n",
    "listings_barc = listings.filter(listings.city==\"barcelona\")\n",
    "\n",
    "model_beij = pipeline.fit(listings_beij) # vectorizer AND regressor are applied\n",
    "model_barc = pipeline.fit(listings_barc)\n",
    "\n",
    "print(model_beij.stages[1].coefficients) # model.stages[0] is the first step, model.stages[1] the second...\n",
    "print(model_beij.stages[1].intercept)\n",
    "\n",
    "print(model_barc.stages[1].coefficients)\n",
    "print(model_barc.stages[1].intercept)\n",
    "```"
   ]
  },
  {
   "cell_type": "markdown",
   "id": "a71c2605-e0be-408e-9f42-51936299565b",
   "metadata": {},
   "source": [
    "**Q12** Interpret the results of the general regression."
   ]
  },
  {
   "cell_type": "code",
   "execution_count": 14,
   "id": "ef478e69-663b-41f3-8ff6-ad07a87a82b6",
   "metadata": {
    "execution": {
     "iopub.execute_input": "2022-04-28T13:47:24.989222Z",
     "iopub.status.busy": "2022-04-28T13:47:24.989042Z",
     "iopub.status.idle": "2022-04-28T13:47:50.375066Z",
     "shell.execute_reply": "2022-04-28T13:47:50.374456Z",
     "shell.execute_reply.started": "2022-04-28T13:47:24.989198Z"
    },
    "tags": []
   },
   "outputs": [
    {
     "data": {
      "application/vnd.jupyter.widget-view+json": {
       "model_id": "ecba4c96041f442e900eeccbec8fac21",
       "version_major": 2,
       "version_minor": 0
      },
      "text/plain": [
       "VBox()"
      ]
     },
     "metadata": {},
     "output_type": "display_data"
    },
    {
     "data": {
      "application/vnd.jupyter.widget-view+json": {
       "model_id": "",
       "version_major": 2,
       "version_minor": 0
      },
      "text/plain": [
       "FloatProgress(value=0.0, bar_style='info', description='Progress:', layout=Layout(height='25px', width='50%'),…"
      ]
     },
     "metadata": {},
     "output_type": "display_data"
    }
   ],
   "source": [
    "from pyspark.ml.feature import VectorAssembler\n",
    "from pyspark.ml.regression import LinearRegression\n",
    "\n",
    "vectorizer = VectorAssembler( # copy-pasted from previous section...\n",
    "    inputCols     = [\"beds\", \"bedrooms\"], # ... but without price\n",
    "    outputCol     = \"features\",\n",
    "    handleInvalid = 'skip'\n",
    ")\n",
    "\n",
    "listings_vec = vectorizer.transform(listings)\n",
    "\n",
    "regressor = LinearRegression(featuresCol=\"features\", labelCol=\"price\")\n",
    "model     = regressor.fit(listings_vec)"
   ]
  },
  {
   "cell_type": "code",
   "execution_count": 15,
   "id": "a7748f14-ab77-490a-9a66-dc92e960e3fc",
   "metadata": {
    "execution": {
     "iopub.execute_input": "2022-04-28T13:47:50.377435Z",
     "iopub.status.busy": "2022-04-28T13:47:50.377243Z",
     "iopub.status.idle": "2022-04-28T13:47:50.439183Z",
     "shell.execute_reply": "2022-04-28T13:47:50.438424Z",
     "shell.execute_reply.started": "2022-04-28T13:47:50.377411Z"
    }
   },
   "outputs": [
    {
     "data": {
      "application/vnd.jupyter.widget-view+json": {
       "model_id": "2045c09b38c044f6829010a0d8a0f289",
       "version_major": 2,
       "version_minor": 0
      },
      "text/plain": [
       "VBox()"
      ]
     },
     "metadata": {},
     "output_type": "display_data"
    },
    {
     "data": {
      "application/vnd.jupyter.widget-view+json": {
       "model_id": "",
       "version_major": 2,
       "version_minor": 0
      },
      "text/plain": [
       "FloatProgress(value=0.0, bar_style='info', description='Progress:', layout=Layout(height='25px', width='50%'),…"
      ]
     },
     "metadata": {},
     "output_type": "display_data"
    },
    {
     "name": "stdout",
     "output_type": "stream",
     "text": [
      "DenseVector([-3.6663, 220.758])"
     ]
    }
   ],
   "source": [
    "model.coefficients"
   ]
  },
  {
   "cell_type": "code",
   "execution_count": 16,
   "id": "a5d4f358-9e93-49fa-b07b-8cd5ca6b624a",
   "metadata": {
    "execution": {
     "iopub.execute_input": "2022-04-28T13:47:50.440584Z",
     "iopub.status.busy": "2022-04-28T13:47:50.440327Z",
     "iopub.status.idle": "2022-04-28T13:47:50.502913Z",
     "shell.execute_reply": "2022-04-28T13:47:50.502345Z",
     "shell.execute_reply.started": "2022-04-28T13:47:50.440534Z"
    }
   },
   "outputs": [
    {
     "data": {
      "application/vnd.jupyter.widget-view+json": {
       "model_id": "ab73f62bd81f45d185674ae4f2424d80",
       "version_major": 2,
       "version_minor": 0
      },
      "text/plain": [
       "VBox()"
      ]
     },
     "metadata": {},
     "output_type": "display_data"
    },
    {
     "data": {
      "application/vnd.jupyter.widget-view+json": {
       "model_id": "",
       "version_major": 2,
       "version_minor": 0
      },
      "text/plain": [
       "FloatProgress(value=0.0, bar_style='info', description='Progress:', layout=Layout(height='25px', width='50%'),…"
      ]
     },
     "metadata": {},
     "output_type": "display_data"
    },
    {
     "name": "stdout",
     "output_type": "stream",
     "text": [
      "20.279268154072657"
     ]
    }
   ],
   "source": [
    "model.intercept"
   ]
  },
  {
   "cell_type": "code",
   "execution_count": 17,
   "id": "b89a9ef6-5822-434a-9758-bc684f5bf719",
   "metadata": {
    "execution": {
     "iopub.execute_input": "2022-04-28T13:47:50.503870Z",
     "iopub.status.busy": "2022-04-28T13:47:50.503706Z",
     "iopub.status.idle": "2022-04-28T13:47:51.280665Z",
     "shell.execute_reply": "2022-04-28T13:47:51.279999Z",
     "shell.execute_reply.started": "2022-04-28T13:47:50.503847Z"
    }
   },
   "outputs": [
    {
     "data": {
      "application/vnd.jupyter.widget-view+json": {
       "model_id": "02681101b4064b0e94e64e9501d53762",
       "version_major": 2,
       "version_minor": 0
      },
      "text/plain": [
       "VBox()"
      ]
     },
     "metadata": {},
     "output_type": "display_data"
    },
    {
     "data": {
      "application/vnd.jupyter.widget-view+json": {
       "model_id": "",
       "version_major": 2,
       "version_minor": 0
      },
      "text/plain": [
       "FloatProgress(value=0.0, bar_style='info', description='Progress:', layout=Layout(height='25px', width='50%'),…"
      ]
     },
     "metadata": {},
     "output_type": "display_data"
    },
    {
     "name": "stdout",
     "output_type": "stream",
     "text": [
      "+-----+----+--------+-----+-----+----------+---------+\n",
      "|   id|beds|bedrooms|price| city|      time| features|\n",
      "+-----+----+--------+-----+-----+----------+---------+\n",
      "| 7397|   2|       2|112.0|paris|2021-12-09|[2.0,2.0]|\n",
      "| 7964|   1|       1|130.0|paris|2021-12-08|[1.0,1.0]|\n",
      "| 9359|   1|       1| 75.0|paris|2021-12-09|[1.0,1.0]|\n",
      "| 9952|   1|       1| 81.0|paris|2021-12-09|[1.0,1.0]|\n",
      "|10917|   2|       1|143.0|paris|2021-12-09|[2.0,1.0]|\n",
      "|11213|   3|       1|170.0|paris|2021-12-09|[3.0,1.0]|\n",
      "|11265|   1|       1|100.0|paris|2021-12-08|[1.0,1.0]|\n",
      "|11798|   1|       1|110.0|paris|2021-12-09|[1.0,1.0]|\n",
      "|12268|   1|       1| 60.0|paris|2021-12-08|[1.0,1.0]|\n",
      "|12452|   2|       2|140.0|paris|2021-12-09|[2.0,2.0]|\n",
      "|14264|   1|       1| 90.0|paris|2021-12-08|[1.0,1.0]|\n",
      "|16455|   3|       1| 70.0|paris|2021-12-09|[3.0,1.0]|\n",
      "|16626|   2|       1|119.0|paris|2021-12-09|[2.0,1.0]|\n",
      "|17287|   1|       1| 65.0|paris|2021-12-09|[1.0,1.0]|\n",
      "|17316|   1|       1|150.0|paris|2021-12-08|[1.0,1.0]|\n",
      "|17919|   1|       1| 65.0|paris|2021-12-09|[1.0,1.0]|\n",
      "|17994|   1|       1|250.0|paris|2021-12-08|[1.0,1.0]|\n",
      "|19306|   2|       1|103.0|paris|2021-12-09|[2.0,1.0]|\n",
      "|20176|   4|       2|134.0|paris|2021-12-09|[4.0,2.0]|\n",
      "|20823|   3|       1| 97.0|paris|2021-12-09|[3.0,1.0]|\n",
      "+-----+----+--------+-----+-----+----------+---------+\n",
      "only showing top 20 rows"
     ]
    }
   ],
   "source": [
    "listings_vec.show()"
   ]
  },
  {
   "cell_type": "markdown",
   "id": "1aa40cc0-4f67-4b2d-862d-c715f63f7375",
   "metadata": {},
   "source": [
    "**Q13** Collect the model's $R^2$. How good is our model? _Models have a `summary` property, that you can explore with `dir(model.summary)`._"
   ]
  },
  {
   "cell_type": "code",
   "execution_count": 18,
   "id": "f12d825d-d23b-43f5-9923-1b43807c6c4e",
   "metadata": {
    "execution": {
     "iopub.execute_input": "2022-04-28T13:47:51.282115Z",
     "iopub.status.busy": "2022-04-28T13:47:51.281868Z",
     "iopub.status.idle": "2022-04-28T13:47:51.347911Z",
     "shell.execute_reply": "2022-04-28T13:47:51.347355Z",
     "shell.execute_reply.started": "2022-04-28T13:47:51.282080Z"
    }
   },
   "outputs": [
    {
     "data": {
      "application/vnd.jupyter.widget-view+json": {
       "model_id": "2fb4dcde855649dea21c3fe79ef7578d",
       "version_major": 2,
       "version_minor": 0
      },
      "text/plain": [
       "VBox()"
      ]
     },
     "metadata": {},
     "output_type": "display_data"
    },
    {
     "data": {
      "application/vnd.jupyter.widget-view+json": {
       "model_id": "",
       "version_major": 2,
       "version_minor": 0
      },
      "text/plain": [
       "FloatProgress(value=0.0, bar_style='info', description='Progress:', layout=Layout(height='25px', width='50%'),…"
      ]
     },
     "metadata": {},
     "output_type": "display_data"
    },
    {
     "name": "stdout",
     "output_type": "stream",
     "text": [
      "['__class__', '__del__', '__delattr__', '__dict__', '__dir__', '__doc__', '__eq__', '__format__', '__ge__', '__getattribute__', '__gt__', '__hash__', '__init__', '__init_subclass__', '__le__', '__lt__', '__module__', '__ne__', '__new__', '__reduce__', '__reduce_ex__', '__repr__', '__setattr__', '__sizeof__', '__str__', '__subclasshook__', '__weakref__', '_call_java', '_create_from_java_class', '_java_obj', '_new_java_array', '_new_java_obj', 'coefficientStandardErrors', 'degreesOfFreedom', 'devianceResiduals', 'explainedVariance', 'featuresCol', 'labelCol', 'meanAbsoluteError', 'meanSquaredError', 'numInstances', 'objectiveHistory', 'pValues', 'predictionCol', 'predictions', 'r2', 'r2adj', 'residuals', 'rootMeanSquaredError', 'tValues', 'totalIterations']"
     ]
    }
   ],
   "source": [
    "dir(model)\n",
    "dir(model.summary)"
   ]
  },
  {
   "cell_type": "code",
   "execution_count": 19,
   "id": "77425635-441d-4ef6-bb7c-b87aac61e24f",
   "metadata": {
    "execution": {
     "iopub.execute_input": "2022-04-28T13:47:51.348916Z",
     "iopub.status.busy": "2022-04-28T13:47:51.348751Z",
     "iopub.status.idle": "2022-04-28T13:47:51.410752Z",
     "shell.execute_reply": "2022-04-28T13:47:51.410085Z",
     "shell.execute_reply.started": "2022-04-28T13:47:51.348894Z"
    },
    "tags": []
   },
   "outputs": [
    {
     "data": {
      "application/vnd.jupyter.widget-view+json": {
       "model_id": "ce0123e64dde428ea72e687704a4b2a1",
       "version_major": 2,
       "version_minor": 0
      },
      "text/plain": [
       "VBox()"
      ]
     },
     "metadata": {},
     "output_type": "display_data"
    },
    {
     "data": {
      "application/vnd.jupyter.widget-view+json": {
       "model_id": "",
       "version_major": 2,
       "version_minor": 0
      },
      "text/plain": [
       "FloatProgress(value=0.0, bar_style='info', description='Progress:', layout=Layout(height='25px', width='50%'),…"
      ]
     },
     "metadata": {},
     "output_type": "display_data"
    },
    {
     "name": "stdout",
     "output_type": "stream",
     "text": [
      "<pyspark.ml.regression.LinearRegressionTrainingSummary object at 0x7fa952cd0550>"
     ]
    }
   ],
   "source": [
    "model.summary"
   ]
  },
  {
   "cell_type": "markdown",
   "id": "173a0ce9-972e-4038-b782-65ac879cde35",
   "metadata": {},
   "source": [
    "**Q14** Repeat the estimation separately for beijing and paris and rome. Are the coefficients stable? _You will build a pipeline object._"
   ]
  },
  {
   "cell_type": "code",
   "execution_count": 20,
   "id": "22170a73-ae57-4596-905c-0ed8bc00534f",
   "metadata": {
    "execution": {
     "iopub.execute_input": "2022-04-28T13:47:51.411750Z",
     "iopub.status.busy": "2022-04-28T13:47:51.411573Z",
     "iopub.status.idle": "2022-04-28T13:49:16.990759Z",
     "shell.execute_reply": "2022-04-28T13:49:16.986396Z",
     "shell.execute_reply.started": "2022-04-28T13:47:51.411727Z"
    },
    "tags": []
   },
   "outputs": [
    {
     "data": {
      "application/vnd.jupyter.widget-view+json": {
       "model_id": "3635245bbcbc410abc0b6764675d67b3",
       "version_major": 2,
       "version_minor": 0
      },
      "text/plain": [
       "VBox()"
      ]
     },
     "metadata": {},
     "output_type": "display_data"
    },
    {
     "data": {
      "application/vnd.jupyter.widget-view+json": {
       "model_id": "",
       "version_major": 2,
       "version_minor": 0
      },
      "text/plain": [
       "FloatProgress(value=0.0, bar_style='info', description='Progress:', layout=Layout(height='25px', width='50%'),…"
      ]
     },
     "metadata": {},
     "output_type": "display_data"
    },
    {
     "name": "stdout",
     "output_type": "stream",
     "text": [
      "Coeeficients for rome are : [1.2705666265413038,60.521987958586976]\n",
      "Coeeficients for paris are : [20.22125466687632,27.09163736237932]\n",
      "Coeeficients for beijing are : [-8.263494146872883,528.7111330655149]"
     ]
    }
   ],
   "source": [
    "from pyspark.ml.feature import VectorAssembler\n",
    "from pyspark.ml.regression import LinearRegression\n",
    "from pyspark.ml import Pipeline\n",
    "from pyspark.sql.functions import year\n",
    "\n",
    "vectorizer = VectorAssembler(\n",
    "    inputCols     = [\"beds\", \"bedrooms\"],\n",
    "    outputCol     = \"features\",\n",
    "    handleInvalid = 'skip'\n",
    ")\n",
    "regressor = LinearRegression(featuresCol=\"features\", labelCol=\"price\")\n",
    "pipeline  = Pipeline(stages = [vectorizer, regressor])\n",
    "\n",
    "cities = [\"rome\", \"paris\", \"beijing\"]\n",
    "models = {}\n",
    "\n",
    "for city in cities :\n",
    "        models[city]= pipeline.fit(listings.filter(listings.city==city))\n",
    "\n",
    "for city, model in models.items():\n",
    "    print(f\"Coeeficients for {city} are : {model.stages[-1].coefficients}\")\n"
   ]
  },
  {
   "cell_type": "markdown",
   "id": "04e46201-df0d-4411-b874-8f2023312146",
   "metadata": {},
   "source": [
    "**Q15** Are the `fit()` and `transform()` methods called eagerly or lazily? Check the execution plan with the `explain()` method for lazy evaluations.## E. Diving deeper"
   ]
  },
  {
   "cell_type": "markdown",
   "id": "e28e7fac-93bd-4eeb-bca7-34213bfe5794",
   "metadata": {},
   "source": [
    "fit() is eager ; transform() is lazy"
   ]
  },
  {
   "cell_type": "markdown",
   "id": "b761baeb-17ba-40a5-aaf5-8827fd5b1b65",
   "metadata": {},
   "source": [
    "## E. Diving deeper\n",
    "\n",
    "You are in autonomy for this section. You will find helpful:\n",
    "\n",
    "- The general Spark documentation for the `ml` module: https://spark.apache.org/docs/latest/ml-guide.html\n",
    "- The PySpark documentation: https://spark.apache.org/docs/latest/api/python/index.html"
   ]
  },
  {
   "cell_type": "markdown",
   "id": "0d1b8594-5b76-45cc-b9e7-dc1d47b71ab4",
   "metadata": {},
   "source": [
    "**Q16.** Add a categorical variable to the regression."
   ]
  },
  {
   "cell_type": "code",
   "execution_count": null,
   "id": "8b9e1d19-f023-4f42-a242-20f76ea76015",
   "metadata": {},
   "outputs": [],
   "source": []
  },
  {
   "cell_type": "markdown",
   "id": "63701d2f-a511-46d8-8e54-33f948d5a8c4",
   "metadata": {},
   "source": [
    "**Q17.** Compute the p-values of your model as well as confidence intervals for the predictions."
   ]
  },
  {
   "cell_type": "code",
   "execution_count": null,
   "id": "24e51ec5-d3cc-46f0-8fe5-cf28eb12dade",
   "metadata": {},
   "outputs": [],
   "source": []
  },
  {
   "cell_type": "markdown",
   "id": "1e410557-9c61-43c4-b7f4-187e97c30ccf",
   "metadata": {},
   "source": [
    "**Q18.** Time the regression in different settings and report the results on [this shared spreadsheet](https://docs.google.com/spreadsheets/d/1KSCLMgiepoKKiDdRrwlQv_0XYn5ptzXRB7TP-TRXCAw/edit?usp=sharing). How does it scale with the number of listings ($n$) ? the number of regressors ($p$) ? the number of nodes in your cluster ($k$) ? _You will only try a couple of configurations that have not been tested by others. Remember that you can order and revoke nodes from your cluster at any time from the AWS's cluster view, in the hardware tab, on on the CORE line, \"resize\"._"
   ]
  },
  {
   "cell_type": "code",
   "execution_count": null,
   "id": "86a5e25d-1e9c-47aa-b0ef-136d4261deb7",
   "metadata": {
    "tags": []
   },
   "outputs": [],
   "source": []
  },
  {
   "cell_type": "markdown",
   "id": "bc9f8bd7-27f0-4eb2-98cb-028e2b8be202",
   "metadata": {},
   "source": [
    "**Q19.** Down-sample your data set to $n=100000$, while still keeping a few variables. Save it on S3, then download it on your computer. Run the regression locally on your computer in R. In your opinion, is the extra precision (in term of $R^2$) is worth the extra computation time?"
   ]
  },
  {
   "cell_type": "code",
   "execution_count": null,
   "id": "70924d96-46a9-49fe-9db7-cbe3cbc1782b",
   "metadata": {},
   "outputs": [],
   "source": []
  }
 ],
 "metadata": {
  "kernelspec": {
   "display_name": "PySpark",
   "language": "python",
   "name": "pysparkkernel"
  },
  "language_info": {
   "codemirror_mode": {
    "name": "python",
    "version": 3
   },
   "file_extension": ".py",
   "mimetype": "text/x-python",
   "name": "pyspark",
   "pygments_lexer": "python3"
  }
 },
 "nbformat": 4,
 "nbformat_minor": 5
}
