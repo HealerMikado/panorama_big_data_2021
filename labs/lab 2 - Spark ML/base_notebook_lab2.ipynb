{
 "cells": [
  {
   "cell_type": "markdown",
   "id": "741a5875-99f3-4393-a8c1-389016d52fca",
   "metadata": {},
   "source": [
    "# Tutorial 2 - Spark ML\n",
    "\n",
    "In this tutorial, we are going to perform exploratory and explanatory analyses of a massive dataset consisting in hundreds of thousands of AirBnB listings, as made available by the Inside AirBnB project [here](http://insideairbnb.com/get-the-data.html). Rémi Pépin has loaded a lot these listings on AWS at this address: `s3://spark‑lab‑input‑data‑ensai20212022/airbnbb/`\n",
    "\n",
    "## A. Tutorial setup (1/2)\n",
    "\n",
    "Section B is purposefully independent from section A. So while you wait for your cluster to launch, you can start the tutorial!\n",
    "\n",
    "### ACTIONS\n",
    "\n",
    "⚙️ **A1.** On AWS, use the EMR service to launch a notebook backed by a Spark cluster.\n",
    "\n",
    "## B.  How to distribute elementary statistical tasks?\n",
    "\n",
    "**The map and reduce principle**\n",
    "\n",
    "When your data is distributed, i.e is spread out across multiple hard disks / memories on different logical or physical machines, it is clearly not possible to load everything in memory to perform some computation. (No computer from the cluster would have enough storage space / memory space to load the full data set, and the exchange of information _between_ the nodes of the cluster would take considerable amounts of time.) What can you do then?\n",
    "\n",
    "A surprisingly satisfying situation is when your algorithm can be expressed in a **map-and-reduce model**[^mapreduce]. A **map** step, in computer science, is the equivalent a function in mathematics: from a given entry, return an output. Examples include counting the number of occurrences of a word in a text, squaring some number, subtracting some number, etc.  A **reduce** step takes two inputs and produces one input, and can be called recursively onto its own outputs, progressively yielding the final result through a pyramid of **accumulators** (see diagram here under). Popular reduce functions include (pairwise) concatenation of character strings, (pairwise) product, (pairwise) minimum and (pairwise) maximum. But **pairwise addition** is probably the most used reduce function, with the aim goal of performing a complete addition:\n",
    "\n",
    "[^mapreduce]: Hadoop's MapReduce is the name of what was to become today Apache Spark. The persons behind this framework were among the first to advocate for the map-and-reduce mode in order to achieve efficient parallelisation. Unfortunately, the similarity of the names causes a lot of confusion between the map-and-reduce theoretical model and the concrete Hadoop implementation. I will use \"map-and-reduce\" to help distinguish the algorithmic concept from the MapReduce program, but this is _not_ standard in the literature.\n",
    "\n",
    "![](https://raw.githubusercontent.com/HealerMikado/panorama_big_data_2021/main/labs/lab%202%20-%20Spark%20ML/img/reduce.png)\n",
    "\n",
    "**Why is the map-and-reduce scheme so interesting?**  Well, say you have $n$ entries and $k$ worker nodes at your disposal. The map operation can always be performed locally on each node, since the transformation does not depend on the rest of the data set. This is an **embarrassingly parallel problem** and we roughly divide the execution time by $k$. Then, most of the reduce steps can also happen on the worker nodes, until the local data has been completely summarized. This also an $k$_fold acceleration! Then, there remains only $k$ reduce steps, and since $k \\ll n$, this is usually quite negligible, even though the (potentially high) networking costs happen at this step. There is still some cost of task coordination and data exchange, but this usually small compared to the costs of parallelisation.\n",
    "\n",
    "![](https://raw.githubusercontent.com/HealerMikado/panorama_big_data_2021/main/labs/lab%202%20-%20Spark%20ML/img/map-end-reduce.png)\n",
    "\n",
    "**The reduce step**\n",
    "\n",
    "**A reduce function is an associative function** $f: E \\times E \\mapsto E$, where associativity means $\\forall (a,b,c) \\in E^3, f(a,f(b,c))=f(f(a,b),c)$. This is required because the distribution of data blocks across the nodes is random, and that we want to minimize data transmission between the nodes.\n",
    "\n",
    "Moreover, **$f$ may or may not be commutative**, in the sense that $f(a,b)=f(b,a)$. If it is the case, such as with addition and multiplication, then the computing may happen in no particular order. This means that the central node need not wait for some partial results to be returned by a belated node. On the contrary, if $f$ is not commutative, (a) the worker nodes must apply the function in a defined order, (b) the central node needs to reduce the intermediate outputs in a defined order, (c) it may have to delay the final reduce steps because of a lingering node.\n",
    "\n",
    "The reduce function must not be defined on $E=\\mathbb{R}$. For instance, in the context where data is a collection of text documents, a word-count function may return accumulator objects looking like: `((word1,count1), (word2,count2))`. Also, the accumulators — that is, the outputs of the each intermediate reduce step — are not necessarily exactly the cumulative version of the final statistic our algorithm outputs! Rather, **accumulators are information-dense, fast-to-compute summary statistics** from which the required final statistics can be obtained.\n",
    "\n",
    "Imagine you want to count the frequency of the vocal E in English, given a collection of texts. It is faster to count the number of Es as well as the total number of characters than to accumulate directly the frequencies, as shown in this diagram:\n",
    "\n",
    "![](https://raw.githubusercontent.com/HealerMikado/panorama_big_data_2021/main/labs/lab%202%20-%20Spark%20ML/img/reduce-frequency.png)\n",
    "\n",
    "**Online algorithms**\n",
    "\n",
    "An **online algorithm** is an algorithm with an inner state that can be actualized at low cost for any new arrival of data. A good metaphor is track-keeping of the number of people on a bus: every time a person enters or leaves, you apply ±1 to the count, without the need to systematically recount everyone. Said otherwise, an online algorithm is any algorithm whose last result can be actualized from new data, at a smaller cost than an alternative algorithm that uses both old and new data from scratch.\n",
    "\n",
    "It turns out that **respecting the map-and-reduce model gives us online algorithms for free**, where the **inner state** of the algorithm is the output from the last reduce call. Indeed, writing $s_\\text{old}$ and $s_\\text{new}$ the old and new states (the old and new summary statistics), and $x_new$ the latest data point, we have:\n",
    "\n",
    "$$s_\\text{new}=\\text{reduce}(s_\\text{old}, \\text{map}(x_\\text{new}))$$\n",
    "\n",
    "Thus, writing an algorithm following the map-and-reduce model gives you both a parallelized batch algorithm and a stream algorithm at once.\n",
    "\n",
    "**Number of passes**\n",
    "\n",
    "So far we have discussed algorithms that require only one map and one reduce functions. But for some statistics, it is not sufficient. For instance, if we want to count the number of texts where the letter E is more common than average, we first have to compute the average frequency in a first pass, then to count the texts where the frequency exceed this number with a second one. We can NOT do this in only one run, since the global average frequency is not known !\n",
    "\n",
    "Each run is called a **pass** and some algorithms require several passes.\n",
    "\n",
    "**Limits**\n",
    "\n",
    "- Not all statistical algorithms can be expressed according to the map-and-reduce algorithm, and when they can, it may require a significant re-writing compared to the standard algorithms.\n",
    "- There may be a trade-off between the number of passes, the speed of each map / reduce steps and the volume of data transferred between each reduce step."
   ]
  },
  {
   "cell_type": "markdown",
   "id": "943bfac2-a848-410b-88aa-81c9b3264dcf",
   "metadata": {},
   "source": [
    "### QUESTIONS\n",
    "\n",
    "💡 **Q1.** You are given `errors`, a distributed vector of prediction errors. Write a map-and-reduce algorithm for computing the **total sum of squares**. _(You may want to create a Python version of this algorithm, using the `map(function, vector)` and `reduce(function, vector)` functions. `reduce` lives in the `functools` module. You may use lambda-functions.)_"
   ]
  },
  {
   "cell_type": "code",
   "execution_count": null,
   "id": "8b8e1840-bc16-4f05-985f-2ce885a8a8cb",
   "metadata": {
    "vscode": {
     "languageId": "json"
    }
   },
   "outputs": [],
   "source": []
  },
  {
   "cell_type": "markdown",
   "id": "a9caddbd-4343-455a-a1fa-c5aa27b304a6",
   "metadata": {},
   "source": [
    "💡 **Q2.** Write **two** different map-and-reduce algorithm for computing the **_mean_ sum of squares**. _(One may include a final $O(1)$ step.)_"
   ]
  },
  {
   "cell_type": "code",
   "execution_count": null,
   "id": "2725b67a-3d11-4fd2-bd10-08bcae639258",
   "metadata": {
    "vscode": {
     "languageId": "json"
    }
   },
   "outputs": [],
   "source": []
  },
  {
   "cell_type": "markdown",
   "id": "40353ea1-53ec-478c-80e4-aba5b04cb29e",
   "metadata": {},
   "source": [
    "💡 **Q4** Is the median easy to write as a map-and-reduce algorithm? Why?"
   ]
  },
  {
   "cell_type": "code",
   "execution_count": null,
   "id": "6e485b82-e2d6-4b18-b8fd-75f90212b7ec",
   "metadata": {
    "vscode": {
     "languageId": "json"
    }
   },
   "outputs": [],
   "source": []
  },
  {
   "cell_type": "markdown",
   "id": "37880806-22e9-4490-911a-ede0dcaa16e6",
   "metadata": {},
   "source": [
    "💡 **Q4** Is the median easy to write as a map-and-reduce algorithm? Why?"
   ]
  },
  {
   "cell_type": "code",
   "execution_count": null,
   "id": "2e64e66d-dbdd-495f-a987-7d16fff6e9f8",
   "metadata": {},
   "outputs": [],
   "source": []
  },
  {
   "cell_type": "markdown",
   "id": "e140f962-6f05-4167-a17b-ad1af84b46e2",
   "metadata": {},
   "source": [
    "💡 **Q5** Given a (distributed) series of numbers, the variance can be straightforwardly expressed as a two-pass algorithm: (a) in a first pass, compute the mean, then (b) in a second pass, compute the mean of the errors to the mean. Can it be expressed as a one-pass only algorithm? Is it more expensive to compute variance *and* mean instead of the variance alone?"
   ]
  },
  {
   "cell_type": "markdown",
   "id": "6b3bf1b9-3dbf-4e56-a6f8-4477a7c7d751",
   "metadata": {},
   "source": [
    "### ACTIONS\n",
    "\n",
    "⚙️ **A2.** Use the script here under to import the whole directory."
   ]
  },
  {
   "cell_type": "code",
   "execution_count": null,
   "id": "3459f5c4-7112-4104-84bf-b99a2ed4ea67",
   "metadata": {
    "tags": []
   },
   "outputs": [],
   "source": [
    "spark\n",
    "# configuration: accept to pay for the data transfer\n",
    "spark._jsc.hadoopConfiguration().set(\"fs.s3.useRequesterPaysHeader\",\"true\")\n",
    "\n",
    "from pyspark.sql.types import FloatType, IntegerType, DateType\n",
    "from pyspark.sql.functions import regexp_replace, col\n",
    "\n",
    "listings_raw = spark.read.csv(\"s3://spark-lab-input-data-ensai20212022/airbnb/\", header=True, multiLine=True, escape='\"')\n",
    "\n",
    "listings = (listings_raw\n",
    "  .withColumn(\"beds\",     listings_raw[\"beds\"    ].cast(IntegerType()))\n",
    "  .withColumn(\"bedrooms\", listings_raw[\"bedrooms\"].cast(IntegerType()))\n",
    "  .withColumn(\"time\", listings_raw[\"last_scraped\"].cast(DateType()))\n",
    "  .withColumn(\"price\", regexp_replace('price', '[$\\\\,]', '').cast(FloatType()))\n",
    "  .select(\"id\", \"beds\", \"bedrooms\", \"price\", \"city\", \"time\")\n",
    "  .dropna() # remove lines with missing values\n",
    ")"
   ]
  },
  {
   "cell_type": "markdown",
   "id": "5cc1d2e3-97df-4891-9f5a-4fb2eebde9d3",
   "metadata": {
    "tags": []
   },
   "source": [
    "### QUESTIONS\n",
    "\n",
    "💡 **Q6.** How many lines do the raw and the formatted datasets have?"
   ]
  },
  {
   "cell_type": "code",
   "execution_count": null,
   "id": "fb008afe-09dc-4e9a-bcea-59874b0f8027",
   "metadata": {},
   "outputs": [],
   "source": []
  },
  {
   "cell_type": "markdown",
   "id": "f4a0e9e8-7cc5-4323-aa8c-3fb2936354c5",
   "metadata": {},
   "source": [
    "💡 **Q7.** How many columns are there? Can you list all the available columns?"
   ]
  },
  {
   "cell_type": "code",
   "execution_count": null,
   "id": "ad28c4e4-b20b-40ba-910f-377ebb21b4da",
   "metadata": {},
   "outputs": [],
   "source": []
  },
  {
   "cell_type": "markdown",
   "id": "92f7091e-055b-4315-8d5a-6ba4e09944f1",
   "metadata": {},
   "source": [
    "**Spark SQL's `summary()` method**\n",
    "\n",
    "In Spark SQL, **elementary univariate summary statistics can also be obtained through the `summary()` method**. The `summary()` method takes either the names of the statistics to compute, or nothing, in which case it computes every possible statistics:\n",
    "\n",
    "```python\n",
    "listings.summary(\"count\", \"min\", \"max\").show() # computes the selection of statistics\n",
    "```\n",
    "\n",
    "```python\n",
    "listings.summary().show() # computes every possible statistics\n",
    "```\n",
    "\n",
    "This is a way to incite you to compute all the statistics you want at the same moment : it avoids an extra pass on the data set because all accumulators can be computed simultaneously. You can fin a list of all supported statistics [here](https://spark.apache.org/docs/latest/api/python/reference/api/pyspark.sql.DataFrame.summary.html) in PySpark documentation: count, mean, standard-deviation, minimum, maximum, approximate median, approximate first and last quartiles. Null (missing) values will be ignored in numerical columns before calculation.\n",
    "\n",
    "**Spark ML**\n",
    "\n",
    "Spark ML is a Spark module that allow us to execute parallelised versions of most popular machine-learning algorithms, such as linear or logistic regression. However, we can also use Spark ML to compute elementaty univariate summary statistics. However the philosophy is quite different, and is worth explaining[^philosophy].\n",
    "\n",
    "[^philosophy]: The syntax of Spark ML may feel artificially convoluted ; this not only an impression, it *is* convoluted. However, there are grounds for this situation :\n",
    "\n",
    "1. Spark ML has been built on top of Spark years into the project, and the core of Spark is not well adapted to machine-learning ;\n",
    "2. Spark ML is intended for much more advanced treatments than unviariate statistics, and we will see linear regression as an exemple at the end of this tutorial\n",
    "\n",
    "**Step 1: vectorisation.** A little counter-intuitively, spark ML operates on a single column of your data frame, typically called `features`. (Features is the word used in the machine-learning community for \"variables\", see \"Vocabulary\" section hereunder.) This `features` column has the `Vector` type: each element contains an array of floating-point numbers, representing a subst of the variables from your dataset. The key is that this `features` column is usually redundant with the rest of the data frame: it just ensures the proper conversion from any type we wish (string, integer...) to a standardized numeric format. Indeed, it is often derived from the other columns, as this image illustrates:\n",
    "\n",
    "![](https://raw.githubusercontent.com/HealerMikado/panorama_big_data_2021/main/labs/lab%202%20-%20Spark%20ML/img/vector-format.png)\n",
    "\n",
    "Unfortunately for us, the construction the `features` column is not performed automatically under the hood by Spark, like when doing statistics in R. On the contrary, we have to construct the column explicitly. The `VectorAssembler()` constructor is here for that:\n",
    "\n",
    "```python\n",
    "from pyspark.ml.feature import VectorAssembler\n",
    "\n",
    "vectorizer = VectorAssembler(\n",
    "    inputCols     = [\"price\", \"beds\", \"bedrooms\"], # the columns we want to put in the features column\n",
    "    outputCol     = \"features\",                    # the name of the column (\"features\")\n",
    "    handleInvalid = 'skip'                         # skip rows with missing / invalid values\n",
    ")\n",
    "\n",
    "listings_vec = vectorizer.transform(listings)\n",
    "\n",
    "# Reminders:\n",
    "# Spark data sets are immutable: a copy is returned, and the original is unchanged.\n",
    "# Spark operations are lazy: listings_vec just contains the recipe for building vector column\n",
    "# but no item of the column is computed unless explicitly asked to.\n",
    "\n",
    "listings_vec.show(5) # The first 5 values of the features column are computed.\n",
    "```\n",
    "\n",
    "**Step 2: summarization.** Now that we have a vector column, we can use a `Summarizer` object to declare all the statistics we want to compute, in a similar fashion than with the Spark SQL `summary()` method. The following statistics are known: mean\\*, sum\\*, variance\\*, standard-deviation\\*, count\\*, number of non-zero entries, maximum\\*, minimum\\*, L2-norm, L1-norm, as can be read in [the documentation](https://spark.apache.org/docs/3.1.1/api/python/reference/api/pyspark.ml.stat.Summarizer.html). _(Stars (\\*) denote statistics that could also be computed with the `summary()` method. Approximate quartiles are not computed.)_ Summarizers are created with the `Summarizer.metrics()` constructor. Here again, you are incited to declare all the summaries at once, so that they can all be computed in one pass:\n",
    "\n",
    "```python\n",
    "from pyspark.ml.stat    import Summarizer\n",
    "\n",
    "summarizer = Summarizer.metrics(\"count\", \"min\", \"max\")\n",
    "\n",
    "listings_vec.select( summarizer.summary(listings_vec.features), ).show(truncate=False)\n",
    "# By default, the output of columns is capped to a maximum width.\n",
    "# truncate=False prevents this behaviour.\n",
    "```\n",
    "\n",
    "This produces the output:\n",
    "\n",
    "![](https://raw.githubusercontent.com/HealerMikado/panorama_big_data_2021/main/labs/lab%202%20-%20Spark%20ML/img/summary.png)"
   ]
  },
  {
   "cell_type": "markdown",
   "id": "a59296b7-1903-4c7c-8614-ea8f7882b26e",
   "metadata": {},
   "source": [
    "### Questions\n",
    "\n",
    "💡 **Q9.** Is `listings.summary()` slower to run than `listings.summary(\"count\", \"min\", \"max\")` ? Why? _You can measure time in Python with this simple template:_"
   ]
  },
  {
   "cell_type": "code",
   "execution_count": null,
   "id": "efb443e4-da87-4d9d-9753-918f8cd2440a",
   "metadata": {
    "tags": [],
    "vscode": {
     "languageId": "json"
    }
   },
   "outputs": [],
   "source": []
  },
  {
   "cell_type": "markdown",
   "id": "44ddab14-e385-4bac-b61b-85e45b7fd260",
   "metadata": {},
   "source": [
    "**Q10.** Compute the average number of beds per property in Barcelona in four different ways:\n",
    "\n",
    "1. directly with the Spark SQL mean function,\n",
    "\n",
    "2. using `summary()`,\n",
    "\n",
    "3. using a `Sumarizer` object and\n",
    "\n",
    "4. locally after you collected the bed columns.\n",
    "\n",
    "   _Despite the operation being very common, Spark does **not** provide a simple syntax to collect a column as a local array. A work-around is to use the Pandas package and the `asPanda()` method ([documentation](https://spark.apache.org/docs/latest/api/python/reference/api/pyspark.sql.DataFrame.toPandas.html)). First install Pandas with `sc.install_pypi_package(\"pandas==0.25.1\")`. Then you can collect a local copy of a dataframe called `df` with: `df_local = df.toPandas()`. A Pandas data frame possesses a `mean()` method, that compute the mean of each column of the data frame: more details are in Pandas' [documentation]( https://pandas.pydata.org/pandas-docs/stable/reference/api/pandas.DataFrame.mean.html)._\n",
    "\n",
    "   Which method is the fastest?"
   ]
  },
  {
   "cell_type": "code",
   "execution_count": null,
   "id": "b05e4f48-c8d1-4065-9deb-7903e2e60a56",
   "metadata": {
    "vscode": {
     "languageId": "json"
    }
   },
   "outputs": [],
   "source": []
  },
  {
   "cell_type": "markdown",
   "id": "db8db03e-4296-451f-a4a6-29345aebaf96",
   "metadata": {},
   "source": [
    "**Q11.** The most simple model is often surprisingly difficult to beat! Compute the mean price on the data set as a predictor for an AirBnB listing's price and the total sum of squares. (We will elaborate in the next section.)"
   ]
  },
  {
   "cell_type": "code",
   "execution_count": null,
   "id": "e13c28bd-9510-4c6f-92f8-236d548d4153",
   "metadata": {
    "vscode": {
     "languageId": "json"
    }
   },
   "outputs": [],
   "source": []
  },
  {
   "cell_type": "markdown",
   "id": "0f247219-739f-4a74-beee-6c8d0665f6f7",
   "metadata": {},
   "source": [
    "## D. Regression with Spark ML\n",
    "\n",
    "A better way to predict prices is to build a regression mode, which in Spark falls under the broad category of machine-learning problems. Regressions thus belong the the `ml` module, often called Spark ML, like the summarizer that we saw just before[^mllib].\n",
    "\n",
    "[^mllib]: There is an old module called `mllib` that is also called \"Spark ML\". That can cause confusion.\n",
    "\n",
    "The `ml` module is built in a distinctive fashion than the rest of Spark. **Firstly** we have seen with `Summarizer` that we can not readily use the columns and that instead **columns have to be first converted to a `Vector` format** with the `VectorAssembler` function.\n",
    "\n",
    "**Secondly**, we need to distinguish between two different types of object classes: transformers and estimators classes. **Transformers** are a class of objects representing any process that modifies the dataset, and returns the modified version. It has a **transform()** method. **Estimators** on the other hand are classes of objects representing any process that produces a transformer based on some computed parameters from the data set. It has a **`fit()`** method. It is easier with an example. In the following example, `regressor` is an estimator, and we compute the regression coefficients with the `fit()` method. This produces `model`, the regression model itself, which is of class transformer. Indeed, we can use its `transform()` method to add predictions to the initial dataset.\n",
    "\n",
    "```python\n",
    "from pyspark.ml.feature import VectorAssembler\n",
    "from pyspark.ml.regression import LinearRegression\n",
    "\n",
    "vectorizer = VectorAssembler( # copy-pasted from previous section...\n",
    "    inputCols     = [\"beds\", \"bedrooms\"], # ... but without price\n",
    "    outputCol     = \"features\",\n",
    "    handleInvalid = 'skip'\n",
    ")\n",
    "\n",
    "listings_vec = vectorizer.transform(listings)\n",
    "\n",
    "regressor = LinearRegression(featuresCol=\"features\", labelCol=\"price\")\n",
    "model     = regressor.fit(listings_vec)\n",
    "\n",
    "model.coefficients\n",
    "model.intercept\n",
    "\n",
    "listings_pred = model.transform(listings_vec)\n",
    "listings_pred.show() # model and predictions from the regression\n",
    "```\n",
    "\n",
    "**Vocabulary**\n",
    "\n",
    "The machine-learning community leaves at the border between computer science and mathematics. They borrow vocabulary from both sides, and it can sometimes be confusing when reading software documentation. Spark's `lib` module uses conventions from this community :\n",
    "\n",
    "- **label**, rather than \"independent variable\". This comes from the fact that historically, machine-learning has originated from problems such as image labeling (for instance digit recognition). Even for continuous variables, machine-learners may use \"label\"\n",
    "- **features**, rather than \"dependent variables\" ; the number of features is often dubbed $d$ like dimension (instead of $p$ in statistics)\n",
    "- machine-learners don't use the word \"observation\" or \"unit\" and prefer **row**\n",
    "\n",
    "**Pipelines**\n",
    "\n",
    "If you come to repeat several times the same series of transformations, you may take advantage of the pipeline objects. A **pipeline** is just a collections of steps applied to the same dataset. This helpful when you:\n",
    "\n",
    "- repeat the same analysis for different regions / periods\n",
    "- want to control predictions on a new, unseen test set, and ant to apply exactly the same process\n",
    "\n",
    "```python\n",
    "from pyspark.ml.feature import VectorAssembler\n",
    "from pyspark.ml.regression import LinearRegression\n",
    "from pyspark.ml import Pipeline\n",
    "\n",
    "vectorizer = VectorAssembler( # same vectorizer as before\n",
    "    inputCols     = [\"beds\", \"bedrooms\"],\n",
    "    outputCol     = \"features\",\n",
    "    handleInvalid = 'skip'\n",
    ")\n",
    "regressor = LinearRegression(featuresCol=\"features\", labelCol=\"price\") # same regressor\n",
    "pipeline  = Pipeline(stages = [vectorizer, regressor]) # ... but now we pack them into a pipeline\n",
    "\n",
    "listings_beij = listings.filter(listings.city==\"Beijing\")\n",
    "listings_barc = listings.filter(listings.city==\"Barcelona\")\n",
    "\n",
    "model_beij = pipeline.fit(listings_beij) # vectorizer AND regressor are applied\n",
    "model_barc = pipeline.fit(listings_barc)\n",
    "\n",
    "print(model_beij.stages[1].coefficients) # model.stages[0] is the first step, model.stages[1] the second...\n",
    "print(model_beij.stages[1].intercept)\n",
    "\n",
    "print(model_barc.stages[1].coefficients)\n",
    "print(model_barc.stages[1].intercept)\n",
    "```"
   ]
  },
  {
   "cell_type": "markdown",
   "id": "a71c2605-e0be-408e-9f42-51936299565b",
   "metadata": {},
   "source": [
    "**Q12** Interpret the results of the general regression."
   ]
  },
  {
   "cell_type": "code",
   "execution_count": null,
   "id": "ef478e69-663b-41f3-8ff6-ad07a87a82b6",
   "metadata": {
    "vscode": {
     "languageId": "json"
    }
   },
   "outputs": [],
   "source": []
  },
  {
   "cell_type": "markdown",
   "id": "1aa40cc0-4f67-4b2d-862d-c715f63f7375",
   "metadata": {},
   "source": [
    "**Q13** Collect the model's $R^2$. How good is our model? _Models have a `summary` property, that you can explore with `dir(model.summary)`._"
   ]
  },
  {
   "cell_type": "code",
   "execution_count": null,
   "id": "f12d825d-d23b-43f5-9923-1b43807c6c4e",
   "metadata": {
    "vscode": {
     "languageId": "json"
    }
   },
   "outputs": [],
   "source": []
  },
  {
   "cell_type": "markdown",
   "id": "173a0ce9-972e-4038-b782-65ac879cde35",
   "metadata": {},
   "source": [
    "**Q14** Repeat the estimation separately for beijing, paris and rome. Are the coefficients stable? _You will build a pipeline object._"
   ]
  },
  {
   "cell_type": "code",
   "execution_count": null,
   "id": "22170a73-ae57-4596-905c-0ed8bc00534f",
   "metadata": {
    "vscode": {
     "languageId": "json"
    }
   },
   "outputs": [],
   "source": []
  },
  {
   "cell_type": "markdown",
   "id": "04e46201-df0d-4411-b874-8f2023312146",
   "metadata": {},
   "source": [
    "**Q15** Are the `fit()` and `transform()` methods called eagerly or lazily? Check the execution plan with the `explain()` method for lazy evaluations.## E. Diving deeper"
   ]
  },
  {
   "cell_type": "code",
   "execution_count": null,
   "id": "2dde504f-a9e1-4d0e-a0cc-58eef2f5d504",
   "metadata": {
    "vscode": {
     "languageId": "json"
    }
   },
   "outputs": [],
   "source": []
  },
  {
   "cell_type": "markdown",
   "id": "b761baeb-17ba-40a5-aaf5-8827fd5b1b65",
   "metadata": {},
   "source": [
    "## E. Diving deeper\n",
    "\n",
    "You are in autonomy for this section. You will find helpful:\n",
    "\n",
    "- The general Spark documentation for the `ml` module: https://spark.apache.org/docs/latest/ml-guide.html\n",
    "- The PySpark documentation: https://spark.apache.org/docs/latest/api/python/index.html"
   ]
  },
  {
   "cell_type": "markdown",
   "id": "0d1b8594-5b76-45cc-b9e7-dc1d47b71ab4",
   "metadata": {},
   "source": [
    "**Q16.** Add a categorical variable to the regression."
   ]
  },
  {
   "cell_type": "code",
   "execution_count": null,
   "id": "8b9e1d19-f023-4f42-a242-20f76ea76015",
   "metadata": {},
   "outputs": [],
   "source": []
  },
  {
   "cell_type": "markdown",
   "id": "63701d2f-a511-46d8-8e54-33f948d5a8c4",
   "metadata": {},
   "source": [
    "**Q17.** Compute the p-values of your model as well as confidence intervals for the predictions."
   ]
  },
  {
   "cell_type": "code",
   "execution_count": null,
   "id": "24e51ec5-d3cc-46f0-8fe5-cf28eb12dade",
   "metadata": {},
   "outputs": [],
   "source": []
  },
  {
   "cell_type": "markdown",
   "id": "1e410557-9c61-43c4-b7f4-187e97c30ccf",
   "metadata": {},
   "source": [
    "**Q18.** Time the regression in different settings and report the results on [this shared spreadsheet](https://docs.google.com/spreadsheets/d/1KSCLMgiepoKKiDdRrwlQv_0XYn5ptzXRB7TP-TRXCAw/edit?usp=sharing). How does it scale with the number of listings ($n$) ? the number of regressors ($p$) ? the number of nodes in your cluster ($k$) ? _You will only try a couple of configurations that have not been tested by others. Remember that you can order and revoke nodes from your cluster at any time from the AWS's cluster view, in the hardware tab, on on the CORE line, \"resize\"._"
   ]
  },
  {
   "cell_type": "code",
   "execution_count": null,
   "id": "86a5e25d-1e9c-47aa-b0ef-136d4261deb7",
   "metadata": {},
   "outputs": [],
   "source": []
  },
  {
   "cell_type": "markdown",
   "id": "38f53a43-7be8-4305-8025-d5323bd979bc",
   "metadata": {},
   "source": [
    "**Q19.** Down-sample your data set to $n=100000$, while still keeping a few variables. Save it on S3, then download it on your computer. Run the regression locally on your computer in R. In your opinion, is the extra precision (in term of $R^2$) is worth the extra computation time?"
   ]
  }
 ],
 "metadata": {
  "kernelspec": {
   "display_name": "PySpark",
   "language": "python",
   "name": "pysparkkernel"
  },
  "language_info": {
   "codemirror_mode": {
    "name": "python",
    "version": 3
   },
   "file_extension": ".py",
   "mimetype": "text/x-python",
   "name": "pyspark",
   "pygments_lexer": "python3"
  }
 },
 "nbformat": 4,
 "nbformat_minor": 5
}
