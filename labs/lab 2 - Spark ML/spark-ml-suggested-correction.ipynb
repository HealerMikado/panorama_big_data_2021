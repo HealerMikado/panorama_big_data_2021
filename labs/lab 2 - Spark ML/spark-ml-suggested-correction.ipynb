{
 "cells": [
  {
   "cell_type": "code",
   "execution_count": 1,
   "id": "583a5c3d",
   "metadata": {
    "vscode": {
     "languageId": "json"
    }
   },
   "outputs": [
    {
     "data": {
      "application/vnd.jupyter.widget-view+json": {
       "model_id": "ee752a16fd074dfdad888c174e7f0a0a",
       "version_major": 2,
       "version_minor": 0
      },
      "text/plain": [
       "VBox()"
      ]
     },
     "metadata": {},
     "output_type": "display_data"
    },
    {
     "name": "stdout",
     "output_type": "stream",
     "text": [
      "Starting Spark application\n"
     ]
    },
    {
     "data": {
      "text/html": [
       "<table>\n",
       "<tr><th>ID</th><th>YARN Application ID</th><th>Kind</th><th>State</th><th>Spark UI</th><th>Driver log</th><th>Current session?</th></tr><tr><td>0</td><td>application_1620738130541_0001</td><td>pyspark</td><td>idle</td><td><a target=\"_blank\" href=\"http://ip-172-31-75-168.ec2.internal:20888/proxy/application_1620738130541_0001/\" class=\"emr-proxy-link\" emr-resource=\"j-22KEX04ZT39OB\n",
       "\" application-id=\"application_1620738130541_0001\">Link</a></td><td><a target=\"_blank\" href=\"http://ip-172-31-70-161.ec2.internal:8042/node/containerlogs/container_1620738130541_0001_01_000001/livy\" >Link</a></td><td>✔</td></tr></table>"
      ],
      "text/plain": [
       "<IPython.core.display.HTML object>"
      ]
     },
     "metadata": {},
     "output_type": "display_data"
    },
    {
     "data": {
      "application/vnd.jupyter.widget-view+json": {
       "model_id": "",
       "version_major": 2,
       "version_minor": 0
      },
      "text/plain": [
       "FloatProgress(value=0.0, bar_style='info', description='Progress:', layout=Layout(height='25px', width='50%'),…"
      ]
     },
     "metadata": {},
     "output_type": "display_data"
    },
    {
     "name": "stdout",
     "output_type": "stream",
     "text": [
      "SparkSession available as 'spark'.\n"
     ]
    },
    {
     "data": {
      "application/vnd.jupyter.widget-view+json": {
       "model_id": "",
       "version_major": 2,
       "version_minor": 0
      },
      "text/plain": [
       "FloatProgress(value=0.0, bar_style='info', description='Progress:', layout=Layout(height='25px', width='50%'),…"
      ]
     },
     "metadata": {},
     "output_type": "display_data"
    }
   ],
   "source": [
    "spark._jsc.hadoopConfiguration().set(\"fs.s3.useRequesterPaysHeader\",\"true\")"
   ]
  },
  {
   "cell_type": "code",
   "execution_count": 2,
   "id": "9d8e7668",
   "metadata": {
    "vscode": {
     "languageId": "json"
    }
   },
   "outputs": [
    {
     "data": {
      "application/vnd.jupyter.widget-view+json": {
       "model_id": "20d9735dd00c4336954faf34c18961dd",
       "version_major": 2,
       "version_minor": 0
      },
      "text/plain": [
       "VBox()"
      ]
     },
     "metadata": {},
     "output_type": "display_data"
    },
    {
     "data": {
      "application/vnd.jupyter.widget-view+json": {
       "model_id": "",
       "version_major": 2,
       "version_minor": 0
      },
      "text/plain": [
       "FloatProgress(value=0.0, bar_style='info', description='Progress:', layout=Layout(height='25px', width='50%'),…"
      ]
     },
     "metadata": {},
     "output_type": "display_data"
    },
    {
     "name": "stdout",
     "output_type": "stream",
     "text": [
      "3760"
     ]
    }
   ],
   "source": [
    "# Q1\n",
    "\n",
    "from functools import reduce\n",
    "\n",
    "errors = [1,10,45,3,5,40]\n",
    "\n",
    "reduce(lambda s1, s2: s1+s2, map(lambda e: e**2, errors))"
   ]
  },
  {
   "cell_type": "code",
   "execution_count": 3,
   "id": "d4433000",
   "metadata": {
    "vscode": {
     "languageId": "json"
    }
   },
   "outputs": [
    {
     "data": {
      "application/vnd.jupyter.widget-view+json": {
       "model_id": "2aeeb177cef04a9193be08458be39b81",
       "version_major": 2,
       "version_minor": 0
      },
      "text/plain": [
       "VBox()"
      ]
     },
     "metadata": {},
     "output_type": "display_data"
    },
    {
     "data": {
      "application/vnd.jupyter.widget-view+json": {
       "model_id": "",
       "version_major": 2,
       "version_minor": 0
      },
      "text/plain": [
       "FloatProgress(value=0.0, bar_style='info', description='Progress:', layout=Layout(height='25px', width='50%'),…"
      ]
     },
     "metadata": {},
     "output_type": "display_data"
    },
    {
     "name": "stdout",
     "output_type": "stream",
     "text": [
      "{'m': 626.6666666666666, 'w': 6}"
     ]
    }
   ],
   "source": [
    "# Q2a\n",
    "\n",
    "from functools import reduce\n",
    "\n",
    "errors = [1,10,45,3,5,40]\n",
    "\n",
    "def weighted_mean(obj1, obj2):\n",
    "  w = obj1[\"w\"] + obj2[\"w\"]\n",
    "  return ({\n",
    "      \"m\" : (obj1[\"m\"] * obj1[\"w\"] + obj2[\"m\"] * obj2[\"w\"]) / w,\n",
    "      \"w\" : w\n",
    "  })\n",
    "squared_errors = map(lambda e: {\"m\" : e**2, \"w\" : 1}, errors)\n",
    "reduce( weighted_mean, squared_errors )"
   ]
  },
  {
   "cell_type": "code",
   "execution_count": 4,
   "id": "3633f28a",
   "metadata": {
    "vscode": {
     "languageId": "json"
    }
   },
   "outputs": [
    {
     "data": {
      "application/vnd.jupyter.widget-view+json": {
       "model_id": "579ab71c62194394ba406ed7e292266d",
       "version_major": 2,
       "version_minor": 0
      },
      "text/plain": [
       "VBox()"
      ]
     },
     "metadata": {},
     "output_type": "display_data"
    },
    {
     "data": {
      "application/vnd.jupyter.widget-view+json": {
       "model_id": "",
       "version_major": 2,
       "version_minor": 0
      },
      "text/plain": [
       "FloatProgress(value=0.0, bar_style='info', description='Progress:', layout=Layout(height='25px', width='50%'),…"
      ]
     },
     "metadata": {},
     "output_type": "display_data"
    },
    {
     "name": "stdout",
     "output_type": "stream",
     "text": [
      "626.6666666666666"
     ]
    }
   ],
   "source": [
    "# Q2b\n",
    "\n",
    "from functools import reduce\n",
    "\n",
    "errors = [1,10,45,3,5,40]\n",
    "\n",
    "def sum_and_n(obj1, obj2) :\n",
    "  return {\n",
    "    \"sum\" : obj1[\"sum\"] + obj2[\"sum\"],\n",
    "    \"n\"   : obj1[\"n\"] + obj2[\"n\"]\n",
    "  }\n",
    "\n",
    "squared_errors = map(lambda e: {\"sum\" : e**2, \"n\" : 1}, errors)\n",
    "total_sum_and_n = reduce( sum_and_n, squared_errors )\n",
    "total_sum_and_n[\"sum\"]/total_sum_and_n[\"n\"]"
   ]
  },
  {
   "cell_type": "code",
   "execution_count": 53,
   "id": "b4ae2ce2",
   "metadata": {
    "vscode": {
     "languageId": "json"
    }
   },
   "outputs": [
    {
     "data": {
      "application/vnd.jupyter.widget-view+json": {
       "model_id": "d2e282dd866e425cb45103b3bc77b6cd",
       "version_major": 2,
       "version_minor": 0
      },
      "text/plain": [
       "VBox()"
      ]
     },
     "metadata": {},
     "output_type": "display_data"
    },
    {
     "data": {
      "application/vnd.jupyter.widget-view+json": {
       "model_id": "",
       "version_major": 2,
       "version_minor": 0
      },
      "text/plain": [
       "FloatProgress(value=0.0, bar_style='info', description='Progress:', layout=Layout(height='25px', width='50%'),…"
      ]
     },
     "metadata": {},
     "output_type": "display_data"
    }
   ],
   "source": [
    "# A2\n",
    "\n",
    "from pyspark.sql.types import FloatType, IntegerType, DateType\n",
    "from pyspark.sql.functions import substring, col, regexp_replace\n",
    "\n",
    "# listings_raw = spark.read.csv(\"s3n://spark-lab-input-data-ensai20202021/airbnb/data-insideairbnb-australia-vic-barwon-south-west-vic-2020-05-26-data-listings.csv.gz\", header=True, multiLine=True, escape='\"')\n",
    "# listings_raw = spark.read.csv(\"s3n://spark-lab-input-data-ensai20202021/airbnb/\", header=True, multiLine=True, escape='\"')\n",
    "listings_raw = spark.read.csv(\"s3n://spark-lab-input-data-ensai20202021/airbnb/\", header=True, multiLine=True, escape='\"')"
   ]
  },
  {
   "cell_type": "code",
   "execution_count": 57,
   "id": "9dc0b41f",
   "metadata": {
    "vscode": {
     "languageId": "json"
    }
   },
   "outputs": [
    {
     "data": {
      "application/vnd.jupyter.widget-view+json": {
       "model_id": "991726090dbd475b9365231ca402d74f",
       "version_major": 2,
       "version_minor": 0
      },
      "text/plain": [
       "VBox()"
      ]
     },
     "metadata": {},
     "output_type": "display_data"
    },
    {
     "data": {
      "application/vnd.jupyter.widget-view+json": {
       "model_id": "",
       "version_major": 2,
       "version_minor": 0
      },
      "text/plain": [
       "FloatProgress(value=0.0, bar_style='info', description='Progress:', layout=Layout(height='25px', width='50%'),…"
      ]
     },
     "metadata": {},
     "output_type": "display_data"
    },
    {
     "name": "stdout",
     "output_type": "stream",
     "text": [
      "+------+\n",
      "| price|\n",
      "+------+\n",
      "| 833.0|\n",
      "|1201.0|\n",
      "| 600.0|\n",
      "| 600.0|\n",
      "| 410.0|\n",
      "| 551.0|\n",
      "| 600.0|\n",
      "| 403.0|\n",
      "| 742.0|\n",
      "| 417.0|\n",
      "| 551.0|\n",
      "| 438.0|\n",
      "| 953.0|\n",
      "| 439.0|\n",
      "| 480.0|\n",
      "| 551.0|\n",
      "| 418.0|\n",
      "|8002.0|\n",
      "| 417.0|\n",
      "| 417.0|\n",
      "+------+\n",
      "only showing top 20 rows"
     ]
    }
   ],
   "source": [
    "listings_raw.select(\"price\").show()"
   ]
  },
  {
   "cell_type": "code",
   "execution_count": 62,
   "id": "049a00bc",
   "metadata": {
    "vscode": {
     "languageId": "json"
    }
   },
   "outputs": [
    {
     "data": {
      "application/vnd.jupyter.widget-view+json": {
       "model_id": "c0bf637919f2450fa940385c4857dcc2",
       "version_major": 2,
       "version_minor": 0
      },
      "text/plain": [
       "VBox()"
      ]
     },
     "metadata": {},
     "output_type": "display_data"
    },
    {
     "data": {
      "application/vnd.jupyter.widget-view+json": {
       "model_id": "",
       "version_major": 2,
       "version_minor": 0
      },
      "text/plain": [
       "FloatProgress(value=0.0, bar_style='info', description='Progress:', layout=Layout(height='25px', width='50%'),…"
      ]
     },
     "metadata": {},
     "output_type": "display_data"
    }
   ],
   "source": [
    "listings = (listings_raw\n",
    "  .withColumn(\"beds\",     listings_raw[\"beds\"    ].cast(IntegerType()))\n",
    "  .withColumn(\"bedrooms\", listings_raw[\"bedrooms\"].cast(IntegerType()))\n",
    "  .withColumn(\"time\", listings_raw[\"last_scraped\"].cast(DateType()))\n",
    "  .withColumn(\"price\", regexp_replace('price', '[$\\\\,]', '').cast(FloatType()))\n",
    "  .select(\"id\", \"beds\", \"bedrooms\", \"price\", \"city\", \"time\")\n",
    "  .dropna()     \n",
    ")"
   ]
  },
  {
   "cell_type": "code",
   "execution_count": 59,
   "id": "99810374",
   "metadata": {
    "vscode": {
     "languageId": "json"
    }
   },
   "outputs": [
    {
     "data": {
      "application/vnd.jupyter.widget-view+json": {
       "model_id": "427e6d82680d4e93967e139ccce11a65",
       "version_major": 2,
       "version_minor": 0
      },
      "text/plain": [
       "VBox()"
      ]
     },
     "metadata": {},
     "output_type": "display_data"
    },
    {
     "data": {
      "application/vnd.jupyter.widget-view+json": {
       "model_id": "",
       "version_major": 2,
       "version_minor": 0
      },
      "text/plain": [
       "FloatProgress(value=0.0, bar_style='info', description='Progress:', layout=Layout(height='25px', width='50%'),…"
      ]
     },
     "metadata": {},
     "output_type": "display_data"
    },
    {
     "name": "stdout",
     "output_type": "stream",
     "text": [
      "+----------------+------+\n",
      "|            city| count|\n",
      "+----------------+------+\n",
      "|            1125|325080|\n",
      "|         Beijing|105966|\n",
      "|              30| 46900|\n",
      "|       Barcelona| 40547|\n",
      "|Ciudad de México| 38346|\n",
      "|             365| 26644|\n",
      "|      Washington| 17644|\n",
      "|              90| 14504|\n",
      "|         Beyoğlu| 14095|\n",
      "|         Seattle| 13557|\n",
      "|              28| 13197|\n",
      "|              60| 12364|\n",
      "|               7|  8788|\n",
      "|              15|  8669|\n",
      "|              29|  7867|\n",
      "|             180|  7143|\n",
      "|              31|  7051|\n",
      "|           Şişli|  6570|\n",
      "|           Fatih|  6539|\n",
      "|          Genève|  6505|\n",
      "+----------------+------+\n",
      "only showing top 20 rows"
     ]
    }
   ],
   "source": [
    "listings.groupBy(\"city\").count().sort(col(\"count\").desc()).show()"
   ]
  },
  {
   "cell_type": "code",
   "execution_count": 63,
   "id": "1b47e9ce",
   "metadata": {
    "vscode": {
     "languageId": "json"
    }
   },
   "outputs": [
    {
     "data": {
      "application/vnd.jupyter.widget-view+json": {
       "model_id": "d6e6002f3d204cf58fb84963990235c2",
       "version_major": 2,
       "version_minor": 0
      },
      "text/plain": [
       "VBox()"
      ]
     },
     "metadata": {},
     "output_type": "display_data"
    },
    {
     "data": {
      "application/vnd.jupyter.widget-view+json": {
       "model_id": "",
       "version_major": 2,
       "version_minor": 0
      },
      "text/plain": [
       "FloatProgress(value=0.0, bar_style='info', description='Progress:', layout=Layout(height='25px', width='50%'),…"
      ]
     },
     "metadata": {},
     "output_type": "display_data"
    },
    {
     "name": "stdout",
     "output_type": "stream",
     "text": [
      "+------+----+--------+------+-------+----------+\n",
      "|    id|beds|bedrooms| price|   city|      time|\n",
      "+------+----+--------+------+-------+----------+\n",
      "| 44054|   4|       3| 833.0|Beijing|2020-05-04|\n",
      "|100213|   1|       1|1201.0|Beijing|2020-05-06|\n",
      "|114384|   1|       1| 600.0|Beijing|2020-05-04|\n",
      "|114465|   1|       1| 600.0|Beijing|2020-05-04|\n",
      "|128496|   2|       1| 410.0|Beijing|2020-04-30|\n",
      "|161902|   1|       1| 551.0|Beijing|2020-05-05|\n",
      "|162144|   2|       1| 600.0|Beijing|2020-05-06|\n",
      "|279078|   1|       1| 403.0|Beijing|2020-05-02|\n",
      "|282825|   3|       2| 742.0|Beijing|2020-05-05|\n",
      "|287026|   1|       1| 417.0|Beijing|2020-05-01|\n",
      "|317195|   1|       1| 551.0|Beijing|2020-05-04|\n",
      "|322292|   1|       1| 438.0|Beijing|2020-05-01|\n",
      "|445306|   2|       2| 953.0|Beijing|2020-05-06|\n",
      "|456641|   1|       1| 439.0|Beijing|2020-04-30|\n",
      "|458561|   1|       1| 480.0|Beijing|2020-05-01|\n",
      "|491280|   1|       1| 551.0|Beijing|2020-05-04|\n",
      "|498126|   1|       1| 418.0|Beijing|2020-04-30|\n",
      "|537674|   6|       6|8002.0|Beijing|2020-05-02|\n",
      "|554123|   1|       1| 417.0|Beijing|2020-05-02|\n",
      "|627240|   1|       1| 417.0|Beijing|2020-05-02|\n",
      "+------+----+--------+------+-------+----------+\n",
      "only showing top 20 rows"
     ]
    }
   ],
   "source": [
    "listings.show()"
   ]
  },
  {
   "cell_type": "code",
   "execution_count": 64,
   "id": "63402807",
   "metadata": {
    "vscode": {
     "languageId": "json"
    }
   },
   "outputs": [
    {
     "data": {
      "application/vnd.jupyter.widget-view+json": {
       "model_id": "61ad4812a565464dbb2086163b796662",
       "version_major": 2,
       "version_minor": 0
      },
      "text/plain": [
       "VBox()"
      ]
     },
     "metadata": {},
     "output_type": "display_data"
    },
    {
     "data": {
      "application/vnd.jupyter.widget-view+json": {
       "model_id": "",
       "version_major": 2,
       "version_minor": 0
      },
      "text/plain": [
       "FloatProgress(value=0.0, bar_style='info', description='Progress:', layout=Layout(height='25px', width='50%'),…"
      ]
     },
     "metadata": {},
     "output_type": "display_data"
    },
    {
     "name": "stdout",
     "output_type": "stream",
     "text": [
      "Observations before cleaning: 1332873\n",
      "Observations  after cleaning: 979096 (change: -353777 )"
     ]
    }
   ],
   "source": [
    "# Q6\n",
    "\n",
    "n0 = listings_raw.count()\n",
    "n  = listings.count()\n",
    "print(\"Observations before cleaning:\", n0) #\n",
    "print(\"Observations  after cleaning:\", n, \"(change:\",  n-n0,\")\")     # "
   ]
  },
  {
   "cell_type": "code",
   "execution_count": 26,
   "id": "fd91c1e8",
   "metadata": {
    "vscode": {
     "languageId": "json"
    }
   },
   "outputs": [
    {
     "data": {
      "application/vnd.jupyter.widget-view+json": {
       "model_id": "faa5513fcb8c4209b692ef4dfdd73585",
       "version_major": 2,
       "version_minor": 0
      },
      "text/plain": [
       "VBox()"
      ]
     },
     "metadata": {},
     "output_type": "display_data"
    },
    {
     "data": {
      "application/vnd.jupyter.widget-view+json": {
       "model_id": "",
       "version_major": 2,
       "version_minor": 0
      },
      "text/plain": [
       "FloatProgress(value=0.0, bar_style='info', description='Progress:', layout=Layout(height='25px', width='50%'),…"
      ]
     },
     "metadata": {},
     "output_type": "display_data"
    },
    {
     "name": "stdout",
     "output_type": "stream",
     "text": [
      "There are 106 columns:\n",
      "- id\n",
      "- listing_url\n",
      "- scrape_id\n",
      "- last_scraped\n",
      "- name\n",
      "- summary\n",
      "- space\n",
      "- description\n",
      "- experiences_offered\n",
      "- neighborhood_overview\n",
      "- notes\n",
      "- transit\n",
      "- access\n",
      "- interaction\n",
      "- house_rules\n",
      "- thumbnail_url\n",
      "- medium_url\n",
      "- picture_url\n",
      "- xl_picture_url\n",
      "- host_id\n",
      "- host_url\n",
      "- host_name\n",
      "- host_since\n",
      "- host_location\n",
      "- host_about\n",
      "- host_response_time\n",
      "- host_response_rate\n",
      "- host_acceptance_rate\n",
      "- host_is_superhost\n",
      "- host_thumbnail_url\n",
      "- host_picture_url\n",
      "- host_neighbourhood\n",
      "- host_listings_count\n",
      "- host_total_listings_count\n",
      "- host_verifications\n",
      "- host_has_profile_pic\n",
      "- host_identity_verified\n",
      "- street\n",
      "- neighbourhood\n",
      "- neighbourhood_cleansed\n",
      "- neighbourhood_group_cleansed\n",
      "- city\n",
      "- state\n",
      "- zipcode\n",
      "- market\n",
      "- smart_location\n",
      "- country_code\n",
      "- country\n",
      "- latitude\n",
      "- longitude\n",
      "- is_location_exact\n",
      "- property_type\n",
      "- room_type\n",
      "- accommodates\n",
      "- bathrooms\n",
      "- bedrooms\n",
      "- beds\n",
      "- bed_type\n",
      "- amenities\n",
      "- square_feet\n",
      "- price\n",
      "- weekly_price\n",
      "- monthly_price\n",
      "- security_deposit\n",
      "- cleaning_fee\n",
      "- guests_included\n",
      "- extra_people\n",
      "- minimum_nights\n",
      "- maximum_nights\n",
      "- minimum_minimum_nights\n",
      "- maximum_minimum_nights\n",
      "- minimum_maximum_nights\n",
      "- maximum_maximum_nights\n",
      "- minimum_nights_avg_ntm\n",
      "- maximum_nights_avg_ntm\n",
      "- calendar_updated\n",
      "- has_availability\n",
      "- availability_30\n",
      "- availability_60\n",
      "- availability_90\n",
      "- availability_365\n",
      "- calendar_last_scraped\n",
      "- number_of_reviews\n",
      "- number_of_reviews_ltm\n",
      "- first_review\n",
      "- last_review\n",
      "- review_scores_rating\n",
      "- review_scores_accuracy\n",
      "- review_scores_cleanliness\n",
      "- review_scores_checkin\n",
      "- review_scores_communication\n",
      "- review_scores_location\n",
      "- review_scores_value\n",
      "- requires_license\n",
      "- license\n",
      "- jurisdiction_names\n",
      "- instant_bookable\n",
      "- is_business_travel_ready\n",
      "- cancellation_policy\n",
      "- require_guest_profile_picture\n",
      "- require_guest_phone_verification\n",
      "- calculated_host_listings_count\n",
      "- calculated_host_listings_count_entire_homes\n",
      "- calculated_host_listings_count_private_rooms\n",
      "- calculated_host_listings_count_shared_rooms\n",
      "- reviews_per_month"
     ]
    }
   ],
   "source": [
    "# Q7\n",
    "\n",
    "print(\"There are\", len(listings_raw.columns), \"columns:\")\n",
    "print('\\n'.join( [\"- \"+column for column in listings_raw.columns] ))"
   ]
  },
  {
   "cell_type": "code",
   "execution_count": 29,
   "id": "c774fa44",
   "metadata": {
    "vscode": {
     "languageId": "json"
    }
   },
   "outputs": [
    {
     "data": {
      "application/vnd.jupyter.widget-view+json": {
       "model_id": "a50f82dbff8a4e00a35d31a3d1d3ee02",
       "version_major": 2,
       "version_minor": 0
      },
      "text/plain": [
       "VBox()"
      ]
     },
     "metadata": {},
     "output_type": "display_data"
    },
    {
     "data": {
      "application/vnd.jupyter.widget-view+json": {
       "model_id": "",
       "version_major": 2,
       "version_minor": 0
      },
      "text/plain": [
       "FloatProgress(value=0.0, bar_style='info', description='Progress:', layout=Layout(height='25px', width='50%'),…"
      ]
     },
     "metadata": {},
     "output_type": "display_data"
    },
    {
     "name": "stdout",
     "output_type": "stream",
     "text": [
      "StructType(List(StructField(id,StringType,true),StructField(listing_url,StringType,true),StructField(scrape_id,StringType,true),StructField(last_scraped,StringType,true),StructField(name,StringType,true),StructField(summary,StringType,true),StructField(space,StringType,true),StructField(description,StringType,true),StructField(experiences_offered,StringType,true),StructField(neighborhood_overview,StringType,true),StructField(notes,StringType,true),StructField(transit,StringType,true),StructField(access,StringType,true),StructField(interaction,StringType,true),StructField(house_rules,StringType,true),StructField(thumbnail_url,StringType,true),StructField(medium_url,StringType,true),StructField(picture_url,StringType,true),StructField(xl_picture_url,StringType,true),StructField(host_id,StringType,true),StructField(host_url,StringType,true),StructField(host_name,StringType,true),StructField(host_since,StringType,true),StructField(host_location,StringType,true),StructField(host_about,StringType,true),StructField(host_response_time,StringType,true),StructField(host_response_rate,StringType,true),StructField(host_acceptance_rate,StringType,true),StructField(host_is_superhost,StringType,true),StructField(host_thumbnail_url,StringType,true),StructField(host_picture_url,StringType,true),StructField(host_neighbourhood,StringType,true),StructField(host_listings_count,StringType,true),StructField(host_total_listings_count,StringType,true),StructField(host_verifications,StringType,true),StructField(host_has_profile_pic,StringType,true),StructField(host_identity_verified,StringType,true),StructField(street,StringType,true),StructField(neighbourhood,StringType,true),StructField(neighbourhood_cleansed,StringType,true),StructField(neighbourhood_group_cleansed,StringType,true),StructField(city,StringType,true),StructField(state,StringType,true),StructField(zipcode,StringType,true),StructField(market,StringType,true),StructField(smart_location,StringType,true),StructField(country_code,StringType,true),StructField(country,StringType,true),StructField(latitude,StringType,true),StructField(longitude,StringType,true),StructField(is_location_exact,StringType,true),StructField(property_type,StringType,true),StructField(room_type,StringType,true),StructField(accommodates,StringType,true),StructField(bathrooms,StringType,true),StructField(bedrooms,IntegerType,true),StructField(beds,FloatType,true),StructField(bed_type,StringType,true),StructField(amenities,StringType,true),StructField(square_feet,StringType,true),StructField(price,FloatType,true),StructField(weekly_price,StringType,true),StructField(monthly_price,StringType,true),StructField(security_deposit,StringType,true),StructField(cleaning_fee,StringType,true),StructField(guests_included,StringType,true),StructField(extra_people,StringType,true),StructField(minimum_nights,StringType,true),StructField(maximum_nights,StringType,true),StructField(minimum_minimum_nights,StringType,true),StructField(maximum_minimum_nights,StringType,true),StructField(minimum_maximum_nights,StringType,true),StructField(maximum_maximum_nights,StringType,true),StructField(minimum_nights_avg_ntm,StringType,true),StructField(maximum_nights_avg_ntm,StringType,true),StructField(calendar_updated,StringType,true),StructField(has_availability,StringType,true),StructField(availability_30,StringType,true),StructField(availability_60,StringType,true),StructField(availability_90,StringType,true),StructField(availability_365,StringType,true),StructField(calendar_last_scraped,StringType,true),StructField(number_of_reviews,StringType,true),StructField(number_of_reviews_ltm,StringType,true),StructField(first_review,StringType,true),StructField(last_review,StringType,true),StructField(review_scores_rating,StringType,true),StructField(review_scores_accuracy,StringType,true),StructField(review_scores_cleanliness,StringType,true),StructField(review_scores_checkin,StringType,true),StructField(review_scores_communication,StringType,true),StructField(review_scores_location,StringType,true),StructField(review_scores_value,StringType,true),StructField(requires_license,StringType,true),StructField(license,StringType,true),StructField(jurisdiction_names,StringType,true),StructField(instant_bookable,StringType,true),StructField(is_business_travel_ready,StringType,true),StructField(cancellation_policy,StringType,true),StructField(require_guest_profile_picture,StringType,true),StructField(require_guest_phone_verification,StringType,true),StructField(calculated_host_listings_count,StringType,true),StructField(calculated_host_listings_count_entire_homes,StringType,true),StructField(calculated_host_listings_count_private_rooms,StringType,true),StructField(calculated_host_listings_count_shared_rooms,StringType,true),StructField(reviews_per_month,StringType,true)))\n",
      "[('id', 'string'), ('listing_url', 'string'), ('scrape_id', 'string'), ('last_scraped', 'string'), ('name', 'string'), ('summary', 'string'), ('space', 'string'), ('description', 'string'), ('experiences_offered', 'string'), ('neighborhood_overview', 'string'), ('notes', 'string'), ('transit', 'string'), ('access', 'string'), ('interaction', 'string'), ('house_rules', 'string'), ('thumbnail_url', 'string'), ('medium_url', 'string'), ('picture_url', 'string'), ('xl_picture_url', 'string'), ('host_id', 'string'), ('host_url', 'string'), ('host_name', 'string'), ('host_since', 'string'), ('host_location', 'string'), ('host_about', 'string'), ('host_response_time', 'string'), ('host_response_rate', 'string'), ('host_acceptance_rate', 'string'), ('host_is_superhost', 'string'), ('host_thumbnail_url', 'string'), ('host_picture_url', 'string'), ('host_neighbourhood', 'string'), ('host_listings_count', 'string'), ('host_total_listings_count', 'string'), ('host_verifications', 'string'), ('host_has_profile_pic', 'string'), ('host_identity_verified', 'string'), ('street', 'string'), ('neighbourhood', 'string'), ('neighbourhood_cleansed', 'string'), ('neighbourhood_group_cleansed', 'string'), ('city', 'string'), ('state', 'string'), ('zipcode', 'string'), ('market', 'string'), ('smart_location', 'string'), ('country_code', 'string'), ('country', 'string'), ('latitude', 'string'), ('longitude', 'string'), ('is_location_exact', 'string'), ('property_type', 'string'), ('room_type', 'string'), ('accommodates', 'string'), ('bathrooms', 'string'), ('bedrooms', 'int'), ('beds', 'float'), ('bed_type', 'string'), ('amenities', 'string'), ('square_feet', 'string'), ('price', 'float'), ('weekly_price', 'string'), ('monthly_price', 'string'), ('security_deposit', 'string'), ('cleaning_fee', 'string'), ('guests_included', 'string'), ('extra_people', 'string'), ('minimum_nights', 'string'), ('maximum_nights', 'string'), ('minimum_minimum_nights', 'string'), ('maximum_minimum_nights', 'string'), ('minimum_maximum_nights', 'string'), ('maximum_maximum_nights', 'string'), ('minimum_nights_avg_ntm', 'string'), ('maximum_nights_avg_ntm', 'string'), ('calendar_updated', 'string'), ('has_availability', 'string'), ('availability_30', 'string'), ('availability_60', 'string'), ('availability_90', 'string'), ('availability_365', 'string'), ('calendar_last_scraped', 'string'), ('number_of_reviews', 'string'), ('number_of_reviews_ltm', 'string'), ('first_review', 'string'), ('last_review', 'string'), ('review_scores_rating', 'string'), ('review_scores_accuracy', 'string'), ('review_scores_cleanliness', 'string'), ('review_scores_checkin', 'string'), ('review_scores_communication', 'string'), ('review_scores_location', 'string'), ('review_scores_value', 'string'), ('requires_license', 'string'), ('license', 'string'), ('jurisdiction_names', 'string'), ('instant_bookable', 'string'), ('is_business_travel_ready', 'string'), ('cancellation_policy', 'string'), ('require_guest_profile_picture', 'string'), ('require_guest_phone_verification', 'string'), ('calculated_host_listings_count', 'string'), ('calculated_host_listings_count_entire_homes', 'string'), ('calculated_host_listings_count_private_rooms', 'string'), ('calculated_host_listings_count_shared_rooms', 'string'), ('reviews_per_month', 'string')]\n",
      "root\n",
      " |-- id: string (nullable = true)\n",
      " |-- listing_url: string (nullable = true)\n",
      " |-- scrape_id: string (nullable = true)\n",
      " |-- last_scraped: string (nullable = true)\n",
      " |-- name: string (nullable = true)\n",
      " |-- summary: string (nullable = true)\n",
      " |-- space: string (nullable = true)\n",
      " |-- description: string (nullable = true)\n",
      " |-- experiences_offered: string (nullable = true)\n",
      " |-- neighborhood_overview: string (nullable = true)\n",
      " |-- notes: string (nullable = true)\n",
      " |-- transit: string (nullable = true)\n",
      " |-- access: string (nullable = true)\n",
      " |-- interaction: string (nullable = true)\n",
      " |-- house_rules: string (nullable = true)\n",
      " |-- thumbnail_url: string (nullable = true)\n",
      " |-- medium_url: string (nullable = true)\n",
      " |-- picture_url: string (nullable = true)\n",
      " |-- xl_picture_url: string (nullable = true)\n",
      " |-- host_id: string (nullable = true)\n",
      " |-- host_url: string (nullable = true)\n",
      " |-- host_name: string (nullable = true)\n",
      " |-- host_since: string (nullable = true)\n",
      " |-- host_location: string (nullable = true)\n",
      " |-- host_about: string (nullable = true)\n",
      " |-- host_response_time: string (nullable = true)\n",
      " |-- host_response_rate: string (nullable = true)\n",
      " |-- host_acceptance_rate: string (nullable = true)\n",
      " |-- host_is_superhost: string (nullable = true)\n",
      " |-- host_thumbnail_url: string (nullable = true)\n",
      " |-- host_picture_url: string (nullable = true)\n",
      " |-- host_neighbourhood: string (nullable = true)\n",
      " |-- host_listings_count: string (nullable = true)\n",
      " |-- host_total_listings_count: string (nullable = true)\n",
      " |-- host_verifications: string (nullable = true)\n",
      " |-- host_has_profile_pic: string (nullable = true)\n",
      " |-- host_identity_verified: string (nullable = true)\n",
      " |-- street: string (nullable = true)\n",
      " |-- neighbourhood: string (nullable = true)\n",
      " |-- neighbourhood_cleansed: string (nullable = true)\n",
      " |-- neighbourhood_group_cleansed: string (nullable = true)\n",
      " |-- city: string (nullable = true)\n",
      " |-- state: string (nullable = true)\n",
      " |-- zipcode: string (nullable = true)\n",
      " |-- market: string (nullable = true)\n",
      " |-- smart_location: string (nullable = true)\n",
      " |-- country_code: string (nullable = true)\n",
      " |-- country: string (nullable = true)\n",
      " |-- latitude: string (nullable = true)\n",
      " |-- longitude: string (nullable = true)\n",
      " |-- is_location_exact: string (nullable = true)\n",
      " |-- property_type: string (nullable = true)\n",
      " |-- room_type: string (nullable = true)\n",
      " |-- accommodates: string (nullable = true)\n",
      " |-- bathrooms: string (nullable = true)\n",
      " |-- bedrooms: integer (nullable = true)\n",
      " |-- beds: float (nullable = true)\n",
      " |-- bed_type: string (nullable = true)\n",
      " |-- amenities: string (nullable = true)\n",
      " |-- square_feet: string (nullable = true)\n",
      " |-- price: float (nullable = true)\n",
      " |-- weekly_price: string (nullable = true)\n",
      " |-- monthly_price: string (nullable = true)\n",
      " |-- security_deposit: string (nullable = true)\n",
      " |-- cleaning_fee: string (nullable = true)\n",
      " |-- guests_included: string (nullable = true)\n",
      " |-- extra_people: string (nullable = true)\n",
      " |-- minimum_nights: string (nullable = true)\n",
      " |-- maximum_nights: string (nullable = true)\n",
      " |-- minimum_minimum_nights: string (nullable = true)\n",
      " |-- maximum_minimum_nights: string (nullable = true)\n",
      " |-- minimum_maximum_nights: string (nullable = true)\n",
      " |-- maximum_maximum_nights: string (nullable = true)\n",
      " |-- minimum_nights_avg_ntm: string (nullable = true)\n",
      " |-- maximum_nights_avg_ntm: string (nullable = true)\n",
      " |-- calendar_updated: string (nullable = true)\n",
      " |-- has_availability: string (nullable = true)\n",
      " |-- availability_30: string (nullable = true)\n",
      " |-- availability_60: string (nullable = true)\n",
      " |-- availability_90: string (nullable = true)\n",
      " |-- availability_365: string (nullable = true)\n",
      " |-- calendar_last_scraped: string (nullable = true)\n",
      " |-- number_of_reviews: string (nullable = true)\n",
      " |-- number_of_reviews_ltm: string (nullable = true)\n",
      " |-- first_review: string (nullable = true)\n",
      " |-- last_review: string (nullable = true)\n",
      " |-- review_scores_rating: string (nullable = true)\n",
      " |-- review_scores_accuracy: string (nullable = true)\n",
      " |-- review_scores_cleanliness: string (nullable = true)\n",
      " |-- review_scores_checkin: string (nullable = true)\n",
      " |-- review_scores_communication: string (nullable = true)\n",
      " |-- review_scores_location: string (nullable = true)\n",
      " |-- review_scores_value: string (nullable = true)\n",
      " |-- requires_license: string (nullable = true)\n",
      " |-- license: string (nullable = true)\n",
      " |-- jurisdiction_names: string (nullable = true)\n",
      " |-- instant_bookable: string (nullable = true)\n",
      " |-- is_business_travel_ready: string (nullable = true)\n",
      " |-- cancellation_policy: string (nullable = true)\n",
      " |-- require_guest_profile_picture: string (nullable = true)\n",
      " |-- require_guest_phone_verification: string (nullable = true)\n",
      " |-- calculated_host_listings_count: string (nullable = true)\n",
      " |-- calculated_host_listings_count_entire_homes: string (nullable = true)\n",
      " |-- calculated_host_listings_count_private_rooms: string (nullable = true)\n",
      " |-- calculated_host_listings_count_shared_rooms: string (nullable = true)\n",
      " |-- reviews_per_month: string (nullable = true)"
     ]
    }
   ],
   "source": [
    "# Q8\n",
    "\n",
    "# 3 ways\n",
    "print(listings_raw.schema)\n",
    "print(listings_raw.dtypes)\n",
    "listings_raw.printSchema()"
   ]
  },
  {
   "cell_type": "code",
   "execution_count": 43,
   "id": "66036231",
   "metadata": {
    "vscode": {
     "languageId": "json"
    }
   },
   "outputs": [
    {
     "data": {
      "application/vnd.jupyter.widget-view+json": {
       "model_id": "e8c17cc8497541e5b33af2dc3a8cfd57",
       "version_major": 2,
       "version_minor": 0
      },
      "text/plain": [
       "VBox()"
      ]
     },
     "metadata": {},
     "output_type": "display_data"
    },
    {
     "data": {
      "application/vnd.jupyter.widget-view+json": {
       "model_id": "",
       "version_major": 2,
       "version_minor": 0
      },
      "text/plain": [
       "FloatProgress(value=0.0, bar_style='info', description='Progress:', layout=Layout(height='25px', width='50%'),…"
      ]
     },
     "metadata": {},
     "output_type": "display_data"
    }
   ],
   "source": [
    "# Q9"
   ]
  },
  {
   "cell_type": "code",
   "execution_count": 53,
   "id": "20e1e5b6",
   "metadata": {
    "vscode": {
     "languageId": "json"
    }
   },
   "outputs": [
    {
     "data": {
      "application/vnd.jupyter.widget-view+json": {
       "model_id": "bcaef13c69cc43ea8d233e9ae3837c74",
       "version_major": 2,
       "version_minor": 0
      },
      "text/plain": [
       "VBox()"
      ]
     },
     "metadata": {},
     "output_type": "display_data"
    },
    {
     "data": {
      "application/vnd.jupyter.widget-view+json": {
       "model_id": "",
       "version_major": 2,
       "version_minor": 0
      },
      "text/plain": [
       "FloatProgress(value=0.0, bar_style='info', description='Progress:', layout=Layout(height='25px', width='50%'),…"
      ]
     },
     "metadata": {},
     "output_type": "display_data"
    },
    {
     "name": "stdout",
     "output_type": "stream",
     "text": [
      "+-------+--------+----+--------+-----+------------+\n",
      "|summary|      id|beds|bedrooms|price|        city|\n",
      "+-------+--------+----+--------+-----+------------+\n",
      "|  count|    5395|5390|    5391| 5395|        5390|\n",
      "|    min|10003497| 0.0|       0| 14.0|Aireys Inlet|\n",
      "|    max| 9982552|30.0|      32|996.0|     Yuulong|\n",
      "+-------+--------+----+--------+-----+------------+\n",
      "\n",
      "Execution time for sumary(\"count\"...): 7.7258904159998565 s\n",
      "+-------+--------------------+------------------+------------------+------------------+------------+\n",
      "|summary|                  id|              beds|          bedrooms|             price|        city|\n",
      "+-------+--------------------+------------------+------------------+------------------+------------+\n",
      "|  count|                5395|              5390|              5391|              5395|        5390|\n",
      "|   mean|2.3919679793697868E7| 3.735250463821892|2.5572250046373584|251.14087117701575|        null|\n",
      "| stddev|1.1651428098835612E7|2.2691915653686703|1.3615510149262255|149.84066864616887|        null|\n",
      "|    min|            10003497|               0.0|                 0|              14.0|Aireys Inlet|\n",
      "|    25%|         1.5637828E7|               2.0|                 1|             150.0|        null|\n",
      "|    50%|         2.3240259E7|               4.0|                 3|             220.0|        null|\n",
      "|    75%|         3.3503962E7|               5.0|                 3|             313.0|        null|\n",
      "|    max|             9982552|              30.0|                32|             996.0|     Yuulong|\n",
      "+-------+--------------------+------------------+------------------+------------------+------------+\n",
      "\n",
      "Execution time for sumary(): 1.5365311510004176 s"
     ]
    }
   ],
   "source": [
    "from timeit import default_timer as t\n",
    "\n",
    "## version 1 ------------------\n",
    "\n",
    "start = t()\n",
    "\n",
    "listings.summary(\"count\", \"min\", \"max\").show()\n",
    "\n",
    "print (\"Execution time for sumary(\\\"count\\\"...):\", t()-start, \"s\")\n",
    "\n",
    "## version 2 ------------------\n",
    "\n",
    "start = t()\n",
    "\n",
    "listings.summary().show()\n",
    "\n",
    "print (\"Execution time for sumary():\", t()-start, \"s\")\n"
   ]
  },
  {
   "cell_type": "code",
   "execution_count": 54,
   "id": "13527c2d",
   "metadata": {
    "vscode": {
     "languageId": "json"
    }
   },
   "outputs": [
    {
     "data": {
      "application/vnd.jupyter.widget-view+json": {
       "model_id": "20979301d72b427f8cf156ce21f8bd9f",
       "version_major": 2,
       "version_minor": 0
      },
      "text/plain": [
       "VBox()"
      ]
     },
     "metadata": {},
     "output_type": "display_data"
    },
    {
     "data": {
      "application/vnd.jupyter.widget-view+json": {
       "model_id": "",
       "version_major": 2,
       "version_minor": 0
      },
      "text/plain": [
       "FloatProgress(value=0.0, bar_style='info', description='Progress:', layout=Layout(height='25px', width='50%'),…"
      ]
     },
     "metadata": {},
     "output_type": "display_data"
    }
   ],
   "source": [
    "# Q10"
   ]
  },
  {
   "cell_type": "code",
   "execution_count": 6,
   "id": "2b6a5a33",
   "metadata": {},
   "outputs": [
    {
     "data": {
      "application/vnd.jupyter.widget-view+json": {
       "model_id": "e34ac1c7a12f43b3833473def785d6ef",
       "version_major": 2,
       "version_minor": 0
      },
      "text/plain": [
       "VBox()"
      ]
     },
     "metadata": {},
     "output_type": "display_data"
    },
    {
     "data": {
      "application/vnd.jupyter.widget-view+json": {
       "model_id": "",
       "version_major": 2,
       "version_minor": 0
      },
      "text/plain": [
       "FloatProgress(value=0.0, bar_style='info', description='Progress:', layout=Layout(height='25px', width='50%'),…"
      ]
     },
     "metadata": {},
     "output_type": "display_data"
    },
    {
     "name": "stdout",
     "output_type": "stream",
     "text": [
      "+-----------------+\n",
      "|        avg(beds)|\n",
      "+-----------------+\n",
      "|4.724137931034483|\n",
      "+-----------------+\n",
      "\n",
      "Execution time for sumary(\"count\"...): 2.533814053000242 s"
     ]
    }
   ],
   "source": [
    "## version 1 ------------------\n",
    "\n",
    "from timeit import default_timer as t\n",
    "from pyspark.sql.functions import mean\n",
    "\n",
    "start = t()\n",
    "\n",
    "listings.filter(col(\"city\")==\"Fairhaven\").select(mean('beds')).show()\n",
    "\n",
    "print (\"Execution time:\", t()-start, \"s\")"
   ]
  },
  {
   "cell_type": "code",
   "execution_count": 7,
   "id": "057c97ab",
   "metadata": {},
   "outputs": [
    {
     "data": {
      "application/vnd.jupyter.widget-view+json": {
       "model_id": "36e4ed0ba0ff4ba2a6bfd790fd3d5258",
       "version_major": 2,
       "version_minor": 0
      },
      "text/plain": [
       "VBox()"
      ]
     },
     "metadata": {},
     "output_type": "display_data"
    },
    {
     "data": {
      "application/vnd.jupyter.widget-view+json": {
       "model_id": "",
       "version_major": 2,
       "version_minor": 0
      },
      "text/plain": [
       "FloatProgress(value=0.0, bar_style='info', description='Progress:', layout=Layout(height='25px', width='50%'),…"
      ]
     },
     "metadata": {},
     "output_type": "display_data"
    },
    {
     "name": "stdout",
     "output_type": "stream",
     "text": [
      "+-------+-----------------+\n",
      "|summary|             beds|\n",
      "+-------+-----------------+\n",
      "|   mean|4.724137931034483|\n",
      "+-------+-----------------+\n",
      "\n",
      "Execution time for sumary(\"count\"...): 2.7298211550005362 s"
     ]
    }
   ],
   "source": [
    "## version 2 ------------------\n",
    "\n",
    "from timeit import default_timer as t\n",
    "\n",
    "start = t()\n",
    "\n",
    "listings.filter(col(\"city\")==\"Fairhaven\").select(\"beds\").summary(\"mean\").show()\n",
    "\n",
    "print (\"Execution time:\", t()-start, \"s\")"
   ]
  },
  {
   "cell_type": "code",
   "execution_count": 64,
   "id": "1ab4bc62",
   "metadata": {},
   "outputs": [
    {
     "data": {
      "application/vnd.jupyter.widget-view+json": {
       "model_id": "dc4097adfba8494d909b7e685a4c52fd",
       "version_major": 2,
       "version_minor": 0
      },
      "text/plain": [
       "VBox()"
      ]
     },
     "metadata": {},
     "output_type": "display_data"
    },
    {
     "data": {
      "application/vnd.jupyter.widget-view+json": {
       "model_id": "",
       "version_major": 2,
       "version_minor": 0
      },
      "text/plain": [
       "FloatProgress(value=0.0, bar_style='info', description='Progress:', layout=Layout(height='25px', width='50%'),…"
      ]
     },
     "metadata": {},
     "output_type": "display_data"
    },
    {
     "name": "stdout",
     "output_type": "stream",
     "text": [
      "+--------------------------------+\n",
      "|aggregate_metrics(features, 1.0)|\n",
      "+--------------------------------+\n",
      "|[[4.724137931034482]]           |\n",
      "+--------------------------------+\n",
      "\n",
      "Execution time for sumary(\"count\"...): 7.656350930999906 s"
     ]
    }
   ],
   "source": [
    "## version 3 ------------------\n",
    "\n",
    "from timeit import default_timer as t\n",
    "from pyspark.ml.feature import VectorAssembler\n",
    "from pyspark.ml.stat    import Summarizer\n",
    "\n",
    "start = t()\n",
    "\n",
    "vectorizer = VectorAssembler(\n",
    "    inputCols     = [\"beds\"],\n",
    "    outputCol     = \"features\"\n",
    ")\n",
    "summarizer = Summarizer.metrics(\"mean\")\n",
    "listings_vec = vectorizer.transform(listings.filter(col(\"city\")==\"Fairhaven\"))\n",
    "listings_vec.select( summarizer.summary( listings_vec.features) ).show(truncate=False)\n",
    "\n",
    "\n",
    "print (\"Execution time:\", t()-start, \"s\")"
   ]
  },
  {
   "cell_type": "code",
   "execution_count": 10,
   "id": "411d0ddb",
   "metadata": {},
   "outputs": [
    {
     "data": {
      "application/vnd.jupyter.widget-view+json": {
       "model_id": "691e27ea3e2a4cb89e3ce118e15ce3fb",
       "version_major": 2,
       "version_minor": 0
      },
      "text/plain": [
       "VBox()"
      ]
     },
     "metadata": {},
     "output_type": "display_data"
    },
    {
     "data": {
      "application/vnd.jupyter.widget-view+json": {
       "model_id": "",
       "version_major": 2,
       "version_minor": 0
      },
      "text/plain": [
       "FloatProgress(value=0.0, bar_style='info', description='Progress:', layout=Layout(height='25px', width='50%'),…"
      ]
     },
     "metadata": {},
     "output_type": "display_data"
    },
    {
     "name": "stderr",
     "output_type": "stream",
     "text": [
      "An error was encountered:\n",
      "Package already installed for current Spark context!\n",
      "Traceback (most recent call last):\n",
      "  File \"/usr/lib/spark/python/lib/pyspark.zip/pyspark/context.py\", line 1110, in install_pypi_package\n",
      "    raise ValueError(\"Package already installed for current Spark context!\")\n",
      "ValueError: Package already installed for current Spark context!\n",
      "\n"
     ]
    }
   ],
   "source": [
    "## version 4 ---------------\n",
    "sc.install_pypi_package(\"pandas==0.25.1\")"
   ]
  },
  {
   "cell_type": "code",
   "execution_count": 9,
   "id": "dd8dac16",
   "metadata": {},
   "outputs": [
    {
     "data": {
      "application/vnd.jupyter.widget-view+json": {
       "model_id": "85894bbae34146578e72f67c654f155a",
       "version_major": 2,
       "version_minor": 0
      },
      "text/plain": [
       "VBox()"
      ]
     },
     "metadata": {},
     "output_type": "display_data"
    },
    {
     "data": {
      "application/vnd.jupyter.widget-view+json": {
       "model_id": "",
       "version_major": 2,
       "version_minor": 0
      },
      "text/plain": [
       "FloatProgress(value=0.0, bar_style='info', description='Progress:', layout=Layout(height='25px', width='50%'),…"
      ]
     },
     "metadata": {},
     "output_type": "display_data"
    },
    {
     "name": "stdout",
     "output_type": "stream",
     "text": [
      "Execution time: 0.5073776850003924 s"
     ]
    }
   ],
   "source": [
    "from timeit import default_timer as t\n",
    "\n",
    "start = t()\n",
    "listings.filter(col(\"city\")==\"Fairhaven\").select('beds').toPandas().mean()\n",
    "\n",
    "print (\"Execution time:\", t()-start, \"s\")"
   ]
  },
  {
   "cell_type": "code",
   "execution_count": 21,
   "id": "51b83c53",
   "metadata": {},
   "outputs": [
    {
     "data": {
      "application/vnd.jupyter.widget-view+json": {
       "model_id": "880a4f309008407d8aaf5c090d98c1be",
       "version_major": 2,
       "version_minor": 0
      },
      "text/plain": [
       "VBox()"
      ]
     },
     "metadata": {},
     "output_type": "display_data"
    },
    {
     "data": {
      "application/vnd.jupyter.widget-view+json": {
       "model_id": "",
       "version_major": 2,
       "version_minor": 0
      },
      "text/plain": [
       "FloatProgress(value=0.0, bar_style='info', description='Progress:', layout=Layout(height='25px', width='50%'),…"
      ]
     },
     "metadata": {},
     "output_type": "display_data"
    }
   ],
   "source": [
    "# Q11\n",
    "\n",
    "from pyspark.sql.functions import mean\n",
    "price_mean = listings.select(mean(\"price\"))        # this is a (remote) data frame\n",
    "price_mean = price_mean.first()                    # this is a (local) row\n",
    "price_mean = price_mean[0]                         # this is a (local) number"
   ]
  },
  {
   "cell_type": "code",
   "execution_count": 22,
   "id": "ab7a39a7",
   "metadata": {},
   "outputs": [
    {
     "data": {
      "application/vnd.jupyter.widget-view+json": {
       "model_id": "206706abc3354b3ebc01ee5e68e83de8",
       "version_major": 2,
       "version_minor": 0
      },
      "text/plain": [
       "VBox()"
      ]
     },
     "metadata": {},
     "output_type": "display_data"
    },
    {
     "data": {
      "application/vnd.jupyter.widget-view+json": {
       "model_id": "",
       "version_major": 2,
       "version_minor": 0
      },
      "text/plain": [
       "FloatProgress(value=0.0, bar_style='info', description='Progress:', layout=Layout(height='25px', width='50%'),…"
      ]
     },
     "metadata": {},
     "output_type": "display_data"
    },
    {
     "name": "stdout",
     "output_type": "stream",
     "text": [
      "98.31562577178319"
     ]
    }
   ],
   "source": [
    "price_mean"
   ]
  },
  {
   "cell_type": "code",
   "execution_count": 76,
   "id": "25e3f359",
   "metadata": {},
   "outputs": [
    {
     "data": {
      "application/vnd.jupyter.widget-view+json": {
       "model_id": "02b5b05133fe4e888aa65c096e047cf1",
       "version_major": 2,
       "version_minor": 0
      },
      "text/plain": [
       "VBox()"
      ]
     },
     "metadata": {},
     "output_type": "display_data"
    },
    {
     "data": {
      "application/vnd.jupyter.widget-view+json": {
       "model_id": "",
       "version_major": 2,
       "version_minor": 0
      },
      "text/plain": [
       "FloatProgress(value=0.0, bar_style='info', description='Progress:', layout=Layout(height='25px', width='50%'),…"
      ]
     },
     "metadata": {},
     "output_type": "display_data"
    }
   ],
   "source": [
    "from pyspark.sql.functions import sum\n",
    "tss = listings.withColumn(\"squared_error\", (col(\"price\")-price_mean)**2).select(sum(\"squared_error\"))\n",
    "tss = tss.first()\n",
    "tss = tss[0]"
   ]
  },
  {
   "cell_type": "code",
   "execution_count": 77,
   "id": "77259f55",
   "metadata": {},
   "outputs": [
    {
     "data": {
      "application/vnd.jupyter.widget-view+json": {
       "model_id": "a13adf4c4ca1423fac8eb8cbb3fb1dd0",
       "version_major": 2,
       "version_minor": 0
      },
      "text/plain": [
       "VBox()"
      ]
     },
     "metadata": {},
     "output_type": "display_data"
    },
    {
     "data": {
      "application/vnd.jupyter.widget-view+json": {
       "model_id": "",
       "version_major": 2,
       "version_minor": 0
      },
      "text/plain": [
       "FloatProgress(value=0.0, bar_style='info', description='Progress:', layout=Layout(height='25px', width='50%'),…"
      ]
     },
     "metadata": {},
     "output_type": "display_data"
    },
    {
     "name": "stdout",
     "output_type": "stream",
     "text": [
      "1628008129070.3398"
     ]
    }
   ],
   "source": [
    "tss"
   ]
  },
  {
   "cell_type": "code",
   "execution_count": 65,
   "id": "710d58ba",
   "metadata": {},
   "outputs": [
    {
     "data": {
      "application/vnd.jupyter.widget-view+json": {
       "model_id": "8224891762144db2a08be3d5bc73b34b",
       "version_major": 2,
       "version_minor": 0
      },
      "text/plain": [
       "VBox()"
      ]
     },
     "metadata": {},
     "output_type": "display_data"
    },
    {
     "data": {
      "application/vnd.jupyter.widget-view+json": {
       "model_id": "",
       "version_major": 2,
       "version_minor": 0
      },
      "text/plain": [
       "FloatProgress(value=0.0, bar_style='info', description='Progress:', layout=Layout(height='25px', width='50%'),…"
      ]
     },
     "metadata": {},
     "output_type": "display_data"
    }
   ],
   "source": [
    "# Q12\n",
    "\n",
    "from pyspark.ml.feature import VectorAssembler\n",
    "from pyspark.ml.regression import LinearRegression\n",
    "\n",
    "vectorizer = VectorAssembler( # copy-pasted from previous section...\n",
    "    inputCols     = [\"beds\", \"bedrooms\"], # ... but without price\n",
    "    outputCol     = \"features\",\n",
    "    handleInvalid = 'skip'\n",
    ")\n",
    "\n",
    "listings_vec = vectorizer.transform(listings)\n",
    "\n",
    "regressor = LinearRegression(featuresCol=\"features\", labelCol=\"price\")\n",
    "model     = regressor.fit(listings_vec)"
   ]
  },
  {
   "cell_type": "code",
   "execution_count": 66,
   "id": "b91abc70",
   "metadata": {},
   "outputs": [
    {
     "data": {
      "application/vnd.jupyter.widget-view+json": {
       "model_id": "d308305236764a2d9034dcb7ac5b98ba",
       "version_major": 2,
       "version_minor": 0
      },
      "text/plain": [
       "VBox()"
      ]
     },
     "metadata": {},
     "output_type": "display_data"
    },
    {
     "data": {
      "application/vnd.jupyter.widget-view+json": {
       "model_id": "",
       "version_major": 2,
       "version_minor": 0
      },
      "text/plain": [
       "FloatProgress(value=0.0, bar_style='info', description='Progress:', layout=Layout(height='25px', width='50%'),…"
      ]
     },
     "metadata": {},
     "output_type": "display_data"
    },
    {
     "name": "stdout",
     "output_type": "stream",
     "text": [
      "DenseVector([3.7859, -1.5734])"
     ]
    }
   ],
   "source": [
    "model.coefficients"
   ]
  },
  {
   "cell_type": "code",
   "execution_count": 67,
   "id": "be676426",
   "metadata": {},
   "outputs": [
    {
     "data": {
      "application/vnd.jupyter.widget-view+json": {
       "model_id": "8b59a0afbe744663b331ff1169dc99b1",
       "version_major": 2,
       "version_minor": 0
      },
      "text/plain": [
       "VBox()"
      ]
     },
     "metadata": {},
     "output_type": "display_data"
    },
    {
     "data": {
      "application/vnd.jupyter.widget-view+json": {
       "model_id": "",
       "version_major": 2,
       "version_minor": 0
      },
      "text/plain": [
       "FloatProgress(value=0.0, bar_style='info', description='Progress:', layout=Layout(height='25px', width='50%'),…"
      ]
     },
     "metadata": {},
     "output_type": "display_data"
    },
    {
     "name": "stdout",
     "output_type": "stream",
     "text": [
      "263.1685687718435"
     ]
    }
   ],
   "source": [
    "model.intercept"
   ]
  },
  {
   "cell_type": "code",
   "execution_count": 41,
   "id": "5be531b7",
   "metadata": {},
   "outputs": [
    {
     "data": {
      "application/vnd.jupyter.widget-view+json": {
       "model_id": "076696c78b05487495239bc7877cf53e",
       "version_major": 2,
       "version_minor": 0
      },
      "text/plain": [
       "VBox()"
      ]
     },
     "metadata": {},
     "output_type": "display_data"
    },
    {
     "data": {
      "application/vnd.jupyter.widget-view+json": {
       "model_id": "",
       "version_major": 2,
       "version_minor": 0
      },
      "text/plain": [
       "FloatProgress(value=0.0, bar_style='info', description='Progress:', layout=Layout(height='25px', width='50%'),…"
      ]
     },
     "metadata": {},
     "output_type": "display_data"
    },
    {
     "name": "stdout",
     "output_type": "stream",
     "text": [
      "+------+----+--------+-----+-------+----------+------------------+---------+\n",
      "|    id|beds|bedrooms|price|   city|      time|     squared_error| features|\n",
      "+------+----+--------+-----+-------+----------+------------------+---------+\n",
      "| 44054| 4.0|       3|833.0|Beijing|2020-05-04| 539761.1297351066|[4.0,3.0]|\n",
      "|114384| 1.0|       1|600.0|Beijing|2020-05-04| 251687.2113447575|[1.0,1.0]|\n",
      "|114465| 1.0|       1|600.0|Beijing|2020-05-04| 251687.2113447575|[1.0,1.0]|\n",
      "|128496| 2.0|       1|410.0|Beijing|2020-04-30|  97147.1491380351|[2.0,1.0]|\n",
      "|161902| 1.0|       1|551.0|Beijing|2020-05-05|204923.14267039226|[1.0,1.0]|\n",
      "|162144| 2.0|       1|600.0|Beijing|2020-05-06| 251687.2113447575|[2.0,1.0]|\n",
      "|279078| 1.0|       1|403.0|Beijing|2020-05-02| 92832.56789884008|[1.0,1.0]|\n",
      "|282825| 3.0|       2|742.0|Beijing|2020-05-05| 414329.5736255711|[3.0,2.0]|\n",
      "|287026| 1.0|       1|417.0|Beijing|2020-05-01|101559.73037723015|[1.0,1.0]|\n",
      "|317195| 1.0|       1|551.0|Beijing|2020-05-04|204923.14267039226|[1.0,1.0]|\n",
      "|322292| 1.0|       1|438.0|Beijing|2020-05-01|115385.47409481526|[1.0,1.0]|\n",
      "|445306| 2.0|       2|953.0|Beijing|2020-05-06| 730485.3795498785|[2.0,2.0]|\n",
      "|456641| 1.0|       1|439.0|Beijing|2020-04-30|116065.84284327169|[1.0,1.0]|\n",
      "|458561| 1.0|       1|480.0|Beijing|2020-05-01|145682.96152998548|[1.0,1.0]|\n",
      "|491280| 1.0|       1|551.0|Beijing|2020-05-04|204923.14267039226|[1.0,1.0]|\n",
      "|498126| 1.0|       1|418.0|Beijing|2020-04-30|102198.09912568658|[1.0,1.0]|\n",
      "|554123| 1.0|       1|417.0|Beijing|2020-05-02|101559.73037723015|[1.0,1.0]|\n",
      "|627240| 1.0|       1|417.0|Beijing|2020-05-02|101559.73037723015|[1.0,1.0]|\n",
      "|685820| 1.0|       1|431.0|Beijing|2020-05-02|110678.89285562022|[1.0,1.0]|\n",
      "|732687| 1.0|       1|318.0|Beijing|2020-05-04|48261.224280043214|[1.0,1.0]|\n",
      "+------+----+--------+-----+-------+----------+------------------+---------+\n",
      "only showing top 20 rows"
     ]
    }
   ],
   "source": [
    "listings_vec.show()"
   ]
  },
  {
   "cell_type": "code",
   "execution_count": 72,
   "id": "86845199",
   "metadata": {},
   "outputs": [
    {
     "data": {
      "application/vnd.jupyter.widget-view+json": {
       "model_id": "4f35a4ebd218467ea91ab2e19192f357",
       "version_major": 2,
       "version_minor": 0
      },
      "text/plain": [
       "VBox()"
      ]
     },
     "metadata": {},
     "output_type": "display_data"
    },
    {
     "data": {
      "application/vnd.jupyter.widget-view+json": {
       "model_id": "",
       "version_major": 2,
       "version_minor": 0
      },
      "text/plain": [
       "FloatProgress(value=0.0, bar_style='info', description='Progress:', layout=Layout(height='25px', width='50%'),…"
      ]
     },
     "metadata": {},
     "output_type": "display_data"
    },
    {
     "name": "stdout",
     "output_type": "stream",
     "text": [
      "['__class__', '__del__', '__delattr__', '__dict__', '__dir__', '__doc__', '__eq__', '__format__', '__ge__', '__getattribute__', '__gt__', '__hash__', '__init__', '__init_subclass__', '__le__', '__lt__', '__module__', '__ne__', '__new__', '__reduce__', '__reduce_ex__', '__repr__', '__setattr__', '__sizeof__', '__str__', '__subclasshook__', '__weakref__', '_call_java', '_create_from_java_class', '_java_obj', '_new_java_array', '_new_java_obj', 'coefficientStandardErrors', 'degreesOfFreedom', 'devianceResiduals', 'explainedVariance', 'featuresCol', 'labelCol', 'meanAbsoluteError', 'meanSquaredError', 'numInstances', 'objectiveHistory', 'pValues', 'predictionCol', 'predictions', 'r2', 'r2adj', 'residuals', 'rootMeanSquaredError', 'tValues', 'totalIterations']"
     ]
    }
   ],
   "source": [
    "# Q13\n",
    "\n",
    "dir(model)\n",
    "dir(model.summary)"
   ]
  },
  {
   "cell_type": "code",
   "execution_count": 73,
   "id": "c705e2b7",
   "metadata": {},
   "outputs": [
    {
     "data": {
      "application/vnd.jupyter.widget-view+json": {
       "model_id": "9e01a434e7d64f6fab6877403aee3567",
       "version_major": 2,
       "version_minor": 0
      },
      "text/plain": [
       "VBox()"
      ]
     },
     "metadata": {},
     "output_type": "display_data"
    },
    {
     "data": {
      "application/vnd.jupyter.widget-view+json": {
       "model_id": "",
       "version_major": 2,
       "version_minor": 0
      },
      "text/plain": [
       "FloatProgress(value=0.0, bar_style='info', description='Progress:', layout=Layout(height='25px', width='50%'),…"
      ]
     },
     "metadata": {},
     "output_type": "display_data"
    },
    {
     "name": "stdout",
     "output_type": "stream",
     "text": [
      "0.0021439426844965803"
     ]
    }
   ],
   "source": [
    "model.summary.r2"
   ]
  },
  {
   "cell_type": "code",
   "execution_count": 74,
   "id": "88dc02d3",
   "metadata": {},
   "outputs": [
    {
     "data": {
      "application/vnd.jupyter.widget-view+json": {
       "model_id": "827757bdd78c477b865f17c8153185f2",
       "version_major": 2,
       "version_minor": 0
      },
      "text/plain": [
       "VBox()"
      ]
     },
     "metadata": {},
     "output_type": "display_data"
    },
    {
     "data": {
      "application/vnd.jupyter.widget-view+json": {
       "model_id": "",
       "version_major": 2,
       "version_minor": 0
      },
      "text/plain": [
       "FloatProgress(value=0.0, bar_style='info', description='Progress:', layout=Layout(height='25px', width='50%'),…"
      ]
     },
     "metadata": {},
     "output_type": "display_data"
    },
    {
     "name": "stdout",
     "output_type": "stream",
     "text": [
      "3515.8229340801427"
     ]
    }
   ],
   "source": [
    "# model.summary.explainedVariance\n",
    "# je voulais recalculer le R2, mais je passe"
   ]
  },
  {
   "cell_type": "code",
   "execution_count": 91,
   "id": "1fee836a",
   "metadata": {},
   "outputs": [
    {
     "data": {
      "application/vnd.jupyter.widget-view+json": {
       "model_id": "c56cc4d916ed4a8d8ddcea0728207d38",
       "version_major": 2,
       "version_minor": 0
      },
      "text/plain": [
       "VBox()"
      ]
     },
     "metadata": {},
     "output_type": "display_data"
    },
    {
     "data": {
      "application/vnd.jupyter.widget-view+json": {
       "model_id": "",
       "version_major": 2,
       "version_minor": 0
      },
      "text/plain": [
       "FloatProgress(value=0.0, bar_style='info', description='Progress:', layout=Layout(height='25px', width='50%'),…"
      ]
     },
     "metadata": {},
     "output_type": "display_data"
    }
   ],
   "source": [
    "# Q14\n",
    "\n",
    "from pyspark.ml.feature import VectorAssembler\n",
    "from pyspark.ml.regression import LinearRegression\n",
    "from pyspark.ml import Pipeline\n",
    "from pyspark.sql.functions import year\n",
    "\n",
    "vectorizer = VectorAssembler(\n",
    "    inputCols     = [\"beds\", \"bedrooms\"],\n",
    "    outputCol     = \"features\",\n",
    "    handleInvalid = 'skip'\n",
    ")\n",
    "regressor = LinearRegression(featuresCol=\"features\", labelCol=\"price\")\n",
    "pipeline  = Pipeline(stages = [vectorizer, regressor])\n",
    "\n",
    "model_2021 = pipeline.fit(listings.filter(year(listings.time)==2021))\n",
    "model_2020 = pipeline.fit(listings.filter(year(listings.time)==2020))"
   ]
  },
  {
   "cell_type": "code",
   "execution_count": 90,
   "id": "720ba384",
   "metadata": {},
   "outputs": [
    {
     "data": {
      "application/vnd.jupyter.widget-view+json": {
       "model_id": "e1d7e75a7c8446b2a8bfb647c002d519",
       "version_major": 2,
       "version_minor": 0
      },
      "text/plain": [
       "VBox()"
      ]
     },
     "metadata": {},
     "output_type": "display_data"
    },
    {
     "data": {
      "application/vnd.jupyter.widget-view+json": {
       "model_id": "",
       "version_major": 2,
       "version_minor": 0
      },
      "text/plain": [
       "FloatProgress(value=0.0, bar_style='info', description='Progress:', layout=Layout(height='25px', width='50%'),…"
      ]
     },
     "metadata": {},
     "output_type": "display_data"
    },
    {
     "name": "stdout",
     "output_type": "stream",
     "text": [
      "+----------+-----+\n",
      "|      time|count|\n",
      "+----------+-----+\n",
      "|2021-04-04| 2737|\n",
      "|2021-03-24| 2221|\n",
      "|2021-02-02| 5586|\n",
      "|2020-06-17| 4086|\n",
      "|2021-01-24| 2727|\n",
      "|2020-06-18| 5190|\n",
      "|2020-07-19| 6183|\n",
      "|2020-10-16| 1782|\n",
      "|2021-02-10| 8620|\n",
      "|2020-12-31| 1421|\n",
      "|2020-10-12| 2542|\n",
      "|2020-12-19|  434|\n",
      "|2020-06-24|  743|\n",
      "|2020-06-20|19977|\n",
      "|2020-06-22| 6773|\n",
      "|2020-11-08| 4982|\n",
      "|2021-03-29| 2553|\n",
      "|2021-02-27|11149|\n",
      "|2020-11-12| 3584|\n",
      "|2020-06-13| 4084|\n",
      "+----------+-----+\n",
      "only showing top 20 rows"
     ]
    }
   ],
   "source": [
    "listings.groupBy(\"time\").count().show()"
   ]
  },
  {
   "cell_type": "code",
   "execution_count": 95,
   "id": "93aac114",
   "metadata": {},
   "outputs": [
    {
     "data": {
      "application/vnd.jupyter.widget-view+json": {
       "model_id": "2eac596a038441008b53724fc79521c0",
       "version_major": 2,
       "version_minor": 0
      },
      "text/plain": [
       "VBox()"
      ]
     },
     "metadata": {},
     "output_type": "display_data"
    },
    {
     "data": {
      "application/vnd.jupyter.widget-view+json": {
       "model_id": "",
       "version_major": 2,
       "version_minor": 0
      },
      "text/plain": [
       "FloatProgress(value=0.0, bar_style='info', description='Progress:', layout=Layout(height='25px', width='50%'),…"
      ]
     },
     "metadata": {},
     "output_type": "display_data"
    },
    {
     "name": "stdout",
     "output_type": "stream",
     "text": [
      "DenseVector([5.4629, -2.2316])"
     ]
    }
   ],
   "source": [
    "model_2020.stages[1].coefficients"
   ]
  },
  {
   "cell_type": "code",
   "execution_count": 96,
   "id": "7b359f26",
   "metadata": {},
   "outputs": [
    {
     "data": {
      "application/vnd.jupyter.widget-view+json": {
       "model_id": "8d0fbfbbce5e4fb0af9fcf658cae2631",
       "version_major": 2,
       "version_minor": 0
      },
      "text/plain": [
       "VBox()"
      ]
     },
     "metadata": {},
     "output_type": "display_data"
    },
    {
     "data": {
      "application/vnd.jupyter.widget-view+json": {
       "model_id": "",
       "version_major": 2,
       "version_minor": 0
      },
      "text/plain": [
       "FloatProgress(value=0.0, bar_style='info', description='Progress:', layout=Layout(height='25px', width='50%'),…"
      ]
     },
     "metadata": {},
     "output_type": "display_data"
    },
    {
     "name": "stdout",
     "output_type": "stream",
     "text": [
      "DenseVector([0.0742, 0.0096])"
     ]
    }
   ],
   "source": [
    "model_2021.stages[1].coefficients"
   ]
  },
  {
   "cell_type": "code",
   "execution_count": 98,
   "id": "812d1ab5",
   "metadata": {},
   "outputs": [
    {
     "data": {
      "application/vnd.jupyter.widget-view+json": {
       "model_id": "72961e4a7c884c71abe11a2023fbbbb8",
       "version_major": 2,
       "version_minor": 0
      },
      "text/plain": [
       "VBox()"
      ]
     },
     "metadata": {},
     "output_type": "display_data"
    },
    {
     "data": {
      "application/vnd.jupyter.widget-view+json": {
       "model_id": "",
       "version_major": 2,
       "version_minor": 0
      },
      "text/plain": [
       "FloatProgress(value=0.0, bar_style='info', description='Progress:', layout=Layout(height='25px', width='50%'),…"
      ]
     },
     "metadata": {},
     "output_type": "display_data"
    },
    {
     "name": "stdout",
     "output_type": "stream",
     "text": [
      "+-----+----+--------+-----+----+----------+\n",
      "|   id|beds|bedrooms|price|city|      time|\n",
      "+-----+----+--------+-----+----+----------+\n",
      "|37125|   0|       1| 80.0| 730|2021-03-30|\n",
      "|39356|   4|      37| 97.0|  28|2021-04-03|\n",
      "|42127|   0|       1|100.0| 730|2021-03-30|\n",
      "|43467|   0|       2|100.0| 730|2021-04-03|\n",
      "|43474|   0|       1|100.0| 730|2021-04-03|\n",
      "|45663|   0|       3|100.0|  30|2021-04-03|\n",
      "|46483|   0|       1|100.0| 730|2021-04-01|\n",
      "|50327|   0|       2|100.0| 730|2021-04-03|\n",
      "|53243|   2|      80| 98.0| 365|2021-04-02|\n",
      "|54499|   8|     105| 97.0|  90|2021-03-30|\n",
      "|60925|   0|      73| 99.0|1125|2021-04-03|\n",
      "|61987|   2|      43| 96.0| 365|2021-04-02|\n",
      "|61989|   1|       9| 90.0| 730|2021-04-03|\n",
      "|61991|   0|       3| 93.0| 365|2021-04-04|\n",
      "|61993|   4|      14| 89.0| 730|2021-04-02|\n",
      "|63364|   0|       3| 93.0| 365|2021-04-02|\n",
      "|63942|   0|       5| 84.0| 365|2021-04-02|\n",
      "|63957|   1|       8| 95.0| 365|2021-03-30|\n",
      "|66883|   1|       3|100.0|1125|2021-04-04|\n",
      "|82093|   0|      30| 98.0|  30|2021-04-04|\n",
      "+-----+----+--------+-----+----+----------+\n",
      "only showing top 20 rows"
     ]
    }
   ],
   "source": [
    "listings.filter(year(listings.time)==2021).show()"
   ]
  },
  {
   "cell_type": "code",
   "execution_count": 99,
   "id": "c247f9d4",
   "metadata": {},
   "outputs": [
    {
     "data": {
      "application/vnd.jupyter.widget-view+json": {
       "model_id": "de80e701b84741daa98ae98dcaf88886",
       "version_major": 2,
       "version_minor": 0
      },
      "text/plain": [
       "VBox()"
      ]
     },
     "metadata": {},
     "output_type": "display_data"
    },
    {
     "data": {
      "application/vnd.jupyter.widget-view+json": {
       "model_id": "",
       "version_major": 2,
       "version_minor": 0
      },
      "text/plain": [
       "FloatProgress(value=0.0, bar_style='info', description='Progress:', layout=Layout(height='25px', width='50%'),…"
      ]
     },
     "metadata": {},
     "output_type": "display_data"
    },
    {
     "name": "stdout",
     "output_type": "stream",
     "text": [
      "92.84026065519177"
     ]
    }
   ],
   "source": [
    "model_2021.stages[1].intercept"
   ]
  },
  {
   "cell_type": "code",
   "execution_count": 100,
   "id": "0354c6ce",
   "metadata": {},
   "outputs": [
    {
     "data": {
      "application/vnd.jupyter.widget-view+json": {
       "model_id": "48ab6b4a2f4b4d54b2531ba0470c177e",
       "version_major": 2,
       "version_minor": 0
      },
      "text/plain": [
       "VBox()"
      ]
     },
     "metadata": {},
     "output_type": "display_data"
    },
    {
     "data": {
      "application/vnd.jupyter.widget-view+json": {
       "model_id": "",
       "version_major": 2,
       "version_minor": 0
      },
      "text/plain": [
       "FloatProgress(value=0.0, bar_style='info', description='Progress:', layout=Layout(height='25px', width='50%'),…"
      ]
     },
     "metadata": {},
     "output_type": "display_data"
    },
    {
     "name": "stdout",
     "output_type": "stream",
     "text": [
      "325.99482824815686"
     ]
    }
   ],
   "source": [
    "model_2020.stages[1].intercept"
   ]
  },
  {
   "cell_type": "code",
   "execution_count": 107,
   "id": "8dc06aeb",
   "metadata": {},
   "outputs": [
    {
     "data": {
      "application/vnd.jupyter.widget-view+json": {
       "model_id": "78815ec0ad0a49dfa3310a2a98456d22",
       "version_major": 2,
       "version_minor": 0
      },
      "text/plain": [
       "VBox()"
      ]
     },
     "metadata": {},
     "output_type": "display_data"
    },
    {
     "data": {
      "application/vnd.jupyter.widget-view+json": {
       "model_id": "",
       "version_major": 2,
       "version_minor": 0
      },
      "text/plain": [
       "FloatProgress(value=0.0, bar_style='info', description='Progress:', layout=Layout(height='25px', width='50%'),…"
      ]
     },
     "metadata": {},
     "output_type": "display_data"
    },
    {
     "name": "stdout",
     "output_type": "stream",
     "text": [
      "+----------+-----------------+\n",
      "|year(time)|       avg(price)|\n",
      "+----------+-----------------+\n",
      "|      2020|315.8997442589258|\n",
      "|      2021| 93.3883378470451|\n",
      "+----------+-----------------+"
     ]
    }
   ],
   "source": [
    "listings.groupBy(year(\"time\")).agg(mean(\"price\")).show()"
   ]
  },
  {
   "cell_type": "code",
   "execution_count": null,
   "id": "8fe6e9ee",
   "metadata": {},
   "outputs": [],
   "source": []
  }
 ],
 "metadata": {
  "kernelspec": {
   "display_name": "PySpark",
   "language": "",
   "name": "pysparkkernel"
  },
  "language_info": {
   "codemirror_mode": {
    "name": "python",
    "version": 3
   },
   "mimetype": "text/x-python",
   "name": "pyspark",
   "pygments_lexer": "python3"
  }
 },
 "nbformat": 4,
 "nbformat_minor": 5
}
