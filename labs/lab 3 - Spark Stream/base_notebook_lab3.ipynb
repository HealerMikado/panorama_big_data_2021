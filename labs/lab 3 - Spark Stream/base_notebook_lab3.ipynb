{
 "cells": [
  {
   "cell_type": "markdown",
   "id": "7d1fe06c-1999-475e-bbbd-ab08ab0a9ae4",
   "metadata": {},
   "source": [
    "# Tutorial 3 - Stream processing with Spark\n",
    "\n",
    "**DO NOT FORGET TO TURN YOUR CLUSTER OFF A THE END OF THIS TUTORIAL!**\n",
    "\n",
    "## 1. 🔔Outline\n",
    "\n",
    "This tutorial will teach you the basic of **stream processing with Spark**. As soon as an application compute something with business value  (for instance customer activity), and new inputs arrive continuously, companies will want to compute this result continuously too. Spark makes possible to process stream with the **Structured Streaming API**. This lab will teach you the basics of this Spark's API. Because the Structured Streaming API is based on the DataFrame API most syntaxes of tutorial 1 are still relevant.\n",
    "\n",
    "## ⛅​ 2. Spark cluster creation in AWS\n",
    "\n",
    "First: **DO NOT FORGET TO TURN YOUR CLUSTER OFF A THE END OF THIS TUTORIAL!**\n",
    "\n",
    "Instructions are at the beginning of lab 2. Or you can just clone you cluster ;)\n",
    "\n",
    "## ⚙ 3. Notebook configuration\n",
    "\n",
    "Because Spark Streaming need to write some data on the underlying HDFS cluster, we need to configure our cluster. The cluster configuration will be a little bit more complexe than the previous ones.\n",
    "1. You need to select a SSH key to your cluster\n",
    "2. Once you cluster is running, go to the EC2 dashboard like in lab 0\n",
    "3. Click on the instance with the security groups : `ElasticMapReduceEditors-Livy,ElasticMapReduce-master`\n",
    "4. Go to the security tab\n",
    "5. Click on the security group `ElasticMapReduce-master`\n",
    "6. Clink on edit `inbound rules` (`Modifier les règles entrantes` en français)\n",
    "7. Add a rule SSH, to all IPv4\n",
    "8. Save your rules\n",
    "9. Go bask to the EC2 instance with the security group `ElasticMapReduce-master`\n",
    "10. Click on `Connect` ( `Se connecter` en français)\n",
    "11. Again clik on `Connect`\n",
    "12. In the cloud shell copy/paste : `sudo usermod -a -G hdfsadmingroup livy`. It will give to the the user \"livy\" admin right."
   ]
  },
  {
   "cell_type": "code",
   "execution_count": null,
   "id": "bf057acf-8da3-4f6d-bd3e-72b604157e6e",
   "metadata": {
    "tags": [],
    "vscode": {
     "languageId": "json"
    }
   },
   "outputs": [],
   "source": [
    "# Configuraion\n",
    "# The user pay the data transfer\n",
    "\n",
    "spark._jsc.hadoopConfiguration().set(\"fs.s3.useRequesterPaysHeader\",\"true\")\n",
    "\n",
    "# Set the number of shuffle partitions\n",
    "spark.conf.set(\"spark.sql.shuffle.partitions\", 5)\n",
    "# Set the worker memory\n",
    "spark.set('spark.driver.memory', \"1000M\")\n",
    "\n",
    "# Import all the needed library\n",
    "from time import sleep\n",
    "from pyspark.sql.functions import from_json, window, col, expr, size, explode, avg, min, max\n",
    "from pyspark.sql.types import StructType,StructField, StringType, IntegerType, ArrayType, TimestampType, BooleanType, LongType, DoubleType"
   ]
  },
  {
   "cell_type": "markdown",
   "id": "70c204a4-067d-47e6-a93c-58e2d47ff7c3",
   "metadata": {},
   "source": [
    "**Explanation:**\n",
    "\n",
    "   - `spark._jsc.hadoopConfiguration().set(\"fs.s3.useRequesterPaysHeader\",\"true\")` : likes in lab2, you will be charged for the data transfer. without this configuration you can't access the data. \n",
    "\n",
    "- `spark.conf.set(\"spark.sql.shuffle.partitions\", 5)` : set the number of partitions for the shuffle phase. A partition is in Spark the name of a bloc of data. By default Spark use 200 partitions to shuffle data. But in this lab, our mini-batch will be small, and to many partitions will lead to performance issues.\n",
    "\n",
    "  ````\n",
    "  spark.conf.set(\"spark.sql.shuffle.partitions\", 5)\n",
    "  ````\n",
    "\n",
    "  > :thinking: The shuffle dispatches data according to their key between a *map* and a *reduce* phase. For instance, if you are counting how many records have each `g` group, the *map* phase involve counting each group member in each Spark partition : `{g1:5, g2:10, g4:1, g5:3}` for one partition, `{g1:1, g2:2, g3:23, g5:12}` for another. The *shuffle* phase dispatch those first results  and group them by key in the same partition, one partition gets `{g1:5, g1:1, g2:10, g2:2}`, the other gets : `{g4:1, g5:3, g3:23, g5:12}` Then each *reduce* can be done efficiently. \n",
    "\n",
    "- `spark.set('spark.driver.memory', \"1000M\")` : set the worker memory to 1Gb of Ram.\n",
    "\n",
    "- :package: Import all needed library\n",
    "\n",
    "  ````python\n",
    "  from time import sleep\n",
    "  from pyspark.sql.functions import from_json, window, col, expr\n",
    "  from pyspark.sql.types import StructType,StructField, StringType, IntegerType, ArrayType, TimestampType, BooleanType, LongType, DoubleType\n",
    "  ````\n",
    "\n",
    "## 4.🚿 Stream processing \n",
    "\n",
    "Stream processing is the act to process data in real-time. When a new record is available, it is processed. There is no real beginning nor end to the process, and there is no \"result\". The result is updated in real time, hence multiple versions of the results exist. For instance, you want to count how many tweet about cat are posted in twitter every hour. Until the end of an hour, you do not have you final result. And even at this moment, your result can change. Maybe some technical problems created some latency and you will get some tweets later. And  you will need to update your previous count.\n",
    "\n",
    "Some commons use cases of stream processing are :\n",
    "\n",
    "- **Notifications and alerting :**  real-time bank fraud detection ; electric grid monitoring with smart meters ; medical monitoring with smart meters, etc.\n",
    "- **Real time reporting:**  traffic in a website updated every minute; impact of a publicity campaign  ; stock option portfolio, etc.\n",
    "- **Incremental ELT (extract transform load):**  new unstructured data are always available and they need to be processed (cleaned, filtered, put in a structured format)  before their integration in the company IT system.\n",
    "- **Online machine learning :** new data are always available and used by a ML algorithm to improve its performance dynamically.\n",
    "\n",
    "Unfortunately, stream processing has some issues. First because there is no end to the process, you cannot keep all the data in memory. Second, process a chain of event can be complex. How do you raise an alert when you receive the value 5, 6 and 3 consecutively ? Don't forget you are in a distributed environment, and there is latency. Hence, the received order can be different from the emitted order.\n",
    "\n",
    "## 5. ✨ Spark and stream processing :shower:\n",
    "\n",
    "Stream processing was gradually incorporated in Spark. In 2012 Spark Streaming and it's DStreams API  was added to Spark (it was before an external project). This made it possible use high-level operator like `map` and `reduce` to process stream of data. Because of its implementation, this API has some limitations, and its syntax was different from the DataFrame one. Thus, in 2016 a new API was added, the Structured Streaming API. This API is directly build built on DataFrame, unlike DStreams. **This has an advantage, you can process your stream like static data**. Of course there are some limitations, but the core syntaxes is the same. You will chain transformations, because each transformation takes a DataFrame as input and produces a DataFrame as output. The big change is there is no action at the end, but an **[output sink](#2.2 How to output a stream ?)**.\n",
    "\n",
    "![data stream](https://databricks.com/wp-content/uploads/2016/07/image01-1.png)\n",
    "\n",
    "*Figure 1 : data stream representation (source [structured streaming programming guide](https://spark.apache.org/docs/latest/structured-streaming-programming-guide.html#basic-concepts))*\n",
    "\n",
    "Spark offer two ways to process stream, one **record at a time**, or processing **micro batching** (processing a small amount of line at once). \n",
    "\n",
    "- **one record at a time**  every time a new record is available it's processed. This has a big advantage, it achieves **very low latency **. But there is a drawback, the system can not handle too much data at the same time (low throughput). It's the default mode. Because in this lab, you will process files with record, even if you will process one file at a time, you will process mini batch of records\n",
    "- as for **micro batching** it process new records every `t` seconds. Hence records are not process really in \"real-time\", but periodically, **the latency will be higher, and so the throughput**. Unless you really need low latency, make it you first choice option.\n",
    "\n",
    "> 🧐 To get the best ratio latency/throughput, a good practice is to decrease the micro-batch size until the mini-batch throughput is the same as the input throughput. Then increase the size to have some margin\n",
    "\n",
    "![](https://github.com/HealerMikado/panorama_big_data_2021/blob/main/labs/lab%203%20-%20Spark%20Stream/img/spart_latency_requirement.png?raw=true)\n",
    "\n",
    "*Figure 2 : which Spark solution suit best giving latency requirement (source : [Learning Spark, O'Reilly](https://pages.databricks.com/rs/094-YMS-629/images/LearningSpark2.0.pdf))*\n",
    "\n",
    "> To understand why processing one record at a time has lower latency and throughput than batch processing, imagine a restaurant. Every time a client order something the chef cooks its order independently of the other current orders. So if two clients order pizza, the chief makes two small doughs, and cook them individually. If clients there is only a few clients, the chief can finish each order before a new client comes. The latency is the lowest possible when the chief is idle when a client come. Know imagine a restaurant were the chief process the orders by batch. He waits some minutes to gather all the orders than he mutualizes the cooking. If there are 5 pizza orders, he only does one big dough, divides it in five, add the toppings then cook all five at once. The latency is higher because the chief waits before cooking, but so the throughput because he can cook multiple things at once.\n",
    "\n",
    "## 6. 🥉 The basics of Spark's Structured Streaming \n",
    "\n",
    "### 6.1. 📚 The different sources for stream processing in Spark \n",
    "\n",
    "In lab 2 you discovered Spark DataFrame, in this lab you will learn about [Structured Streaming](https://spark.apache.org/docs/latest/structured-streaming-programming-guide.html). It's a stream processing framework built on the Spark SQL engine, and it uses the existing structured APIs in Spark. So one you define a way to read a stream, you will get a DataFrame. Like in lab2 ! **So except state otherwise, all transformations presented in lab2 are still relevant in this lab**.\n",
    "\n",
    " Spark Streaming supports several input source for reading in a streaming fashion :\n",
    "\n",
    "- [Apache Kafka](https://kafka.apache.org/) an open-source distributed event streaming platform (not show in this lab)\n",
    "- Files on distributed file system like HDFS or S3 (Spark will continuously read new files in a directory)\n",
    "- A network socket : an end-point in a communication across a network (sort of very simple webservice). It's not recommend for *production* application, because a socket connection doesn't provide any  mechanism to check the consistency of data.\n",
    "\n",
    "Defining an input source is like loading a DataFrame but, you have to replace `spark.read` by `spark.readStream`. For instance, if I want to open a stream to a folder located in S3 you have to read every new files put in it, just write\n",
    "\n",
    "```python\n",
    "my_first_stream = spark\\\n",
    ".readStream\\\n",
    ".schema(schema_tweet)\\\n",
    ".json(\"s3://my-awesome-bucket/my-awesome-folder\")\n",
    "```\n",
    "\n",
    "The major difference with lab2, it is Spark cannot infer the schema of the stream. You have to pass it to Spark. There is two ways :\n",
    "\n",
    "- A reliable way : you define the schema by yourself and gave it to Spark\n",
    "- A quick way : you load one file of the folder in a DataFrame, extract the schema and use it. It works, but the schema can be incomplete. It's a better solution to create the schema by hand and use it. \n",
    "\n",
    "For Apache Kafka, or socket , it's a slightly more complex, *(not used today, it's jute for you personal knowledge)* :\n",
    "\n",
    "```python\n",
    "my_first_stream = spark\\\n",
    ".readStream\\\n",
    ".format(\"kafka\")\n",
    ".option(\"kafka.bootstrat.servers\", \"host1:port1, host2:port2 etc\")\n",
    ".option(\"subscribePattern\", \"topic name\")\n",
    ".load()\n",
    "```\n",
    "\n",
    "#### 6.1.1 🤨Why is a folder a relevant source in stream processing ? \n",
    "\n",
    "Previously, in lab 1, you loaded all the files in a folder stored in S3 with Spark. And it worked pretty well. But this folder was static, in other words, Its content didn't change. But in some cases, new data are constantly written into a folder. For instance, in this lab you will process a stream of tweets. A python script is running in a EC2 machine reading tweets from the Twitter's web service and writing them in a S3 buckets. Every 2 seconds or so, a new file is added to the bucket with 1000 tweets. If you use DataFrame like in lab 1, your process cannot proceed those new files. You should relaunch your process every time. But with Structured Streaming Spark will dynamically load new files.\n",
    "\n",
    "![](https://github.com/HealerMikado/panorama_big_data_2021/blob/main/labs/lab%203%20-%20Spark%20Stream/img/stream_pipeline_twitter.png?raw=true)\n",
    "\n",
    "*Figure 3 : Complete lab architecture to stream process tweets*\n",
    "\n",
    "> The remaining question is, why don't we connect Spark to the twitter webservice directly ? And the answer is : we can't. Spark cannot be connected to a webservice directly. You need a middle-man between Spark and a webservice. There are multiple solutions, but an easy and reliable one is to write tweet to s3 (because we use AWS services, if you use Microsoft Azure, Google Cloud  Platform or OVH cloud replace S3 by their storage service)."
   ]
  },
  {
   "cell_type": "markdown",
   "id": "2b25b5a1-be62-4b60-a457-09d544bd707f",
   "metadata": {},
   "source": [
    "### ✍Hand-on 1 : open a stream\n",
    "\n",
    "Like in lab 1, you will use tweets in this lab. The tweets are stored in jsonl file (*json line* every line of the file is a complete json). Here is an example. The schema changed a little, because this time tweets aren't pre-processed.\n",
    "\n",
    "````js\n",
    "{\n",
    "    \"data\": {\n",
    "        \"public_metrics\": {\n",
    "            \"retweet_count\": 0,\n",
    "            \"reply_count\": 0,\n",
    "            \"like_count\": 0,\n",
    "            \"quote_count\": 0\n",
    "        },\n",
    "        \"text\": \"Day 93. Tweeting every day until Colby cheez its come back #bringcolbyback @cheezit\",\n",
    "        \"possibly_sensitive\": false,\n",
    "        \"created_at\": \"2021-05-03T07:55:46.000Z\",\n",
    "        \"id\": \"1389126523853148162\",\n",
    "        \"entities\": {\n",
    "            \"annotations\": [\n",
    "                {\n",
    "                    \"start\": 33,\n",
    "                    \"end\": 43,\n",
    "                    \"probability\": 0.5895,\n",
    "                    \"type\": \"Person\",\n",
    "                    \"normalized_text\": \"Colby cheez\"\n",
    "                }\n",
    "            ],\n",
    "            \"mentions\": [\n",
    "                {\n",
    "                    \"start\": 75,\n",
    "                    \"end\": 83,\n",
    "                    \"username\": \"cheezit\"\n",
    "                }\n",
    "            ],\n",
    "            \"hashtags\": [\n",
    "                {\n",
    "                    \"start\": 59,\n",
    "                    \"end\": 74,\n",
    "                    \"tag\": \"bringcolbyback\"\n",
    "                }\n",
    "            ]\n",
    "        },\n",
    "        \"lang\": \"en\",\n",
    "        \"source\": \"Twitter for iPhone\",\n",
    "        \"author_id\": \"606856313\"\n",
    "    },\n",
    "    \"includes\": {\n",
    "        \"users\": [\n",
    "            {\n",
    "                \"created_at\": \"2012-06-13T03:36:00.000Z\",\n",
    "                \"username\": \"DivinedHavoc\",\n",
    "                \"verified\": false,\n",
    "                \"name\": \"Justin\",\n",
    "                \"id\": \"606856313\"\n",
    "            }\n",
    "        ]\n",
    "    }\n",
    "}\n",
    "````\n"
   ]
  },
  {
   "cell_type": "markdown",
   "id": "08e0c6ce-3d64-4144-8948-368a030f7317",
   "metadata": {},
   "source": [
    "**Q1** Define a variable with this schema (you will find a file *schema pyspark tweet* on moodle with the schema to copy /aste)\n",
    "\n",
    "  ```python\n",
    "  from pyspark.sql.types import StructType,StructField, StringType, IntegerType, ArrayType, TimestampType, BooleanType, LongType, DoubleType\n",
    "  \n",
    "  StructType([\n",
    "  \tStructField(\"data\", StructType([\n",
    "  \t\tStructField(\"author_id\",StringType(),True),\n",
    "  \t\tStructField(\"text\",StringType(),True),\n",
    "  \t\tStructField(\"source\",StringType(),True),\n",
    "  \t\tStructField(\"lang\",StringType(),True),\n",
    "  \t\tStructField(\"created_at\",TimestampType(),True),\n",
    "  \t\tStructField(\"entities\",StructType([\n",
    "  \t\t\tStructField(\"annotations\", ArrayType(StructType([\n",
    "  \t\t\t\tStructField(\"end\", LongType(), True),\n",
    "  \t\t\t\tStructField(\"normalized_text\", StringType(), True),\n",
    "  \t\t\t\tStructField(\"probability\", DoubleType(), True),\n",
    "  \t\t\t\tStructField(\"start\", LongType(), True),\n",
    "  \t\t\t\tStructField(\"type\", StringType(), True)\n",
    "  \t\t\t]),True),True),\n",
    "  \t\t\tStructField(\"cashtags\", ArrayType(StructType([\n",
    "  \t\t\t\tStructField(\"end\", LongType(), True),\n",
    "  \t\t\t\tStructField(\"start\", LongType(), True),\n",
    "  \t\t\t\tStructField(\"tag\", StringType(), True)\n",
    "  \t\t\t]),True),True),\n",
    "  \t\t\t StructField(\"hashtags\", ArrayType(StructType([\n",
    "  \t\t\t\tStructField(\"end\", LongType(), True),\n",
    "  \t\t\t\tStructField(\"start\", LongType(), True),\n",
    "  \t\t\t\tStructField(\"tag\", StringType(), True)\n",
    "  \t\t\t]),True),True),\n",
    "  \t\t\tStructField(\"mentions\", ArrayType(StructType([\n",
    "  \t\t\t\tStructField(\"end\", LongType(), True),\n",
    "  \t\t\t\tStructField(\"start\", LongType(), True),\n",
    "  \t\t\t\tStructField(\"username\", StringType(), True)\n",
    "  \t\t\t]),True),True),\n",
    "  \t\t\tStructField(\"urls\", ArrayType(StructType([\n",
    "  \t\t\t\tStructField(\"description\", StringType(), True),\n",
    "  \t\t\t\tStructField(\"display_url\", StringType(), True),\n",
    "  \t\t\t\tStructField(\"end\", LongType(), True),\n",
    "  \t\t\t\tStructField(\"expanded_url\", StringType(), True),\n",
    "  \t\t\t\tStructField(\"images\", ArrayType(StructType([\n",
    "  \t\t\t\t\t\tStructField(\"height\", LongType(), True),\n",
    "  \t\t\t\t\t\tStructField(\"url\", StringType(), True),\n",
    "  \t\t\t\t\t\tStructField(\"width\", LongType(), True)\n",
    "  \t\t\t\t\t]),True),True),\n",
    "  \t\t\t\tStructField(\"start\", LongType(), True),\n",
    "  \t\t\t\tStructField(\"status\", LongType(), True),\n",
    "  \t\t\t\tStructField(\"title\", StringType(), True),\n",
    "  \t\t\t\tStructField(\"unwound_url\", StringType(), True),\n",
    "  \t\t\t\tStructField(\"url\", StringType(), True),\n",
    "  \t\t\t]),True),True),\n",
    "  \t\t]),True),\n",
    "  \t\tStructField(\"public_metrics\", StructType([\n",
    "  \t\t\tStructField(\"like_count\", LongType(), True),\n",
    "  \t\t\tStructField(\"reply_count\", LongType(), True),\n",
    "  \t\t\tStructField(\"retweet_count\", LongType(), True),\n",
    "  \t\t\tStructField(\"quote_count\", LongType(), True),\n",
    "  \t\t]),True)\n",
    "  \t  ]),True),\n",
    "  \tStructField(\"includes\", StructType([\n",
    "  \t\tStructField(\"users\", ArrayType(StructType([\n",
    "  \t\t\tStructField(\"created_at\", TimestampType(), True),\n",
    "  \t\t\tStructField(\"id\", StringType(), True),\n",
    "  \t\t\tStructField(\"name\", StringType(), True),\n",
    "  \t\t\tStructField(\"username\", StringType(), True),\n",
    "  \t\t\tStructField(\"verified\", BooleanType(), True)\n",
    "  \t\t]),True),True)\n",
    "  \t]),True)\n",
    "    ])\n",
    "  ```"
   ]
  },
  {
   "cell_type": "code",
   "execution_count": null,
   "id": "9fbdc636-b420-499a-a5fd-d138d23cf96a",
   "metadata": {
    "tags": []
   },
   "outputs": [],
   "source": []
  },
  {
   "cell_type": "markdown",
   "id": "b3320d2c-6eac-402b-817e-6bfae7308fec",
   "metadata": {},
   "source": [
    "**Q2** Create a stream to this s3 bucket : `s3://spark-lab-input-data-ensai20212022/stream_tweet/`. Name it  `tweet_stream`\n",
    "\n",
    "> 🤔 Nothing happen ? It's normal ! Do not forget, Spark use lazy evaluation. It doesn't use data if you don't define an action. For now Spark only know how to get the stream, that's all."
   ]
  },
  {
   "cell_type": "code",
   "execution_count": null,
   "id": "3ffffc66-631e-44d8-a7bd-bdc331b977e6",
   "metadata": {
    "tags": []
   },
   "outputs": [],
   "source": []
  },
  {
   "cell_type": "markdown",
   "id": "c175e4d3-abd1-40dc-9a62-282c5c5f8cf8",
   "metadata": {},
   "source": [
    "**Q3** In a cell just execute `tweet_stream`. It should print the type of `tweet_stream` and the associated schema. You can see you created a DataFrame like in lab2 !"
   ]
  },
  {
   "cell_type": "code",
   "execution_count": null,
   "id": "bb09c152-dd4e-4f05-a3ce-d8a69971d1ea",
   "metadata": {
    "tags": []
   },
   "outputs": [],
   "source": []
  },
  {
   "cell_type": "markdown",
   "id": "e554b997-af7f-49cf-9821-2f9fe51a93ec",
   "metadata": {
    "tags": []
   },
   "source": [
    "**Q4** Print the size of your DataFrame by using this piece of code :\n",
    "\n",
    "  ```python\n",
    "  stream_size_query= tweet_stream\\\n",
    "  .writeStream\\\n",
    "  .queryName(\"stream_size\")\\\n",
    "  .format(\"memory\")\\\n",
    "  .start()\n",
    "  \n",
    "  for _ in range(10): # we use an _ because the variable isn't used. You can use i if you prefere\n",
    "      sleep(3)\n",
    "      spark.sql(\"\"\"\n",
    "      \tSELECT count(1) FROM stream_size\n",
    "      \"\"\").show()\n",
    "  stream_size_query.stop() #needed to close the query\n",
    "  \n",
    "  ```\n",
    "\n",
    "### "
   ]
  },
  {
   "cell_type": "code",
   "execution_count": null,
   "id": "e4994416-5529-4c3a-b435-882687edffb8",
   "metadata": {
    "tags": []
   },
   "outputs": [],
   "source": []
  },
  {
   "cell_type": "markdown",
   "id": "c113cfa0-ef24-4874-b7cd-c98474cb0e50",
   "metadata": {},
   "source": [
    "### 6.2. 🛒 How to output a stream ? \n",
    "\n",
    "Remember, Spark has two types of methods to process DataFrame:\n",
    "\n",
    "-  Transformations which take a DataFrame has input and produce an other Dataframe\n",
    "-  And actions, which effectively run computation and produce something, like a file, or a output in you notebook/console.\n",
    "\n",
    "Stream processing looks the same as DataFrame processing. Hence, **you still have transformations**, the exact same one that can be apply on classic DataFrame (with some restriction, for example you can not sample a stream with the `sample()` transformation). The action part is a little different. Because a stream runs continuously, you cannot just print the data or run a count at the end of the process. **In fact actions will nor work on stream**. To tackle this issue, Spark proposes different [outputs sinks](https://spark.apache.org/docs/latest/structured-streaming-programming-guide.html#output-sinks). An output sink is a possible output for your stream. The different output sink are (this part came from the official Spark [documentation)](https://spark.apache.org/docs/latest/structured-streaming-programming-guide.html#output-sinks) : \n",
    "\n",
    "- **File sink** - Stores the output to a file. The file can be stored locally (on the cluster), remotely (on S3). The file format can be json, csv etc\n",
    "\n",
    "```python\n",
    "writeStream\\\n",
    ".format('json')\\\n",
    ".option(\"checkpointLocation\", \"output_folder/history\") \\ \n",
    ".option(\"path\", \"output_folder\")\\\n",
    ".start()\n",
    "```\n",
    "\n",
    "- **Kafka sink** - Stores the output to one or more topics in Kafka.\n",
    "\n",
    "- **Foreach sink** - Runs arbitrary computation on the records in the output. It does not produce an DataFrame. Each processed lines lost\n",
    "\n",
    "```python\n",
    "writeStream\n",
    "    .foreach(...)\n",
    "    .start()\n",
    "```\n",
    "\n",
    "- **Console sink (for debugging)** - Prints the output  to the console standard output (*stdout*) every time there is a trigger. This should be used for debugging  purposes on low data volumes as the entire output is collected and  stored in the driver’s memory after every trigger. *Sadly console sink does not work with jupyter notebook*.\n",
    "\n",
    "```python\n",
    "writeStream\n",
    "    .format(\"console\")\n",
    "    .start()\n",
    "```\n",
    "\n",
    "- **Memory sink (for debugging)** - The output is stored in memory as an in-memory table. This should be used for debugging purposes on low data volumes as the entire output is collected and stored in the driver’s memory. Hence, use it with caution. Because we are in a simple lab, you will use this solution. But keep in mind it's a very bad idea because data must fit in the the ram of the driver node. And in a big data context it's impossible. Because it's not a big data problem if one computer can tackle it.\n",
    "\n",
    "```python\n",
    "writeStream\n",
    "    .format(\"memory\")\n",
    "    .queryName(\"tableName\") # to resquest the table with spark.sql()\n",
    "    .start()\n",
    "```\n",
    "\n",
    "We just talked where we can output a stream, but there is another question, how ?\n",
    "\n",
    "To understand why it's a issue, let's talk about two things that spark can do with streams : filter data and group by + aggregation\n",
    "\n",
    "- **Filter** : your process is really simple. Every time you get a new data you just compute a score and drop records with a score less than a threshold. Then you write into a file every kept record. In a nutshell, you just append new data to a file. Spark does not have to read an already written row, it just add new data.\n",
    "- **Group by + aggregation** : in this case you want to group by your data by key than compute a simple count. Then you want to write the result in a file. But now there is an issue, Spark needs to update some existing rows in your file every time it writes somethings. But is your file is stored in HDFS of S3, it's impossible to update in a none append way a file. In a nutshell, it's impossible to output in a file your operation.\n",
    "\n",
    "To deal with this issue, Spark proposes 3 mode. **And you cannot use every mode with every output sink, with every transformation**. The 3 modes are ([more info here](https://spark.apache.org/docs/latest/structured-streaming-programming-guide.html#starting-streaming-queries)) :\n",
    "\n",
    "- **Append mode (default)** - This is the default mode, where only the new rows added to the Result Table since the last trigger will be outputted to the sink. This is supported for only those queries where  rows added to the Result Table is never going to change. Hence, this mode  guarantees that each row will be output only once (assuming  fault-tolerant sink). For example, queries with only `select`,  `where`, `map`, `flatMap`, `filter`, `join`, etc. will support Append mode.\n",
    "- **Complete mode** - The whole Result Table will be outputted to the sink after every trigger. This is supported for aggregation queries.\n",
    "- **Update mode** - (*Available since Spark 2.1.1*) Only the rows in the Result Table that were  updated since the last trigger will be outputted to the sink.  More information to be added in future releases.\n",
    "\n",
    "| Sink                  | Supported Output Modes   |\n",
    "| --------------------- | ------------------------ |\n",
    "| **File Sink**         | Append                   |\n",
    "| **Kafka Sink**        | Append, Update, Complete |\n",
    "| **Foreach Sink**      | Append, Update, Complete |\n",
    "| **ForeachBatch Sink** | Append, Update, Complete |\n",
    "| **Console Sink**      | Append, Update, Complete |\n",
    "| **Memory Sink**       | Append, Complete         |\n",
    "\n",
    "### 6.3. 👨‍🏫 How to output a stream : summary \n",
    "\n",
    "To sum up to output a stream you need\n",
    "\n",
    "- DataFrame (because once load a stream is a DataFrame)\n",
    "- A format for your output, like console to print in console, memory to keep the Result Table in memory, json to write it to a file etc\n",
    "- A mode to specify how the Result Table will be updated.\n",
    "\n",
    "For instance for the memory sink\n",
    "\n",
    "```python\n",
    "memory_sink = df\\\n",
    ".writeStream\\\n",
    ".queryName(\"my_awesome_name\")\\\n",
    ".format('memory')\\\n",
    ".outputMode(\"complete\" or \"append\")\\\n",
    ".start() #needed to start the stream\n",
    "```\n",
    "\n",
    "![](https://github.com/HealerMikado/panorama_big_data_2021/blob/main/labs/lab%203%20-%20Spark%20Stream/img/stream%20processing.png?raw=true)\n",
    "\n",
    "*Figure 4 : The different phases of stream processing in Spark*"
   ]
  },
  {
   "cell_type": "markdown",
   "id": "3b325244-f498-4700-93f2-72543d4cd859",
   "metadata": {},
   "source": [
    "### ✍Hand-on 2 : output a stream\n",
    "\n",
    "#### 🌏 Lang count"
   ]
  },
  {
   "cell_type": "markdown",
   "id": "afebbefd-ce7b-4e5e-906e-8c1e474ca0ee",
   "metadata": {},
   "source": [
    "**Q5** Compute a DataFrame that group and count data by the `lang` column. Name your DataFrame `lang_count`"
   ]
  },
  {
   "cell_type": "code",
   "execution_count": null,
   "id": "c26b5d07-75b9-4a13-ba01-14fd20551252",
   "metadata": {
    "tags": []
   },
   "outputs": [],
   "source": []
  },
  {
   "cell_type": "markdown",
   "id": "d43fe021-e987-4cf6-93af-1e2ee9c9db4f",
   "metadata": {},
   "source": [
    "**Q6**Use this DataFrame to create a output stream with the following configuration :\n",
    "\n",
    "- Names the variable `lang_query`\n",
    "- Memory sink\n",
    "- Complete mode (because we are doing an agregation)\n",
    "- Name you query `lang_count`"
   ]
  },
  {
   "cell_type": "code",
   "execution_count": null,
   "id": "e9a4f7ec-5d14-492d-b494-ecae48de7cd9",
   "metadata": {},
   "outputs": [],
   "source": []
  },
  {
   "cell_type": "markdown",
   "id": "90f25373-1435-4d09-91e6-784efc90d2d0",
   "metadata": {},
   "source": [
    "**Q7** Then past this code\n",
    "```python\n",
    "for _ in range(10): # we use an _ because the variable isn't use. You can use i if you prefere\n",
    "    sleep(3)\n",
    "    spark.sql(\"\"\"\n",
    "    SELECT * FROM lang_count\"\"\").show()\n",
    "lang_query.stop() #needed to close the stream\n",
    "```"
   ]
  },
  {
   "cell_type": "code",
   "execution_count": null,
   "id": "b1eb03ff-a7f2-423a-8603-30e974e491d3",
   "metadata": {},
   "outputs": [],
   "source": []
  },
  {
   "cell_type": "markdown",
   "id": "67ffa962-e349-4c26-a0c1-109e964d41c2",
   "metadata": {},
   "source": [
    "- After 30 seconds, 10 tables will appeared in your notebook. Each table represents the contain of `lang_count` at a certain time. The `.stop()` method close the stream. \n",
    "\n",
    "  In the rest of this tutorial, to will need two steps to print data :\n",
    "\n",
    "  1. Define a stream query with a memory sink\n",
    "  2. Request this stream with the `spark.sql()` function\n",
    "\n",
    "  Instead of a for loop, you can just write you `spark.sql()` statement in a cell and rerun it. In this case you will need a third cell with a `stop()` method to close your stream.\n",
    "\n",
    "  For instance:\n",
    "\n",
    " - Cell 1\n",
    "\n",
    "   ````python\n",
    "   my_query = my_df\\\n",
    "       .writeStream\\\n",
    "       .format(\"memory\")\\\n",
    "       .queryName(\"query_table\")\\\n",
    "       .start()\n",
    "   ````\n",
    "\n",
    " - Cell 2\n",
    "\n",
    "   ```python\n",
    "   spark.sql(\"SELECT * FROM query_table\").show()\n",
    "   ```\n",
    "\n",
    " - Cell 3\n",
    "\n",
    "   ```python\n",
    "   my_query.stop()\n",
    "   ```"
   ]
  },
  {
   "cell_type": "markdown",
   "id": "4021ed2a-1bbb-4312-9dfd-d9128ef1457c",
   "metadata": {},
   "source": [
    "#### ❌ Count tweets with and without hashtag\n",
    "\n",
    "**Q8** Add a column `has_hashtag` to your DataFrame. This column equals True if `data.entities.hashtags` is not null. Else it's false. Use the `withColumn` transformation to add a column. You can count the size of `data.entities.hashtags` to check if it's empty or not."
   ]
  },
  {
   "cell_type": "code",
   "execution_count": null,
   "id": "7ed230ed-6b31-4a47-a0ce-f93211e4e459",
   "metadata": {
    "tags": []
   },
   "outputs": [],
   "source": []
  },
  {
   "cell_type": "markdown",
   "id": "7e5e7c56-7e9f-4206-8b29-cf8c1e48106b",
   "metadata": {},
   "source": [
    "**Q9** Group and count by the `has_hashtag` column"
   ]
  },
  {
   "cell_type": "code",
   "execution_count": null,
   "id": "89480ac1-16a6-477c-809d-3c9e7eaad217",
   "metadata": {
    "tags": []
   },
   "outputs": [],
   "source": []
  },
  {
   "cell_type": "markdown",
   "id": "e6f52d0b-0de2-4098-ba9f-76425dae7ca8",
   "metadata": {},
   "source": [
    "**Q10** Print some results"
   ]
  },
  {
   "cell_type": "code",
   "execution_count": null,
   "id": "67f72817-c802-4eb0-aa59-f7a2045b3bb7",
   "metadata": {
    "tags": []
   },
   "outputs": [],
   "source": []
  },
  {
   "cell_type": "markdown",
   "id": "601e1fe3-af8d-47b5-824a-b5fc29cf7f49",
   "metadata": {},
   "source": [
    "### Debugging tip\n",
    "\n",
    "If at any moment of this lab you encounter an error like this one :\n",
    "\n",
    "```\n",
    "'Cannot start query with name has_hashtag as a query with that name is already active'\n",
    "Traceback (most recent call last):\n",
    "  File \"/usr/lib/spark/python/lib/pyspark.zip/pyspark/sql/streaming.py\", line 1109, in start\n",
    "    return self._sq(self._jwrite.start())\n",
    "  File \"/usr/lib/spark/python/lib/py4j-0.10.7-src.zip/py4j/java_gateway.py\", line 1257, in __call__\n",
    "    answer, self.gateway_client, self.target_id, self.name)\n",
    "  File \"/usr/lib/spark/python/lib/pyspark.zip/pyspark/sql/utils.py\", line 79, in deco\n",
    "    raise IllegalArgumentException(s.split(': ', 1)[1], stackTrace)\n",
    "pyspark.sql.utils.IllegalArgumentException: 'Cannot start query with name has_hashtag as a query with that name is already active'\n",
    "```\n",
    "\n",
    "Run in a cell the following code :\n",
    "\n",
    "```python\n",
    "for stream in spark.streams.active:\n",
    "\tstream.stop()\n",
    "```\n",
    "\n",
    "`spark.streams.active` returns an array with all the active stream, and the code loops over all the active stream and closes them."
   ]
  },
  {
   "cell_type": "markdown",
   "id": "3428200e-05ed-4a0e-b9d8-1521de4e7d31",
   "metadata": {},
   "source": [
    "## 7. 🥈Stream processing basics \n",
    "\n",
    "### ✍Hand-on 3 : transformations on stream 🧙‍♂️"
   ]
  },
  {
   "cell_type": "markdown",
   "id": "23838719-7364-4c29-976c-8867dd854312",
   "metadata": {},
   "source": [
    "**Q11** 🔪Filter all records with missing / null value then count how many records you keep\n",
    "\n",
    "- For this filter, you will use the `na.drop(\"any\")` transformation. The `na.drop(\"any\")` drop every line with a null value in at least one column. It's simpler than using a `filter()` transformation because you don't have to specify all the column. For more precise filter you can use `na.drop(\"any\" or \"all\", subset=list of col)` (`all` will drop rows with only null value in all columns or in the specified list).\n",
    "- Use the SQL `COUNT(1)` function in the sql request to get the count\n",
    "- Because you don't perform aggregation the `outputMode()` must be `append`\n",
    "\n",
    "You will notice no record are dropped."
   ]
  },
  {
   "cell_type": "code",
   "execution_count": null,
   "id": "7d2bb85a-392f-4a7b-bd63-376a7b66838f",
   "metadata": {
    "tags": []
   },
   "outputs": [],
   "source": []
  },
  {
   "cell_type": "markdown",
   "id": "d7007c25-ea4d-4cc3-8af5-c6cb21ed88bb",
   "metadata": {},
   "source": [
    "**Q12**  🕵️‍♂️ Drop all records with unverified (`includes.users.verified == True`)user  then group the remaining  records by `hashtag`.\n",
    "\n",
    "- `includes.users` is an array with only one element. You will need to extract it.\n",
    "- `data.entities.hashtags` is an array too ! To group by tag (the hashtag content) you will need to explode it too."
   ]
  },
  {
   "cell_type": "code",
   "execution_count": null,
   "id": "c942d9cf-8c24-45b9-8f4d-c6049ab52935",
   "metadata": {},
   "outputs": [],
   "source": []
  },
  {
   "cell_type": "markdown",
   "id": "6a45f9ca-c55e-49d0-86c0-cb14c3c0e876",
   "metadata": {},
   "source": [
    "**Q13**🔻 Find ukraine related tweet (or any other topic like cat, dog, spring, batman, dogecoin etc) : \n",
    "\n",
    "- Define a new column, name `ukraine_related`. This column is equal to `True` if `data.text` contains \"ukraine\", else it's  equal to`False`.\n",
    "\n",
    "- Use the `withColumn()` transformation, and the `expr()` function to define the column. `expr()` takes as input an SQL expression. You do not need a full SQL statement (`SELECT ... FROM ... WHERE ...`) but just an SQL expression that return True or False if `data.text` contains \"ukraine\". To help you :\n",
    "\n",
    "  - `LOWER()` put in lower case a string\n",
    "  - `input_string LIKE wanted_string` return `True`  if `input_string` is equal to `wanted_string`\n",
    "  - You can use `%` as wildcards\n",
    "\n",
    "  [For more help](https://www.w3schools.com/sql/sql_like.asp)\n",
    "\n",
    "- Only keep `data.text`, `data.lang`, `data.public_metrics` and `data.created_at`"
   ]
  },
  {
   "cell_type": "code",
   "execution_count": null,
   "id": "27e5813f-c8ca-47fd-8ddc-b39e9d548c4d",
   "metadata": {},
   "outputs": [],
   "source": []
  },
  {
   "cell_type": "markdown",
   "id": "e21fbc65-fa2c-4058-a48a-538855223ee7",
   "metadata": {},
   "source": [
    "### ✍Hand-on 4 : Aggregation and grouping on stream 🧲"
   ]
  },
  {
   "cell_type": "markdown",
   "id": "2aaba684-69b1-4f8e-8fd3-2f3742a6f0aa",
   "metadata": {},
   "source": [
    "**Q14** Count the number of different hashtag."
   ]
  },
  {
   "cell_type": "code",
   "execution_count": null,
   "id": "4fb0761f-2385-460d-ab97-5a32a42e3c88",
   "metadata": {
    "tags": []
   },
   "outputs": [],
   "source": []
  },
  {
   "cell_type": "markdown",
   "id": "cfc1543c-9c94-42fd-ad2c-6debcb5ab252",
   "metadata": {},
   "source": [
    "**Q15** Group by hashtag  and compute the average, min and max of `like_count`\n",
    "\n",
    "- Use the `groupBy()` and `agg()` transformations"
   ]
  },
  {
   "cell_type": "code",
   "execution_count": null,
   "id": "a040f365-3a7b-40c0-b76a-6256644137d6",
   "metadata": {
    "tags": []
   },
   "outputs": [],
   "source": []
  },
  {
   "cell_type": "markdown",
   "id": "ebf280ed-8dd1-4f2f-a899-75e83c39f1b7",
   "metadata": {},
   "source": [
    "**Q16** Compute the average of `like_count`, `retweet_count` and `quote_count` :\n",
    "\n",
    "  - across all `hashtag` and `lang`\n",
    "  - for each `lang` across all `hashtag`\n",
    "  - for each `hashtag` across all `lang`\n",
    "  - for each `hashtag` and each `lang`\n",
    "\n",
    "  To do so, replace the `groupBy()` transformation by the `cube()` one. `cube()` group compute all possible cross between dimensions passed as parameter. You will get something like this\n",
    "\n",
    "  | hashtag | lang | avg(like_count) | avg(retweet_count) | avg(quote_count) |\n",
    "  | ------- | ---- | --------------- | ------------------ | ---------------- |\n",
    "  | cat     | null | 1               | 2                  | 3                |\n",
    "  | dog     | null | 4               | 5                  | 6                |\n",
    "  | ...     | ...  | ...             | ...                | ...              |\n",
    "  | bird    | fr   | 7               | 8                  | 9                |\n",
    "  | null    | en   | 10              | 11                 | 12               |\n",
    "  | null    | null | 13              | 14                 | 15               |\n",
    "\n",
    "  A `null` value mean this dimension wasn't use for this row. For instance, the first row gives the averages when `hashtag==cat` independently of the `lang`. The before last row gives averages when `lang==en` independently of the `hashtag`. And the last row gives the averages for the full DataFrame."
   ]
  },
  {
   "cell_type": "code",
   "execution_count": null,
   "id": "aea8043a-d46b-4965-ad55-534a90a38905",
   "metadata": {
    "tags": []
   },
   "outputs": [],
   "source": []
  },
  {
   "cell_type": "markdown",
   "id": "307c4139-e900-4d1d-9943-7dd5a8685eff",
   "metadata": {
    "execution": {
     "iopub.execute_input": "2022-04-28T15:29:29.242482Z",
     "iopub.status.busy": "2022-04-28T15:29:29.242242Z"
    },
    "tags": []
   },
   "source": [
    "## 8. 🥇 ⌛Event-time processing \n",
    "\n",
    "Event-time processing consists in processing information with **respect to the time that it was created, not received**. It's a hot topic because sometime you will receive data in an order different from the creation order. For example, you are monitoring servers distributed across the globe. Your main datacentre is located in Paris. Something append in New York, and a few milliseconds after something append in Toulouse. Due to location, the event in Toulouse is likely to show up in your datacentre before the New York one. If you analyse data bases on the received time the order will be different than the event time. Computers and network are unreliable. Hence, when temporality is important, you must consider the creation time of the event and not it's received time.\n",
    "\n",
    "Hopefully, Spark will handle all this complexity for you ! If you have a timestamp column with the event creation spark can update data accordingly to the event time. \n",
    "\n",
    "For instance is you process some data with a time window, Spark will update the result based on the event-time not the received time. So previous windows can be updated in the future.\n",
    "\n",
    "![](https://github.com/HealerMikado/panorama_big_data_2021/blob/main/labs/lab%203%20-%20Spark%20Stream/img/lata%20data%20handling%20without%20watermarks.png?raw=true)\n",
    "\n",
    "*Figure 5 : Time-event processing, event grouped by time windows*\n",
    "\n",
    "\n",
    "\n",
    "To work with time windows, Spark offers two type of windows\n",
    "\n",
    "- Normal windows. You only consider event in a given windows. All windows are disjoint, and a event is only in one window.\n",
    "- Sliding windows. You have a fix window size (for example 1 hour) and a trigger time (for example 10 minute). Every 10 minute, you will process the data with an event time less than 1h.\n",
    "\n",
    "![](https://github.com/HealerMikado/panorama_big_data_2021/blob/main/labs/lab%203%20-%20Spark%20Stream/img/time%20windows.png?raw=true)\n",
    "\n",
    "*Figure 6 : Time-event processing, event grouped by sliding time windows*\n",
    "\n",
    "To create time windows, you need :\n",
    "\n",
    "- to define a time window : `window(column_with_time_event : str or col, your_time_window : str, timer_for_sliding_window) : str`\n",
    "\n",
    "- grouping row by event-time using your window :  `df.groupeBy(window(...))`\n",
    "\n",
    "To produce the above processes :\n",
    "\n",
    "```python\n",
    "# Need some import\n",
    "from pyspark.sql.functions import window, col\n",
    "\n",
    "# word count + classic time window\n",
    "df_with_event_time.groupBy(\n",
    "\twindow(df_with_event_time.event_time, \"5 minutes\"),\n",
    "\tdf_with_event_time.word).count()\n",
    "\n",
    "# word count + sliding time window\n",
    "df_with_event_time.groupBy(\n",
    "\twindow(df_with_event_time.event_time, \"10 minutes\", \"5 minutes\"),\n",
    "\tdf_with_event_time.word).count()\n",
    "```\n",
    "\n",
    "### ✍Hand-on 5 : Event-time processing ⌛"
   ]
  },
  {
   "cell_type": "markdown",
   "id": "9b4cbf97-bda4-4112-bbfd-9cc86fbb8c78",
   "metadata": {},
   "source": [
    "Count the number of event with a 10 seconds time window (use the `created_at` column)"
   ]
  },
  {
   "cell_type": "code",
   "execution_count": null,
   "id": "0efe0ba0-a4de-4b57-9e8a-ec82ff8f73cb",
   "metadata": {
    "tags": []
   },
   "outputs": [],
   "source": []
  },
  {
   "cell_type": "markdown",
   "id": "b7df5d09-d22d-4f84-88b0-208217c79354",
   "metadata": {},
   "source": [
    "Count the number of event by verified / unverified user with a 10 seconds time window (use the `Creation_Time` column)"
   ]
  },
  {
   "cell_type": "code",
   "execution_count": null,
   "id": "dc20306c-b89f-4cfd-9b49-1a1e9fdb7f3f",
   "metadata": {
    "tags": []
   },
   "outputs": [],
   "source": []
  },
  {
   "cell_type": "markdown",
   "id": "497c979f-90ea-43d4-a5ef-5afe2f2a0ff0",
   "metadata": {},
   "source": [
    "Count the number of event with a 10 seconds time window sliding every 5 seconds "
   ]
  },
  {
   "cell_type": "code",
   "execution_count": null,
   "id": "af1ed405-cf27-4363-bd21-00ab2d08a817",
   "metadata": {
    "tags": []
   },
   "outputs": [],
   "source": []
  },
  {
   "cell_type": "markdown",
   "id": "6cabeaa1-eed2-481f-83db-d05ce3632de6",
   "metadata": {},
   "source": [
    "### 8.1.🏆 ⏳ ​Handling late data with watermarks \n",
    "\n",
    "Processing accordingly to time-event is great, but currently there is one flaw. We never specified how late we expect to see data. This means, Spark will keep some data in memory forever. Because streams never end, Spark will keep in memory every time windows, to be able to update some previous results. But in some cases, you know that after some time, you don't expect new data, or very late data aren't relevant any more. In other words, after a certain amount of time you want to freeze old results.\n",
    "\n",
    "Once again, Spark can handle such process, with watermarks.\n",
    "\n",
    "![](https://github.com/HealerMikado/panorama_big_data_2021/blob/main/labs/lab%203%20-%20Spark%20Stream/img/lata%20data%20handling%20with%20watermarks.png?raw=true)\n",
    "*Figure 7 : Time-event processing with watermark*\n",
    "\n",
    "To do so, you have to define column as watermark and a the max delay. You have to use the `withWatermark(column, max_delay)` method.\n",
    "\n",
    "```python\n",
    "# Need some import\n",
    "from pyspark.sql.functions import window, col\n",
    "\n",
    "# word count + classic time window\n",
    "df_with_event_time.withWatermark(df_with_event_time.event_time, \"4 minutes\")\\\n",
    ".groupBy(\n",
    "\twindow(df_with_event_time.event_time, \"5 minutes\"),\n",
    "\tdf_with_event_time.word).count()\n",
    "\n",
    "# word count + sliding time window\n",
    "df_with_event_time.withWatermark(df_with_event_time.event_time, \"4 minutes\")\\\n",
    ".groupBy(\n",
    "\twindow(df_with_event_time.event_time, \"10 minutes\", \"5 minutes\"),\n",
    "\tdf_with_event_time.word).count()\n",
    "```\n",
    "\n",
    "Be careful, the watermark field cannot be a nested field ([link](https://www.waitingforcode.com/apache-spark-structured-streaming/nested-fields-dropduplicates-watermark-apache-spark-structured-streaming/read))\n",
    "\n",
    "#### ✍Hand-on 6 : Handling late data with watermarks :hourglass_flowing_sand:"
   ]
  },
  {
   "cell_type": "markdown",
   "id": "af37f1f7-0800-429f-9955-e3b144c4fed4",
   "metadata": {},
   "source": [
    "Count the number of event with a 10 seconds time window (use the `created_at` column) with a 5 seconds watermark"
   ]
  },
  {
   "cell_type": "code",
   "execution_count": null,
   "id": "dc89da5d-e8f8-4c82-9016-0b40b9f5a026",
   "metadata": {},
   "outputs": [],
   "source": []
  },
  {
   "cell_type": "markdown",
   "id": "49a5ea2d-c3a7-4fb7-813c-c10dfe07cf6b",
   "metadata": {},
   "source": [
    "Count the number of event by hashtag with a 30 seconds time window with a 1 minute watermark"
   ]
  },
  {
   "cell_type": "code",
   "execution_count": null,
   "id": "705b868a-1533-4e6f-ba30-637e9a9a3f47",
   "metadata": {},
   "outputs": [],
   "source": []
  },
  {
   "cell_type": "markdown",
   "id": "d92a975b-6b71-4615-b8b7-baffd874d91a",
   "metadata": {},
   "source": [
    "Count the number of events post by verified user with a 10 seconds time window sliding every 5 seconds with 25 seconds watermark. Write the the result in a file sorted in S3."
   ]
  },
  {
   "cell_type": "code",
   "execution_count": null,
   "id": "30729760-31af-43d6-84aa-36ccb80705cf",
   "metadata": {
    "tags": []
   },
   "outputs": [],
   "source": []
  },
  {
   "cell_type": "code",
   "execution_count": null,
   "id": "d432fc9c-e4db-44c0-93c0-f053f2fe9e7c",
   "metadata": {},
   "outputs": [],
   "source": []
  },
  {
   "cell_type": "markdown",
   "id": "b962e559-a3bc-4672-9b21-dfe658a15d4a",
   "metadata": {},
   "source": [
    "## For more details\n",
    "\n",
    "- [Spark official documentation](https://spark.apache.org/docs/latest/structured-streaming-programming-guide.html#input-sources)\n",
    "- ZAHARIA, B. C. M. (2018). *Spark: the Definitive Guide*. , O'Reilly Media, Inc. https://proquest.safaribooksonline.com/9781491912201\n",
    "- https://databricks.com/blog/2018/03/13/introducing-stream-stream-joins-in-apache-spark-2-3.html\n",
    "- https://databricks.com/blog/2016/07/28/structured-streaming-in-apache-spark.html\n",
    "- https://databricks.com/blog/2015/07/30/diving-into-apache-spark-streamings-execution-model.html\n",
    "\n",
    "**DO NOT FORGET TO TURN YOUR CLUSTER OFF A THE END OF THIS TUTORIAL!**\n",
    "\n",
    "**DO NOT FORGET TO TURN YOUR CLUSTER OFF A THE END OF THIS TUTORIAL!**\n",
    "\n",
    "**DO NOT FORGET TO TURN YOUR CLUSTER OFF A THE END OF THIS TUTORIAL!**\n",
    "\n",
    "**DO NOT FORGET TO TURN YOUR CLUSTER OFF A THE END OF THIS TUTORIAL!**"
   ]
  }
 ],
 "metadata": {
  "kernelspec": {
   "display_name": "PySpark",
   "language": "python",
   "name": "pysparkkernel"
  },
  "language_info": {
   "codemirror_mode": {
    "name": "python",
    "version": 3
   },
   "file_extension": ".py",
   "mimetype": "text/x-python",
   "name": "pyspark",
   "pygments_lexer": "python3"
  }
 },
 "nbformat": 4,
 "nbformat_minor": 5
}
