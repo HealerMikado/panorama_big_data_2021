{
 "cells": [
  {
   "cell_type": "markdown",
   "id": "normal-alcohol",
   "metadata": {},
   "source": [
    "# Lab 2 - First steps with Spark\n",
    "\n",
    "At this end of this lab :\n",
    "\n",
    "- export your notbook : File > Export Notebook As ... > Export Notebook To HTML\n",
    "- An turn your cluster off !\n",
    "    \n",
    "## Creating a Spark session\n",
    "\n",
    "Write in a new cell :\n",
    "\n",
    "- `spark`  to chech if everithing is ok\n",
    "- `spark._jsc.hadoopConfiguration().set(\"fs.s3.useRequesterPaysHeader\",\"true\")` : to access to the data"
   ]
  },
  {
   "cell_type": "code",
   "execution_count": 1,
   "id": "classical-willow",
   "metadata": {
    "vscode": {
     "languageId": "json"
    }
   },
   "outputs": [
    {
     "data": {
      "application/vnd.jupyter.widget-view+json": {
       "model_id": "ce88c48081ec44188749fd382d01409c",
       "version_major": 2,
       "version_minor": 0
      },
      "text/plain": [
       "VBox()"
      ]
     },
     "metadata": {},
     "output_type": "display_data"
    },
    {
     "name": "stdout",
     "output_type": "stream",
     "text": [
      "Starting Spark application\n"
     ]
    },
    {
     "data": {
      "text/html": [
       "<table>\n",
       "<tr><th>ID</th><th>YARN Application ID</th><th>Kind</th><th>State</th><th>Spark UI</th><th>Driver log</th><th>Current session?</th></tr><tr><td>3</td><td>application_1618812226274_0004</td><td>pyspark</td><td>idle</td><td><a target=\"_blank\" href=\"http://ip-172-31-34-57.ec2.internal:20888/proxy/application_1618812226274_0004/\">Link</a></td><td><a target=\"_blank\" href=\"http://ip-172-31-42-119.ec2.internal:8042/node/containerlogs/container_1618812226274_0004_01_000001/livy\">Link</a></td><td>✔</td></tr></table>"
      ],
      "text/plain": [
       "<IPython.core.display.HTML object>"
      ]
     },
     "metadata": {},
     "output_type": "display_data"
    },
    {
     "data": {
      "application/vnd.jupyter.widget-view+json": {
       "model_id": "",
       "version_major": 2,
       "version_minor": 0
      },
      "text/plain": [
       "FloatProgress(value=0.0, bar_style='info', description='Progress:', layout=Layout(height='25px', width='50%'),…"
      ]
     },
     "metadata": {},
     "output_type": "display_data"
    },
    {
     "name": "stdout",
     "output_type": "stream",
     "text": [
      "SparkSession available as 'spark'.\n"
     ]
    },
    {
     "data": {
      "application/vnd.jupyter.widget-view+json": {
       "model_id": "",
       "version_major": 2,
       "version_minor": 0
      },
      "text/plain": [
       "FloatProgress(value=0.0, bar_style='info', description='Progress:', layout=Layout(height='25px', width='50%'),…"
      ]
     },
     "metadata": {},
     "output_type": "display_data"
    }
   ],
   "source": [
    "#Spark session\n",
    "spark\n",
    "\n",
    "# Configuraion\n",
    "spark._jsc.hadoopConfiguration().set(\"fs.s3.useRequesterPaysHeader\",\"true\")"
   ]
  },
  {
   "cell_type": "markdown",
   "id": "contemporary-signal",
   "metadata": {},
   "source": [
    "## 💾First steps with Spark - Data importation\n",
    "\n",
    "Spark's main object class is the DataFrame, which is a distributed table. It is analogous to R's or Python (Pandas)'s data frames: one row represents an observation, one column represents a variable. But contrary to R or Python, Spark's DataFrames can be distributed over hundred of nodes.\n",
    "\n",
    "Spark support multiple data formats, and multiple  ways to load them.\n",
    "\n",
    "- data format : csv, json, parquet (an open source column oriented format)\n",
    "- can read archive files\n",
    "- schema detection or user defined schema. For static data, like a json file, schema detection can be use with good results.\n",
    "\n",
    "Spark has multiple syntaxes to import data. Some are simple with no customisation, others are more complexes but you can specify options.\n",
    "\n",
    "The simplest syntaxes to load a json or a csv file are :\n",
    "\n",
    "```python\n",
    "# JSON\n",
    "json_df = spark.read.json([location of the file])\n",
    "# csv\n",
    "csv_df = spark.read.csv([location of the file])\n",
    "\n",
    "```\n",
    "\n",
    "In the future, you may consult the [Data Source documentation](https://spark.apache.org/docs/latest/sql-data-sources.html) to have the complete description of Spark's reading abilities.\n",
    "\n",
    "The data you will use in this lab are real data from the twitter [sampled stream API](https://developer.twitter.com/en/docs/twitter-api/tweets/sampled-stream/introduction) and [filtered stream API](https://developer.twitter.com/en/docs/twitter-api/tweets/filtered-stream/introduction). The tweets folder contains more than 50 files and more than 2 million tweets. The tweets was collected between the 14/04/2021 and the 18/04/2021. The total collection time was less than 10 hours.\n",
    "\n",
    "---\n",
    "\n",
    "### ✍Hands-on 1  - Data importation\n",
    "\n",
    "- Load the json file store here : `s3n://spark-lab-input-data-ensai20202021/tweets/tweets20210414-143312.jsonl.gz` and name you data frame `df_tweet`\n",
    "\n",
    "  <small> ⚙️ This file is an a `JSONL` (JSON-line) format, which means that each line of it is a JSON object. A JSON object is just a Python dictionary or a JavaScript object and looks like this: `{ key1: value1, key2: [\"array\", \"of\", \"many values]}`). This file has been compressed into a `GZ` archive, hence the `.jsonl.gz` ending. Also this file is not magically appearing in your S3 storage. It is hosted on one of your teacher's bucket and has been made public, so that you can access it.</small>\n",
    "\n",
    "- It's possible to load multiple file in a unique DataFrame. It's useful when you have daily files and want to process them all. It's the same syntax as the previous one, just specify a folder. Like `s3n://spark-lab-input-data-ensai20202021/tweets/`. Name you DataFrame `df_tweet_big`"
   ]
  },
  {
   "cell_type": "code",
   "execution_count": 3,
   "id": "preliminary-criminal",
   "metadata": {},
   "outputs": [
    {
     "data": {
      "application/vnd.jupyter.widget-view+json": {
       "model_id": "2b74ed1ebfbc448a938d955d4cd3bdae",
       "version_major": 2,
       "version_minor": 0
      },
      "text/plain": [
       "VBox()"
      ]
     },
     "metadata": {},
     "output_type": "display_data"
    },
    {
     "data": {
      "application/vnd.jupyter.widget-view+json": {
       "model_id": "",
       "version_major": 2,
       "version_minor": 0
      },
      "text/plain": [
       "FloatProgress(value=0.0, bar_style='info', description='Progress:', layout=Layout(height='25px', width='50%'),…"
      ]
     },
     "metadata": {},
     "output_type": "display_data"
    },
    {
     "name": "stdout",
     "output_type": "stream",
     "text": [
      "DataFrame[auteur: string, contenu: string, date_creation: string, entities: struct<annotations:array<struct<end:bigint,normalized_text:string,probability:double,start:bigint,type:string>>,cashtags:array<struct<end:bigint,start:bigint,tag:string>>,hashtags:array<struct<end:bigint,start:bigint,tag:string>>,mentions:array<struct<end:bigint,start:bigint,username:string>>,urls:array<struct<description:string,display_url:string,end:bigint,expanded_url:string,images:array<struct<height:bigint,url:string,width:bigint>>,start:bigint,status:bigint,title:string,unwound_url:string,url:string>>>, hashtags: array<string>, like_count: bigint, other: struct<auteur_name:string>, reply_count: bigint, retweet_count: bigint]"
     ]
    }
   ],
   "source": [
    "# DataFrame creation\n",
    "df_tweet = spark.read.json(\"s3n://spark-lab-input-data-ensai20202021/tweets/tweets20210414-143312.jsonl.gz\")\n",
    "df_tweet_big = spark.read.json(\"s3n://spark-lab-input-data-ensai20202021/tweets/\")\n",
    "\n",
    "# caching\n",
    "df_tweet.cache()\n",
    "df_tweet_big.cache()"
   ]
  },
  {
   "cell_type": "markdown",
   "id": "single-advertising",
   "metadata": {},
   "source": [
    "Printing schema and some rows"
   ]
  },
  {
   "cell_type": "code",
   "execution_count": 4,
   "id": "unnecessary-quarter",
   "metadata": {},
   "outputs": [
    {
     "data": {
      "application/vnd.jupyter.widget-view+json": {
       "model_id": "30948b135d6440dd98b2cfc438bf4b35",
       "version_major": 2,
       "version_minor": 0
      },
      "text/plain": [
       "VBox()"
      ]
     },
     "metadata": {},
     "output_type": "display_data"
    },
    {
     "data": {
      "application/vnd.jupyter.widget-view+json": {
       "model_id": "",
       "version_major": 2,
       "version_minor": 0
      },
      "text/plain": [
       "FloatProgress(value=0.0, bar_style='info', description='Progress:', layout=Layout(height='25px', width='50%'),…"
      ]
     },
     "metadata": {},
     "output_type": "display_data"
    },
    {
     "name": "stdout",
     "output_type": "stream",
     "text": [
      "+--------------+----------------------------+--------------------+--------------------+--------+----------+--------------------+-----------+-------------+\n",
      "|        auteur|                     contenu|       date_creation|            entities|hashtags|like_count|               other|reply_count|retweet_count|\n",
      "+--------------+----------------------------+--------------------+--------------------+--------+----------+--------------------+-----------+-------------+\n",
      "|    Hidamaroon|かわいいー！！！ https://...|2021-04-14T12:33:...|[,,,, [[, pic.twi...|      []|         0|        [これふじう]|          0|            0|\n",
      "|      azebi888|        @Asavv__ Oui va s...|2021-04-14T12:33:...|[,,, [[8, 0, Asav...|      []|         0|                [📡]|          0|            0|\n",
      "|BauchaudVirgil|        Bonjour @lisalapo...|2021-04-14T12:33:...|[,,, [[20, 8, lis...|      []|         0|          [Virgil🎙]|          0|            0|\n",
      "|   XIAOC4TB0Y_|        @kiribraincell ya...|2021-04-14T12:33:...|[,,, [[14, 0, kir...|      []|         0|             [enri.]|          0|            0|\n",
      "|        YAEGRN|        @andysk8horny bue...|2021-04-14T12:33:...|[,,, [[13, 0, and...|      []|         0|[jeon | jaegerist...|          0|            0|\n",
      "+--------------+----------------------------+--------------------+--------------------+--------+----------+--------------------+-----------+-------------+\n",
      "only showing top 5 rows\n",
      "\n",
      "root\n",
      " |-- auteur: string (nullable = true)\n",
      " |-- contenu: string (nullable = true)\n",
      " |-- date_creation: string (nullable = true)\n",
      " |-- entities: struct (nullable = true)\n",
      " |    |-- annotations: array (nullable = true)\n",
      " |    |    |-- element: struct (containsNull = true)\n",
      " |    |    |    |-- end: long (nullable = true)\n",
      " |    |    |    |-- normalized_text: string (nullable = true)\n",
      " |    |    |    |-- probability: double (nullable = true)\n",
      " |    |    |    |-- start: long (nullable = true)\n",
      " |    |    |    |-- type: string (nullable = true)\n",
      " |    |-- cashtags: array (nullable = true)\n",
      " |    |    |-- element: struct (containsNull = true)\n",
      " |    |    |    |-- end: long (nullable = true)\n",
      " |    |    |    |-- start: long (nullable = true)\n",
      " |    |    |    |-- tag: string (nullable = true)\n",
      " |    |-- hashtags: array (nullable = true)\n",
      " |    |    |-- element: struct (containsNull = true)\n",
      " |    |    |    |-- end: long (nullable = true)\n",
      " |    |    |    |-- start: long (nullable = true)\n",
      " |    |    |    |-- tag: string (nullable = true)\n",
      " |    |-- mentions: array (nullable = true)\n",
      " |    |    |-- element: struct (containsNull = true)\n",
      " |    |    |    |-- end: long (nullable = true)\n",
      " |    |    |    |-- start: long (nullable = true)\n",
      " |    |    |    |-- username: string (nullable = true)\n",
      " |    |-- urls: array (nullable = true)\n",
      " |    |    |-- element: struct (containsNull = true)\n",
      " |    |    |    |-- description: string (nullable = true)\n",
      " |    |    |    |-- display_url: string (nullable = true)\n",
      " |    |    |    |-- end: long (nullable = true)\n",
      " |    |    |    |-- expanded_url: string (nullable = true)\n",
      " |    |    |    |-- images: array (nullable = true)\n",
      " |    |    |    |    |-- element: struct (containsNull = true)\n",
      " |    |    |    |    |    |-- height: long (nullable = true)\n",
      " |    |    |    |    |    |-- url: string (nullable = true)\n",
      " |    |    |    |    |    |-- width: long (nullable = true)\n",
      " |    |    |    |-- start: long (nullable = true)\n",
      " |    |    |    |-- status: long (nullable = true)\n",
      " |    |    |    |-- title: string (nullable = true)\n",
      " |    |    |    |-- unwound_url: string (nullable = true)\n",
      " |    |    |    |-- url: string (nullable = true)\n",
      " |-- hashtags: array (nullable = true)\n",
      " |    |-- element: string (containsNull = true)\n",
      " |-- like_count: long (nullable = true)\n",
      " |-- other: struct (nullable = true)\n",
      " |    |-- auteur_name: string (nullable = true)\n",
      " |-- reply_count: long (nullable = true)\n",
      " |-- retweet_count: long (nullable = true)\n",
      "\n",
      "+---------------+-------------------------------------+--------------------+--------+--------+----------+-----------------------------+-----------+-------------+\n",
      "|         auteur|                              contenu|       date_creation|entities|hashtags|like_count|                        other|reply_count|retweet_count|\n",
      "+---------------+-------------------------------------+--------------------+--------+--------+----------+-----------------------------+-----------+-------------+\n",
      "|   Aporante1150|       そういや皐月賞だったのか今日は|2021-04-18T08:20:...|    null|      []|         0|                 [アポロ🌵🐕]|          0|            0|\n",
      "|         sr8884|                 صباح أول اختبار ب...|2021-04-18T08:20:...|    null|      []|         0|         [شجيِّن‌‌عبدالعزي...|          0|            0|\n",
      "|      runto_613|ふぅ〜！！！！！！！！！！！！！！...|2021-04-18T08:20:...|    null|      []|         0|                   [こんよう]|          0|            0|\n",
      "|         R1___y| どっかのサブマネやりたいけど\n",
      "メイ...|2021-04-18T08:20:...|    null|      []|         1|[固ツイにリプして！𝚈𝚄𝚁?...|          0|            0|\n",
      "|JlGCfVHMhl4tn0Q|                 Иногда люди не по...|2021-04-18T08:20:...|    null|      []|         0|                  [Тина Сова]|          0|            0|\n",
      "+---------------+-------------------------------------+--------------------+--------+--------+----------+-----------------------------+-----------+-------------+\n",
      "only showing top 5 rows\n",
      "\n",
      "root\n",
      " |-- auteur: string (nullable = true)\n",
      " |-- contenu: string (nullable = true)\n",
      " |-- date_creation: string (nullable = true)\n",
      " |-- entities: struct (nullable = true)\n",
      " |    |-- annotations: array (nullable = true)\n",
      " |    |    |-- element: struct (containsNull = true)\n",
      " |    |    |    |-- end: long (nullable = true)\n",
      " |    |    |    |-- normalized_text: string (nullable = true)\n",
      " |    |    |    |-- probability: double (nullable = true)\n",
      " |    |    |    |-- start: long (nullable = true)\n",
      " |    |    |    |-- type: string (nullable = true)\n",
      " |    |-- cashtags: array (nullable = true)\n",
      " |    |    |-- element: struct (containsNull = true)\n",
      " |    |    |    |-- end: long (nullable = true)\n",
      " |    |    |    |-- start: long (nullable = true)\n",
      " |    |    |    |-- tag: string (nullable = true)\n",
      " |    |-- hashtags: array (nullable = true)\n",
      " |    |    |-- element: struct (containsNull = true)\n",
      " |    |    |    |-- end: long (nullable = true)\n",
      " |    |    |    |-- start: long (nullable = true)\n",
      " |    |    |    |-- tag: string (nullable = true)\n",
      " |    |-- mentions: array (nullable = true)\n",
      " |    |    |-- element: struct (containsNull = true)\n",
      " |    |    |    |-- end: long (nullable = true)\n",
      " |    |    |    |-- start: long (nullable = true)\n",
      " |    |    |    |-- username: string (nullable = true)\n",
      " |    |-- urls: array (nullable = true)\n",
      " |    |    |-- element: struct (containsNull = true)\n",
      " |    |    |    |-- description: string (nullable = true)\n",
      " |    |    |    |-- display_url: string (nullable = true)\n",
      " |    |    |    |-- end: long (nullable = true)\n",
      " |    |    |    |-- expanded_url: string (nullable = true)\n",
      " |    |    |    |-- images: array (nullable = true)\n",
      " |    |    |    |    |-- element: struct (containsNull = true)\n",
      " |    |    |    |    |    |-- height: long (nullable = true)\n",
      " |    |    |    |    |    |-- url: string (nullable = true)\n",
      " |    |    |    |    |    |-- width: long (nullable = true)\n",
      " |    |    |    |-- start: long (nullable = true)\n",
      " |    |    |    |-- status: long (nullable = true)\n",
      " |    |    |    |-- title: string (nullable = true)\n",
      " |    |    |    |-- unwound_url: string (nullable = true)\n",
      " |    |    |    |-- url: string (nullable = true)\n",
      " |-- hashtags: array (nullable = true)\n",
      " |    |-- element: string (containsNull = true)\n",
      " |-- like_count: long (nullable = true)\n",
      " |-- other: struct (nullable = true)\n",
      " |    |-- auteur_name: string (nullable = true)\n",
      " |-- reply_count: long (nullable = true)\n",
      " |-- retweet_count: long (nullable = true)"
     ]
    }
   ],
   "source": [
    "df_tweet.show(5)\n",
    "df_tweet.printSchema()\n",
    "df_tweet_big.show(5)\n",
    "df_tweet_big.printSchema()\n"
   ]
  },
  {
   "cell_type": "markdown",
   "id": "tribal-spencer",
   "metadata": {},
   "source": [
    "## 🥉Data frame basic manipulations\n",
    "\n",
    "If DataFrames are immutable, they can however be **_transformed_** in other DataFrames, in the sense that a modified copy is returned. Such **transformations** include: filtering, sampling, dropping columns, selecting columns, adding new columns...\n",
    "\n",
    "First, you can get information about the columns with:\n",
    "\n",
    "```python\n",
    "df.columns       # get the column names\n",
    "df.schema        # get the column names and their respective type\n",
    "df.printSchema() # same, but human-readable\n",
    "```\n",
    "\n",
    "You can select columns with the `select()` method. It takes as argument a list of column name. For example :\n",
    "\n",
    "```python\n",
    "df_with_less_columns = df\\\n",
    "  .select(\"variable3\",\"variable_four\",\"variable-6\")\n",
    "\n",
    "# Yes, you do need the ugly \\ at the end of the line,\n",
    "# if you want to chain methods between lines in Python\n",
    "```\n",
    "\n",
    "You can get nested columns easily with :\n",
    "\n",
    "```python\n",
    "df.select(\"parentField.nestedField\")\n",
    "```\n",
    "\n",
    "To filter data you could use the `filter()` method. It take as input an expression that gets evaluated for each observation and should return a boolean. Sampling is performed with the `sample()` method. For example :\n",
    "\n",
    "```python\n",
    "df_with_less_rows = df\\\n",
    "  .sample(fraction=0.001)\\\n",
    "  .filter(df.variable1==\"value\")\\\n",
    "  .show(10)\n",
    "```\n",
    "\n",
    "As said before your data are distributed over multiple nodes (executors) and data inside a node are split into partitions. Then each transformations will be run in parallel. They are called *narrow transformation* For example, to sample a DataFrame, Spark sample every partitions in parallel because sample all partition produce the sample DataFrame. For some transformations, like `groupBy()` it's impossible, and it's cannot be run in parallel.\n",
    "\n",
    "![](https://raw.githubusercontent.com/HealerMikado/panorama_big_data_2021/main/labs/lab%202%20-%20first%20steps%20with%20Spark/img/spark_exemple1_pipeline.png)\n",
    "\n",
    "<!-- take() collect() limit() first() show() -->\n",
    "<!-- lien vers la doc https://spark.apache.org/docs/3.1.1/api/python/reference/pyspark.sql.html#dataframe-apis -->\n",
    "\n",
    "### 😴Lazy evaluation\n",
    "\n",
    "This is because Spark has what is known as **lazy evaluation**, in the sense that it will wait as much as it can before performing the actual computation. Said otherwise, when you run an instruction such as:\n",
    "\n",
    "```python\n",
    "tweet_author_hashtags = df_tweet_big.select(\"auteur\",\"hashtags\")\n",
    "```\n",
    "\n",
    "... you are not executing anything! Rather, you are building an **execution plan**, to be realised later.\n",
    "\n",
    "Spark is quite extreme in its laziness, since only a handful of methods called **actions**, by opposition to **transformations**, will trigger an execution. The most notable are:\n",
    "\n",
    "1. `collect()`, explicitly asking Spark to fetch the resulting rows instead of to lazily wait for more instructions,\n",
    "2. `take(n)`, asking for `n` first rows\n",
    "3. `first()`, an alias for `take(1)`\n",
    "4. `show()` and `show(n)`, human-friendly alternatives[^5]\n",
    "5. `count()`, asking for the numbers of rows\n",
    "6. all the \"write\" methods (write on file, write to database), see [here](https://spark.apache.org/docs/3.1.1/api/python/reference/pyspark.sql.html#input-and-output) for the list\n",
    "\n",
    "[^5]: `first()` is exactly `take(1)` ([ref]( https://stackoverflow.com/questions/37495039/difference-between-spark-rdds-take1-and-first)) and show prints the result instead of returning it as a list of rows ([ref](https://stackoverflow.com/questions/53884994/what-is-the-difference-between-dataframe-show-and-dataframe-take-in-spark-t))\n",
    "\n",
    "**This has advantages:** on huge data, you don't want to accidently perform a computation that is not needed. Also, Spark can optimize each **stage** of the execution in regard to what comes next. For instance, filters will be executed as early as possible, since it diminishes the number of rows on which to perform later operations. On the contrary, joins are very computation-intense and will be executed as late as possible. The resulting **execution plan** consists in a **directed acyclic graph** (DAG) that contains the tree of all required actions for a specific computation, ordered in the most effective fashion.\n",
    "\n",
    "**This has also drawbacks.** Since the computation is optimized for the end result, the intermediate stages are discarded by default. So if you need a DataFrame multiple times, you have to cache it in memory because if you don't Spark will recompute it every single time. \n",
    "\n",
    "---\n",
    "\n",
    "### ✍Hands-on 2 - Data frame basic manipulations\n",
    "\n",
    "- How many rows have your two DataFrame ?"
   ]
  },
  {
   "cell_type": "code",
   "execution_count": 7,
   "id": "strong-level",
   "metadata": {},
   "outputs": [
    {
     "data": {
      "application/vnd.jupyter.widget-view+json": {
       "model_id": "20087147755c4fdf9ce095d28f826f9c",
       "version_major": 2,
       "version_minor": 0
      },
      "text/plain": [
       "VBox()"
      ]
     },
     "metadata": {},
     "output_type": "display_data"
    },
    {
     "data": {
      "application/vnd.jupyter.widget-view+json": {
       "model_id": "",
       "version_major": 2,
       "version_minor": 0
      },
      "text/plain": [
       "FloatProgress(value=0.0, bar_style='info', description='Progress:', layout=Layout(height='25px', width='50%'),…"
      ]
     },
     "metadata": {},
     "output_type": "display_data"
    },
    {
     "name": "stdout",
     "output_type": "stream",
     "text": [
      "the small DF has 1000 rows\n",
      "the big DF has 2588000 rows"
     ]
    }
   ],
   "source": [
    "print(f'the small DF has {df_tweet.count()} rows')\n",
    "print(f'the big DF has {df_tweet_big.count()} rows')"
   ]
  },
  {
   "cell_type": "markdown",
   "id": "signal-weather",
   "metadata": {},
   "source": [
    "- Sample `df_tweet_big` and keep only 10% of it. Create a new DataFrame named `df_tweet_sampled`. If computations take too long on the full DataFrame, use this one instead or add a sample transformation in your expression. "
   ]
  },
  {
   "cell_type": "code",
   "execution_count": 9,
   "id": "egyptian-agreement",
   "metadata": {},
   "outputs": [
    {
     "data": {
      "application/vnd.jupyter.widget-view+json": {
       "model_id": "db7c3e27ef95460aa0b90255ec39cfb8",
       "version_major": 2,
       "version_minor": 0
      },
      "text/plain": [
       "VBox()"
      ]
     },
     "metadata": {},
     "output_type": "display_data"
    },
    {
     "data": {
      "application/vnd.jupyter.widget-view+json": {
       "model_id": "",
       "version_major": 2,
       "version_minor": 0
      },
      "text/plain": [
       "FloatProgress(value=0.0, bar_style='info', description='Progress:', layout=Layout(height='25px', width='50%'),…"
      ]
     },
     "metadata": {},
     "output_type": "display_data"
    }
   ],
   "source": [
    "df_tweet_sampled = df_tweet_big.sample(fraction=0.1)"
   ]
  },
  {
   "cell_type": "markdown",
   "id": "operating-great",
   "metadata": {},
   "source": [
    "- Define a DataFrame `tweet_author_hashtags`  with only the `auteur` and `hashtags` columns"
   ]
  },
  {
   "cell_type": "code",
   "execution_count": 10,
   "id": "varying-lucas",
   "metadata": {},
   "outputs": [
    {
     "data": {
      "application/vnd.jupyter.widget-view+json": {
       "model_id": "3a1b320258eb4cb084eb6fc836a20c6e",
       "version_major": 2,
       "version_minor": 0
      },
      "text/plain": [
       "VBox()"
      ]
     },
     "metadata": {},
     "output_type": "display_data"
    },
    {
     "data": {
      "application/vnd.jupyter.widget-view+json": {
       "model_id": "",
       "version_major": 2,
       "version_minor": 0
      },
      "text/plain": [
       "FloatProgress(value=0.0, bar_style='info', description='Progress:', layout=Layout(height='25px', width='50%'),…"
      ]
     },
     "metadata": {},
     "output_type": "display_data"
    },
    {
     "name": "stdout",
     "output_type": "stream",
     "text": [
      "+---------------+--------+\n",
      "|         auteur|hashtags|\n",
      "+---------------+--------+\n",
      "|   Aporante1150|      []|\n",
      "|         sr8884|      []|\n",
      "|      runto_613|      []|\n",
      "|         R1___y|      []|\n",
      "|JlGCfVHMhl4tn0Q|      []|\n",
      "+---------------+--------+\n",
      "only showing top 5 rows"
     ]
    }
   ],
   "source": [
    "tweet_author_hashtags = df_tweet_big.select(\"auteur\", \"hashtags\")\n",
    "tweet_author_hashtags.show(5)"
   ]
  },
  {
   "cell_type": "markdown",
   "id": "popular-anime",
   "metadata": {},
   "source": [
    "- Print (few lines of) a DataFrame with only the `auteur`, `mentions`, and `urls` columns. (`mentions` and `urls` are both nested columns in `entities`.)"
   ]
  },
  {
   "cell_type": "code",
   "execution_count": 11,
   "id": "ahead-victoria",
   "metadata": {},
   "outputs": [
    {
     "data": {
      "application/vnd.jupyter.widget-view+json": {
       "model_id": "e264c5a3d8984a769b5eba1b5b18557f",
       "version_major": 2,
       "version_minor": 0
      },
      "text/plain": [
       "VBox()"
      ]
     },
     "metadata": {},
     "output_type": "display_data"
    },
    {
     "data": {
      "application/vnd.jupyter.widget-view+json": {
       "model_id": "",
       "version_major": 2,
       "version_minor": 0
      },
      "text/plain": [
       "FloatProgress(value=0.0, bar_style='info', description='Progress:', layout=Layout(height='25px', width='50%'),…"
      ]
     },
     "metadata": {},
     "output_type": "display_data"
    },
    {
     "name": "stdout",
     "output_type": "stream",
     "text": [
      "+---------------+----+--------+\n",
      "|         auteur|urls|mentions|\n",
      "+---------------+----+--------+\n",
      "|   Aporante1150|null|    null|\n",
      "|         sr8884|null|    null|\n",
      "|      runto_613|null|    null|\n",
      "|         R1___y|null|    null|\n",
      "|JlGCfVHMhl4tn0Q|null|    null|\n",
      "+---------------+----+--------+\n",
      "only showing top 5 rows"
     ]
    }
   ],
   "source": [
    "df_tweet_big.select(\"auteur\", \"entities.urls\", \"entities.mentions\").show(5)"
   ]
  },
  {
   "cell_type": "markdown",
   "id": "monetary-calculation",
   "metadata": {},
   "source": [
    "- Filter your first DataFrame and keep only tweets with more than 1 like. Give a name for this new, transformed DataFrame and print. Print (few lines of) it."
   ]
  },
  {
   "cell_type": "code",
   "execution_count": 13,
   "id": "declared-expression",
   "metadata": {},
   "outputs": [
    {
     "data": {
      "application/vnd.jupyter.widget-view+json": {
       "model_id": "83dd8df82a454e01a8a0111ea3919835",
       "version_major": 2,
       "version_minor": 0
      },
      "text/plain": [
       "VBox()"
      ]
     },
     "metadata": {},
     "output_type": "display_data"
    },
    {
     "data": {
      "application/vnd.jupyter.widget-view+json": {
       "model_id": "",
       "version_major": 2,
       "version_minor": 0
      },
      "text/plain": [
       "FloatProgress(value=0.0, bar_style='info', description='Progress:', layout=Layout(height='25px', width='50%'),…"
      ]
     },
     "metadata": {},
     "output_type": "display_data"
    },
    {
     "name": "stdout",
     "output_type": "stream",
     "text": [
      "+-------------+------------------------------------+--------------------+-----------------------+----------------------------------+----------+-----------------------------+-----------+-------------+\n",
      "|       auteur|                             contenu|       date_creation|               entities|                          hashtags|like_count|                        other|reply_count|retweet_count|\n",
      "+-------------+------------------------------------+--------------------+-----------------------+----------------------------------+----------+-----------------------------+-----------+-------------+\n",
      "|       R1___y|どっかのサブマネやりたいけど\n",
      "メイ...|2021-04-18T08:20:...|                   null|                                []|         1|[固ツイにリプして！𝚈𝚄𝚁?...|          0|            0|\n",
      "|   Ryoutaxx19|休みが終わっちゃうなぁ\n",
      "ムラムラを...|2021-04-18T08:20:...|[,, [[48, 35, 裏アカ...|[裏アカ女子とつながりたい, 裏ア...|         1|                     [Ryo-🌵]|          0|            0|\n",
      "| Cigar_smoke_| 동생넘어졌대소 얼레벌레 학교체육...|2021-04-18T08:20:...|                   null|                                []|         1|     [메인트 트친소 인간마약]|          0|            0|\n",
      "| stixxntricks|                @Vioncii unfortun...|2021-04-18T08:20:...|   [,,, [[8, 0, Vion...|                                []|         2|              [˗ˏˋ stix. ✎ ❞]|          0|            0|\n",
      "|dondon_ryry28|                @BattleOfTokyo @g...|2021-04-18T08:20:...|   [,,, [[14, 0, Bat...|                                []|         1|                     [りょう]|          0|            0|\n",
      "+-------------+------------------------------------+--------------------+-----------------------+----------------------------------+----------+-----------------------------+-----------+-------------+\n",
      "only showing top 5 rows"
     ]
    }
   ],
   "source": [
    "df_tweet_big.filter(df_tweet_big.like_count > 0).show(5)"
   ]
  },
  {
   "cell_type": "markdown",
   "id": "intelligent-wagon",
   "metadata": {},
   "source": [
    "## 🥈Basic DataFrame column manipulation \n",
    "\n",
    "You can add/update/rename column of a DataFrame with spark :\n",
    "\n",
    "- Drop : `df.drop(columnName : str )`\n",
    "- Rename : `df.withColumnRenamed(oldName : str, newName : str)`\n",
    "- Add/update : `df.withColumn(columnName : str, columnExpression)` \n",
    "\n",
    "For example\n",
    "\n",
    "```python\n",
    "tweet_df_with_like_rt_ratio = tweet_df\\\n",
    "  .withColumn(        # computes new variable\n",
    "    \"like_rt_ratio\", # like_rt_ratio \"OVERCONFIDENCE\"\n",
    "    (tweet_df.like_count /flights.retweet_count\n",
    "   )\n",
    "\n",
    "```\n",
    "\n",
    "See [here](https://spark.apache.org/docs/3.1.1/api/python/reference/pyspark.sql.html#functions) for the list of all functions available in an expression.\n",
    "\n",
    "### ✍Hands-on 3 - Basic DataFrame column manipulation  \n",
    "\n",
    "- Define a DataFrame with a column names `interaction_count`. This column is the sum of `like_count`, `reply_count` and `retweet_count`."
   ]
  },
  {
   "cell_type": "code",
   "execution_count": 15,
   "id": "naughty-mixer",
   "metadata": {},
   "outputs": [
    {
     "data": {
      "application/vnd.jupyter.widget-view+json": {
       "model_id": "9b7940113d2e4199a1b87ee1f7ee0e26",
       "version_major": 2,
       "version_minor": 0
      },
      "text/plain": [
       "VBox()"
      ]
     },
     "metadata": {},
     "output_type": "display_data"
    },
    {
     "data": {
      "application/vnd.jupyter.widget-view+json": {
       "model_id": "",
       "version_major": 2,
       "version_minor": 0
      },
      "text/plain": [
       "FloatProgress(value=0.0, bar_style='info', description='Progress:', layout=Layout(height='25px', width='50%'),…"
      ]
     },
     "metadata": {},
     "output_type": "display_data"
    },
    {
     "name": "stdout",
     "output_type": "stream",
     "text": [
      "+---------------+-------------------------------------+--------------------+--------+--------+----------+-----------------------------+-----------+-------------+-----------------+\n",
      "|         auteur|                              contenu|       date_creation|entities|hashtags|like_count|                        other|reply_count|retweet_count|interaction_count|\n",
      "+---------------+-------------------------------------+--------------------+--------+--------+----------+-----------------------------+-----------+-------------+-----------------+\n",
      "|   Aporante1150|       そういや皐月賞だったのか今日は|2021-04-18T08:20:...|    null|      []|         0|                 [アポロ🌵🐕]|          0|            0|                0|\n",
      "|         sr8884|                 صباح أول اختبار ب...|2021-04-18T08:20:...|    null|      []|         0|         [شجيِّن‌‌عبدالعزي...|          0|            0|                0|\n",
      "|      runto_613|ふぅ〜！！！！！！！！！！！！！！...|2021-04-18T08:20:...|    null|      []|         0|                   [こんよう]|          0|            0|                0|\n",
      "|         R1___y| どっかのサブマネやりたいけど\n",
      "メイ...|2021-04-18T08:20:...|    null|      []|         1|[固ツイにリプして！𝚈𝚄𝚁?...|          0|            0|                1|\n",
      "|JlGCfVHMhl4tn0Q|                 Иногда люди не по...|2021-04-18T08:20:...|    null|      []|         0|                  [Тина Сова]|          0|            0|                0|\n",
      "+---------------+-------------------------------------+--------------------+--------+--------+----------+-----------------------------+-----------+-------------+-----------------+\n",
      "only showing top 5 rows"
     ]
    }
   ],
   "source": [
    "df_tweet_big_interation = df_tweet_big.withColumn(\"interaction_count\", df_tweet_big.like_count+df_tweet_big.reply_count+df_tweet_big.retweet_count )\n",
    "df_tweet_big_interation.show(5)"
   ]
  },
  {
   "cell_type": "markdown",
   "id": "aerial-textbook",
   "metadata": {},
   "source": [
    "- Update the DataFrame you imported at the beginning of this lab and drop the `other` column"
   ]
  },
  {
   "cell_type": "code",
   "execution_count": 16,
   "id": "recent-state",
   "metadata": {},
   "outputs": [
    {
     "data": {
      "application/vnd.jupyter.widget-view+json": {
       "model_id": "7a5df7171f0e4ebfbfbe66e7c08dee76",
       "version_major": 2,
       "version_minor": 0
      },
      "text/plain": [
       "VBox()"
      ]
     },
     "metadata": {},
     "output_type": "display_data"
    },
    {
     "data": {
      "application/vnd.jupyter.widget-view+json": {
       "model_id": "",
       "version_major": 2,
       "version_minor": 0
      },
      "text/plain": [
       "FloatProgress(value=0.0, bar_style='info', description='Progress:', layout=Layout(height='25px', width='50%'),…"
      ]
     },
     "metadata": {},
     "output_type": "display_data"
    }
   ],
   "source": [
    "df_tweet_big = df_tweet_big.drop(\"other\")"
   ]
  },
  {
   "cell_type": "markdown",
   "id": "biblical-involvement",
   "metadata": {},
   "source": [
    "## 🥇Advance DataFrame column manipulation \n",
    "\n",
    "### 🥽Array manipulation\n",
    "\n",
    "Some columns often contain arrays (lists) of values instead of just one value. This may seem surprising but this actually quite natural. For instance, you may create an array of words from a text, or generate a list of random numbers for each observation, etc.\n",
    "\n",
    "You may **create array of values** with:\n",
    "\n",
    "- `split(text : string, delimiter : string)`, turning a text into an array of strings\n",
    "\n",
    "You may **use array of values** with:\n",
    "\n",
    "- `size(array : Array)`, getting the number of elements\n",
    "\n",
    "- `array_contains(inputArray : Array, value : any)`, checking if some value appears\n",
    "\n",
    "- `explode(array : Array)`, unnesting an array and duplicating other values. For instance it if use `explode()` over the hashtags value of this DataFrame:\n",
    "\n",
    "  | Auteur | Contenu                             | Hashtags         |\n",
    "  | ------ | ----------------------------------- | ---------------- |\n",
    "  | Bob    | I love #Spark and #bigdata          | [Spark, bigdata] |\n",
    "  | Alice  | Just finished #MHrise, best MH ever | [MHrise]         |\n",
    "\n",
    "  I will get :\n",
    "\n",
    "  | Auteur | Contenu                             | Hashtags         | Hashtag |\n",
    "  | ------ | ----------------------------------- | ---------------- | ------- |\n",
    "  | Bob    | I love #Spark and #bigdata          | [Spark, bigdata] | Spark   |\n",
    "  | Bob    | I love #Spark and #bigdata          | [Spark, bigdata] | bigdata |\n",
    "  | Alice  | Just finished #MHrise, best MH ever | [MHrise]         | MHrise  |\n",
    "\n",
    "  \n",
    "\n",
    "All this function must be imported first :\n",
    "\n",
    "```python\n",
    "from pyspark.sql.functions import split, explode, size, array_contains\n",
    "```\n",
    "\n",
    "Do not forget, to create a new column, you should use `withColumn()`. For example : \n",
    "\n",
    "```python\n",
    "df.withColumn(\"new column\", explode(\"array\"))\n",
    "```\n",
    "\n",
    "#### ✍Hands-on 4 - Array manipulation \n",
    "\n",
    "- Keep all the tweets with hashtags and for each remaining line, split the hashtag text into an array of hashtags"
   ]
  },
  {
   "cell_type": "code",
   "execution_count": 18,
   "id": "residential-uncertainty",
   "metadata": {},
   "outputs": [
    {
     "data": {
      "application/vnd.jupyter.widget-view+json": {
       "model_id": "f67a2a686c4346ab90916870d5a4f95b",
       "version_major": 2,
       "version_minor": 0
      },
      "text/plain": [
       "VBox()"
      ]
     },
     "metadata": {},
     "output_type": "display_data"
    },
    {
     "data": {
      "application/vnd.jupyter.widget-view+json": {
       "model_id": "",
       "version_major": 2,
       "version_minor": 0
      },
      "text/plain": [
       "FloatProgress(value=0.0, bar_style='info', description='Progress:', layout=Layout(height='25px', width='50%'),…"
      ]
     },
     "metadata": {},
     "output_type": "display_data"
    }
   ],
   "source": [
    "from pyspark.sql.functions import split, explode, size, array_contains"
   ]
  },
  {
   "cell_type": "code",
   "execution_count": 19,
   "id": "chicken-reproduction",
   "metadata": {},
   "outputs": [
    {
     "data": {
      "application/vnd.jupyter.widget-view+json": {
       "model_id": "8bc1e0216e0641c9bca245e9c2134df1",
       "version_major": 2,
       "version_minor": 0
      },
      "text/plain": [
       "VBox()"
      ]
     },
     "metadata": {},
     "output_type": "display_data"
    },
    {
     "data": {
      "application/vnd.jupyter.widget-view+json": {
       "model_id": "",
       "version_major": 2,
       "version_minor": 0
      },
      "text/plain": [
       "FloatProgress(value=0.0, bar_style='info', description='Progress:', layout=Layout(height='25px', width='50%'),…"
      ]
     },
     "metadata": {},
     "output_type": "display_data"
    },
    {
     "name": "stdout",
     "output_type": "stream",
     "text": [
      "+-----------+-----------------------------------+--------------------+-------------------------+---------------------------------+----------+-----------+-------------+------------------+\n",
      "|     auteur|                            contenu|       date_creation|                 entities|                         hashtags|like_count|reply_count|retweet_count|           hashtag|\n",
      "+-----------+-----------------------------------+--------------------+-------------------------+---------------------------------+----------+-----------+-------------+------------------+\n",
      "|    1262422|みんなからの匿名質問を募集中！\n",
      "\n",
      "...|2021-04-18T08:20:...|[[[21, さちこさん, 0.6...|         [質問箱, 匿名質問募集中]|         0|          0|            0|            質問箱|\n",
      "|    1262422|みんなからの匿名質問を募集中！\n",
      "\n",
      "...|2021-04-18T08:20:...|[[[21, さちこさん, 0.6...|         [質問箱, 匿名質問募集中]|         0|          0|            0|    匿名質問募集中|\n",
      "|ifamart0392|               RT @BabyBujingjin...|2021-04-18T08:20:...|     [,, [[135, 130, S...|                           [SB19]|         0|          0|            8|              SB19|\n",
      "|    evaayra|               RT @skatingjapan:...|2021-04-18T08:20:...|   [[[69, 日本, 0.4786...|[フィギュアスケート, 羽生結弦,...|         0|          0|         1450|フィギュアスケート|\n",
      "|    evaayra|               RT @skatingjapan:...|2021-04-18T08:20:...|   [[[69, 日本, 0.4786...|[フィギュアスケート, 羽生結弦,...|         0|          0|         1450|          羽生結弦|\n",
      "+-----------+-----------------------------------+--------------------+-------------------------+---------------------------------+----------+-----------+-------------+------------------+\n",
      "only showing top 5 rows"
     ]
    }
   ],
   "source": [
    "df_tweet_big.filter(size(\"hashtags\") > 0).withColumn(\"hashtag\", explode(\"hashtags\")).show(5)"
   ]
  },
  {
   "cell_type": "markdown",
   "id": "classified-message",
   "metadata": {},
   "source": [
    "- Create a new column with the number of words of the `contenu` column. (Use `split()` + `size()`)"
   ]
  },
  {
   "cell_type": "code",
   "execution_count": 23,
   "id": "useful-printer",
   "metadata": {},
   "outputs": [
    {
     "data": {
      "application/vnd.jupyter.widget-view+json": {
       "model_id": "971b778cc0cd41408720be3e8d78a024",
       "version_major": 2,
       "version_minor": 0
      },
      "text/plain": [
       "VBox()"
      ]
     },
     "metadata": {},
     "output_type": "display_data"
    },
    {
     "data": {
      "application/vnd.jupyter.widget-view+json": {
       "model_id": "",
       "version_major": 2,
       "version_minor": 0
      },
      "text/plain": [
       "FloatProgress(value=0.0, bar_style='info', description='Progress:', layout=Layout(height='25px', width='50%'),…"
      ]
     },
     "metadata": {},
     "output_type": "display_data"
    },
    {
     "name": "stdout",
     "output_type": "stream",
     "text": [
      "+---------------+-------------------------------------+--------------------+--------+--------+----------+-----------+-------------+----------+\n",
      "|         auteur|                              contenu|       date_creation|entities|hashtags|like_count|reply_count|retweet_count|word_count|\n",
      "+---------------+-------------------------------------+--------------------+--------+--------+----------+-----------+-------------+----------+\n",
      "|   Aporante1150|       そういや皐月賞だったのか今日は|2021-04-18T08:20:...|    null|      []|         0|          0|            0|         1|\n",
      "|         sr8884|                 صباح أول اختبار ب...|2021-04-18T08:20:...|    null|      []|         0|          0|            0|         9|\n",
      "|      runto_613|ふぅ〜！！！！！！！！！！！！！！...|2021-04-18T08:20:...|    null|      []|         0|          0|            0|         1|\n",
      "|         R1___y| どっかのサブマネやりたいけど\n",
      "メイ...|2021-04-18T08:20:...|    null|      []|         1|          0|            0|         1|\n",
      "|JlGCfVHMhl4tn0Q|                 Иногда люди не по...|2021-04-18T08:20:...|    null|      []|         0|          0|            0|        12|\n",
      "+---------------+-------------------------------------+--------------------+--------+--------+----------+-----------+-------------+----------+\n",
      "only showing top 5 rows"
     ]
    }
   ],
   "source": [
    "df_tweet_big.withColumn(\"word_count\", size(split(\"contenu\", \" \"))).show(5)"
   ]
  },
  {
   "cell_type": "markdown",
   "id": "apparent-silly",
   "metadata": {},
   "source": [
    "- Count how many tweet contain the `covid19` hashtag (use the `count()` action)"
   ]
  },
  {
   "cell_type": "code",
   "execution_count": 26,
   "id": "democratic-rapid",
   "metadata": {},
   "outputs": [
    {
     "data": {
      "application/vnd.jupyter.widget-view+json": {
       "model_id": "d1ca1c3b5c8747439210ff5d64d0daa1",
       "version_major": 2,
       "version_minor": 0
      },
      "text/plain": [
       "VBox()"
      ]
     },
     "metadata": {},
     "output_type": "display_data"
    },
    {
     "data": {
      "application/vnd.jupyter.widget-view+json": {
       "model_id": "",
       "version_major": 2,
       "version_minor": 0
      },
      "text/plain": [
       "FloatProgress(value=0.0, bar_style='info', description='Progress:', layout=Layout(height='25px', width='50%'),…"
      ]
     },
     "metadata": {},
     "output_type": "display_data"
    },
    {
     "name": "stdout",
     "output_type": "stream",
     "text": [
      "9238"
     ]
    }
   ],
   "source": [
    "df_tweet_big.filter(array_contains(\"hashtags\", \"COVID19\")).count()"
   ]
  },
  {
   "cell_type": "markdown",
   "id": "adequate-seeker",
   "metadata": {},
   "source": [
    "### 🥼User defined function\n",
    "\n",
    "For more very specific column manipulation you will need Spark's `udf()` function (*User Defined Function*). It can be useful if you Spark does not provide a feature you want. But Spark is a popular and active project, so before coding an udf, go check the documentation. For instance for natural language processing, Spark already has some [functions](https://spark.apache.org/docs/3.1.1/api/python/reference/api/pyspark.ml.feature.Tokenizer.html#pyspark.ml.feature.Tokenizer). Last things, python udf can lead to performance issues (see https://stackoverflow.com/a/38297050) and learning a little bit of scala or java can be a good idea.\n",
    "\n",
    "For example :\n",
    "\n",
    "```python\n",
    "# !!!! DOES NOT WORK !!!!\n",
    "def to_lower_case(string):\n",
    "\treturn string.lower()\n",
    "\t\n",
    "df.withColumn(\"tweet_lower_case\", to_lower_case(df.contenu))\n",
    "```\n",
    "\n",
    "will just crash. Keep in mind that Spark is a distributed system, and that Python is only installed on the central node, as a convenience to let you execute instructions on the executor nodes. But by default, pure Python functions can only be executed where Python is installed! We need `udf()` to enable Spark to send Python instructions to the worker nodes.\n",
    "\n",
    "Let us see how it is done :\n",
    "\n",
    "```python\n",
    "# imports\n",
    "from pyspark.sql.functions import udf\n",
    "from pyspark.sql.functions import explode\n",
    "from pyspark.sql.types import StringType\n",
    "\n",
    "# pure python functions\n",
    "def to_lower_case(string):\n",
    "    return string.lower()\n",
    "\n",
    "# user definid function\n",
    "to_lower_case_udf = udf(\n",
    "    lambda x: to_lower_case(x), StringType()\n",
    ") #we use a lambda function to create the udf.\n",
    "\n",
    "# df manipulation\n",
    "df_tweet_small\\\n",
    "  .select(\"auteur\",\"hashtags\")\\\n",
    "  .filter(\"size(hashtags)!=0\")\\\n",
    "  .withColumn(\"hashtag\", explode(\"hashtags\"))\\\n",
    "  .withColumn(\"hashtag\", to_lower_case_udf(\"hashtag\")).show(10)\n",
    "```\n",
    "\n",
    "---\n",
    "\n",
    "#### ✍Hands-on 5 - User defined function \n",
    "\n",
    "- Create an user defined function that counts how many words a tweet contains. (your function will return an `IntegerType` and not a `StringType`)"
   ]
  },
  {
   "cell_type": "code",
   "execution_count": 27,
   "id": "respective-combination",
   "metadata": {},
   "outputs": [
    {
     "data": {
      "application/vnd.jupyter.widget-view+json": {
       "model_id": "e8e0efd8a50d49239811a45cc1f5526c",
       "version_major": 2,
       "version_minor": 0
      },
      "text/plain": [
       "VBox()"
      ]
     },
     "metadata": {},
     "output_type": "display_data"
    },
    {
     "data": {
      "application/vnd.jupyter.widget-view+json": {
       "model_id": "",
       "version_major": 2,
       "version_minor": 0
      },
      "text/plain": [
       "FloatProgress(value=0.0, bar_style='info', description='Progress:', layout=Layout(height='25px', width='50%'),…"
      ]
     },
     "metadata": {},
     "output_type": "display_data"
    },
    {
     "name": "stdout",
     "output_type": "stream",
     "text": [
      "+---------------+-------------------------------------+--------------------+--------------------+--------+----------+-----------+-------------+----------+\n",
      "|         auteur|                              contenu|       date_creation|            entities|hashtags|like_count|reply_count|retweet_count|word_count|\n",
      "+---------------+-------------------------------------+--------------------+--------------------+--------+----------+-----------+-------------+----------+\n",
      "|   Aporante1150|       そういや皐月賞だったのか今日は|2021-04-18T08:20:...|                null|      []|         0|          0|            0|         1|\n",
      "|         sr8884|                 صباح أول اختبار ب...|2021-04-18T08:20:...|                null|      []|         0|          0|            0|         9|\n",
      "|      runto_613|ふぅ〜！！！！！！！！！！！！！！...|2021-04-18T08:20:...|                null|      []|         0|          0|            0|         1|\n",
      "|         R1___y| どっかのサブマネやりたいけど\n",
      "メイ...|2021-04-18T08:20:...|                null|      []|         1|          0|            0|         1|\n",
      "|JlGCfVHMhl4tn0Q|                 Иногда люди не по...|2021-04-18T08:20:...|                null|      []|         0|          0|            0|        12|\n",
      "|     Ma11150880|                 يارب رحمتك وعفوك ...|2021-04-18T08:20:...|                null|      []|         0|          0|            0|         4|\n",
      "|    SebMendozab|                 No todo lo que no...|2021-04-18T08:20:...|                null|      []|         0|          0|            0|         9|\n",
      "|          gcbs_|                 RT @nellybarradas...|2021-04-18T08:20:...|[,,, [[17, 3, nel...|      []|         0|          0|            6|         6|\n",
      "|     JEgermaier|                 Já myslel, že šíř...|2021-04-18T08:20:...|                null|      []|         0|          0|            0|         7|\n",
      "|    iamstrwbrry|                 @iamUnworthyy bes...|2021-04-18T08:20:...|[,,, [[13, 0, iam...|      []|         0|          0|            0|         4|\n",
      "+---------------+-------------------------------------+--------------------+--------------------+--------+----------+-----------+-------------+----------+\n",
      "only showing top 10 rows"
     ]
    }
   ],
   "source": [
    "# imports\n",
    "from pyspark.sql.functions import udf\n",
    "from pyspark.sql.types import IntegerType\n",
    "\n",
    "# pure python functions\n",
    "def word_count(string):\n",
    "    return len(string.split(\" \"))\n",
    "\n",
    "# user definid function\n",
    "word_count_udf = udf(\n",
    "    lambda x: word_count(x), IntegerType()\n",
    ") #we use a lambda function to create the udf.\n",
    "\n",
    "# df manipulation\n",
    "df_tweet_big\\\n",
    "  .withColumn(\"word_count\", word_count_udf(\"contenu\")).show(10)"
   ]
  },
  {
   "cell_type": "markdown",
   "id": "affiliated-reset",
   "metadata": {},
   "source": [
    "## 🔩Aggregation functions\n",
    "\n",
    "Spark offer a variety of aggregation functions :\n",
    "\n",
    "- `count(column : string)` will count every not null value of the specify column. You cant use `count(1)` of `count(\"*\")` to count every line (even row with only null values)\n",
    "\n",
    "- `countDisctinct(column : string)` and `approx_count_distinct(column : string, percent_error: float)`. If the exact number is irrelevant, `approx_count_distinct()`should be preferred.\n",
    "\n",
    "  Counting distinct elements cannot be done in parallel, and need a lot data transfer. But if you only need an approximation, there is a algorithm, named hyper-log-log (more info [here](https://databricks.com/fr/blog/2016/05/19/approximate-algorithms-in-apache-spark-hyperloglog-and-quantiles.html)) that can be parallelized. \n",
    "\n",
    "  ```python\n",
    "  from pyspark.sql.functions import count, countDistinct, approx_count_distinct\n",
    "  \n",
    "  df.select(count(\"col1\")).show()\n",
    "  df.select(countDistinct(\"col1\")).show()\n",
    "  df.select(approx_count_distinct(\"col1\"), 0.1).show()\n",
    "  ```\n",
    "\n",
    "- You have access to all other common functions `min()`, `max()`, `first()`, `last()`, `sum()`, `sumDistinct()`, `avg()` etc (you should import them first `from pyspark.sql.functions import min, max, avg, first, last, sum, sumDistinct`) \n",
    "\n",
    "---\n",
    "\n",
    "### ✍Hands-on 6 - Aggregation functions\n",
    "\n",
    "- What are the min, max, average of `interaction_count`"
   ]
  },
  {
   "cell_type": "code",
   "execution_count": 29,
   "id": "through-liabilities",
   "metadata": {},
   "outputs": [
    {
     "data": {
      "application/vnd.jupyter.widget-view+json": {
       "model_id": "85a5673ec3f4419ab30eb231a2dc950c",
       "version_major": 2,
       "version_minor": 0
      },
      "text/plain": [
       "VBox()"
      ]
     },
     "metadata": {},
     "output_type": "display_data"
    },
    {
     "data": {
      "application/vnd.jupyter.widget-view+json": {
       "model_id": "",
       "version_major": 2,
       "version_minor": 0
      },
      "text/plain": [
       "FloatProgress(value=0.0, bar_style='info', description='Progress:', layout=Layout(height='25px', width='50%'),…"
      ]
     },
     "metadata": {},
     "output_type": "display_data"
    }
   ],
   "source": [
    "from pyspark.sql.functions import min, max, avg, first, last, sum, sumDistinct"
   ]
  },
  {
   "cell_type": "code",
   "execution_count": 36,
   "id": "forced-kitty",
   "metadata": {},
   "outputs": [
    {
     "data": {
      "application/vnd.jupyter.widget-view+json": {
       "model_id": "e9a24c29d0384c6ca964b13a6835ace4",
       "version_major": 2,
       "version_minor": 0
      },
      "text/plain": [
       "VBox()"
      ]
     },
     "metadata": {},
     "output_type": "display_data"
    },
    {
     "data": {
      "application/vnd.jupyter.widget-view+json": {
       "model_id": "",
       "version_major": 2,
       "version_minor": 0
      },
      "text/plain": [
       "FloatProgress(value=0.0, bar_style='info', description='Progress:', layout=Layout(height='25px', width='50%'),…"
      ]
     },
     "metadata": {},
     "output_type": "display_data"
    },
    {
     "name": "stdout",
     "output_type": "stream",
     "text": [
      "Row(min(interaction_count)=0, max(interaction_count)=2670900, avg(interaction_count)=2111.469003863988)"
     ]
    }
   ],
   "source": [
    "df_tweet_big_interation.select(min(\"interaction_count\"),max(\"interaction_count\"),avg(\"interaction_count\")).first()"
   ]
  },
  {
   "cell_type": "markdown",
   "id": "jewish-invite",
   "metadata": {},
   "source": [
    "- How many tweets have hashtags ? Distinct hashtags ? Try the approximative count with 0.1 and 0.01as maximum estimation error allowed."
   ]
  },
  {
   "cell_type": "code",
   "execution_count": 39,
   "id": "armed-bhutan",
   "metadata": {},
   "outputs": [
    {
     "data": {
      "application/vnd.jupyter.widget-view+json": {
       "model_id": "2ecf121de78c494c96ed826cb1e5962b",
       "version_major": 2,
       "version_minor": 0
      },
      "text/plain": [
       "VBox()"
      ]
     },
     "metadata": {},
     "output_type": "display_data"
    },
    {
     "data": {
      "application/vnd.jupyter.widget-view+json": {
       "model_id": "",
       "version_major": 2,
       "version_minor": 0
      },
      "text/plain": [
       "FloatProgress(value=0.0, bar_style='info', description='Progress:', layout=Layout(height='25px', width='50%'),…"
      ]
     },
     "metadata": {},
     "output_type": "display_data"
    }
   ],
   "source": [
    "from pyspark.sql.functions import count, countDistinct, approx_count_distinct"
   ]
  },
  {
   "cell_type": "code",
   "execution_count": 46,
   "id": "automotive-width",
   "metadata": {},
   "outputs": [
    {
     "data": {
      "application/vnd.jupyter.widget-view+json": {
       "model_id": "134cc6552c1741d5ac39f7e2c6cae3b8",
       "version_major": 2,
       "version_minor": 0
      },
      "text/plain": [
       "VBox()"
      ]
     },
     "metadata": {},
     "output_type": "display_data"
    },
    {
     "data": {
      "application/vnd.jupyter.widget-view+json": {
       "model_id": "",
       "version_major": 2,
       "version_minor": 0
      },
      "text/plain": [
       "FloatProgress(value=0.0, bar_style='info', description='Progress:', layout=Layout(height='25px', width='50%'),…"
      ]
     },
     "metadata": {},
     "output_type": "display_data"
    },
    {
     "name": "stdout",
     "output_type": "stream",
     "text": [
      "+---------------+------------------------+-------------------------------+-------------------------------+\n",
      "|count(hashtags)|count(DISTINCT hashtags)|approx_count_distinct(hashtags)|approx_count_distinct(hashtags)|\n",
      "+---------------+------------------------+-------------------------------+-------------------------------+\n",
      "|        2588000|                  141194|                         144632|                         139760|\n",
      "+---------------+------------------------+-------------------------------+-------------------------------+"
     ]
    }
   ],
   "source": [
    "df_tweet_big.select(count(\"hashtags\"), countDistinct(\"hashtags\"), approx_count_distinct(\"hashtags\", 0.1), approx_count_distinct(\"hashtags\",0.01)).show()"
   ]
  },
  {
   "cell_type": "markdown",
   "id": "rolled-enlargement",
   "metadata": {},
   "source": [
    "## Grouping functions\n",
    "\n",
    "Like SQL you can group row by a criteria with Spark. Just use the `groupBy(column : string)` method. Then you can compute some aggregation over those groups.\n",
    "\n",
    "```python\n",
    "df.groupBy(\"col1\").agg(\n",
    "  count(\"col2\").alias(\"quantity\") # alias is use to specify the name of the new column\n",
    ").show() \n",
    "```\n",
    "\n",
    "The `agg()` method can take multiples argument to compute multiple aggregation at once.\n",
    "\n",
    "```python\n",
    "df.groupBy(\"col1\").agg(\n",
    "\tcount(\"col2\").alias(\"quantity\"), min(\"col2\").alias(\"min\"), avg(\"col3\").alias(\"avg3\") ).show()\n",
    "```\n",
    "\n",
    "Aggregation and grouping transformations work differently than the previous method like `filter()`, `select()`, `withColumn()` etc. Those transformations cannot be run over each partitions in parallel, and need to transfer data between partitions and executors.  They are called \"wide transformations\"\n",
    "\n",
    "<img src=\"https://raw.githubusercontent.com/HealerMikado/panorama_big_data_2021/main/labs/lab%202%20-%20first%20steps%20with%20Spark/img/spark_exemple2_pipeline.png\" style=\"zoom:30%;\" />\n",
    "---\n",
    "\n",
    "### ✍Hands-on 7 - Grouping functions\n",
    "\n",
    "- Compute a daframe with the min, max and average retweet of each `auteur`. Then order it by the max number of retweet in descending order by . To do that you can use the following syntax\n",
    "\n",
    "  ```python\n",
    "  from pyspark.sql.functions import desc\n",
    "  df.orderBy(desc(\"col\"))\n",
    "  ```"
   ]
  },
  {
   "cell_type": "code",
   "execution_count": 48,
   "id": "prescription-astrology",
   "metadata": {},
   "outputs": [
    {
     "data": {
      "application/vnd.jupyter.widget-view+json": {
       "model_id": "05ace5af9bed498c81bb72b84278fa1d",
       "version_major": 2,
       "version_minor": 0
      },
      "text/plain": [
       "VBox()"
      ]
     },
     "metadata": {},
     "output_type": "display_data"
    },
    {
     "data": {
      "application/vnd.jupyter.widget-view+json": {
       "model_id": "",
       "version_major": 2,
       "version_minor": 0
      },
      "text/plain": [
       "FloatProgress(value=0.0, bar_style='info', description='Progress:', layout=Layout(height='25px', width='50%'),…"
      ]
     },
     "metadata": {},
     "output_type": "display_data"
    },
    {
     "name": "stdout",
     "output_type": "stream",
     "text": [
      "+-----------+-------+-------+---------+\n",
      "|     auteur| min_RT| max_RT|   avg_RT|\n",
      "+-----------+-------+-------+---------+\n",
      "|liamsbestie|2670900|2670900|2670900.0|\n",
      "|savage_hazz|2670257|2670257|2670257.0|\n",
      "|     lrtsee|2670241|2670241|2670241.0|\n",
      "|   Bjk_km13|1466240|1466240|1466240.0|\n",
      "|  Kimkati15|1465141|1465141|1465141.0|\n",
      "+-----------+-------+-------+---------+\n",
      "only showing top 5 rows"
     ]
    }
   ],
   "source": [
    "from pyspark.sql.functions import desc\n",
    "df_tweet_big.groupBy(\"auteur\").agg(min(\"retweet_count\").alias(\"min_RT\"), max(\"retweet_count\").alias(\"max_RT\"), avg(\"retweet_count\").alias(\"avg_RT\")).orderBy(desc(\"max_RT\")).show(5)"
   ]
  },
  {
   "cell_type": "markdown",
   "id": "secret-surveillance",
   "metadata": {},
   "source": [
    "## 🔌Spark SQL\n",
    "\n",
    "Spark understand SQL statement. It's not a hack nor a workaround to use SQL in Spark, it's one a the more powerful feature in Spark. To use SQL in you need :\n",
    "\n",
    "1. Register a view pointing to your DataFrame\n",
    "\n",
    "   ```python\n",
    "   my_df.createOrReplaceTempView(viewName : str)\n",
    "   ```\n",
    "\n",
    "2. Use the sql function\n",
    "\n",
    "   ```python\n",
    "   spark.sql(\"\"\"\n",
    "   You sql statment\n",
    "   \"\"\")\n",
    "   ```\n",
    "\n",
    "   You could manipulate every registered DataFrame by their view name with plain SQL.\n",
    "\n",
    "In fact you can do most of this tutorial without any knowledge in PySpark nor Spark. Lot of things can be done in Sparkk only by only knowing SQL and how to use it in Spark. \n",
    "\n",
    "### ✍Hands-on 8 - Spark SQL\n",
    "\n",
    "- How many tweets have hashtags ? Distinct hashtags ? "
   ]
  },
  {
   "cell_type": "code",
   "execution_count": 61,
   "id": "technological-intervention",
   "metadata": {},
   "outputs": [
    {
     "data": {
      "application/vnd.jupyter.widget-view+json": {
       "model_id": "4ce8f2b604bc4cf8aa5671b48159ef74",
       "version_major": 2,
       "version_minor": 0
      },
      "text/plain": [
       "VBox()"
      ]
     },
     "metadata": {},
     "output_type": "display_data"
    },
    {
     "data": {
      "application/vnd.jupyter.widget-view+json": {
       "model_id": "",
       "version_major": 2,
       "version_minor": 0
      },
      "text/plain": [
       "FloatProgress(value=0.0, bar_style='info', description='Progress:', layout=Layout(height='25px', width='50%'),…"
      ]
     },
     "metadata": {},
     "output_type": "display_data"
    },
    {
     "name": "stdout",
     "output_type": "stream",
     "text": [
      "+--------+-----------------------+\n",
      "|count(1)|count(DISTINCT contenu)|\n",
      "+--------+-----------------------+\n",
      "|  459675|                 343802|\n",
      "+--------+-----------------------+"
     ]
    }
   ],
   "source": [
    "df_tweet_big.select(\"contenu\", \"hashtags\").createOrReplaceTempView(\"view_hashtag_content\")\n",
    "\n",
    "spark.sql(\"\"\"\n",
    "SELECT COUNT(*), COUNT(DISTINCT(contenu))\n",
    "FROM view_hashtag_content\n",
    "WHERE size(hashtags) > 0\n",
    "\"\"\").show(5)"
   ]
  },
  {
   "cell_type": "markdown",
   "id": "animal-lindsay",
   "metadata": {},
   "source": [
    "- Compute a dataframe with the min, max and average retweet of each `auteur` using Spark SQL"
   ]
  },
  {
   "cell_type": "code",
   "execution_count": 66,
   "id": "painful-variance",
   "metadata": {},
   "outputs": [
    {
     "data": {
      "application/vnd.jupyter.widget-view+json": {
       "model_id": "f132fb74437041718587efcd88e5cbaf",
       "version_major": 2,
       "version_minor": 0
      },
      "text/plain": [
       "VBox()"
      ]
     },
     "metadata": {},
     "output_type": "display_data"
    },
    {
     "data": {
      "application/vnd.jupyter.widget-view+json": {
       "model_id": "",
       "version_major": 2,
       "version_minor": 0
      },
      "text/plain": [
       "FloatProgress(value=0.0, bar_style='info', description='Progress:', layout=Layout(height='25px', width='50%'),…"
      ]
     },
     "metadata": {},
     "output_type": "display_data"
    },
    {
     "name": "stdout",
     "output_type": "stream",
     "text": [
      "+------------------+------------------+------------------+\n",
      "|min(retweet_count)|max(retweet_count)|avg(retweet_count)|\n",
      "+------------------+------------------+------------------+\n",
      "|           2670900|           2670900|         2670900.0|\n",
      "|           2670257|           2670257|         2670257.0|\n",
      "|           2670241|           2670241|         2670241.0|\n",
      "|           1466240|           1466240|         1466240.0|\n",
      "|           1465141|           1465141|         1465141.0|\n",
      "+------------------+------------------+------------------+\n",
      "only showing top 5 rows"
     ]
    }
   ],
   "source": [
    "df_tweet_big.createOrReplaceTempView(\"view_tweet_big\")\n",
    "spark.sql(\"\"\"\n",
    "SELECT min(retweet_count), max(retweet_count), avg(retweet_count)\n",
    "FROM view_tweet_big\n",
    "GROUP BY auteur\n",
    "ORDER BY MAX(retweet_count) DESC\n",
    "\"\"\").show(5)"
   ]
  },
  {
   "cell_type": "markdown",
   "id": "metallic-appliance",
   "metadata": {},
   "source": [
    "## Joins in Spark\n",
    "\n",
    "Like a SQL, Spark can join two dataset  by comparing the value of one or more keys using joins. Joins are by nature wide transformation, so data will be transferred between executors and will take time. But Spark will distinct two cases :\n",
    "\n",
    "- Big table to big table join\n",
    "- Big table to small table join\n",
    "- (The case small table to small table is irrelevant for big data)\n",
    "\n",
    "And optimize the join according to the actual case. (For more information Spark: The Definitive Guide pages 148 - 151)\n",
    "\n",
    "Doing a join is pretty easy. You need :\n",
    "\n",
    "- At least two DataFrames (obviously) with columns with the same keys\n",
    "- a join expression\n",
    "- the join transformation\n",
    "\n",
    "For instance :\n",
    "\n",
    "```python\n",
    "# Creation of 3 small DF\n",
    "person=spark.createDataFrame([\n",
    "    (0,\"Bill Chambers\",0,[100])\n",
    "    ,(1,\"Matei Zaharia\",1,[500,250,100])\n",
    "    ,(2,\"Michael Armbrust\",1,[250,100])])\\\n",
    "\t.toDF(\"id\",\"name\",\"graduate_program\",\"spark_status\")\n",
    "graduateProgram=spark.createDataFrame([\n",
    "    (0,\"Masters\",\"School of Information\",\"UC Berkeley\")\n",
    "    ,(2,\"Masters\",\"EECS\",\"UC Berkeley\"),(1,\"Ph.D.\",\"EECS\",\"UC Berkeley\")])\\\n",
    "\t.toDF(\"id\",\"degree\",\"department\",\"school\")\n",
    "sparkStatus=spark.createDataFrame([\n",
    "    (500,\"Vice President\")\n",
    "    ,(250,\"PMC Member\")\n",
    "    ,(100,\"Contributor\")])\\\n",
    "\t.toDF(\"id\",\"status\")\n",
    "    \n",
    "# A join expression\n",
    "joinExpression=person[\"graduate_program\"]==graduateProgram['id']\n",
    "\n",
    "# The join transformation in action\n",
    "person.join(graduateProgram, joinExpression).show()\n",
    "```\n",
    "\n",
    "By default Spark compute inner joins, but you can pass a third argument to the join transformation with its type. You can do :\n",
    "\n",
    "- Inner joins : by default or with the \"inner\" argument\n",
    "- Outer joins : \"outer\" argument\n",
    "- Left / right outer joins : \"left_outer\", \"right_outer\" argument\n",
    "- Left semi join : it's more a filter than a join. It only keep the row in the left DataFrame that have a match in the right DataFrame. Use he \"left_semi\" argument\n",
    "- Left anti join : The opposite of the previous one. Use he \"left_anti\" argument\n",
    "- You can do cross joins to, but it's a very bad idea to do so, so please don't !\n",
    "\n",
    "### ✍ Hands-on 9 - Joins in Spark\n",
    "\n",
    "- Import the files stored in `s3n://spark-lab-input-data-ensai20202021/users/` in a DataFrame  and its informations to your DataFrame. Filter your new DataFrame to only keep verified user (`verified == True`) and group by user and get the most active user of your DataFrame."
   ]
  },
  {
   "cell_type": "code",
   "execution_count": 93,
   "id": "acting-warrior",
   "metadata": {},
   "outputs": [
    {
     "data": {
      "application/vnd.jupyter.widget-view+json": {
       "model_id": "b8210daddc4c490da0095e7bf040e067",
       "version_major": 2,
       "version_minor": 0
      },
      "text/plain": [
       "VBox()"
      ]
     },
     "metadata": {},
     "output_type": "display_data"
    },
    {
     "data": {
      "application/vnd.jupyter.widget-view+json": {
       "model_id": "",
       "version_major": 2,
       "version_minor": 0
      },
      "text/plain": [
       "FloatProgress(value=0.0, bar_style='info', description='Progress:', layout=Layout(height='25px', width='50%'),…"
      ]
     },
     "metadata": {},
     "output_type": "display_data"
    }
   ],
   "source": [
    "from pyspark.sql.types import StructType,StructField, StringType, IntegerType, ArrayType, TimestampType, BooleanType\n",
    "schema = StructType([ \\\n",
    "    StructField(\"created_at\",TimestampType(),True), \\\n",
    "    StructField(\"id\",StringType(),True), \\\n",
    "    StructField(\"name\",StringType(),True), \\\n",
    "    StructField(\"username\", StringType(), True), \\\n",
    "    StructField(\"withheld\",StructType([ \n",
    "        StructField(\"country_codes\", ArrayType(StringType(),True)),\\\n",
    "        StructField(\"scope\", StringType(), True)  \\\n",
    "    ])),\n",
    "    StructField(\"verified\",BooleanType(),True)             \n",
    "  ])"
   ]
  },
  {
   "cell_type": "code",
   "execution_count": 101,
   "id": "requested-official",
   "metadata": {},
   "outputs": [
    {
     "data": {
      "application/vnd.jupyter.widget-view+json": {
       "model_id": "d08fbb9441624b8b972da244bb59f60e",
       "version_major": 2,
       "version_minor": 0
      },
      "text/plain": [
       "VBox()"
      ]
     },
     "metadata": {},
     "output_type": "display_data"
    },
    {
     "data": {
      "application/vnd.jupyter.widget-view+json": {
       "model_id": "",
       "version_major": 2,
       "version_minor": 0
      },
      "text/plain": [
       "FloatProgress(value=0.0, bar_style='info', description='Progress:', layout=Layout(height='25px', width='50%'),…"
      ]
     },
     "metadata": {},
     "output_type": "display_data"
    },
    {
     "name": "stdout",
     "output_type": "stream",
     "text": [
      "+--------------------+-------------------+--------------------+---------------+--------+--------+\n",
      "|          created_at|                 id|                name|       username|verified|withheld|\n",
      "+--------------------+-------------------+--------------------+---------------+--------+--------+\n",
      "|2019-10-14T07:29:...|1183645830277992448|Diamond Plastic C...|plastic_company|   false|    null|\n",
      "|2020-07-03T12:57:...|1279036490429771776|            安田流佳|Q1oApaNoqiekjcQ|   false|    null|\n",
      "|2021-01-25T22:56:...|1353839203029643265|       ❄침대(파도)🌊|  twinkle_wave_|   false|    null|\n",
      "|2016-05-21T10:35:...| 733969482243178497|   エリンギ語録Botン| eringi_kusobot|   false|    null|\n",
      "|2020-06-17T13:27:...|1273245870130032642|ยิ้นนี้โลกละลาย🍼...|   Israporn9675|   false|    null|\n",
      "+--------------------+-------------------+--------------------+---------------+--------+--------+\n",
      "only showing top 5 rows"
     ]
    }
   ],
   "source": [
    "df_user_big = spark.read.json(\"s3n://spark-lab-input-data-ensai20202021/users/\")\n",
    "df_user_big.cache()\n",
    "df_user_big.show(5)"
   ]
  },
  {
   "cell_type": "code",
   "execution_count": 102,
   "id": "planned-collectible",
   "metadata": {},
   "outputs": [
    {
     "data": {
      "application/vnd.jupyter.widget-view+json": {
       "model_id": "c99e3557fe27426c9ee1c17e5365e88b",
       "version_major": 2,
       "version_minor": 0
      },
      "text/plain": [
       "VBox()"
      ]
     },
     "metadata": {},
     "output_type": "display_data"
    },
    {
     "data": {
      "application/vnd.jupyter.widget-view+json": {
       "model_id": "",
       "version_major": 2,
       "version_minor": 0
      },
      "text/plain": [
       "FloatProgress(value=0.0, bar_style='info', description='Progress:', layout=Layout(height='25px', width='50%'),…"
      ]
     },
     "metadata": {},
     "output_type": "display_data"
    },
    {
     "name": "stdout",
     "output_type": "stream",
     "text": [
      "root\n",
      " |-- created_at: string (nullable = true)\n",
      " |-- id: string (nullable = true)\n",
      " |-- name: string (nullable = true)\n",
      " |-- username: string (nullable = true)\n",
      " |-- verified: boolean (nullable = true)\n",
      " |-- withheld: struct (nullable = true)\n",
      " |    |-- country_codes: array (nullable = true)\n",
      " |    |    |-- element: string (containsNull = true)\n",
      " |    |-- scope: string (nullable = true)"
     ]
    }
   ],
   "source": [
    "df_user_big.printSchema()"
   ]
  },
  {
   "cell_type": "code",
   "execution_count": 97,
   "id": "atmospheric-thailand",
   "metadata": {},
   "outputs": [
    {
     "data": {
      "application/vnd.jupyter.widget-view+json": {
       "model_id": "d03ea17288b54086be4d3de42368683a",
       "version_major": 2,
       "version_minor": 0
      },
      "text/plain": [
       "VBox()"
      ]
     },
     "metadata": {},
     "output_type": "display_data"
    },
    {
     "data": {
      "application/vnd.jupyter.widget-view+json": {
       "model_id": "",
       "version_major": 2,
       "version_minor": 0
      },
      "text/plain": [
       "FloatProgress(value=0.0, bar_style='info', description='Progress:', layout=Layout(height='25px', width='50%'),…"
      ]
     },
     "metadata": {},
     "output_type": "display_data"
    },
    {
     "name": "stdout",
     "output_type": "stream",
     "text": [
      "2565000"
     ]
    }
   ],
   "source": [
    "from pyspark.sql.functions import to_date, lit\n",
    "df_user_big.filter(\"created_at\" > to_date(lit(\"2019-01-01\"))).count()"
   ]
  },
  {
   "cell_type": "code",
   "execution_count": 98,
   "id": "corporate-battle",
   "metadata": {},
   "outputs": [
    {
     "data": {
      "application/vnd.jupyter.widget-view+json": {
       "model_id": "713ffdc5230540f192441056613939bc",
       "version_major": 2,
       "version_minor": 0
      },
      "text/plain": [
       "VBox()"
      ]
     },
     "metadata": {},
     "output_type": "display_data"
    },
    {
     "data": {
      "application/vnd.jupyter.widget-view+json": {
       "model_id": "",
       "version_major": 2,
       "version_minor": 0
      },
      "text/plain": [
       "FloatProgress(value=0.0, bar_style='info', description='Progress:', layout=Layout(height='25px', width='50%'),…"
      ]
     },
     "metadata": {},
     "output_type": "display_data"
    },
    {
     "name": "stdout",
     "output_type": "stream",
     "text": [
      "567"
     ]
    }
   ],
   "source": [
    "df_user_big.filter(\"verified\").count()"
   ]
  },
  {
   "cell_type": "code",
   "execution_count": 99,
   "id": "alien-analyst",
   "metadata": {},
   "outputs": [
    {
     "data": {
      "application/vnd.jupyter.widget-view+json": {
       "model_id": "87c43941be6a4320bf804185a627f4c5",
       "version_major": 2,
       "version_minor": 0
      },
      "text/plain": [
       "VBox()"
      ]
     },
     "metadata": {},
     "output_type": "display_data"
    },
    {
     "data": {
      "application/vnd.jupyter.widget-view+json": {
       "model_id": "",
       "version_major": 2,
       "version_minor": 0
      },
      "text/plain": [
       "FloatProgress(value=0.0, bar_style='info', description='Progress:', layout=Layout(height='25px', width='50%'),…"
      ]
     },
     "metadata": {},
     "output_type": "display_data"
    },
    {
     "name": "stdout",
     "output_type": "stream",
     "text": [
      "+-------------------+-------------------+----------------------+-------------+--------+--------+-------------+-------------------------------------+--------------------+------------------------------+---------------------------------+----------+-----------+-------------+\n",
      "|         created_at|                 id|                  name|     username|withheld|verified|       auteur|                              contenu|       date_creation|                      entities|                         hashtags|like_count|reply_count|retweet_count|\n",
      "+-------------------+-------------------+----------------------+-------------+--------+--------+-------------+-------------------------------------+--------------------+------------------------------+---------------------------------+----------+-----------+-------------+\n",
      "|2018-03-17 12:13:38| 974982086368129024|              Aqua🦋🟥|    00020002L|    null|    null|    00020002L|                 RT @FantaCarrot_2...|2021-04-18T14:43:...|          [,,, [[19, 3, Fan...|                               []|         0|          0|            5|\n",
      "|2015-10-04 12:42:31|         3781168879|                  PM2M|     00081_MM|    null|    null|     00081_MM|                 RT @iriixn_: เชื่...|2021-04-17T14:03:...|          [,,, [[11, 3, iri...|                               []|         0|          0|            6|\n",
      "|2013-02-26 12:08:44|         1221416850|               المرحبي|     000_mosa|    null|    null|     000_mosa|                 RT @Gretest_: \"ال...|2021-04-17T17:18:...|          [,,, [[12, 3, Gre...|                               []|         0|          0|          194|\n",
      "|2020-06-17 13:49:40|1273251421350060033|      다나ᙏ̤̫ (반휴트)|     000mjmjj|    null|    null|     000mjmjj|               @Paradise_duk 나 불...|2021-04-17T09:34:...|          [,,, [[13, 0, Par...|                               []|         0|          0|            0|\n",
      "|2020-09-22 11:42:17|1308370966595198977|              000pa_ri|     000pa_ri|    null|    null|     000pa_ri|                         @mohii_md 👌|2021-04-16T20:14:...|          [,,, [[9, 0, mohi...|                               []|         0|          0|            0|\n",
      "|2019-01-27 03:28:27|1089364487071621120|ライスボール/ Riceball|  000riceball|    null|    null|  000riceball| 釣りばっかりのライスボールです\n",
      "ブ...|2021-04-18T09:30:...|[[[47, カーボンモノコック　...|[アメブロ, カーボンモノコック,...|         0|          0|            0|\n",
      "|2021-02-15 09:40:21|1361248947684052995|                    は|   000totmato|    null|    null|   000totmato|そろそろ勉強しなきゃ生活リズム直さ...|2021-04-17T13:29:...|                          null|                               []|         0|          0|            0|\n",
      "|2020-08-24 17:22:43|1297947409163513856|                ヘナヤ|       000ywy|    null|    null|       000ywy|                  @_pprayfah พี่เปนไร|2021-04-16T17:20:...|          [,,, [[10, 0, _pp...|                               []|         0|          0|            0|\n",
      "|2019-10-23 22:02:58|1187126516674482181|                 lotus| 001AAAAAAAAA|    null|    null| 001AAAAAAAAA|            @B75_Bomber あー、そう...|2021-04-17T10:45:...|          [,,, [[11, 0, B75...|                               []|         0|          0|            0|\n",
      "|2020-09-19 17:50:08|1307376410902765570|                  공일|    001_Staff|    null|    null|    001_Staff|                 RT @bungcar_bungk...|2021-04-17T11:19:...|          [,,, [[18, 3, bun...|                               []|         0|          0|           21|\n",
      "|2020-07-27 13:18:00|1287738980306313217|  𓈒 𓈒 𖤐 🎼 ซีโร่...|  002N3XTGURL|    null|    null|  002N3XTGURL|                                    K|2021-04-18T14:39:...|                          null|                               []|         0|          1|            0|\n",
      "|2017-12-07 00:47:03| 938570513408036865|  𝐍𝐚𝐫𝐜𝐨𝐩𝐚𝐭?...|  002spalding|    null|    null|  002spalding|                      @Aledograuu opa|2021-04-16T20:02:...|          [,,, [[11, 0, Ale...|                               []|         0|          0|            0|\n",
      "|2017-07-31 06:37:53| 891910769612169216|          もちこさん🐺|0046mochiko24|    null|    null|0046mochiko24|                @GIANTSGIANTSKS あ...|2021-04-17T11:26:...|          [,,, [[15, 0, GIA...|                               []|         0|          0|            0|\n",
      "|2011-12-02 14:42:04|          426663343|              Isabelle|  007Isabelle|    null|    null|  007Isabelle|                 RT @David88_01: #...|2021-04-17T13:31:...|          [,, [[29, 16, wee...|                   [weekendvibes]|         0|          0|          209|\n",
      "|2016-04-07 18:15:02| 718140037016199168|           MATHIEU 007|     007Jean5|    null|    null|     007Jean5|                 RT @FCSete34: Ter...|2021-04-18T12:42:...|          [,,, [[12, 3, FCS...|                               []|         0|          0|            1|\n",
      "|2016-04-07 18:15:02| 718140037016199168|           MATHIEU 007|     007Jean5|    null|    null|     007Jean5|                 RT @stadelavalloi...|2021-04-17T14:42:...|          [,, [[71, 61, LAV...|                      [LAVALFCVB]|         0|          0|            0|\n",
      "|2016-04-07 18:15:02| 718140037016199168|           MATHIEU 007|     007Jean5|    null|    null|     007Jean5|                 RT @RedStarFC: ⏱ ...|2021-04-18T13:36:...|          [,,, [[13, 3, Red...|                               []|         0|          0|            2|\n",
      "|2016-04-07 18:15:02| 718140037016199168|           MATHIEU 007|     007Jean5|    null|    null|     007Jean5|                 RT @StadeBriochin...|2021-04-17T13:39:...|          [,,, [[17, 3, Sta...|                               []|         0|          0|            1|\n",
      "|2016-04-07 18:15:02| 718140037016199168|           MATHIEU 007|     007Jean5|    null|    null|     007Jean5|                 RT @pasqua_f: Nou...|2021-04-17T13:47:...|          [,, [[70, 64, SBS...|                          [SBSCB]|         0|          0|            1|\n",
      "|2016-04-07 18:15:02| 718140037016199168|           MATHIEU 007|     007Jean5|    null|    null|     007Jean5|                 RT @FCMarseille: ...|2021-04-17T18:21:...|          [,, [[93, 87, OMF...|                 [OMFCL, liveFCM]|         0|          0|           11|\n",
      "+-------------------+-------------------+----------------------+-------------+--------+--------+-------------+-------------------------------------+--------------------+------------------------------+---------------------------------+----------+-----------+-------------+\n",
      "only showing top 20 rows"
     ]
    }
   ],
   "source": [
    "joinExpression=df_user_big[\"username\"]==df_tweet_big['auteur']\n",
    "\n",
    "df_user_big.join(df_tweet_big, joinExpression).show()"
   ]
  },
  {
   "cell_type": "code",
   "execution_count": 100,
   "id": "acquired-findings",
   "metadata": {},
   "outputs": [
    {
     "data": {
      "application/vnd.jupyter.widget-view+json": {
       "model_id": "7ace89a6f18f49c39ee9176f5b9e4331",
       "version_major": 2,
       "version_minor": 0
      },
      "text/plain": [
       "VBox()"
      ]
     },
     "metadata": {},
     "output_type": "display_data"
    },
    {
     "data": {
      "application/vnd.jupyter.widget-view+json": {
       "model_id": "",
       "version_major": 2,
       "version_minor": 0
      },
      "text/plain": [
       "FloatProgress(value=0.0, bar_style='info', description='Progress:', layout=Layout(height='25px', width='50%'),…"
      ]
     },
     "metadata": {},
     "output_type": "display_data"
    },
    {
     "name": "stdout",
     "output_type": "stream",
     "text": [
      "12385"
     ]
    }
   ],
   "source": [
    "df_user_big.join(df_tweet_big, joinExpression).filter(\"verified\").count()"
   ]
  },
  {
   "cell_type": "markdown",
   "id": "connected-fantasy",
   "metadata": {},
   "source": [
    "**DO NOT FORGET TO TURN YOUR CLUSTER OFF!**\n",
    "\n",
    "**DO NOT FORGET TO TURN YOUR CLUSTER OFF!**\n",
    "\n",
    "**DO NOT FORGET TO TURN YOUR CLUSTER OFF!**\n",
    "\n",
    "**DO NOT FORGET TO TURN YOUR CLUSTER OFF!**\n",
    "\n",
    "**DO NOT FORGET TO TURN YOUR CLUSTER OFF!**\n",
    "\n",
    "**DO NOT FORGET TO TURN YOUR CLUSTER OFF!**\n",
    "\n",
    "**DO NOT FORGET TO TURN YOUR CLUSTER OFF!**\n",
    "\n",
    "**DO NOT FORGET TO TURN YOUR CLUSTER OFF!**"
   ]
  }
 ],
 "metadata": {
  "kernelspec": {
   "display_name": "PySpark",
   "language": "",
   "name": "pysparkkernel"
  },
  "language_info": {
   "codemirror_mode": {
    "name": "python",
    "version": 2
   },
   "mimetype": "text/x-python",
   "name": "pyspark",
   "pygments_lexer": "python2"
  }
 },
 "nbformat": 4,
 "nbformat_minor": 5
}
