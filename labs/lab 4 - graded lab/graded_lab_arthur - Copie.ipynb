{
 "cells": [
  {
   "cell_type": "markdown",
   "id": "e86cc806-aef1-43b8-8baf-999932192145",
   "metadata": {
    "tags": []
   },
   "source": [
    "# Graded Lab : Exploring USA weather data\n",
    "\n",
    "In this lab you will explore weather data from National Oceanic and Atmospheric Administration (NOAA).\n",
    "\n",
    ">If your are curious, they are avalable here https://noaa-isd-pds.s3.amazonaws.com/index.html, or directly in FTP access here : ftp.ncdc.noaa.gov. You can find weather data from 1901 to today.\n",
    "\n",
    "Raw data are stored in ISD (Integrated Surface Data) format. It's a strange format, with a mandatory section with positional fields, and a additional section with variable fields. For this lab, the dataset has been transform into json. But no other processing had been done. For exemple, missing temperature are not filtered and are coded with 999.9. The lab's dataset contains more than 100 years of weather data. Its total size is about 4Go once compressed (and around 40Go uncrompressed).\n",
    "\n",
    "For instance, here is an exemple of a reccord"
   ]
  },
  {
   "cell_type": "markdown",
   "id": "069ea201-d80e-4264-9a0d-b8c2e38e79fc",
   "metadata": {},
   "source": [
    "```js\n",
    "{\n",
    "   \"weather_station\":\"010040\",\n",
    "   \"latitude\":78.933,\n",
    "   \"longitude\":11.883,\n",
    "   \"elevation\":42,\n",
    "   \"time\":\"1975-03-04T18:00:00+00:00\",\n",
    "   \"air_temperature\":{\n",
    "      \"value\":-24.0,\n",
    "      \"quality\":\"1\"\n",
    "   },\n",
    "   \"dew_point\":{\n",
    "      \"value\":-27.0,\n",
    "      \"quality\":\"1\"\n",
    "   },\n",
    "   \"wind_speed\":{\n",
    "      \"value\":1.0,\n",
    "      \"quality\":\"1\"\n",
    "   },\n",
    "   \"wind_direction\":{\n",
    "      \"value\":\"160\",\n",
    "      \"quality\":\"1\"\n",
    "   },\n",
    "   \"sea_level_pressure\":{\n",
    "      \"value\":1002.1,\n",
    "      \"quality\":\"\"\n",
    "   },\n",
    "   \"sky_ceiling\":{\n",
    "      \"value\":22000,\n",
    "      \"quality\":\"1\"\n",
    "   },\n",
    "   \"visibility_distance\":{\n",
    "      \"value\":50000,\n",
    "      \"quality\":\"1\"\n",
    "   },\n",
    "   \"liquid_precip\":[\n",
    "      {\n",
    "         \"hours\":99,\n",
    "         \"depth\":0.0\n",
    "      }\n",
    "   ],\n",
    "  \"sky_cover_condition\":[\n",
    "      {\n",
    "         \"base_height\":50000,\n",
    "         \"cloud_type\":\"Cirrus and/or Cirrocumulus\"\n",
    "\t\t \"coverage\":8\n",
    "      }\n",
    "   ],\n",
    "   \"extreme_temperature\":[\n",
    "      {\n",
    "         \"hours\":999,\n",
    "         \"code\":\"M\",\n",
    "         \"temperature\":{\n",
    "            \"value\":-23.0,\n",
    "            \"quality\":\"1\"\n",
    "         }\n",
    "      }\n",
    "   ]\n",
    "}\n",
    "```"
   ]
  },
  {
   "cell_type": "markdown",
   "id": "078f8668-37a7-46bd-887d-b0a074357c12",
   "metadata": {
    "tags": []
   },
   "source": [
    "## Setup the lab"
   ]
  },
  {
   "cell_type": "markdown",
   "id": "6bd34238-d628-4100-9900-a7b314f6bcb4",
   "metadata": {},
   "source": [
    "Is spark running ? You can start the lab once you get a message like `SparkSession available as 'spark'.`"
   ]
  },
  {
   "cell_type": "code",
   "execution_count": 1,
   "id": "f7c2cd00-b8a1-4259-822e-2f26d13a7506",
   "metadata": {
    "execution": {
     "iopub.execute_input": "2022-04-14T07:21:06.080969Z",
     "iopub.status.busy": "2022-04-14T07:21:06.080747Z",
     "iopub.status.idle": "2022-04-14T07:21:37.718045Z",
     "shell.execute_reply": "2022-04-14T07:21:37.717339Z",
     "shell.execute_reply.started": "2022-04-14T07:21:06.080943Z"
    },
    "tags": [],
    "vscode": {
     "languageId": "json"
    }
   },
   "outputs": [
    {
     "data": {
      "application/vnd.jupyter.widget-view+json": {
       "model_id": "f684f3886f1a473097dc3f2450acd5dc",
       "version_major": 2,
       "version_minor": 0
      },
      "text/plain": [
       "VBox()"
      ]
     },
     "metadata": {},
     "output_type": "display_data"
    },
    {
     "name": "stdout",
     "output_type": "stream",
     "text": [
      "Starting Spark application\n"
     ]
    },
    {
     "data": {
      "text/html": [
       "<table>\n",
       "<tr><th>ID</th><th>YARN Application ID</th><th>Kind</th><th>State</th><th>Spark UI</th><th>Driver log</th><th>User</th><th>Current session?</th></tr><tr><td>0</td><td>application_1649920197808_0001</td><td>pyspark</td><td>idle</td><td><a target=\"_blank\" href=\"http://ip-172-31-95-233.ec2.internal:20888/proxy/application_1649920197808_0001/\" class=\"emr-proxy-link\" emr-resource=\"j-X55LDM6T8G2W\n",
       "\" application-id=\"application_1649920197808_0001\">Link</a></td><td><a target=\"_blank\" href=\"http://ip-172-31-93-144.ec2.internal:8042/node/containerlogs/container_1649920197808_0001_01_000001/livy\" >Link</a></td><td>None</td><td>✔</td></tr></table>"
      ],
      "text/plain": [
       "<IPython.core.display.HTML object>"
      ]
     },
     "metadata": {},
     "output_type": "display_data"
    },
    {
     "data": {
      "application/vnd.jupyter.widget-view+json": {
       "model_id": "",
       "version_major": 2,
       "version_minor": 0
      },
      "text/plain": [
       "FloatProgress(value=0.0, bar_style='info', description='Progress:', layout=Layout(height='25px', width='50%'),…"
      ]
     },
     "metadata": {},
     "output_type": "display_data"
    },
    {
     "name": "stdout",
     "output_type": "stream",
     "text": [
      "SparkSession available as 'spark'.\n"
     ]
    },
    {
     "data": {
      "application/vnd.jupyter.widget-view+json": {
       "model_id": "",
       "version_major": 2,
       "version_minor": 0
      },
      "text/plain": [
       "FloatProgress(value=0.0, bar_style='info', description='Progress:', layout=Layout(height='25px', width='50%'),…"
      ]
     },
     "metadata": {},
     "output_type": "display_data"
    },
    {
     "name": "stdout",
     "output_type": "stream",
     "text": [
      "<pyspark.sql.session.SparkSession object at 0x7efef21d6750>"
     ]
    }
   ],
   "source": [
    "#Spark session\n",
    "spark\n",
    "\n",
    "# Configuraion\n",
    "spark._jsc.hadoopConfiguration().set(\"fs.s3.useRequesterPaysHeader\",\"true\")"
   ]
  },
  {
   "cell_type": "markdown",
   "id": "57843d29-880d-4e4b-922a-d03135cffb90",
   "metadata": {},
   "source": [
    "Usefull import for the lab. You can import more functions if you want"
   ]
  },
  {
   "cell_type": "code",
   "execution_count": 2,
   "id": "51b36402-8ad6-462c-8bfc-aa36374550b3",
   "metadata": {
    "execution": {
     "iopub.execute_input": "2022-04-14T11:43:16.774722Z",
     "iopub.status.busy": "2022-04-14T11:43:16.774513Z",
     "iopub.status.idle": "2022-04-14T11:43:17.616287Z",
     "shell.execute_reply": "2022-04-14T11:43:17.615594Z",
     "shell.execute_reply.started": "2022-04-14T11:43:16.774699Z"
    },
    "tags": [],
    "vscode": {
     "languageId": "json"
    }
   },
   "outputs": [
    {
     "data": {
      "application/vnd.jupyter.widget-view+json": {
       "model_id": "0a3e2741ced84b028ed7269da6404b01",
       "version_major": 2,
       "version_minor": 0
      },
      "text/plain": [
       "VBox()"
      ]
     },
     "metadata": {},
     "output_type": "display_data"
    },
    {
     "data": {
      "application/vnd.jupyter.widget-view+json": {
       "model_id": "",
       "version_major": 2,
       "version_minor": 0
      },
      "text/plain": [
       "FloatProgress(value=0.0, bar_style='info', description='Progress:', layout=Layout(height='25px', width='50%'),…"
      ]
     },
     "metadata": {},
     "output_type": "display_data"
    }
   ],
   "source": [
    "from pyspark.sql.window import Window\n",
    "from pyspark.sql.functions import count, min, max, mean, exp, first, from_json, window, col, expr, year, month, explode, sum, row_number, avg, abs\n",
    "from pyspark.sql.types import StructType,StructField, StringType, IntegerType, ArrayType, TimestampType, BooleanType, LongType, DoubleType\n",
    "from pyspark.ml.feature import VectorAssembler\n",
    "from pyspark.ml.regression import LinearRegression"
   ]
  },
  {
   "cell_type": "markdown",
   "id": "e65b2ff2-e895-4f72-96e6-3d41789e9d0c",
   "metadata": {},
   "source": [
    "Data schema"
   ]
  },
  {
   "cell_type": "code",
   "execution_count": 9,
   "id": "39e2db0e-3659-4b77-8d71-2c7afe3d9df6",
   "metadata": {
    "execution": {
     "iopub.execute_input": "2022-04-14T12:05:13.562146Z",
     "iopub.status.busy": "2022-04-14T12:05:13.561926Z",
     "iopub.status.idle": "2022-04-14T12:05:13.629126Z",
     "shell.execute_reply": "2022-04-14T12:05:13.628591Z",
     "shell.execute_reply.started": "2022-04-14T12:05:13.562122Z"
    },
    "tags": [],
    "vscode": {
     "languageId": "json"
    }
   },
   "outputs": [
    {
     "data": {
      "application/vnd.jupyter.widget-view+json": {
       "model_id": "14d0f98e4e44475c8274b2c196961819",
       "version_major": 2,
       "version_minor": 0
      },
      "text/plain": [
       "VBox()"
      ]
     },
     "metadata": {},
     "output_type": "display_data"
    },
    {
     "data": {
      "application/vnd.jupyter.widget-view+json": {
       "model_id": "",
       "version_major": 2,
       "version_minor": 0
      },
      "text/plain": [
       "FloatProgress(value=0.0, bar_style='info', description='Progress:', layout=Layout(height='25px', width='50%'),…"
      ]
     },
     "metadata": {},
     "output_type": "display_data"
    }
   ],
   "source": [
    "schema = StructType([\n",
    "    StructField(\"air_temperature\",StructType([\n",
    "        StructField(\"quality\",StringType(),True)\n",
    "        ,StructField(\"value\",DoubleType(),True)]),True)\n",
    "    ,StructField(\"dew_point\",StructType([\n",
    "        StructField(\"quality\",StringType(),True)\n",
    "        ,StructField(\"value\",DoubleType(),True)]),True)\n",
    "    ,StructField(\"wind_speed\",StructType([\n",
    "        StructField(\"quality\",StringType(),True)\n",
    "        ,StructField(\"value\",DoubleType(),True)]),True)\n",
    "    ,StructField(\"elevation\",LongType(),True)\n",
    "    ,StructField(\"extreme_temperature\",ArrayType(StructType([\n",
    "        StructField(\"code\",StringType(),True)\n",
    "        ,StructField(\"hours\",LongType(),True)\n",
    "        ,StructField(\"temperature\",StructType([\n",
    "            StructField(\"quality\",StringType(),True)\n",
    "            ,StructField(\"value\",DoubleType(),True)]),True)]),True),True)\n",
    "    ,StructField(\"latitude\",DoubleType(),True)\n",
    "    ,StructField(\"liquid_precip\",ArrayType(StructType([\n",
    "        StructField(\"depth\",StringType(),True)\n",
    "        ,StructField(\"hours\",LongType(),True)]),True),True)\n",
    "    ,StructField(\"longitude\",DoubleType(),True)\n",
    "    ,StructField(\"sea_level_pressure\",StructType([\n",
    "        StructField(\"quality\",StringType(),True),\n",
    "        StructField(\"value\",DoubleType(),True)]),True)\n",
    "    ,StructField(\"sky_ceiling\",StructType([\n",
    "        StructField(\"quality\",StringType(),True)\n",
    "        ,StructField(\"value\",LongType(),True)]),True)\n",
    "    ,StructField(\"sky_cover_condition\",ArrayType(StructType([\n",
    "        StructField(\"base_height\",LongType(),True)\n",
    "        ,StructField(\"cloud_type\",StringType(),True)\n",
    "        ,StructField(\"coverage\",LongType(),True)]),True),True)\n",
    "    ,StructField(\"time\",TimestampType(),True)\n",
    "    ,StructField(\"visibility_distance\",StructType([\n",
    "        StructField(\"quality\",StringType(),True)\n",
    "        ,StructField(\"value\",LongType(),True)]),True)\n",
    "    ,StructField(\"weather_station\",StringType(),True)\n",
    "    ,StructField(\"wind_direction\",StructType([\n",
    "        StructField(\"quality\",StringType(),True),\n",
    "        StructField(\"value\",StringType(),True)]),True)])"
   ]
  },
  {
   "cell_type": "markdown",
   "id": "eb074211-695d-497f-9335-e96626e778d6",
   "metadata": {},
   "source": [
    "## Student part"
   ]
  },
  {
   "cell_type": "markdown",
   "id": "8678893a-4aef-4d2e-a644-d9349ae388de",
   "metadata": {},
   "source": [
    "1. Import the dataset and apply the schema."
   ]
  },
  {
   "cell_type": "code",
   "execution_count": 10,
   "id": "3993bb88-ddfe-4deb-ad7b-0ecfe694ce9d",
   "metadata": {
    "execution": {
     "iopub.execute_input": "2022-04-14T12:05:16.479832Z",
     "iopub.status.busy": "2022-04-14T12:05:16.479609Z",
     "iopub.status.idle": "2022-04-14T12:05:16.760741Z",
     "shell.execute_reply": "2022-04-14T12:05:16.760030Z",
     "shell.execute_reply.started": "2022-04-14T12:05:16.479809Z"
    },
    "tags": [],
    "vscode": {
     "languageId": "json"
    }
   },
   "outputs": [
    {
     "data": {
      "application/vnd.jupyter.widget-view+json": {
       "model_id": "6e0f3ac92610499e9905612cab801c4c",
       "version_major": 2,
       "version_minor": 0
      },
      "text/plain": [
       "VBox()"
      ]
     },
     "metadata": {},
     "output_type": "display_data"
    },
    {
     "data": {
      "application/vnd.jupyter.widget-view+json": {
       "model_id": "",
       "version_major": 2,
       "version_minor": 0
      },
      "text/plain": [
       "FloatProgress(value=0.0, bar_style='info', description='Progress:', layout=Layout(height='25px', width='50%'),…"
      ]
     },
     "metadata": {},
     "output_type": "display_data"
    }
   ],
   "source": [
    "meteo = spark.read.json(\"s3://spark-lab-input-data-ensai20212022/weather_data/\", schema=schema)"
   ]
  },
  {
   "cell_type": "markdown",
   "id": "824ad462-31e2-4efb-a63c-8f8ccc41021c",
   "metadata": {
    "execution": {
     "iopub.execute_input": "2022-04-08T13:36:09.210494Z",
     "iopub.status.busy": "2022-04-08T13:36:09.210246Z",
     "iopub.status.idle": "2022-04-08T13:36:09.279307Z",
     "shell.execute_reply": "2022-04-08T13:36:09.278694Z",
     "shell.execute_reply.started": "2022-04-08T13:36:09.210468Z"
    },
    "tags": []
   },
   "source": [
    "2. Print the dataframe schema. **What type of variable is the \"quality\" of the different records?**"
   ]
  },
  {
   "cell_type": "code",
   "execution_count": 30,
   "id": "be386767-bf56-43e2-b573-e56d4c8a6579",
   "metadata": {
    "execution": {
     "iopub.execute_input": "2022-04-14T07:41:15.110081Z",
     "iopub.status.busy": "2022-04-14T07:41:15.109860Z",
     "iopub.status.idle": "2022-04-14T07:41:15.165510Z",
     "shell.execute_reply": "2022-04-14T07:41:15.164928Z",
     "shell.execute_reply.started": "2022-04-14T07:41:15.110056Z"
    },
    "tags": [],
    "vscode": {
     "languageId": "json"
    }
   },
   "outputs": [
    {
     "data": {
      "application/vnd.jupyter.widget-view+json": {
       "model_id": "fabbfece5b2848799ce25b363f0004cb",
       "version_major": 2,
       "version_minor": 0
      },
      "text/plain": [
       "VBox()"
      ]
     },
     "metadata": {},
     "output_type": "display_data"
    },
    {
     "data": {
      "application/vnd.jupyter.widget-view+json": {
       "model_id": "",
       "version_major": 2,
       "version_minor": 0
      },
      "text/plain": [
       "FloatProgress(value=0.0, bar_style='info', description='Progress:', layout=Layout(height='25px', width='50%'),…"
      ]
     },
     "metadata": {},
     "output_type": "display_data"
    },
    {
     "name": "stdout",
     "output_type": "stream",
     "text": [
      "root\n",
      " |-- air_temperature: struct (nullable = true)\n",
      " |    |-- quality: string (nullable = true)\n",
      " |    |-- value: double (nullable = true)\n",
      " |-- dew_point: struct (nullable = true)\n",
      " |    |-- quality: string (nullable = true)\n",
      " |    |-- value: double (nullable = true)\n",
      " |-- elevation: long (nullable = true)\n",
      " |-- extreme_temperature: array (nullable = true)\n",
      " |    |-- element: struct (containsNull = true)\n",
      " |    |    |-- code: string (nullable = true)\n",
      " |    |    |-- hours: long (nullable = true)\n",
      " |    |    |-- temperature: struct (nullable = true)\n",
      " |    |    |    |-- quality: string (nullable = true)\n",
      " |    |    |    |-- value: double (nullable = true)\n",
      " |-- latitude: double (nullable = true)\n",
      " |-- liquid_precip: array (nullable = true)\n",
      " |    |-- element: struct (containsNull = true)\n",
      " |    |    |-- depth: string (nullable = true)\n",
      " |    |    |-- hours: long (nullable = true)\n",
      " |-- longitude: double (nullable = true)\n",
      " |-- sea_level_pressure: struct (nullable = true)\n",
      " |    |-- quality: string (nullable = true)\n",
      " |    |-- value: double (nullable = true)\n",
      " |-- sky_ceiling: struct (nullable = true)\n",
      " |    |-- quality: string (nullable = true)\n",
      " |    |-- value: long (nullable = true)\n",
      " |-- sky_cover_condition: array (nullable = true)\n",
      " |    |-- element: struct (containsNull = true)\n",
      " |    |    |-- base_height: string (nullable = true)\n",
      " |    |    |-- cloud_type: string (nullable = true)\n",
      " |    |    |-- coverage: string (nullable = true)\n",
      " |-- time: timestamp (nullable = true)\n",
      " |-- visibility_distance: struct (nullable = true)\n",
      " |    |-- quality: string (nullable = true)\n",
      " |    |-- value: long (nullable = true)\n",
      " |-- weather_station: string (nullable = true)\n",
      " |-- wind_direction: struct (nullable = true)\n",
      " |    |-- quality: string (nullable = true)\n",
      " |    |-- value: string (nullable = true)"
     ]
    }
   ],
   "source": [
    "meteo.printSchema()"
   ]
  },
  {
   "cell_type": "markdown",
   "id": "f3cdd4e0-7ea6-4c9a-b304-6cbf43bdf004",
   "metadata": {},
   "source": [
    "3. Print the first 5 rows. You can use `vertical=True`to get a prettier result "
   ]
  },
  {
   "cell_type": "code",
   "execution_count": 11,
   "id": "e18039be-74f8-4228-af8a-0f30ce924557",
   "metadata": {
    "execution": {
     "iopub.execute_input": "2022-04-14T12:05:19.098053Z",
     "iopub.status.busy": "2022-04-14T12:05:19.097831Z",
     "iopub.status.idle": "2022-04-14T12:05:26.430778Z",
     "shell.execute_reply": "2022-04-14T12:05:26.430071Z",
     "shell.execute_reply.started": "2022-04-14T12:05:19.098030Z"
    },
    "tags": [],
    "vscode": {
     "languageId": "json"
    }
   },
   "outputs": [
    {
     "data": {
      "application/vnd.jupyter.widget-view+json": {
       "model_id": "26c7fb754a55457c9b8cb330ca41d662",
       "version_major": 2,
       "version_minor": 0
      },
      "text/plain": [
       "VBox()"
      ]
     },
     "metadata": {},
     "output_type": "display_data"
    },
    {
     "data": {
      "application/vnd.jupyter.widget-view+json": {
       "model_id": "",
       "version_major": 2,
       "version_minor": 0
      },
      "text/plain": [
       "FloatProgress(value=0.0, bar_style='info', description='Progress:', layout=Layout(height='25px', width='50%'),…"
      ]
     },
     "metadata": {},
     "output_type": "display_data"
    },
    {
     "name": "stdout",
     "output_type": "stream",
     "text": [
      "-RECORD 0-----------------------------------\n",
      " air_temperature     | [1, -11.0]           \n",
      " dew_point           | [1, -16.0]           \n",
      " wind_speed          | [1, 13.4]            \n",
      " elevation           | 9                    \n",
      " extreme_temperature | null                 \n",
      " latitude            | 70.933               \n",
      " liquid_precip       | [[\"NaN\", 6]]         \n",
      " longitude           | -8.667               \n",
      " sea_level_pressure  | [, 1000.5]           \n",
      " sky_ceiling         | [1, 22000]           \n",
      " sky_cover_condition | null                 \n",
      " time                | 1976-01-01 00:00:00  \n",
      " visibility_distance | [1, 30000]           \n",
      " weather_station     | 010010               \n",
      " wind_direction      | [1, 350]             \n",
      "-RECORD 1-----------------------------------\n",
      " air_temperature     | [1, -11.0]           \n",
      " dew_point           | [1, -16.0]           \n",
      " wind_speed          | [1, 10.3]            \n",
      " elevation           | 9                    \n",
      " extreme_temperature | null                 \n",
      " latitude            | 70.933               \n",
      " liquid_precip       | null                 \n",
      " longitude           | -8.667               \n",
      " sea_level_pressure  | [, 1003.0]           \n",
      " sky_ceiling         | [1, 22000]           \n",
      " sky_cover_condition | null                 \n",
      " time                | 1976-01-01 03:00:00  \n",
      " visibility_distance | [1, 50000]           \n",
      " weather_station     | 010010               \n",
      " wind_direction      | [1, 360]             \n",
      "-RECORD 2-----------------------------------\n",
      " air_temperature     | [1, -11.0]           \n",
      " dew_point           | [1, -15.0]           \n",
      " wind_speed          | [1, 8.2]             \n",
      " elevation           | 9                    \n",
      " extreme_temperature | [[N, 999, [1, -11... \n",
      " latitude            | 70.933               \n",
      " liquid_precip       | [[0.1, 99]]          \n",
      " longitude           | -8.667               \n",
      " sea_level_pressure  | [, 1006.2]           \n",
      " sky_ceiling         | [1, 22000]           \n",
      " sky_cover_condition | null                 \n",
      " time                | 1976-01-01 06:00:00  \n",
      " visibility_distance | [1, 50000]           \n",
      " weather_station     | 010010               \n",
      " wind_direction      | [1, 010]             \n",
      "-RECORD 3-----------------------------------\n",
      " air_temperature     | [1, -11.0]           \n",
      " dew_point           | [1, -17.0]           \n",
      " wind_speed          | [1, 7.7]             \n",
      " elevation           | 9                    \n",
      " extreme_temperature | null                 \n",
      " latitude            | 70.933               \n",
      " liquid_precip       | null                 \n",
      " longitude           | -8.667               \n",
      " sea_level_pressure  | [, 1006.9]           \n",
      " sky_ceiling         | [1, 22000]           \n",
      " sky_cover_condition | null                 \n",
      " time                | 1976-01-01 09:00:00  \n",
      " visibility_distance | [1, 75000]           \n",
      " weather_station     | 010010               \n",
      " wind_direction      | [1, 010]             \n",
      "-RECORD 4-----------------------------------\n",
      " air_temperature     | [1, -12.0]           \n",
      " dew_point           | [1, -18.0]           \n",
      " wind_speed          | [1, 9.8]             \n",
      " elevation           | 9                    \n",
      " extreme_temperature | null                 \n",
      " latitude            | 70.933               \n",
      " liquid_precip       | [[\"NaN\", 6], [0.1... \n",
      " longitude           | -8.667               \n",
      " sea_level_pressure  | [, 1009.1]           \n",
      " sky_ceiling         | [1, 22000]           \n",
      " sky_cover_condition | null                 \n",
      " time                | 1976-01-01 12:00:00  \n",
      " visibility_distance | [1, 30000]           \n",
      " weather_station     | 010010               \n",
      " wind_direction      | [1, 020]             \n",
      "only showing top 5 rows"
     ]
    }
   ],
   "source": [
    "meteo.show(5,vertical=True)"
   ]
  },
  {
   "cell_type": "markdown",
   "id": "5f7a7b13-ab42-48ef-8cab-a49fa46c4cfd",
   "metadata": {},
   "source": [
    "4. How many lines the dataset contains ? BEWARE: CAN take time"
   ]
  },
  {
   "cell_type": "code",
   "execution_count": 8,
   "id": "4e11863f-e4aa-48ec-98f4-8b8631f2338e",
   "metadata": {
    "execution": {
     "iopub.execute_input": "2022-04-14T07:27:27.102119Z",
     "iopub.status.busy": "2022-04-14T07:27:27.101893Z",
     "iopub.status.idle": "2022-04-14T07:29:08.736745Z",
     "shell.execute_reply": "2022-04-14T07:29:08.735982Z",
     "shell.execute_reply.started": "2022-04-14T07:27:27.102094Z"
    },
    "tags": [],
    "vscode": {
     "languageId": "json"
    }
   },
   "outputs": [
    {
     "data": {
      "application/vnd.jupyter.widget-view+json": {
       "model_id": "e7fb43f67f744d63bb36cff0dee3d436",
       "version_major": 2,
       "version_minor": 0
      },
      "text/plain": [
       "VBox()"
      ]
     },
     "metadata": {},
     "output_type": "display_data"
    },
    {
     "data": {
      "application/vnd.jupyter.widget-view+json": {
       "model_id": "",
       "version_major": 2,
       "version_minor": 0
      },
      "text/plain": [
       "FloatProgress(value=0.0, bar_style='info', description='Progress:', layout=Layout(height='25px', width='50%'),…"
      ]
     },
     "metadata": {},
     "output_type": "display_data"
    },
    {
     "name": "stdout",
     "output_type": "stream",
     "text": [
      "14506002"
     ]
    }
   ],
   "source": [
    "meteo.count()"
   ]
  },
  {
   "cell_type": "markdown",
   "id": "4b8dd390-f0c1-4d6a-9ed6-90a8136166b1",
   "metadata": {},
   "source": [
    "5. The dataset is way too big to work on it as is (it would take minutes to run each instruction). Create a new dataset called meteo_small containing a sample at a rate of a 1000th.\n",
    "How would you tell Spark to perform the computation only once, and to actually compute and store the dataset meteo_small?\n",
    "\n"
   ]
  },
  {
   "cell_type": "code",
   "execution_count": 12,
   "id": "e01a0183-274f-4fd4-bcb1-a33989ad6992",
   "metadata": {
    "execution": {
     "iopub.execute_input": "2022-04-14T12:05:30.949421Z",
     "iopub.status.busy": "2022-04-14T12:05:30.949122Z",
     "iopub.status.idle": "2022-04-14T12:07:36.709669Z",
     "shell.execute_reply": "2022-04-14T12:07:36.708953Z",
     "shell.execute_reply.started": "2022-04-14T12:05:30.949389Z"
    },
    "tags": [],
    "vscode": {
     "languageId": "json"
    }
   },
   "outputs": [
    {
     "data": {
      "application/vnd.jupyter.widget-view+json": {
       "model_id": "eeba99018c1b4ee98e2498f2b256a154",
       "version_major": 2,
       "version_minor": 0
      },
      "text/plain": [
       "VBox()"
      ]
     },
     "metadata": {},
     "output_type": "display_data"
    },
    {
     "data": {
      "application/vnd.jupyter.widget-view+json": {
       "model_id": "",
       "version_major": 2,
       "version_minor": 0
      },
      "text/plain": [
       "FloatProgress(value=0.0, bar_style='info', description='Progress:', layout=Layout(height='25px', width='50%'),…"
      ]
     },
     "metadata": {},
     "output_type": "display_data"
    },
    {
     "name": "stdout",
     "output_type": "stream",
     "text": [
      "1414"
     ]
    }
   ],
   "source": [
    "meteo_small = meteo\\\n",
    "  .sample(fraction=0.0001)\\\n",
    "  .cache()\n",
    "\n",
    "meteo_small.count()"
   ]
  },
  {
   "cell_type": "markdown",
   "id": "eabff9b2-6ad3-4347-b3f5-99c478d957c5",
   "metadata": {},
   "source": [
    "6. Filter missing air temperature or bad quality air temperature. How many observations do you get?\"\n",
    "\n",
    "- missing : temperature = 999,9\n",
    "- Good quality : quality in [\"0\",\"1\",\"4\",\"5\",\"9\"]"
   ]
  },
  {
   "cell_type": "code",
   "execution_count": 13,
   "id": "3e7cc0d3-8164-4b7b-88bc-c747aa6d7740",
   "metadata": {
    "execution": {
     "iopub.execute_input": "2022-04-14T12:07:36.710806Z",
     "iopub.status.busy": "2022-04-14T12:07:36.710639Z",
     "iopub.status.idle": "2022-04-14T12:07:38.015329Z",
     "shell.execute_reply": "2022-04-14T12:07:38.014642Z",
     "shell.execute_reply.started": "2022-04-14T12:07:36.710785Z"
    },
    "tags": [],
    "vscode": {
     "languageId": "json"
    }
   },
   "outputs": [
    {
     "data": {
      "application/vnd.jupyter.widget-view+json": {
       "model_id": "0406f90d3db84964a7dd8d6031f5bde1",
       "version_major": 2,
       "version_minor": 0
      },
      "text/plain": [
       "VBox()"
      ]
     },
     "metadata": {},
     "output_type": "display_data"
    },
    {
     "data": {
      "application/vnd.jupyter.widget-view+json": {
       "model_id": "",
       "version_major": 2,
       "version_minor": 0
      },
      "text/plain": [
       "FloatProgress(value=0.0, bar_style='info', description='Progress:', layout=Layout(height='25px', width='50%'),…"
      ]
     },
     "metadata": {},
     "output_type": "display_data"
    },
    {
     "name": "stdout",
     "output_type": "stream",
     "text": [
      "448"
     ]
    }
   ],
   "source": [
    "meteo_small = meteo_small\\\n",
    "  .filter(meteo.air_temperature.quality.isin([\"0\",\"1\",\"4\",\"5\",\"9\"]))\\\n",
    "  .filter(meteo.air_temperature.value !=  999.9)\\\n",
    "  .cache()\n",
    "    \n",
    "meteo_small.count()"
   ]
  },
  {
   "cell_type": "markdown",
   "id": "b4498ea2-decd-4e0e-b460-f4c83f3c4a65",
   "metadata": {},
   "source": [
    "7. Compute average air temperature"
   ]
  },
  {
   "cell_type": "code",
   "execution_count": 36,
   "id": "0a082e03-3b3f-4769-9f63-6b3161f676bb",
   "metadata": {
    "execution": {
     "iopub.execute_input": "2022-04-08T13:39:18.945984Z",
     "iopub.status.busy": "2022-04-08T13:39:18.945739Z",
     "iopub.status.idle": "2022-04-08T13:39:19.211230Z",
     "shell.execute_reply": "2022-04-08T13:39:19.210556Z",
     "shell.execute_reply.started": "2022-04-08T13:39:18.945956Z"
    },
    "tags": [],
    "vscode": {
     "languageId": "json"
    }
   },
   "outputs": [
    {
     "data": {
      "application/vnd.jupyter.widget-view+json": {
       "model_id": "dc985bb8de1248ff971d9ec752a35bc6",
       "version_major": 2,
       "version_minor": 0
      },
      "text/plain": [
       "VBox()"
      ]
     },
     "metadata": {},
     "output_type": "display_data"
    },
    {
     "data": {
      "application/vnd.jupyter.widget-view+json": {
       "model_id": "",
       "version_major": 2,
       "version_minor": 0
      },
      "text/plain": [
       "FloatProgress(value=0.0, bar_style='info', description='Progress:', layout=Layout(height='25px', width='50%'),…"
      ]
     },
     "metadata": {},
     "output_type": "display_data"
    },
    {
     "name": "stdout",
     "output_type": "stream",
     "text": [
      "+--------------------------+\n",
      "|avg(air_temperature.value)|\n",
      "+--------------------------+\n",
      "|         8.066714165083384|\n",
      "+--------------------------+"
     ]
    }
   ],
   "source": [
    "meteo_small.select(mean(\"air_temperature.value\")).show()"
   ]
  },
  {
   "cell_type": "markdown",
   "id": "4faa6273-b81a-4b2c-b1d5-a8fbc7834639",
   "metadata": {},
   "source": [
    "8. Compute the **NUMBER OF RECORDS** AND **THE AVERAGE TEMPERATURE** by METEO station. Order you results by temperature. Repeat the exercice by year instead of by station.\n",
    "    \n",
    "    To get the year from the time column, you can use the year function like that `year(time)`"
   ]
  },
  {
   "cell_type": "code",
   "execution_count": 45,
   "id": "3b6d67cb-6595-49d7-ba87-301a4563a970",
   "metadata": {
    "execution": {
     "iopub.execute_input": "2022-04-08T13:48:46.902624Z",
     "iopub.status.busy": "2022-04-08T13:48:46.902387Z",
     "iopub.status.idle": "2022-04-08T13:48:48.183190Z",
     "shell.execute_reply": "2022-04-08T13:48:48.182377Z",
     "shell.execute_reply.started": "2022-04-08T13:48:46.902596Z"
    },
    "tags": [],
    "vscode": {
     "languageId": "json"
    }
   },
   "outputs": [
    {
     "data": {
      "application/vnd.jupyter.widget-view+json": {
       "model_id": "4fff0006841a4575b391ce2053d1ccac",
       "version_major": 2,
       "version_minor": 0
      },
      "text/plain": [
       "VBox()"
      ]
     },
     "metadata": {},
     "output_type": "display_data"
    },
    {
     "data": {
      "application/vnd.jupyter.widget-view+json": {
       "model_id": "",
       "version_major": 2,
       "version_minor": 0
      },
      "text/plain": [
       "FloatProgress(value=0.0, bar_style='info', description='Progress:', layout=Layout(height='25px', width='50%'),…"
      ]
     },
     "metadata": {},
     "output_type": "display_data"
    },
    {
     "name": "stdout",
     "output_type": "stream",
     "text": [
      "+---------------+-----+----------------+\n",
      "|weather_station|count|mean_temperature|\n",
      "+---------------+-----+----------------+\n",
      "|         606560|    1|            44.6|\n",
      "|         422650|    1|            41.1|\n",
      "|         403400|    1|            40.0|\n",
      "|         424350|    1|            39.4|\n",
      "|         406700|    1|            38.9|\n",
      "|         411960|    2|            38.9|\n",
      "|         417100|    1|            37.8|\n",
      "|         431370|    1|            37.2|\n",
      "|         421220|    1|            37.2|\n",
      "|         433250|    1|            36.7|\n",
      "|         624050|    2|            35.7|\n",
      "|         488526|    1|            35.7|\n",
      "|         433290|    1|            35.6|\n",
      "|         783134|    1|            35.6|\n",
      "|         749094|    1|            35.2|\n",
      "|         381490|    1|            35.0|\n",
      "|         480330|    1|            34.6|\n",
      "|         722577|    1|            34.6|\n",
      "|         408310|    1|            34.4|\n",
      "|         749243|    1|            34.1|\n",
      "+---------------+-----+----------------+\n",
      "only showing top 20 rows\n",
      "\n",
      "+----+-----+------------------+\n",
      "|year|count|  mean_temperature|\n",
      "+----+-----+------------------+\n",
      "|1925|    1|              18.3|\n",
      "|1929|    3|17.666666666666668|\n",
      "|1905|    1|              17.2|\n",
      "|1931|   24|15.129166666666663|\n",
      "|1946|  259|14.747876447876443|\n",
      "|1943|  393|14.182188295165407|\n",
      "|1944|  474| 13.78924050632912|\n",
      "|1945|  438|13.779680365296802|\n",
      "|1947|  303| 13.54356435643564|\n",
      "|1972|  228|12.790789473684205|\n",
      "|1940|   99|12.657575757575758|\n",
      "|1941|  127|12.469291338582677|\n",
      "|1909|    1|              12.2|\n",
      "|1942|  203|12.191625615763549|\n",
      "|1907|    2|             11.95|\n",
      "|1912|    1|              11.7|\n",
      "|1968|  276|10.983333333333329|\n",
      "|1937|   88|10.799999999999999|\n",
      "|1939|   74|10.509459459459457|\n",
      "|1938|  101|10.282178217821782|\n",
      "+----+-----+------------------+\n",
      "only showing top 20 rows"
     ]
    }
   ],
   "source": [
    "meteo_small.groupBy(\"weather_station\").agg(count(\"*\").alias(\"count\"), mean(\"air_temperature.value\").alias(\"mean_temperature\")).orderBy(col(\"mean_temperature\").desc()).show()\n",
    "\n",
    "meteo_small.groupBy(year(\"time\").alias(\"year\")).agg(count(\"*\").alias(\"count\"), mean(\"air_temperature.value\").alias(\"mean_temperature\")).orderBy(col(\"mean_temperature\").desc()).show()"
   ]
  },
  {
   "cell_type": "markdown",
   "id": "a4a44841-8d43-40b6-8c3b-ea86478db1cd",
   "metadata": {},
   "source": [
    "9. Compute the min, mean, max temperature and count for each **(year, station)** possible combinations. You output should be like:\n",
    "\n",
    "| weather_station | year | temp_min | temp_max | teamp_mean | reccords_count |\n",
    "| --------------- | ---- | -------- | -------- | ---------- | -------------- |\n",
    "| 036830          | 1992 | a        | b        | c          | d              |\n",
    "| 033730          | null | e        | f        | g          | h              |\n",
    "| 010010          | 1992 | i        | j        | k          | l              |\n",
    "| null            | 1992 | m        | n        | o          | p              |\n",
    "| 061000          | 1991 | q        | r        | s          | t              |\n",
    "\n",
    "A `null` value mean this dimension wasn't use for this row. For instance the row 2 gives the min, max, mean and reccord count for the station all data related to the weather station 033730 "
   ]
  },
  {
   "cell_type": "code",
   "execution_count": 39,
   "id": "af8ef73f-0c90-4444-8606-26dfd921df0a",
   "metadata": {
    "execution": {
     "iopub.execute_input": "2022-04-08T13:44:40.915181Z",
     "iopub.status.busy": "2022-04-08T13:44:40.914937Z",
     "iopub.status.idle": "2022-04-08T13:44:42.206284Z",
     "shell.execute_reply": "2022-04-08T13:44:42.205695Z",
     "shell.execute_reply.started": "2022-04-08T13:44:40.915153Z"
    },
    "tags": [],
    "vscode": {
     "languageId": "json"
    }
   },
   "outputs": [
    {
     "data": {
      "application/vnd.jupyter.widget-view+json": {
       "model_id": "cc7be006392440d59cf4779a864239d5",
       "version_major": 2,
       "version_minor": 0
      },
      "text/plain": [
       "VBox()"
      ]
     },
     "metadata": {},
     "output_type": "display_data"
    },
    {
     "data": {
      "application/vnd.jupyter.widget-view+json": {
       "model_id": "",
       "version_major": 2,
       "version_minor": 0
      },
      "text/plain": [
       "FloatProgress(value=0.0, bar_style='info', description='Progress:', layout=Layout(height='25px', width='50%'),…"
      ]
     },
     "metadata": {},
     "output_type": "display_data"
    },
    {
     "name": "stdout",
     "output_type": "stream",
     "text": [
      "+---------------+----+--------+--------+------------------+--------------+\n",
      "|weather_station|year|temp_min|temp_max|         temp_mean|reccords_count|\n",
      "+---------------+----+--------+--------+------------------+--------------+\n",
      "|         036830|1992|     9.0|    13.8|              11.4|             2|\n",
      "|         033730|null|    -3.5|    16.9| 8.440000000000001|            10|\n",
      "|         066330|null|     6.6|     6.6|               6.6|             1|\n",
      "|         031710|null|     0.0|    22.0| 8.751612903225807|            31|\n",
      "|         067440|1992|     0.2|     0.2|               0.2|             1|\n",
      "|         061930|null|    -0.2|    18.9|10.738461538461538|            13|\n",
      "|         039740|null|    -1.0|    19.0|             8.296|            25|\n",
      "|         030880|1992|     1.1|    15.6|7.3999999999999995|             3|\n",
      "|         010010|1992|    -8.4|    -8.4|              -8.4|             1|\n",
      "|         037260|null|     5.8|    20.8|12.694444444444446|            18|\n",
      "|         038840|1992|     5.2|     5.2|               5.2|             1|\n",
      "|         061000|1992|    10.0|    10.0|              10.0|             1|\n",
      "|         064070|1992|    11.0|    17.0|              14.2|             4|\n",
      "|         071570|1992|    19.0|    19.0|              19.0|             1|\n",
      "|         037810|1992|    11.8|    11.8|              11.8|             1|\n",
      "|         010250|1992|    -2.0|    -2.0|              -2.0|             1|\n",
      "|         067800|1992|     5.9|     5.9|               5.9|             1|\n",
      "|         036490|1992|    14.3|    18.0|              16.0|             3|\n",
      "|         025820|1992|     4.2|     4.2|               4.2|             1|\n",
      "|         033463|null|     0.0|    15.0|               6.8|            10|\n",
      "+---------------+----+--------+--------+------------------+--------------+\n",
      "only showing top 20 rows"
     ]
    }
   ],
   "source": [
    "meteo_small.cube(\"weather_station\", year(\"time\").alias(\"year\"))\\\n",
    ".agg(\\\n",
    "     min(\"air_temperature.value\").alias(\"temp_min\")\\\n",
    "     , max(\"air_temperature.value\").alias(\"temp_max\")\\\n",
    "    ,mean(\"air_temperature.value\").alias(\"temp_mean\"), \\\n",
    "    count(\"*\").alias(\"reccords_count\")).show()"
   ]
  },
  {
   "cell_type": "markdown",
   "id": "d8b77df9",
   "metadata": {},
   "source": [
    "9b. **Briefly explain why computing a maximum is well-suited to the \"reduce\" step of map-and-reduce algorithm. What does the \"map\" step correponds to?**"
   ]
  },
  {
   "cell_type": "markdown",
   "id": "ea236102-5d3c-4950-902d-4fd0f6f22198",
   "metadata": {},
   "source": [
    "9c. Print the 5 stations with the more precipitation for each year  "
   ]
  },
  {
   "cell_type": "code",
   "execution_count": 85,
   "id": "59002ab4-0ac4-4e57-bddc-29d70181b042",
   "metadata": {
    "execution": {
     "iopub.execute_input": "2022-04-14T08:58:52.023303Z",
     "iopub.status.busy": "2022-04-14T08:58:52.023063Z",
     "iopub.status.idle": "2022-04-14T08:58:59.359911Z",
     "shell.execute_reply": "2022-04-14T08:58:59.343287Z",
     "shell.execute_reply.started": "2022-04-14T08:58:52.023276Z"
    },
    "tags": [],
    "vscode": {
     "languageId": "json"
    }
   },
   "outputs": [
    {
     "data": {
      "application/vnd.jupyter.widget-view+json": {
       "model_id": "57e6b4233fb54918aedbd5c075188e5f",
       "version_major": 2,
       "version_minor": 0
      },
      "text/plain": [
       "VBox()"
      ]
     },
     "metadata": {},
     "output_type": "display_data"
    },
    {
     "data": {
      "application/vnd.jupyter.widget-view+json": {
       "model_id": "",
       "version_major": 2,
       "version_minor": 0
      },
      "text/plain": [
       "FloatProgress(value=0.0, bar_style='info', description='Progress:', layout=Layout(height='25px', width='50%'),…"
      ]
     },
     "metadata": {},
     "output_type": "display_data"
    },
    {
     "name": "stdout",
     "output_type": "stream",
     "text": [
      "+----+---------------+------------------+\n",
      "|year|weather_station|         tot_depth|\n",
      "+----+---------------+------------------+\n",
      "|1975|         037910|3442.9000000059605|\n",
      "|1975|         037760|3354.8000010997057|\n",
      "|1975|         043800|2932.9000006243587|\n",
      "|1975|         042720|2748.0000007003546|\n",
      "|1973|         035951|            5060.0|\n",
      "|1973|         033990|5021.4000000059605|\n",
      "|1973|         060300|4483.0000007376075|\n",
      "|1973|         067000|3658.9000002518296|\n",
      "|1976|         061800| 20852.50000232458|\n",
      "|1976|         066700|   14628.500002563|\n",
      "|1976|         033230| 5057.200000524521|\n",
      "|1976|         037760| 4676.600001722574|\n",
      "|1977|         066700| 9944.700001128018|\n",
      "|1977|         061800| 8644.700000949204|\n",
      "|1977|         066800| 6176.600000299513|\n",
      "|1977|         067620| 4575.100000195205|\n",
      "|1974|         035951|           25420.0|\n",
      "|1974|         066700|  9111.80000115186|\n",
      "|1974|         020910| 8761.200000271201|\n",
      "|1974|         035961|            8729.0|\n",
      "+----+---------------+------------------+"
     ]
    }
   ],
   "source": [
    "meteo.withColumn(\"liquid_precip_exploded\", explode(\"liquid_precip\")).select(\"liquid_precip_exploded\", \"weather_station\", year(\"time\").alias(\"year\"))\\\n",
    ".filter(col(\"liquid_precip_exploded.depth\") != \"NaN\")\\\n",
    ".withColumn(\"depth_cleaned\", col(\"liquid_precip_exploded.depth\").cast('float'))\\\n",
    ".groupBy(\"year\", \"weather_station\")\\\n",
    ".agg(sum(\"depth_cleaned\").alias(\"tot_depth\"))\\\n",
    ".withColumn(\"order\",row_number().over(Window.partitionBy(\"year\").orderBy(col(\"tot_depth\").desc())))\\\n",
    ".filter(col(\"order\") < 5).drop(\"order\").show()"
   ]
  },
  {
   "cell_type": "markdown",
   "id": "f9c80a66-7c24-4b26-a712-c91478836462",
   "metadata": {},
   "source": [
    "10. Compute the partial humidty with this formula\n",
    "$$RH = e^{\\frac{17,625*T_{DP}}{2430.4+T_{DP}}}/e^{\\frac{17,625*T_{air}}{2430.4+T_{air}}}$$\n",
    "\n",
    "and the approximate partial humidty with this formula\n",
    "\n",
    "$$RH_{approx} = 100 - 5 (T_{air} -T_{DP}) $$\n",
    "\n",
    "With $T_{DP}$ the dew point temperature and $T_{air}$ the air temperature.\n",
    "Compute average difference between the two values.\n",
    "Cautious : some dew point temperature can be missing or of bad quality. The rules to filter those value are the same as air_temperature "
   ]
  },
  {
   "cell_type": "code",
   "execution_count": 137,
   "id": "d7b21e79-f223-41ab-8c9b-a9e6e46616ec",
   "metadata": {
    "execution": {
     "iopub.execute_input": "2022-04-14T10:05:39.168167Z",
     "iopub.status.busy": "2022-04-14T10:05:39.167911Z",
     "iopub.status.idle": "2022-04-14T10:05:39.947020Z",
     "shell.execute_reply": "2022-04-14T10:05:39.946389Z",
     "shell.execute_reply.started": "2022-04-14T10:05:39.168141Z"
    },
    "tags": [],
    "vscode": {
     "languageId": "json"
    }
   },
   "outputs": [
    {
     "data": {
      "application/vnd.jupyter.widget-view+json": {
       "model_id": "5378ef1987014d14ac637b1a57822e9c",
       "version_major": 2,
       "version_minor": 0
      },
      "text/plain": [
       "VBox()"
      ]
     },
     "metadata": {},
     "output_type": "display_data"
    },
    {
     "data": {
      "application/vnd.jupyter.widget-view+json": {
       "model_id": "",
       "version_major": 2,
       "version_minor": 0
      },
      "text/plain": [
       "FloatProgress(value=0.0, bar_style='info', description='Progress:', layout=Layout(height='25px', width='50%'),…"
      ]
     },
     "metadata": {},
     "output_type": "display_data"
    },
    {
     "name": "stdout",
     "output_type": "stream",
     "text": [
      "+------------------+------------------+------------------+\n",
      "|min(diff_humidity)|max(diff_humidity)|avg(diff_humidity)|\n",
      "+------------------+------------------+------------------+\n",
      "|               0.0| 132.0305717067268| 3.228647474053264|\n",
      "+------------------+------------------+------------------+"
     ]
    }
   ],
   "source": [
    "meteo_small\\\n",
    "  .filter(meteo.dew_point.quality.isin([\"0\",\"1\",\"4\",\"5\",\"9\"]))\\\n",
    "  .filter(meteo.dew_point.value !=  999.9)\\\n",
    "  .withColumn(\n",
    "    \"partial_humidity\", \n",
    "    100*(exp((17.625*meteo_small.dew_point.value)/(243.04+meteo_small.dew_point.value))/exp((17.625*meteo_small.air_temperature.value)/(243.04+meteo_small.air_temperature.value))))\\\n",
    "  .withColumn(\n",
    "    \"partial_humidity_approx\", \n",
    "    100 - 5*(meteo_small.air_temperature.value - meteo_small.dew_point.value))\\\n",
    "  .withColumn(\"diff_humidity\", abs(col(\"partial_humidity\") - col(\"partial_humidity_approx\")) )\\\n",
    "  .select(min(col(\"diff_humidity\")), max(col(\"diff_humidity\")),  avg(col(\"diff_humidity\")))\\\n",
    ".show()\n",
    "\n",
    "\n",
    "    \n"
   ]
  },
  {
   "cell_type": "markdown",
   "id": "70b045b6-cf5a-4360-9674-efaf2d39f63e",
   "metadata": {},
   "source": [
    "11. Count how many max temperature were reccorded (extreme temperature > element > code = \"M\")"
   ]
  },
  {
   "cell_type": "code",
   "execution_count": 139,
   "id": "40d584a0-bc21-4c50-9c0b-8c70611ab84b",
   "metadata": {
    "execution": {
     "iopub.execute_input": "2022-04-14T10:08:04.708446Z",
     "iopub.status.busy": "2022-04-14T10:08:04.708190Z",
     "iopub.status.idle": "2022-04-14T10:08:06.993375Z",
     "shell.execute_reply": "2022-04-14T10:08:06.992668Z",
     "shell.execute_reply.started": "2022-04-14T10:08:04.708418Z"
    },
    "tags": [],
    "vscode": {
     "languageId": "json"
    }
   },
   "outputs": [
    {
     "data": {
      "application/vnd.jupyter.widget-view+json": {
       "model_id": "58084b8224f34c9b91d1f6998d9bbd8b",
       "version_major": 2,
       "version_minor": 0
      },
      "text/plain": [
       "VBox()"
      ]
     },
     "metadata": {},
     "output_type": "display_data"
    },
    {
     "data": {
      "application/vnd.jupyter.widget-view+json": {
       "model_id": "",
       "version_major": 2,
       "version_minor": 0
      },
      "text/plain": [
       "FloatProgress(value=0.0, bar_style='info', description='Progress:', layout=Layout(height='25px', width='50%'),…"
      ]
     },
     "metadata": {},
     "output_type": "display_data"
    },
    {
     "name": "stdout",
     "output_type": "stream",
     "text": [
      "732000"
     ]
    }
   ],
   "source": [
    "meteo.select(\"extreme_temperature\")\\\n",
    ".withColumn(\"extreme_temperature_exploded\", explode(\"extreme_temperature\"))\\\n",
    ".select(col(\"extreme_temperature_exploded\"))\\\n",
    ".filter(col(\"extreme_temperature_exploded.code\")==\"M\")\\\n",
    ".count()"
   ]
  },
  {
   "cell_type": "markdown",
   "id": "b4e0d124-b485-4a1a-8a58-1e1b573fb876",
   "metadata": {},
   "source": [
    "12. Compute for each weather station the max difference between an extreme maximal temperature reccord and the air temperature of the reccord"
   ]
  },
  {
   "cell_type": "code",
   "execution_count": 51,
   "id": "b1557e4a-bade-4681-846e-3dc55c952409",
   "metadata": {
    "execution": {
     "iopub.execute_input": "2022-04-14T08:04:23.819989Z",
     "iopub.status.busy": "2022-04-14T08:04:23.819626Z",
     "iopub.status.idle": "2022-04-14T08:04:24.607357Z",
     "shell.execute_reply": "2022-04-14T08:04:24.606579Z",
     "shell.execute_reply.started": "2022-04-14T08:04:23.819945Z"
    },
    "tags": [],
    "vscode": {
     "languageId": "json"
    }
   },
   "outputs": [
    {
     "data": {
      "application/vnd.jupyter.widget-view+json": {
       "model_id": "4d12c06ec91a4001a5e5ff487d30c77b",
       "version_major": 2,
       "version_minor": 0
      },
      "text/plain": [
       "VBox()"
      ]
     },
     "metadata": {},
     "output_type": "display_data"
    },
    {
     "data": {
      "application/vnd.jupyter.widget-view+json": {
       "model_id": "",
       "version_major": 2,
       "version_minor": 0
      },
      "text/plain": [
       "FloatProgress(value=0.0, bar_style='info', description='Progress:', layout=Layout(height='25px', width='50%'),…"
      ]
     },
     "metadata": {},
     "output_type": "display_data"
    },
    {
     "name": "stdout",
     "output_type": "stream",
     "text": [
      "+---------------+-----------------------------------------------------------------------------+\n",
      "|weather_station|max((air_temperature.value - extreme_temperature_exploded.temperature.value))|\n",
      "+---------------+-----------------------------------------------------------------------------+\n",
      "|         029630|                                                                          3.0|\n",
      "|         064780|                                                                          0.0|\n",
      "|         010140|                                                                          5.0|\n",
      "|         043200|                                                                          3.0|\n",
      "|         080830|                                                                          6.0|\n",
      "|         029130|                                                                          4.0|\n",
      "|         020570|                                                                          3.0|\n",
      "|         012480|                                                                          0.0|\n",
      "|         042720|                                                                          1.0|\n",
      "|         060790|                                                                          4.0|\n",
      "|         031110|                                                                          0.0|\n",
      "|         032400|                                                                          6.0|\n",
      "|         013190|                                                                          2.0|\n",
      "|         024280|                                                                          4.0|\n",
      "|         043380|                                                                          2.0|\n",
      "|         020440|                                                                          0.0|\n",
      "|         010980|                                                                          1.0|\n",
      "|         061990|                                                                          0.0|\n",
      "|         064320|                                                                          0.0|\n",
      "|         024600|                                                                          2.0|\n",
      "+---------------+-----------------------------------------------------------------------------+\n",
      "only showing top 20 rows"
     ]
    }
   ],
   "source": [
    "meteo_small.select(\"extreme_temperature\", \"air_temperature\", \"weather_station\")\\\n",
    ".withColumn(\"extreme_temperature_exploded\", explode(\"extreme_temperature\"))\\\n",
    ".select(col(\"extreme_temperature_exploded\"), \"air_temperature\", \"weather_station\")\\\n",
    ".filter(col(\"extreme_temperature_exploded.code\")==\"N\", )\\\n",
    ".groupBy(\"weather_station\")\\\n",
    ".agg(max(col(\"air_temperature.value\")-col(\"extreme_temperature_exploded.temperature.value\")))\\\n",
    ".show()"
   ]
  },
  {
   "cell_type": "markdown",
   "id": "d01b8539-5c0a-4b2b-8a8a-17aba72dfc17",
   "metadata": {},
   "source": [
    "13. For this question, you will do a linear regression to model the relationship between the air temperature and year, elevation, logitude, latitude, and the sea level pressure.\n",
    "  - Filter to keep only the good value of temperature and pressure (9999.9 = missing pressure)\n",
    "  - Create a vector assembler\n",
    "  - Vectorize\n",
    "  - Do the regression\n",
    "  - Explore the results"
   ]
  },
  {
   "cell_type": "code",
   "execution_count": 29,
   "id": "f559663a-69c7-495a-8fb9-87b276c35d91",
   "metadata": {
    "execution": {
     "iopub.execute_input": "2022-04-14T12:12:15.976851Z",
     "iopub.status.busy": "2022-04-14T12:12:15.976630Z",
     "iopub.status.idle": "2022-04-14T12:12:16.261547Z",
     "shell.execute_reply": "2022-04-14T12:12:16.260759Z",
     "shell.execute_reply.started": "2022-04-14T12:12:15.976825Z"
    },
    "tags": [],
    "vscode": {
     "languageId": "json"
    }
   },
   "outputs": [
    {
     "data": {
      "application/vnd.jupyter.widget-view+json": {
       "model_id": "139303e3d80f4fab863cb167099718f4",
       "version_major": 2,
       "version_minor": 0
      },
      "text/plain": [
       "VBox()"
      ]
     },
     "metadata": {},
     "output_type": "display_data"
    },
    {
     "data": {
      "application/vnd.jupyter.widget-view+json": {
       "model_id": "",
       "version_major": 2,
       "version_minor": 0
      },
      "text/plain": [
       "FloatProgress(value=0.0, bar_style='info', description='Progress:', layout=Layout(height='25px', width='50%'),…"
      ]
     },
     "metadata": {},
     "output_type": "display_data"
    },
    {
     "name": "stdout",
     "output_type": "stream",
     "text": [
      "+----+--------+---------+---------+------------------+-----------+\n",
      "|year|latitude|longitude|elevation|sea_level_pressure|temperature|\n",
      "+----+--------+---------+---------+------------------+-----------+\n",
      "|1976|  70.933|   -8.667|        9|             976.8|        0.0|\n",
      "|1976|  70.333|   21.467|       10|            1021.4|       -2.0|\n",
      "|1976|    71.1|     24.0|       13|            1011.5|       -6.0|\n",
      "|1976|  70.067|   25.117|       34|             986.3|        1.0|\n",
      "|1976|  67.883|    13.05|       31|            1004.8|        2.0|\n",
      "|1976|  66.267|   13.983|       33|             983.2|        1.0|\n",
      "|1976|  68.633|   14.467|       11|            1021.9|       15.0|\n",
      "|1976|    60.2|   11.083|      204|            1015.6|        1.0|\n",
      "|1976|  65.833|    24.15|        7|            1003.4|        3.0|\n",
      "|1976|    64.5|   14.133|      318|             983.9|       -1.0|\n",
      "|1976|    63.6|   20.767|        6|            1015.7|       11.0|\n",
      "|1976|    63.6|   20.767|        6|            1024.7|       -5.0|\n",
      "|1976|   58.75|   17.867|       32|             999.0|        5.0|\n",
      "|1976|  57.767|   14.083|      226|            1023.4|       15.0|\n",
      "|1976|  66.033|   17.867|      430|            1008.5|        8.0|\n",
      "|1976|    63.8|   20.283|        7|            1025.3|        1.0|\n",
      "|1976|  61.383|   15.833|      163|            1026.7|       22.0|\n",
      "|1976|   59.45|     19.5|       12|            1015.1|       13.0|\n",
      "|1976|  58.017|   12.833|      148|            1008.3|        4.0|\n",
      "|1976|  55.667|   14.267|      112|            1038.6|       -1.0|\n",
      "+----+--------+---------+---------+------------------+-----------+\n",
      "only showing top 20 rows"
     ]
    }
   ],
   "source": [
    "from pyspark.ml.feature import VectorAssembler\n",
    "vectorizer = VectorAssembler(\n",
    "    inputCols     = [\"year\", \"latitude\", \"longitude\", \"elevation\", \"sea_level_pressure\"], # the columns we want to put in the features column\n",
    "    outputCol     = \"features\",                    # the name of the column (\"features\")\n",
    "    handleInvalid = 'skip'                         # skip rows with missing / invalid values\n",
    ")\n",
    "meteo_small_agg=meteo_small\\\n",
    "    .filter(meteo_small.sea_level_pressure.value!=9999.9)\\\n",
    "    .withColumn(\"year\", year(\"time\"))\\\n",
    "    .select(\"year\", \"latitude\", \"longitude\", \"elevation\", col(\"sea_level_pressure.value\").alias(\"sea_level_pressure\"), col(\"air_temperature.value\").alias(\"temperature\"))\n",
    "\n",
    "meteo_small_agg.show()"
   ]
  },
  {
   "cell_type": "code",
   "execution_count": 30,
   "id": "cb288889-d734-43e1-a370-90a32da98857",
   "metadata": {
    "execution": {
     "iopub.execute_input": "2022-04-14T12:12:17.789828Z",
     "iopub.status.busy": "2022-04-14T12:12:17.789607Z",
     "iopub.status.idle": "2022-04-14T12:12:18.064503Z",
     "shell.execute_reply": "2022-04-14T12:12:18.063770Z",
     "shell.execute_reply.started": "2022-04-14T12:12:17.789806Z"
    },
    "tags": [],
    "vscode": {
     "languageId": "json"
    }
   },
   "outputs": [
    {
     "data": {
      "application/vnd.jupyter.widget-view+json": {
       "model_id": "839afac426f348ce8404075fe631d03a",
       "version_major": 2,
       "version_minor": 0
      },
      "text/plain": [
       "VBox()"
      ]
     },
     "metadata": {},
     "output_type": "display_data"
    },
    {
     "data": {
      "application/vnd.jupyter.widget-view+json": {
       "model_id": "",
       "version_major": 2,
       "version_minor": 0
      },
      "text/plain": [
       "FloatProgress(value=0.0, bar_style='info', description='Progress:', layout=Layout(height='25px', width='50%'),…"
      ]
     },
     "metadata": {},
     "output_type": "display_data"
    },
    {
     "name": "stdout",
     "output_type": "stream",
     "text": [
      "+-----------+--------------------+\n",
      "|temperature|            features|\n",
      "+-----------+--------------------+\n",
      "|        0.0|[1976.0,70.933,-8...|\n",
      "|       -2.0|[1976.0,70.333,21...|\n",
      "|       -6.0|[1976.0,71.1,24.0...|\n",
      "|        1.0|[1976.0,70.067,25...|\n",
      "|        2.0|[1976.0,67.883,13...|\n",
      "+-----------+--------------------+\n",
      "only showing top 5 rows"
     ]
    }
   ],
   "source": [
    "meteo_small_vec = vectorizer.transform(meteo_small_agg).select(\"temperature\", \"features\")\n",
    "meteo_small_vec.show(5) "
   ]
  },
  {
   "cell_type": "code",
   "execution_count": 31,
   "id": "db83a207-25d5-4998-adf3-8615bd037c1c",
   "metadata": {
    "execution": {
     "iopub.execute_input": "2022-04-14T12:12:19.553197Z",
     "iopub.status.busy": "2022-04-14T12:12:19.552965Z",
     "iopub.status.idle": "2022-04-14T12:12:22.862603Z",
     "shell.execute_reply": "2022-04-14T12:12:22.861825Z",
     "shell.execute_reply.started": "2022-04-14T12:12:19.553175Z"
    },
    "tags": [],
    "vscode": {
     "languageId": "json"
    }
   },
   "outputs": [
    {
     "data": {
      "application/vnd.jupyter.widget-view+json": {
       "model_id": "e66436afd728403da6e946eb7f194b41",
       "version_major": 2,
       "version_minor": 0
      },
      "text/plain": [
       "VBox()"
      ]
     },
     "metadata": {},
     "output_type": "display_data"
    },
    {
     "data": {
      "application/vnd.jupyter.widget-view+json": {
       "model_id": "",
       "version_major": 2,
       "version_minor": 0
      },
      "text/plain": [
       "FloatProgress(value=0.0, bar_style='info', description='Progress:', layout=Layout(height='25px', width='50%'),…"
      ]
     },
     "metadata": {},
     "output_type": "display_data"
    },
    {
     "name": "stdout",
     "output_type": "stream",
     "text": [
      "[-0.1346702770812204,-0.5119035991474302,0.1348505415414194,0.003921682892383677,-0.0008263033996835437]\n",
      "301.1073641053976\n",
      "+-----------+--------------------+------------------+\n",
      "|temperature|            features|        prediction|\n",
      "+-----------+--------------------+------------------+\n",
      "|        0.0|[1976.0,70.933,-8...| -3.25254906373749|\n",
      "|       -2.0|[1976.0,70.333,21...|1.0852478658265454|\n",
      "|       -6.0|[1976.0,71.1,24.0...|1.0541396793389595|\n",
      "|        1.0|[1976.0,70.067,25...| 1.836742338572094|\n",
      "|        2.0|[1976.0,67.883,13...|1.3004466527584668|\n",
      "|        1.0|[1976.0,66.267,13...|2.2791899434568563|\n",
      "|       15.0|[1976.0,68.633,14...|1.0150387247797994|\n",
      "|        1.0|[1976.0,60.2,11.0...| 5.637678053461968|\n",
      "|        3.0|[1976.0,65.833,24...|3.7537264774628056|\n",
      "|       -1.0|[1976.0,64.5,14.1...| 4.321052396331027|\n",
      "|       11.0|[1976.0,63.6,20.7...|4.4265226176159445|\n",
      "|       -5.0|[1976.0,63.6,20.7...| 4.419085887018753|\n",
      "|        5.0|[1976.0,58.75,17....| 6.633951524987538|\n",
      "|       15.0|[1976.0,57.767,14...| 7.367522991926876|\n",
      "|        8.0|[1976.0,66.033,17...| 4.458737521268517|\n",
      "|        1.0|[1976.0,63.8,20.2...| 4.254863405935794|\n",
      "|       22.0|[1976.0,61.383,15...| 5.502675201668183|\n",
      "|       13.0|[1976.0,59.45,19....| 6.404092797338933|\n",
      "|        4.0|[1976.0,58.017,12...| 6.777569830942582|\n",
      "|       -1.0|[1976.0,55.667,14...| 8.007701388373164|\n",
      "+-----------+--------------------+------------------+\n",
      "only showing top 20 rows"
     ]
    }
   ],
   "source": [
    "regressor = LinearRegression(featuresCol=\"features\", labelCol=\"temperature\")\n",
    "model     = regressor.fit(meteo_small_vec)\n",
    "\n",
    "print(model.coefficients)\n",
    "print(model.intercept)\n",
    "\n",
    "listings_pred = model.transform(meteo_small_vec)\n",
    "listings_pred.show() # model and predictions from the regression"
   ]
  },
  {
   "cell_type": "code",
   "execution_count": 51,
   "id": "10920d3f-9ca0-42dc-b6c0-f7864283673c",
   "metadata": {
    "execution": {
     "iopub.execute_input": "2022-04-08T14:11:05.511650Z",
     "iopub.status.busy": "2022-04-08T14:11:05.511413Z",
     "iopub.status.idle": "2022-04-08T14:11:06.277900Z",
     "shell.execute_reply": "2022-04-08T14:11:06.277201Z",
     "shell.execute_reply.started": "2022-04-08T14:11:05.511625Z"
    },
    "tags": [],
    "vscode": {
     "languageId": "json"
    }
   },
   "outputs": [
    {
     "data": {
      "application/vnd.jupyter.widget-view+json": {
       "model_id": "deacc2b4ae7f4919aecb542241806e64",
       "version_major": 2,
       "version_minor": 0
      },
      "text/plain": [
       "VBox()"
      ]
     },
     "metadata": {},
     "output_type": "display_data"
    },
    {
     "data": {
      "application/vnd.jupyter.widget-view+json": {
       "model_id": "",
       "version_major": 2,
       "version_minor": 0
      },
      "text/plain": [
       "FloatProgress(value=0.0, bar_style='info', description='Progress:', layout=Layout(height='25px', width='50%'),…"
      ]
     },
     "metadata": {},
     "output_type": "display_data"
    },
    {
     "name": "stdout",
     "output_type": "stream",
     "text": [
      "numIterations: 1\n",
      "objectiveHistory: [0.0]\n",
      "+-------------------+\n",
      "|          residuals|\n",
      "+-------------------+\n",
      "| 15.662577714614216|\n",
      "| -2.152160545167817|\n",
      "| 1.3001159114415888|\n",
      "|  10.97982916293978|\n",
      "| -4.238685349999116|\n",
      "| -6.281033164943909|\n",
      "|  7.727358081670303|\n",
      "|  4.195742441205965|\n",
      "| 11.999879599651777|\n",
      "| 1.5719335270613932|\n",
      "| 3.1058200988040596|\n",
      "|  11.72182735639375|\n",
      "|-1.1134484757643435|\n",
      "|  6.856031124912192|\n",
      "| -3.213379778206712|\n",
      "|  7.303058017421179|\n",
      "|-10.357344399242132|\n",
      "| -10.64355592594158|\n",
      "|  -9.84205389814286|\n",
      "|  8.157028210144006|\n",
      "+-------------------+\n",
      "only showing top 20 rows\n",
      "\n",
      "RMSE: 9.923333\n",
      "r2: 0.241735"
     ]
    }
   ],
   "source": [
    "# Summarize the model over the training set and print out some metrics\n",
    "trainingSummary = model.summary\n",
    "print(\"numIterations: %d\" % trainingSummary.totalIterations)\n",
    "print(\"objectiveHistory: %s\" % str(trainingSummary.objectiveHistory))\n",
    "trainingSummary.residuals.show()\n",
    "print(\"RMSE: %f\" % trainingSummary.rootMeanSquaredError)\n",
    "print(\"r2: %f\" % trainingSummary.r2)"
   ]
  },
  {
   "cell_type": "markdown",
   "id": "00ad57a6-5cea-4d84-896b-b759d03ad3b0",
   "metadata": {},
   "source": [
    "14. **Does the regression fall in the category of \"embarassingly parallel problems\"? (Explain) Is it a \"inherently sequential problem\" ? (Explain) Give an exemple for each.**"
   ]
  },
  {
   "cell_type": "markdown",
   "id": "2b577eb4-90b3-4212-b150-fe8cf93385e7",
   "metadata": {},
   "source": [
    "15. Now, consider your data are not at rest, but they are stream **from** an s3 bucket. Compute the average temperature for each station in a streaming context."
   ]
  },
  {
   "cell_type": "markdown",
   "id": "1be72ef7",
   "metadata": {},
   "source": [
    "16. Compute the maximum and the first quartile of recorded temperature in station XXXXXXX with `summary()`. Is the computation exact? Why is it interestind to use summary instead of running two different instructions?"
   ]
  },
  {
   "cell_type": "markdown",
   "id": "884c8f1d",
   "metadata": {},
   "source": [
    "17. Compute the sum of XXXXXX with Spark SQL (with method summary()), then with Spark ML (with classes Vectorizer and Summarizer) and then by creating a local version of the column and performing the computation locally (with Pandas). Is there a clear fastest solution? (Try to count separately the overhead of creating the vectorized copy of the dataset for the second solution and of downloading the column for the third. Beware: because Spark is so lazy, you have to pay attention to how exactly you measure time!)"
   ]
  },
  {
   "cell_type": "markdown",
   "id": "19b31e41",
   "metadata": {},
   "source": [
    "18. Repeat the regression for every year. You will use a `Pipeline` object."
   ]
  },
  {
   "cell_type": "markdown",
   "id": "ea023931",
   "metadata": {},
   "source": [
    "19. What is the difference between the `fit()` and `transform()` methods? Is each of them called eagerly or lazily?"
   ]
  },
  {
   "cell_type": "markdown",
   "id": "41751015",
   "metadata": {},
   "source": [
    "20. Down-sample your data set to n=100000. Save it on S3, then download it on your computer. Run the regression locally on your computer in R. In your opinion, is the extra precision (in term of R2) is worth the extra computation time?"
   ]
  },
  {
   "cell_type": "markdown",
   "id": "71303959",
   "metadata": {},
   "source": [
    "21. Count how many different stations there are with `count_distinct()`, while measuring execution time. What is the interest of `approx_count_distinct()`? (You will demonstrate this interest by timing two other examples.)"
   ]
  }
 ],
 "metadata": {
  "kernelspec": {
   "display_name": "PySpark",
   "language": "python",
   "name": "pysparkkernel"
  },
  "language_info": {
   "codemirror_mode": {
    "name": "python",
    "version": 3
   },
   "file_extension": ".py",
   "mimetype": "text/x-python",
   "name": "pyspark",
   "pygments_lexer": "python3"
  }
 },
 "nbformat": 4,
 "nbformat_minor": 5
}
